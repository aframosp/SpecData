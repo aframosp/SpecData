{
 "cells": [
  {
   "cell_type": "code",
   "execution_count": 34,
   "metadata": {
    "collapsed": false
   },
   "outputs": [],
   "source": [
    "#   Se importan los paquetes basicos para encontrar el perfil de linea\n",
    "\n",
    "from DefSD import *\n",
    "#from astropy.analytic_functions import blackbody\n",
    "#from astropy.convolution import convolve, Gaussian1DKernel, Box1DKernel\n",
    "\n"
   ]
  },
  {
   "cell_type": "code",
   "execution_count": 35,
   "metadata": {
    "collapsed": false
   },
   "outputs": [],
   "source": [
    "###    Se verifica que existan todos los archivos que se van a ajustar.\n",
    "#      Se puede omitir para trabajar un sol archivo\n",
    "\n",
    "resultListDT=Table.read('LIST1/listR.tbl', format='ascii')       #testSDSSFound.txt\n",
    "for x in range(len(resultListDT['ObjID'])):\n",
    "    name = resultListDT['ObjID'][x]\n",
    "    try:\n",
    "        hdulist = fits.open('LIST1/'+name+'.fits')\n",
    "    except IOError:\n",
    "        print \"Error opening the file: \", name"
   ]
  },
  {
   "cell_type": "code",
   "execution_count": 36,
   "metadata": {
    "collapsed": false
   },
   "outputs": [
    {
     "name": "stdout",
     "output_type": "stream",
     "text": [
      "Object [ 0 ]:  Iras23060+0505SP1\n",
      "Object [ 1 ]:  3C234SP1\n"
     ]
    }
   ],
   "source": [
    "#   a table resultListDT relates the name of the objects and the resulting temperature and density\n",
    "#   for the four couples of species\n",
    "\n",
    "#resultListDT.tbl\n",
    "#resultListDT=Table.read('testSDSSFound.txt', format='ascii')\n",
    "resultListDT=Table.read('LIST1/listR.tbl', format='ascii')       #testSDSSFound.txt\n",
    "ion = [' [OIII]', ' [SII]', ' [NII]', ' [OII]', ' [NII]', ' [SII]', ' [OIII]', ' [OII]',' [OIII]', ' [ArIV]', ' [NII]', ' [ArIV]']\n",
    "for i in range(1,7):\n",
    "    colT= Column(name='Temp_'+str(i)+ion[2*(i-1)], length=len(resultListDT),unit=u.K)\n",
    "    colD= Column(name='Den_'+str(i)+ion[2*(i-1)+1], length=len(resultListDT),unit=1 / (u.cm**3))\n",
    "    resultListDT.add_columns([colT,colD])\n",
    "resultListDT\n",
    "\n",
    "#   Obtain the lists Spectra, Headers, spectrum variance of the intensity according with a list of galaxy names\n",
    "#   and a Table Tabla of models for each line for all the spectra\n",
    "\n",
    "Headers = []\n",
    "Spectra = []\n",
    "Spectra2 = []\n",
    "SpectraCont = []\n",
    "Lambda = []\n",
    "Modelos=[]\n",
    "Tablas=[]\n",
    "HDUs=[]\n",
    "TypeFITS=[]\n",
    "SpectraIvar = []\n",
    "LINEProfile = []\n",
    "paramCont=0.4\n",
    "typeFITS =0\n",
    "for x in range(len(resultListDT['ObjID'])):\n",
    "    try:\n",
    "        name = resultListDT['ObjID'][x]\n",
    "        z=resultListDT['z'][x]\n",
    "        isFits = resultListDT['isFits'][x]\n",
    "        if isFits:\n",
    "            hdulist = fits.open('LIST1/'+name+'.fits')\n",
    "            head= hdulist[0].header\n",
    "            typeFITS=0\n",
    "            if head['NAXIS'] == 0:\n",
    "                total= hdulist[1].data\n",
    "            elif head['NAXIS'] == 1:\n",
    "                typeFITS=1\n",
    "            if typeFITS==0:\n",
    "                spectraFlux = total['flux']\n",
    "                spectraIvar = total['ivar']\n",
    "                linlam=np.exp(total['loglam']*np.log(10))          #  ocultar para leer desde archivo\n",
    "                lambd = linlam/(1+z)\n",
    "            else:\n",
    "                spectraFlux = hdulist[0].data #*(1e-19)\n",
    "                spectraIvar = spectraFlux*0\n",
    "                if 'CDELT1' in head:\n",
    "                    lambd = np.linspace(head['CRVAL1'], head['CRVAL1']+head['CDELT1']*(len(spectraFlux)-1), len(spectraFlux))\n",
    "                elif 'W0' in head:\n",
    "                    lambd = np.linspace(head['W0'], head['W0']+head['WPC']*(len(spectraFlux)-1), len(spectraFlux))\n",
    "                else:\n",
    "                    print \"Can't identify FITS format in file: \", str(name)\n",
    "                    break\n",
    "                lambd = lambd/(1+z)\n",
    "        else:\n",
    "            specTable = Table.read('LIST1/'+str(name)+'.txt', format='ascii')\n",
    "            spectraFlux = specTable['Intensity'].data #.tolist()\n",
    "            spectraIvar = spectraFlux*0\n",
    "            lambd = specTable['Spectral-axis'].data #.tolist()\n",
    "            lambd = lambd/(1+z)\n",
    "        orderU = 10**(int(mt.log(np.mean(spectraFlux), 10))-1)\n",
    "\n",
    "        TypeFITS.append(typeFITS)\n",
    "        Spectra2.append(spectraFlux)\n",
    "        print \"Object [\",x,\"]: \", name\n",
    "        spec =np.array(spectraFlux)\n",
    "        spec2, lambd = r(spec, lambd, paramCont*orderU)\n",
    "        \n",
    "        #gauss_kernel = Gaussian1DKernel(2)\n",
    "        #smoothed_data_gauss = convolve(spectraFlux, gauss_kernel)\n",
    "        #spec2 = smoothed_data_gauss\n",
    "\n",
    "        limResolucion = mt.ceil(lambd[1]-lambd[0])\n",
    "\n",
    "    # ..............    \n",
    "\n",
    "        if False: # lambd[0] > 3700.0 :\n",
    "            print \"The object isn't in expected spectrum region (3700 - 6800 Angstrom)\"\n",
    "            ListaLineas=Table.read('LinesPrincipal.txt', format='ascii')\n",
    "            LS=np.zeros([13,11])\n",
    "\n",
    "            lineProf = lineProfile(x,spec2, lambd,ListaLineas,Spectra2, limResolucion)\n",
    "            LINEProfile.append(lineProf)\n",
    "            # Este ciclo calcula remplaza la región del contínuo que está justo en el perfil de línea, por una recta\n",
    "            # que es mas preciso al determinar la amplitud del modelo gaussiano\n",
    "            for ina in range(len(lineProf)):\n",
    "                lInf = lineProf[ina]['inf']\n",
    "                lSup = lineProf[ina]['sup']\n",
    "                lDel = lSup-lInf\n",
    "                if (lInf-3*lDel) >= 0 :\n",
    "                    lInf = lInf-3*lDel\n",
    "                if (lSup+3*lDel) <= len(lambd) :\n",
    "                    lSup = lSup+3*lDel\n",
    "                m1, b1 = linModel( lambd[lInf] , spec2[lInf] , lambd[lSup], spec2[lSup])\n",
    "                lineLambd = lambd[lInf:lSup]\n",
    "                lineIntCont = lines( lineLambd , m1, b1)\n",
    "                spec2[lInf:lSup] = lineIntCont\n",
    "            ModelG1, lineProf, spec2 = finalFit(x, spec2, lambd,ListaLineas,Spectra2, spectraIvar,2000, limResolucion)\n",
    "    #        ModelL1 = fit2(x, spec2, lambd,ListaLineas,Spectra,2500)\n",
    "        if lambd[0] < 4100.0:\n",
    "            # Este ciclo calcula remplaza la región del contínuo que está justo en el perfil de línea, por una recta\n",
    "            # que es mas preciso al determinar la amplitud del modelo gaussiano\n",
    "            ListaLineas=Table.read('LinesAll.txt', format='ascii')\n",
    "            lineProf = lineProfile(x,spec2, lambd,ListaLineas,Spectra2, limResolucion)\n",
    "            LINEProfile.append(lineProf)\n",
    "            for ina in range(len(lineProf)):\n",
    "                lInf = lineProf[ina]['inf']\n",
    "                lSup = lineProf[ina]['sup']\n",
    "                lDel = lSup-lInf\n",
    "                if (lInf-3*lDel) >= 0 :\n",
    "                    lInf = lInf-3*lDel\n",
    "                if (lSup+3*lDel) <= len(lambd) :\n",
    "                    lSup = lSup+3*lDel\n",
    "                m1, b1 = linModel( lambd[lInf] , spec2[lInf] , lambd[lSup], spec2[lSup])\n",
    "                lineLambd = lambd[lInf:lSup]\n",
    "                lineIntCont = lines( lineLambd , m1, b1)\n",
    "                spec2[lInf:lSup] = lineIntCont\n",
    "            LS=np.zeros([len(ListaLineas),11])\n",
    "            ModelG1, lineProf, spec2 = finalFit(x, spec2, lambd,ListaLineas,Spectra2, spectraIvar,2000, limResolucion)\n",
    "    #        ModelL1 = fit2(x, spec2, lambd,ListaLineas,Spectra,2500)\n",
    "\n",
    "        Tabla=Table(LS,names=('Amplitude','Wavelength','Sigma','Lambda Vac','Element','Flux','Flux_Err', 'FWHM', 'eqWidth', 'S/N>3', 'NAME'),\n",
    "                    dtype=('f8','f8','f8','f8','S8','f8','f8','f8','f8','S5', 'S12'))\n",
    "        Tabla['Lambda Vac']=ListaLineas['LAMBDA VAC ANG']\n",
    "        Tabla['Element']=ListaLineas['SPECTRUM']\n",
    "        AA=split_list(ModelG1[0].parameters, wanted_parts=len(ListaLineas))\n",
    "        AAA=split_list(ModelG1[1].parameters, wanted_parts=2)\n",
    "    #    AA=split_list(ModelL1[0].parameters, wanted_parts=len(ListaLineas))\n",
    "    #    AAA=split_list(ModelL1[1].parameters, wanted_parts=2)\n",
    "        Tabla['NAME']=ListaLineas['NAME']\n",
    "        for ii in range(len(ListaLineas)):\n",
    "            if 3*np.mean(spectraIvar[lineProf[0]['inf']:lineProf[0]['sup']]) >= AA[ii][0]:\n",
    "                Tabla['S/N>3'][ii] = str(False)\n",
    "            else:\n",
    "                Tabla['S/N>3'][ii] = str(True)\n",
    "            if AA[ii][2]<0:\n",
    "                Tabla['Amplitude'][ii],Tabla['Wavelength'][ii],Tabla['Sigma'][ii]=np.array([AA[ii][0], AA[ii][1], mt.fabs(AA[ii][2])])\n",
    "            else:\n",
    "                Tabla['Amplitude'][ii],Tabla['Wavelength'][ii],Tabla['Sigma'][ii]=np.array([AA[ii][0], AA[ii][1], AA[ii][2]])\n",
    "            if ii==0 or ii==1:\n",
    "                if AAA[ii][2]<0:\n",
    "                    Tabla['Amplitude'][ii],Tabla['Wavelength'][ii],Tabla['Sigma'][ii]=np.array([AAA[ii][0], AAA[ii][1], mt.fabs(AAA[ii][2])])\n",
    "                else:\n",
    "                    Tabla['Amplitude'][ii],Tabla['Wavelength'][ii],Tabla['Sigma'][ii]=np.array([AAA[ii][0], AAA[ii][1], AAA[ii][2]])\n",
    "        Modelos.append(ModelG1)\n",
    "        #    Modelos.append(ModelL1)\n",
    "        #print Tabla \n",
    "        Tablas.append(Tabla)\n",
    "        SpectraIvar.append(spectraIvar)\n",
    "        SpectraCont.append(spec2)\n",
    "        Lambda.append(lambd)\n",
    "        Spectra.append(spectraFlux)\n",
    "    except ValueError:\n",
    "        print \"It has not been possible to process the spectrum of: \", name"
   ]
  },
  {
   "cell_type": "code",
   "execution_count": 39,
   "metadata": {
    "collapsed": false
   },
   "outputs": [
    {
     "name": "stdout",
     "output_type": "stream",
     "text": [
      "Using matplotlib backend: Qt4Agg\n"
     ]
    }
   ],
   "source": [
    "#   plot of the galaxy with index jj observed with respect to the continuum in zero. Two models for the lines required \n",
    "%matplotlib\n",
    "### inline\n",
    "for jj in [0]:  #  range(len(resultListDT)):\n",
    "#    plt.errorbar(Lambda[jj],Spectra[jj],SpectraIvar[jj],  c='gray',lw=1,label='Spectrum')\n",
    "    plt.plot(Lambda[jj],Spectra[jj], lw=0.5, c = 'k', label='Spectra')\n",
    "    plt.plot(Lambda[jj],SpectraCont[jj], lw=2, c = 'g', label='Spectra')\n",
    "    lPPP = lineProf\n",
    "    for iasiao in range(len(lPPP)):\n",
    "        plt.plot(Lambda[jj][lPPP['inf'][iasiao]:lPPP['sup'][iasiao]],Spectra[jj][lPPP['inf'][iasiao]:lPPP['sup'][iasiao]], lw=2.0, c = 'b')\n"
   ]
  },
  {
   "cell_type": "markdown",
   "metadata": {},
   "source": [
    "###     EqWidth ,  FWHM,  FLUX"
   ]
  },
  {
   "cell_type": "code",
   "execution_count": 40,
   "metadata": {
    "collapsed": false,
    "scrolled": true
   },
   "outputs": [],
   "source": [
    "#   The plot of relative intensity and continuum emission for the galaxy index jj and the wavelenght of all the lines\n",
    "#   The equivalent width, flux and FWHM for galaxy jj is measured too        \n",
    "for jj in range(len(Tablas)):\n",
    "    spe = []\n",
    "    speCont = []\n",
    "    for xind in range(len(Spectra[jj])):\n",
    "        spe.append((Spectra[jj][xind])/(SpectraCont[jj][xind]))\n",
    "        speCont.append((SpectraCont[jj][xind])/(SpectraCont[jj][xind]))\n",
    "\n",
    "    lFWHM = []\n",
    "    eqW = []    ##  lista de valores \n",
    "    #  una vez normalizado el espectro observado a la medida del contínuo se integra por el método de Simpson\n",
    "    for iLineProf in range(len(LINEProfile[jj])):\n",
    "        try:\n",
    "            f = FWHM(Lambda[jj][LINEProfile[jj]['inf'][iLineProf]:LINEProfile[jj]['sup'][iLineProf]], Spectra[jj][LINEProfile[jj]['inf'][iLineProf]:LINEProfile[jj]['sup'][iLineProf]])\n",
    "            if len(f) == 0:\n",
    "                lFWHM.append(0)\n",
    "            else:\n",
    "                lFWHM.append(f[0])\n",
    "        except ValueError:\n",
    "            lFWHM.append(0)\n",
    "        if (LINEProfile[jj]['inf'][iLineProf] == LINEProfile[jj]['sup'][iLineProf]) and (LINEProfile[jj]['sup'][iLineProf] == 0):\n",
    "            eqW.append(0)\n",
    "        else:\n",
    "            sInteg = simps(y=spe[LINEProfile[jj]['inf'][iLineProf]:LINEProfile[jj]['sup'][iLineProf]], x=Lambda[jj][LINEProfile[jj]['inf'][iLineProf]:LINEProfile[jj]['sup'][iLineProf]], even='avg')\n",
    "            eqW.append(sInteg)\n",
    "    #   Flux determination for each model in galaxy list\n",
    "    #   assignment of the FWHM and equivalent width in the Table for the first galaxy\n",
    "    for i in range(len(Tablas[jj])):\n",
    "        if Tablas[jj][i]['Amplitude']<=0:\n",
    "            Tablas[jj]['Flux'][i],Tablas[jj]['Flux_Err'][i]= 0,0\n",
    "        else:\n",
    "            Tablas[jj]['Flux'][i],Tablas[jj]['Flux_Err'][i]=quad(gaussian,Tablas[jj][i]['Wavelength']-3*Tablas[jj][i]['Sigma'],Tablas[jj][i]['Wavelength']+3*Tablas[jj][i]['Sigma'],args=(Tablas[jj][i]['Amplitude'],Tablas[jj][i]['Wavelength'],Tablas[jj][i]['Sigma']))\n",
    "            Tablas[jj]['FWHM'][i],Tablas[jj]['eqWidth'][i] = lFWHM[i], eqW[i]\n",
    "    Tablas[jj].write('LIST1/resultTables/Tabla'+str(resultListDT['ObjID'][jj])+'.tbl',format='ascii')\n",
    "    Tablas[jj]['NAME', 'Flux'].write('LIST1/resultTables/TablaPN'+str(resultListDT['ObjID'][jj])+'.dat',format='ascii')\n",
    "#Tablas[jj]"
   ]
  },
  {
   "cell_type": "markdown",
   "metadata": {},
   "source": [
    "###     Corrección por atenuación debida al polvo"
   ]
  },
  {
   "cell_type": "code",
   "execution_count": 41,
   "metadata": {
    "collapsed": false
   },
   "outputs": [
    {
     "name": "stdout",
     "output_type": "stream",
     "text": [
      "Extinction Law: CCM89\n",
      "Object[0] :  Iras23060+0505SP1 cHbeta = [ 2.05399162]  R_V = 3.1  E(B_V) = [ 1.42286475]\n",
      "Extinction Law: CCM89\n",
      "Object[1] :  3C234SP1 cHbeta = [ 0.62415763]  R_V = 3.1  E(B_V) = [ 0.43237367]\n"
     ]
    }
   ],
   "source": [
    "###    Corrección por atenuación debida al polvo de acuerdo a la ley CCM89 con la razón entre\n",
    "#      Ha y Hb tomando el valor esperado de 2.86 con R_v = 3.1\n",
    "#      También se puede utilizar el cociente Hgamma / Hb \n",
    "\n",
    "\n",
    "#      Esta parte fue tomada del documento de PyNeb para diagramas diagnósticos de las\n",
    "#      cinco líneas prohibidas seleccionadas\n",
    "\n",
    "\n",
    "### General settings\n",
    "# Setting verbosity level. Enter pn.my_logging? for details\n",
    "pn.log_.level = 2 # set this to 3 to have more details\n",
    "# Adopt an extinction law\n",
    "extinction_law = 'CCM89'\n",
    "\n",
    "for jj in range(len(Tablas)):\n",
    "    \n",
    "    # Define the data file\n",
    "    obs_data = 'LIST1/resultTables/TablaPN'+str(resultListDT['ObjID'][jj])+'.dat'\n",
    "    # Define plot title\n",
    "    title = 'Flux'\n",
    "    ### Read and deredden observational data\n",
    "    # define an Observation object and assign it to name ’obs’\n",
    "    obs = pn.Observation()\n",
    "\n",
    "    # fill obs with data read from file obs_data, with lines varying across rows and a default per\n",
    "    obs.readData(obs_data, fileFormat='lines_in_rows', err_default=0.05)\n",
    "    # deredden data with Cardelli’s law\n",
    "    obs.extinction.law = extinction_law\n",
    "\n",
    "    ###  Corrección del cociente Ha / Hb cuyo valor esperado es 2.86 para nebulosas planetarias\n",
    "    obs.def_EBV(label1=\"H1r_6563A\", label2=\"H1r_4861A\", r_theo=2.86)\n",
    "    obs.correctData(normWave=4861.)\n",
    "\n",
    "    ###  Corrección del cociente Hgamma / Hb cuyo valor esperado es 0.47 para nebulosas planetarias\n",
    "    #obs.def_EBV(label1=\"H1r_4341A\", label2=\"H1r_4861A\", r_theo=0.47)\n",
    "    #obs.correctData(normWave=4861.)\n",
    "\n",
    "    obs.correctData()\n",
    "    ### Include the diagnostics of interest\n",
    "    # instantiate the Diagnostics class\n",
    "    diags = pn.Diagnostics()\n",
    "    # include in diags the relevant line ratios\n",
    "    diags.addDiag([\n",
    "    '[NII] 5755/6584',\n",
    "    '[OII] 3726/3729',\n",
    "    '[OIII] 4363/5007',\n",
    "    '[SII] 6731/6716',\n",
    "    '[ArIV] 4740/4711'\n",
    "    ])\n",
    "    \n",
    "    ext=obs.extinction\n",
    "    print 'Extinction Law: CCM89'\n",
    "    print 'Object['+str(jj)+'] : ', str(resultListDT['ObjID'][jj]), 'cHbeta =', ext.cHbeta, ' R_V =',  ext.R_V, ' E(B_V) =',  ext.E_BV\n",
    "    \n",
    "    TeN2O2, NeN2O2 = diags.getCrossTemDen('[NII] 5755/6584+', '[OII] 3726/3729', obs=obs)\n",
    "    TeO3O2, NeO3O2 = diags.getCrossTemDen('[OIII] 4363/5007+', '[OII] 3726/3729', obs=obs)\n",
    "    TeO3S2, NeO3S2 = diags.getCrossTemDen('[OIII] 4363/5007+', '[SII] 6731/6716', obs=obs)\n",
    "    TeN2S2, NeN2S2 = diags.getCrossTemDen('[NII] 5755/6584+', '[SII] 6731/6716', obs=obs)\n",
    "    TeO3Ar4, NeO3Ar4 = diags.getCrossTemDen('[OIII] 4363/5007+', '[ArIV] 4740/4711', obs=obs)\n",
    "    TeN2Ar4, NeN2Ar4 = diags.getCrossTemDen('[NII] 5755/6584+', '[ArIV] 4740/4711', obs=obs)\n",
    "\n",
    "    resultListDT['Temp_1 [OIII]'][jj], resultListDT['Den_1 [SII]'][jj] = TeO3S2, NeO3S2\n",
    "    resultListDT['Temp_3 [NII]'][jj], resultListDT['Den_3 [SII]'][jj] = TeN2S2, NeN2S2\n",
    "    resultListDT['Temp_2 [NII]'][jj], resultListDT['Den_2 [OII]'][jj] = TeN2O2, NeN2O2\n",
    "    resultListDT['Temp_4 [OIII]'][jj], resultListDT['Den_4 [OII]'][jj] = TeO3O2, NeO3O2\n",
    "    resultListDT['Temp_6 [NII]'][jj], resultListDT['Den_6 [ArIV]'][jj] = TeN2Ar4, NeN2Ar4\n",
    "    resultListDT['Temp_5 [OIII]'][jj], resultListDT['Den_5 [ArIV]'][jj] = TeO3Ar4, NeO3Ar4\n"
   ]
  },
  {
   "cell_type": "markdown",
   "metadata": {},
   "source": [
    "###               Electron density and temperature results"
   ]
  },
  {
   "cell_type": "code",
   "execution_count": 42,
   "metadata": {
    "collapsed": false
   },
   "outputs": [
    {
     "data": {
      "text/html": [
       "&lt;Table masked=False length=2&gt;\n",
       "<table id=\"table139984085352976\">\n",
       "<thead><tr><th>ObjID</th><th>ra</th><th>dec</th><th>z</th><th>isFits</th><th>Temp_1 [OIII]</th><th>Den_1 [SII]</th><th>Temp_2 [NII]</th><th>Den_2 [OII]</th><th>Temp_3 [NII]</th><th>Den_3 [SII]</th><th>Temp_4 [OIII]</th><th>Den_4 [OII]</th><th>Temp_5 [OIII]</th><th>Den_5 [ArIV]</th><th>Temp_6 [NII]</th><th>Den_6 [ArIV]</th></tr></thead>\n",
       "<thead><tr><th></th><th></th><th></th><th></th><th></th><th>K</th><th>1 / cm3</th><th>K</th><th>1 / cm3</th><th>K</th><th>1 / cm3</th><th>K</th><th>1 / cm3</th><th>K</th><th>1 / cm3</th><th>K</th><th>1 / cm3</th></tr></thead>\n",
       "<thead><tr><th>string136</th><th>float64</th><th>float64</th><th>float64</th><th>int64</th><th>float64</th><th>float64</th><th>float64</th><th>float64</th><th>float64</th><th>float64</th><th>float64</th><th>float64</th><th>float64</th><th>float64</th><th>float64</th><th>float64</th></tr></thead>\n",
       "<tr><td>Iras23060+0505SP1</td><td>347.14125</td><td>5.35833333333</td><td>0.1729254</td><td>1</td><td>12651.1013964</td><td>38.7779653136</td><td>10222.5129511</td><td>399.787023329</td><td>10287.1174427</td><td>42.3287027062</td><td>12651.1013964</td><td>438.707188757</td><td>12180.9720528</td><td>29415.2062025</td><td>8350.67763628</td><td>25367.6722696</td></tr>\n",
       "<tr><td>3C234SP1</td><td>150.45625</td><td>28.7858333333</td><td>0.1848955</td><td>1</td><td>20609.1805563</td><td>3836.28425575</td><td>5987.95159814</td><td>944.303785544</td><td>5927.12420385</td><td>2381.94771107</td><td>20698.1439729</td><td>1655.11494516</td><td>20300.8090474</td><td>12313.1340853</td><td>5719.41743731</td><td>7738.17096289</td></tr>\n",
       "</table>"
      ],
      "text/plain": [
       "<Table masked=False length=2>\n",
       "      ObjID           ra         dec      ...  Temp_6 [NII]  Den_6 [ArIV]\n",
       "                                          ...       K          1 / cm3   \n",
       "    string136      float64     float64    ...    float64       float64   \n",
       "----------------- --------- ------------- ... ------------- -------------\n",
       "Iras23060+0505SP1 347.14125 5.35833333333 ... 8350.67763628 25367.6722696\n",
       "         3C234SP1 150.45625 28.7858333333 ... 5719.41743731 7738.17096289"
      ]
     },
     "execution_count": 42,
     "metadata": {},
     "output_type": "execute_result"
    }
   ],
   "source": [
    "resultListDT"
   ]
  },
  {
   "cell_type": "code",
   "execution_count": 26,
   "metadata": {
    "collapsed": true
   },
   "outputs": [],
   "source": [
    "resultListDT.write('LIST1/resultTables/DeTe1.tbl',format='ascii')"
   ]
  },
  {
   "cell_type": "code",
   "execution_count": 43,
   "metadata": {
    "collapsed": false
   },
   "outputs": [
    {
     "name": "stdout",
     "output_type": "stream",
     "text": [
      "Using matplotlib backend: Qt4Agg\n"
     ]
    },
    {
     "data": {
      "text/plain": [
       "<matplotlib.text.Text at 0x7f5095c1dad0>"
      ]
     },
     "execution_count": 43,
     "metadata": {},
     "output_type": "execute_result"
    }
   ],
   "source": [
    "###    Grafica del diagnóstico densidad y temperatura para el espectro de indice jj\n",
    "\n",
    "jj=0\n",
    "\n",
    "%matplotlib\n",
    "\n",
    "### General settings\n",
    "# Setting verbosity level. Enter pn.my_logging? for details\n",
    "pn.log_.level = 2 # set this to 3 to have more details\n",
    "# Adopt an extinction law\n",
    "extinction_law = 'CCM89'\n",
    "\n",
    "# Define the data file\n",
    "obs_data = 'LIST1/resultTables/TablaPN'+str(resultListDT['ObjID'][jj])+'.dat'\n",
    "# Define plot title\n",
    "title = 'Flux'\n",
    "### Read and deredden observational data\n",
    "# define an Observation object and assign it to name ’obs’\n",
    "obs = pn.Observation()\n",
    "\n",
    "# fill obs with data read from file obs_data, with lines varying across rows and a default per\n",
    "obs.readData(obs_data, fileFormat='lines_in_rows', err_default=0.05)\n",
    "# deredden data with Cardelli’s law\n",
    "obs.extinction.law = extinction_law\n",
    "\n",
    "###  Corrección del cociente Ha / Hb cuyo valor esperado es 2.86 para nebulosas planetarias\n",
    "obs.def_EBV(label1=\"H1r_6563A\", label2=\"H1r_4861A\", r_theo=2.86)\n",
    "obs.correctData(normWave=4861.)\n",
    "\n",
    "###  Corrección del cociente Hgamma / Hb cuyo valor esperado es 0.47 para nebulosas planetarias\n",
    "#obs.def_EBV(label1=\"H1r_4341A\", label2=\"H1r_4861A\", r_theo=0.47)\n",
    "#obs.correctData(normWave=4861.)\n",
    "\n",
    "obs.correctData()\n",
    "### Include the diagnostics of interest\n",
    "# instantiate the Diagnostics class\n",
    "diags = pn.Diagnostics()\n",
    "# include in diags the relevant line ratios\n",
    "diags.addDiag([\n",
    "'[NII] 5755/6584',\n",
    "'[OII] 3726/3729',\n",
    "'[OIII] 4363/5007',\n",
    "'[SII] 6731/6716',\n",
    "'[ArIV] 4740/4711'\n",
    "])\n",
    "\n",
    "# Create the emission maps to be compared to the observation data (some overkill here)\n",
    "emisgrids = pn.getEmisGridDict(atom_list=diags.getUniqueAtoms(), den_max=1e6)\n",
    "### Plot\n",
    "# Create the contour plot as the intersection of tem-den emission maps with dereddened line ra\n",
    "diags.plot(emisgrids, obs)\n",
    "# Place the title\n",
    "plt.title(title)"
   ]
  },
  {
   "cell_type": "markdown",
   "metadata": {},
   "source": [
    "###                     Plots the fitting spectrum normalized of index jj"
   ]
  },
  {
   "cell_type": "code",
   "execution_count": 45,
   "metadata": {
    "collapsed": false,
    "scrolled": false
   },
   "outputs": [
    {
     "name": "stdout",
     "output_type": "stream",
     "text": [
      "Using matplotlib backend: Qt4Agg\n"
     ]
    }
   ],
   "source": [
    "#   plot of the galaxy with index jj observed with respect to the continuum in zero. Two models for the lines required \n",
    "\n",
    "%matplotlib\n",
    "jj=0\n",
    "if isFits:\n",
    "    if TypeFITS == 0:\n",
    "        print HDUs[jj][0].header['FLAVOR']\n",
    "        print HDUs[jj][0].header['QUALITY']\n",
    "        print HDUs[jj][0].header['FBADPIX'] ## %%Malos Pixeles\n",
    "        print HDUs[jj][2].data['SN_MEDIAN_ALL']\n",
    "        print HDUs[jj][2].data['SN_MEDIAN']\n",
    "\n",
    "lambd=Lambda[jj]\n",
    "\n",
    "plt.figure(figsize=(16, 9))\n",
    "plt.title('Spectrum Galaxy '+ resultListDT['ObjID'][jj])\n",
    "plt.xlabel(r'Wavelength (Angstroms $\\AA$) ')\n",
    "if TypeFITS == 0:\n",
    "    plt.ylabel(r'$f_{\\lambda}$ ('+str(head['BUNIT'])+')')\n",
    "else:\n",
    "    plt.ylabel(r'$f_{\\lambda}$')\n",
    "\n",
    "plt.errorbar(Lambda[jj],Spectra[jj]-SpectraCont[jj],SpectraIvar[jj],  c='gray',lw=1)\n",
    "plt.plot(Lambda[jj], Spectra[jj]-SpectraCont[jj], c='k', lw=0.8, label='Spectrum')\n",
    "plt.plot(Lambda[jj], Modelos[jj][0](Lambda[jj]), c='yellow', lw=1 , label='Model')\n",
    "\n",
    "plt.legend()\n",
    "\n",
    "x=np.linspace(Lambda[jj][0],Lambda[jj][-1],len(Lambda[jj]))\n",
    "for i in range(len(Tablas[jj])):\n",
    "    plt.axvline(x=Tablas[jj]['Lambda Vac'][i],c='dimgrey',lw=1.2,ls='--')\n",
    "    plt.text(Tablas[jj]['Lambda Vac'][i] + 0.5, Tablas[jj]['Amplitude'][i] * 1.2,Tablas[jj]['Element'][i])\n",
    "    if Tablas[jj]['Element'][i] == 'H I':\n",
    "        plt.plot(x,gaussian(x,Tablas[jj][i]['Amplitude'],Tablas[jj][i]['Wavelength'],Tablas[jj][i]['Sigma']), c='DeepPink')\n",
    "##        plt.plot(x,lorentzFunc(x,Tablas[jj][i]['Amplitude'],Tablas[jj][i]['Sigma'], Tablas[jj][i]['Wavelength']), c='DeepPink')\n",
    "    else:\n",
    "        if Tablas[jj][i]['Sigma']!=0:\n",
    "            plt.plot(x,gaussian(x,Tablas[jj][i]['Amplitude'],Tablas[jj][i]['Wavelength'],Tablas[jj][i]['Sigma']) , c='Lime' , label='Modelos')\n",
    "##            plt.plot(x,lorentzFunc(x,Tablas[jj][i]['Amplitude'],Tablas[jj][i]['Sigma'],Tablas[jj][i]['Wavelength']) , c='Lime')\n",
    "\n",
    "#plt.savefig('F1.eps', format='eps', dpi=1000)\n"
   ]
  },
  {
   "cell_type": "code",
   "execution_count": null,
   "metadata": {
    "collapsed": true
   },
   "outputs": [],
   "source": []
  }
 ],
 "metadata": {
  "kernelspec": {
   "display_name": "Python 2",
   "language": "python",
   "name": "python2"
  },
  "language_info": {
   "codemirror_mode": {
    "name": "ipython",
    "version": 2
   },
   "file_extension": ".py",
   "mimetype": "text/x-python",
   "name": "python",
   "nbconvert_exporter": "python",
   "pygments_lexer": "ipython2",
   "version": "2.7.8"
  }
 },
 "nbformat": 4,
 "nbformat_minor": 0
}
