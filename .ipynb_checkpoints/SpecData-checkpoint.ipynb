{
 "cells": [
  {
   "cell_type": "code",
   "execution_count": 1,
   "metadata": {
    "collapsed": false
   },
   "outputs": [],
   "source": [
    "#   Se importan los paquetes basicos para encontrar el perfil de linea\n",
    "\n",
    "from DefSD import *\n",
    "#from astropy.analytic_functions import blackbody\n",
    "#from astropy.convolution import convolve, Gaussian1DKernel, Box1DKernel\n",
    "import os\n"
   ]
  },
  {
   "cell_type": "code",
   "execution_count": 50,
   "metadata": {
    "collapsed": false
   },
   "outputs": [],
   "source": [
    "###    Se verifica que existan todos los archivos que se van a ajustar.\n",
    "#      Se puede omitir para trabajar un sol archivo\n",
    "\n",
    "fileName = 'list3'\n",
    "dirName = 'LIST3'\n",
    "if not os.path.exists(dirName):\n",
    "    print 'el directorio', dirName, 'no existe.'\n",
    "else:\n",
    "    resultListDT=Table.read(dirName+'/'+fileName+'.tbl', format='ascii')       #testSDSSFound.txt\n",
    "    for x in range(len(resultListDT['ObjID'])):\n",
    "        name = resultListDT['ObjID'][x]\n",
    "        try:\n",
    "            hdulist = fits.open(dirName+'/'+name+'.fits')\n",
    "        except IOError:\n",
    "            print \"Error opening the file: \", name"
   ]
  },
  {
   "cell_type": "code",
   "execution_count": 51,
   "metadata": {
    "collapsed": false
   },
   "outputs": [
    {
     "name": "stdout",
     "output_type": "stream",
     "text": [
      "Object [ 0 ]:  IRAS15225+2350SP1\n",
      "It has not been possible to fit the line:  6529.04\n",
      "It has not been possible to fit the line:  5578.8874\n",
      "It has not been possible to fit the line:  3971.195\n"
     ]
    }
   ],
   "source": [
    "#   a table resultListDT relates the name of the objects and the resulting temperature and density\n",
    "#   for the four couples of species\n",
    "\n",
    "#resultListDT.tbl\n",
    "\n",
    "resultListDT=Table.read(dirName+'/'+fileName+'.tbl', format='ascii')       #testSDSSFound.txt\n",
    "ion = [' [OIII]', ' [SII]a', ' [NII]', ' [OII]a', ' [NII]', ' [SII]a', ' [OIII]', ' [OII]a',' [OIII]', ' [ArIV]', ' [NII]', ' [ArIV]', ' [OII]b', ' [SII]b',' [OII]b', ' [ArIV]',' [SII]b',' [ArIV]', ' [SII]b',' [OII]a', ' [OIII]', ' [SII]c', ' [NII]', ' [SII]c', ' [NeIII]', ' [OII]a', ' [NeIII]', ' [SII]a', ' [NeIII]', ' [ArIV]', ' [NeIII]', ' [SII]c']#                  \n",
    "for i in range(1,17):\n",
    "    colT= Column(name='Temp_'+str(i)+ion[2*(i-1)], length=len(resultListDT),unit=u.K)\n",
    "    colD= Column(name='Den_'+str(i)+ion[2*(i-1)+1], length=len(resultListDT),unit=1 / (u.cm**3))\n",
    "    resultListDT.add_columns([colT,colD])\n",
    "resultListDT\n",
    "\n",
    "#   Obtain the lists Spectra, Headers, spectrum variance of the intensity according with a list of galaxy names\n",
    "#   and a Table Tabla of models for each line for all the spectra\n",
    "\n",
    "Headers = []\n",
    "Spectra = []\n",
    "Spectra2 = []\n",
    "SpectraCont = []\n",
    "Lambda = []\n",
    "Modelos=[]\n",
    "Tablas=[]\n",
    "HDUs=[]\n",
    "TypeFITS=[]\n",
    "SpectraIvar = []\n",
    "LINEProfile = []\n",
    "paramCont=0.4\n",
    "typeFITS =0\n",
    "for x in range(len(resultListDT['ObjID'])):\n",
    "    try:\n",
    "        name = resultListDT['ObjID'][x]\n",
    "        z=resultListDT['z'][x]\n",
    "        isFits = resultListDT['isFits'][x]\n",
    "        if isFits:\n",
    "            hdulist = fits.open(dirName+'/'+name+'.fits')\n",
    "            head= hdulist[0].header\n",
    "            typeFITS=0\n",
    "            if head['NAXIS'] == 0:\n",
    "                total= hdulist[1].data\n",
    "            elif head['NAXIS'] == 1:\n",
    "                typeFITS=1\n",
    "            if typeFITS==0:\n",
    "                spectraFlux = total['flux']\n",
    "                spectraIvar = total['ivar']\n",
    "                linlam=np.exp(total['loglam']*np.log(10))          #  ocultar para leer desde archivo\n",
    "                lambd = linlam/(1+z)\n",
    "            else:\n",
    "                spectraFlux = hdulist[0].data #*(1e-19)\n",
    "                spectraIvar = spectraFlux*0\n",
    "                if 'CDELT1' in head:\n",
    "                    lambd = np.linspace(head['CRVAL1'], head['CRVAL1']+head['CDELT1']*(len(spectraFlux)-1), len(spectraFlux))\n",
    "                elif 'W0' in head:\n",
    "                    lambd = np.linspace(head['W0'], head['W0']+head['WPC']*(len(spectraFlux)-1), len(spectraFlux))\n",
    "                else:\n",
    "                    print \"Can't identify FITS format in file: \", str(name)\n",
    "                    break\n",
    "                lambd = lambd/(1+z)\n",
    "        else:\n",
    "            specTable = Table.read(dirName+'/'+str(name)+'.txt', format='ascii')\n",
    "            spectraFlux = specTable['Intensity'].data #.tolist()\n",
    "            spectraIvar = spectraFlux*0\n",
    "            lambd = specTable['Spectral-axis'].data #.tolist()\n",
    "            lambd = lambd/(1+z)\n",
    "        orderU = 10**(int(mt.log(np.mean(spectraFlux), 10))-1)\n",
    "\n",
    "        TypeFITS.append(typeFITS)\n",
    "        Spectra2.append(spectraFlux)\n",
    "        print \"Object [\",x,\"]: \", name\n",
    "        spec =np.array(spectraFlux)\n",
    "        spec2, lambd = r(spec, lambd, paramCont*orderU)\n",
    "        \n",
    "        #gauss_kernel = Gaussian1DKernel(2)\n",
    "        #smoothed_data_gauss = convolve(spectraFlux, gauss_kernel)\n",
    "        #spec2 = smoothed_data_gauss\n",
    "\n",
    "        limResolucion = mt.ceil(lambd[1]-lambd[0])\n",
    "\n",
    "    # ..............    \n",
    "\n",
    "        # Este ciclo calcula remplaza la región del contínuo que está justo en el perfil de línea, por una recta\n",
    "        # que es mas preciso al determinar la amplitud del modelo gaussiano\n",
    "        ListaLineas=Table.read('LinesAll.txt', format='ascii')\n",
    "        lineProf = lineProfile(x,spec2, lambd,ListaLineas,Spectra2, limResolucion)\n",
    "        LINEProfile.append(lineProf)\n",
    "        for ina in range(len(lineProf)):\n",
    "            lInf = lineProf[ina]['inf']\n",
    "            lSup = lineProf[ina]['sup']\n",
    "            lDel = lSup-lInf\n",
    "            if (lInf-3*lDel) >= 0 :\n",
    "                lInf = lInf-3*lDel\n",
    "            if (lSup+3*lDel) < len(lambd) :\n",
    "                lSup = lSup+3*lDel\n",
    "            m1, b1 = linModel( lambd[lInf] , spec2[lInf] , lambd[lSup], spec2[lSup])\n",
    "            lineLambd = lambd[lInf:lSup]\n",
    "            lineIntCont = lines( lineLambd , m1, b1)\n",
    "            spec2[lInf:lSup] = lineIntCont\n",
    "        LS=np.zeros([len(ListaLineas),11])\n",
    "        ModelG1, lineProf, spec2 = finalFit(x, spec2, lambd,ListaLineas,Spectra2, spectraIvar,2000, limResolucion)\n",
    "#        ModelL1 = fit2(x, spec2, lambd,ListaLineas,Spectra,2500)\n",
    "\n",
    "        Tabla=Table(LS,names=('Amplitude','Wavelength','Sigma','Lambda Vac','Element','Flux','err', 'FWHM', 'eqWidth', 'S/N>3', 'LINE'),\n",
    "                    dtype=('f8','f8','f8','f8','S8','f8','f8','f8','f8','S5', 'S12'))\n",
    "        Tabla['Lambda Vac']=ListaLineas['LAMBDA VAC ANG']\n",
    "        Tabla['Element']=ListaLineas['SPECTRUM']\n",
    "        AA=split_list(ModelG1[0].parameters, wanted_parts=len(ListaLineas))\n",
    "        AAA=split_list(ModelG1[1].parameters, wanted_parts=2)\n",
    "    #    AA=split_list(ModelL1[0].parameters, wanted_parts=len(ListaLineas))\n",
    "    #    AAA=split_list(ModelL1[1].parameters, wanted_parts=2)\n",
    "        Tabla['LINE']=ListaLineas['LINE']\n",
    "        for ii in range(len(ListaLineas)):\n",
    "            if 3*np.mean(spectraIvar[lineProf[0]['inf']:lineProf[0]['sup']]) >= AA[ii][0]:\n",
    "                Tabla['S/N>3'][ii] = str(False)\n",
    "            else:\n",
    "                Tabla['S/N>3'][ii] = str(True)\n",
    "            if AA[ii][2]<0:\n",
    "                Tabla['Amplitude'][ii],Tabla['Wavelength'][ii],Tabla['Sigma'][ii]=np.array([AA[ii][0], AA[ii][1], mt.fabs(AA[ii][2])])\n",
    "            else:\n",
    "                Tabla['Amplitude'][ii],Tabla['Wavelength'][ii],Tabla['Sigma'][ii]=np.array([AA[ii][0], AA[ii][1], AA[ii][2]])\n",
    "            if ii==0 or ii==1:\n",
    "                if AAA[ii][2]<0:\n",
    "                    Tabla['Amplitude'][ii],Tabla['Wavelength'][ii],Tabla['Sigma'][ii]=np.array([AAA[ii][0], AAA[ii][1], mt.fabs(AAA[ii][2])])\n",
    "                else:\n",
    "                    Tabla['Amplitude'][ii],Tabla['Wavelength'][ii],Tabla['Sigma'][ii]=np.array([AAA[ii][0], AAA[ii][1], AAA[ii][2]])\n",
    "        Modelos.append(ModelG1)\n",
    "        #    Modelos.append(ModelL1)\n",
    "        #print Tabla \n",
    "        Tablas.append(Tabla)\n",
    "        SpectraIvar.append(spectraIvar)\n",
    "        SpectraCont.append(spec2)\n",
    "        Lambda.append(lambd)\n",
    "        Spectra.append(spectraFlux)\n",
    "    except ValueError:\n",
    "        print \"It has not been possible to process the spectrum of: \", name"
   ]
  },
  {
   "cell_type": "code",
   "execution_count": 19,
   "metadata": {
    "collapsed": false
   },
   "outputs": [
    {
     "name": "stdout",
     "output_type": "stream",
     "text": [
      "Using matplotlib backend: Qt4Agg\n"
     ]
    }
   ],
   "source": [
    "#   plot of the galaxy with index jj observed with respect to the continuum in zero. Two models for the lines required \n",
    "%matplotlib\n",
    "### inline\n",
    "for jj in [0]:  #  range(len(resultListDT)):\n",
    "#    plt.errorbar(Lambda[jj],Spectra[jj],SpectraIvar[jj],  c='gray',lw=1,label='Spectrum')\n",
    "    plt.plot(Lambda[jj],Spectra[jj], lw=0.5, c = 'k', label='Spectra')\n",
    "    plt.plot(Lambda[jj],SpectraCont[jj], lw=2, c = 'g', label='Spectra')\n",
    "    lPPP = lineProf\n",
    "    for iasiao in range(len(lPPP)):\n",
    "        plt.plot(Lambda[jj][lPPP['inf'][iasiao]:lPPP['sup'][iasiao]],Spectra[jj][lPPP['inf'][iasiao]:lPPP['sup'][iasiao]], lw=2.0, c = 'b')\n"
   ]
  },
  {
   "cell_type": "markdown",
   "metadata": {},
   "source": [
    "###     EqWidth ,  FWHM,  FLUX"
   ]
  },
  {
   "cell_type": "code",
   "execution_count": 52,
   "metadata": {
    "collapsed": false,
    "scrolled": true
   },
   "outputs": [],
   "source": [
    "#   The plot of relative intensity and continuum emission for the galaxy index jj and the wavelenght of all the lines\n",
    "#   The equivalent width, flux and FWHM for galaxy jj is measured too   \n",
    "\n",
    "if not os.path.exists(dirName+'/resultTables'):\n",
    "    os.makedirs(dirName+'/resultTables')\n",
    "\n",
    "for jj in range(len(Tablas)):\n",
    "    spe = []\n",
    "    speCont = []\n",
    "    for xind in range(len(Spectra[jj])):\n",
    "        spe.append((Spectra[jj][xind])/(SpectraCont[jj][xind]))\n",
    "        speCont.append((SpectraCont[jj][xind])/(SpectraCont[jj][xind]))\n",
    "\n",
    "    lFWHM = []\n",
    "    eqW = []    ##  lista de valores \n",
    "    #  una vez normalizado el espectro observado a la medida del contínuo se integra por el método de Simpson\n",
    "    for iLineProf in range(len(LINEProfile[jj])):\n",
    "        try:\n",
    "            f = FWHM(Lambda[jj][LINEProfile[jj]['inf'][iLineProf]:LINEProfile[jj]['sup'][iLineProf]], Spectra[jj][LINEProfile[jj]['inf'][iLineProf]:LINEProfile[jj]['sup'][iLineProf]])\n",
    "            if len(f) == 0:\n",
    "                lFWHM.append(0)\n",
    "            else:\n",
    "                lFWHM.append(f[0])\n",
    "        except ValueError:\n",
    "            lFWHM.append(0)\n",
    "        if (LINEProfile[jj]['inf'][iLineProf] == LINEProfile[jj]['sup'][iLineProf]) and (LINEProfile[jj]['sup'][iLineProf] == 0):\n",
    "            eqW.append(0)\n",
    "        else:\n",
    "            sInteg = simps(y=spe[LINEProfile[jj]['inf'][iLineProf]:LINEProfile[jj]['sup'][iLineProf]], x=Lambda[jj][LINEProfile[jj]['inf'][iLineProf]:LINEProfile[jj]['sup'][iLineProf]], even='avg')\n",
    "            eqW.append(sInteg)\n",
    "    #   Flux determination for each model in galaxy list\n",
    "    #   assignment of the FWHM and equivalent width in the Table for the first galaxy\n",
    "    for i in range(len(Tablas[jj])):\n",
    "        if Tablas[jj][i]['Amplitude']<=0:\n",
    "            Tablas[jj]['Flux'][i],Tablas[jj]['err'][i]= 0,0\n",
    "        else:\n",
    "            Tablas[jj]['Flux'][i],Tablas[jj]['err'][i]=quad(gaussian,Tablas[jj][i]['Wavelength']-3*Tablas[jj][i]['Sigma'],Tablas[jj][i]['Wavelength']+3*Tablas[jj][i]['Sigma'],args=(Tablas[jj][i]['Amplitude'],Tablas[jj][i]['Wavelength'],Tablas[jj][i]['Sigma']))\n",
    "            Tablas[jj]['FWHM'][i],Tablas[jj]['eqWidth'][i] = lFWHM[i], eqW[i]\n",
    "    Tablas[jj].write(dirName+'/resultTables/Tabla'+str(resultListDT['ObjID'][jj])+'.tbl',format='ascii')\n",
    "    \n",
    "    TablePyNeb = Tablas[jj]['LINE', 'Flux', 'err']\n",
    "    \n",
    "    TablePyNeb.write(dirName+'/resultTables/TablaPN'+str(resultListDT['ObjID'][jj])+'.dat',format='ascii.tab')\n",
    "#Tablas[jj]"
   ]
  },
  {
   "cell_type": "markdown",
   "metadata": {},
   "source": [
    "###     Corrección por atenuación debida al polvo"
   ]
  },
  {
   "cell_type": "code",
   "execution_count": 53,
   "metadata": {
    "collapsed": false
   },
   "outputs": [
    {
     "name": "stdout",
     "output_type": "stream",
     "text": [
      "Extinction Law: CCM89\n",
      "Object[0] :  IRAS15225+2350SP1 cHbeta = [ 1.71540854]  R_V = 3.1  E(B_V) = [ 1.18831758]\n"
     ]
    }
   ],
   "source": [
    "###    Corrección por atenuación debida al polvo de acuerdo a la ley CCM89 con la razón entre\n",
    "#      Ha y Hb tomando el valor esperado de 2.86 con R_v = 3.1\n",
    "#      También se puede utilizar el cociente Hgamma / Hb \n",
    "\n",
    "\n",
    "#      Esta parte fue tomada del documento de PyNeb para diagramas diagnósticos de las\n",
    "#      cinco líneas prohibidas seleccionadas\n",
    "\n",
    "\n",
    "### General settings\n",
    "# Setting verbosity level. Enter pn.my_logging? for details\n",
    "pn.log_.level = 2 # set this to 3 to have more details\n",
    "# Adopt an extinction law\n",
    "extinction_law = 'CCM89'\n",
    "\n",
    "for jj in range(len(Tablas)):\n",
    "    \n",
    "    # Define the data file\n",
    "    obs_data = dirName+'/resultTables/TablaPN'+str(resultListDT['ObjID'][jj])+'.dat'\n",
    "    # Define plot title\n",
    "    title = 'Flux'\n",
    "    ### Read and deredden observational data\n",
    "    # define an Observation object and assign it to name ’obs’\n",
    "    obs = pn.Observation()\n",
    "\n",
    "    # fill obs with data read from file obs_data, with lines varying across rows and a default per\n",
    "    obs.readData(obs_data, fileFormat='lines_in_rows_err_cols', errIsRelative=True)\n",
    "    # deredden data with Cardelli’s law\n",
    "    obs.extinction.law = extinction_law\n",
    "    obs.corrected=True\n",
    "    \n",
    "    ###  Corrección del cociente Ha / Hb cuyo valor esperado es 2.86 para nebulosas planetarias\n",
    "    obs.def_EBV(label1=\"H1r_6563A\", label2=\"H1r_4861A\", r_theo=2.86)\n",
    "    obs.correctData(normWave=4861.)\n",
    "\n",
    "    ###  Corrección del cociente Hgamma / Hb cuyo valor esperado es 0.47 para nebulosas planetarias\n",
    "    #obs.def_EBV(label1=\"H1r_4341A\", label2=\"H1r_4861A\", r_theo=0.47)\n",
    "    #obs.correctData(normWave=4861.)\n",
    "\n",
    "    obs.correctData()\n",
    "    ### Include the diagnostics of interest\n",
    "    # instantiate the Diagnostics class\n",
    "    diags = pn.Diagnostics()\n",
    "    # include in diags the relevant line ratios\n",
    "    diags.addDiag([\n",
    "    '[NII] 5755/6584',\n",
    "    '[OII] 3726/3729',\n",
    "    '[OIII] 4363/5007',\n",
    "    '[SII] 6731/6716',\n",
    "    '[ArIV] 4740/4711',\n",
    "    '[SII] 4069/4076',\n",
    "    '[SII] 4072+/6720+',\n",
    "    '[OII] 3727+/7325+',\n",
    "    '[OI] 5577/6300',\n",
    "    '[OI] 5577/6300+',\n",
    "    '[NeIII] 3343/3930+',\n",
    "    '[ArIII] 5192/7136',\n",
    "    '[ArIII] 5192/7300+'  ])\n",
    "\n",
    "    diags.addClabel('[SII] 6731/6716', '[SII]a')\n",
    "    diags.addClabel('[OII] 3726/3729', '[OII]a')\n",
    "    diags.addClabel('[OII] 3727+/7325+', '[OII]b')\n",
    "    diags.addClabel('[SII] 4072+/6720+', '[SII]b')\n",
    "    diags.addClabel('[SII] 4069/4076', '[SII]c')\n",
    "    diags.addClabel('[OI] 5577/6300', '[OI]a')\n",
    "    diags.addClabel('[OI] 5577/6300+', '[OI]b')\n",
    "    diags.addClabel('[ArIII] 5192/7136', '[ArIII]a')\n",
    "    diags.addClabel('[ArIII] 5192/7300+', '[ArIII]b')\n",
    "\n",
    "    ext=obs.extinction\n",
    "    print 'Extinction Law: CCM89'\n",
    "    print 'Object['+str(jj)+'] : ', str(resultListDT['ObjID'][jj]), 'cHbeta =', ext.cHbeta, ' R_V =',  ext.R_V, ' E(B_V) =',  ext.E_BV\n",
    "    \n",
    "    TeN2O2, NeN2O2 = diags.getCrossTemDen('[NII] 5755/6584+', '[OII] 3726/3729', obs=obs)\n",
    "    TeO3O2, NeO3O2 = diags.getCrossTemDen('[OIII] 4363/5007+', '[OII] 3726/3729', obs=obs)\n",
    "    TeO3S2, NeO3S2 = diags.getCrossTemDen('[OIII] 4363/5007+', '[SII] 6731/6716', obs=obs)\n",
    "    TeN2S2, NeN2S2 = diags.getCrossTemDen('[NII] 5755/6584+', '[SII] 6731/6716', obs=obs)\n",
    "    TeO3Ar4, NeO3Ar4 = diags.getCrossTemDen('[OIII] 4363/5007+', '[ArIV] 4740/4711', obs=obs)\n",
    "    TeN2Ar4, NeN2Ar4 = diags.getCrossTemDen('[NII] 5755/6584+', '[ArIV] 4740/4711', obs=obs)\n",
    "    \n",
    "    TeO2S2, NeO2S2 = (0,0)  #diags.getCrossTemDen('[OII] 3727+/7325+', '[SII] 6731/6716', obs=obs)\n",
    "    TeO2Ar4, NeO2Ar4 = (0,0)  #diags.getCrossTemDen('[OII] 3727+/7325+', '[ArIV] 4740/4711', obs=obs)\n",
    "    TeS2O2, NeS2O2 = diags.getCrossTemDen('[SII] 4072+/6720+', '[OII] 3726/3729', obs=obs)\n",
    "    TeS2Ar4, NeS2Ar4 = diags.getCrossTemDen('[SII] 4072+/6720+', '[ArIV] 4740/4711', obs=obs)\n",
    "    TeO3S2c, NeO3S2c = diags.getCrossTemDen('[OIII] 4363/5007+', '[SII] 4069/4076', obs=obs)\n",
    "    TeN2S2c, NeN2S2c = diags.getCrossTemDen('[NII] 5755/6584+', '[SII] 4069/4076', obs=obs)\n",
    "\n",
    "    TeNe3O2, NeNe3O2 = diags.getCrossTemDen('[NeIII] 3343/3930+', '[OII] 3726/3729', obs=obs)\n",
    "    TeNe3S2, NeNe3S2 = diags.getCrossTemDen('[NeIII] 3343/3930+', '[SII] 6731/6716', obs=obs)\n",
    "    TeNe3Ar4, NeNe3Ar4 = diags.getCrossTemDen('[NeIII] 3343/3930+', '[ArIV] 4740/4711', obs=obs)\n",
    "    TeNe3S2c, NeNe3S2c = diags.getCrossTemDen('[NeIII] 3343/3930+', '[SII] 4069/4076', obs=obs)\n",
    "\n",
    "    resultListDT['Temp_1 [OIII]'][jj], resultListDT['Den_1 [SII]a'][jj] = TeO3S2, NeO3S2\n",
    "    resultListDT['Temp_3 [NII]'][jj], resultListDT['Den_3 [SII]a'][jj] = TeN2S2, NeN2S2\n",
    "    resultListDT['Temp_2 [NII]'][jj], resultListDT['Den_2 [OII]a'][jj] = TeN2O2, NeN2O2\n",
    "    resultListDT['Temp_4 [OIII]'][jj], resultListDT['Den_4 [OII]a'][jj] = TeO3O2, NeO3O2\n",
    "    resultListDT['Temp_6 [NII]'][jj], resultListDT['Den_6 [ArIV]'][jj] = TeN2Ar4, NeN2Ar4\n",
    "    resultListDT['Temp_5 [OIII]'][jj], resultListDT['Den_5 [ArIV]'][jj] = TeO3Ar4, NeO3Ar4\n",
    "    \n",
    "    resultListDT['Temp_7 [OII]b'][jj], resultListDT['Den_7 [SII]b'][jj] = TeO2S2, NeO2S2\n",
    "    resultListDT['Temp_8 [OII]b'][jj], resultListDT['Den_8 [ArIV]'][jj] = TeO2Ar4, NeO2Ar4\n",
    "    resultListDT['Temp_9 [SII]b'][jj], resultListDT['Den_9 [ArIV]'][jj] = TeS2Ar4, NeS2Ar4\n",
    "    resultListDT['Temp_10 [SII]b'][jj], resultListDT['Den_10 [OII]a'][jj] = TeS2O2, NeS2O2\n",
    "    resultListDT['Temp_11 [OIII]'][jj], resultListDT['Den_11 [SII]c'][jj] = TeO3S2c, NeO3S2c\n",
    "    resultListDT['Temp_12 [NII]'][jj], resultListDT['Den_12 [SII]c'][jj] = TeN2S2c, NeN2S2c\n",
    "\n",
    "    resultListDT['Temp_13 [NeIII]'][jj], resultListDT['Den_13 [OII]a'][jj] = TeNe3O2, NeNe3O2\n",
    "    resultListDT['Temp_14 [NeIII]'][jj], resultListDT['Den_14 [SII]a'][jj] = TeNe3S2, NeNe3S2\n",
    "    resultListDT['Temp_15 [NeIII]'][jj], resultListDT['Den_15 [ArIV]'][jj] = TeNe3Ar4, NeNe3Ar4\n",
    "    resultListDT['Temp_16 [NeIII]'][jj], resultListDT['Den_16 [SII]c'][jj] = TeNe3S2c, NeNe3S2c\n",
    "\n",
    "    #'[OII]b', '[SII]b','[OII]b', '[ArIV]','[SII]b','[ArIV]', '[SII]b','[OII]a'\n"
   ]
  },
  {
   "cell_type": "markdown",
   "metadata": {},
   "source": [
    "###               Electron density and temperature results"
   ]
  },
  {
   "cell_type": "code",
   "execution_count": 54,
   "metadata": {
    "collapsed": false
   },
   "outputs": [
    {
     "data": {
      "text/html": [
       "&lt;Table masked=False length=1&gt;\n",
       "<table id=\"table140458293549264\">\n",
       "<thead><tr><th>ObjID</th><th>ra</th><th>dec</th><th>z</th><th>isFits</th><th>Temp_1 [OIII]</th><th>Den_1 [SII]a</th><th>Temp_2 [NII]</th><th>Den_2 [OII]a</th><th>Temp_3 [NII]</th><th>Den_3 [SII]a</th><th>Temp_4 [OIII]</th><th>Den_4 [OII]a</th><th>Temp_5 [OIII]</th><th>Den_5 [ArIV]</th><th>Temp_6 [NII]</th><th>Den_6 [ArIV]</th><th>Temp_7 [OII]b</th><th>Den_7 [SII]b</th><th>Temp_8 [OII]b</th><th>Den_8 [ArIV]</th><th>Temp_9 [SII]b</th><th>Den_9 [ArIV]</th><th>Temp_10 [SII]b</th><th>Den_10 [OII]a</th><th>Temp_11 [OIII]</th><th>Den_11 [SII]c</th><th>Temp_12 [NII]</th><th>Den_12 [SII]c</th><th>Temp_13 [NeIII]</th><th>Den_13 [OII]a</th><th>Temp_14 [NeIII]</th><th>Den_14 [SII]a</th><th>Temp_15 [NeIII]</th><th>Den_15 [ArIV]</th><th>Temp_16 [NeIII]</th><th>Den_16 [SII]c</th></tr></thead>\n",
       "<thead><tr><th></th><th></th><th></th><th></th><th></th><th>K</th><th>1 / cm3</th><th>K</th><th>1 / cm3</th><th>K</th><th>1 / cm3</th><th>K</th><th>1 / cm3</th><th>K</th><th>1 / cm3</th><th>K</th><th>1 / cm3</th><th>K</th><th>1 / cm3</th><th>K</th><th>1 / cm3</th><th>K</th><th>1 / cm3</th><th>K</th><th>1 / cm3</th><th>K</th><th>1 / cm3</th><th>K</th><th>1 / cm3</th><th>K</th><th>1 / cm3</th><th>K</th><th>1 / cm3</th><th>K</th><th>1 / cm3</th><th>K</th><th>1 / cm3</th></tr></thead>\n",
       "<thead><tr><th>string136</th><th>float64</th><th>float64</th><th>float64</th><th>int64</th><th>float64</th><th>float64</th><th>float64</th><th>float64</th><th>float64</th><th>float64</th><th>float64</th><th>float64</th><th>float64</th><th>float64</th><th>float64</th><th>float64</th><th>float64</th><th>float64</th><th>float64</th><th>float64</th><th>float64</th><th>float64</th><th>float64</th><th>float64</th><th>float64</th><th>float64</th><th>float64</th><th>float64</th><th>float64</th><th>float64</th><th>float64</th><th>float64</th><th>float64</th><th>float64</th><th>float64</th><th>float64</th></tr></thead>\n",
       "<tr><td>IRAS15225+2350SP1</td><td>231.182922363</td><td>23.6697216034</td><td>0.1386644</td><td>1</td><td>67738.5521303</td><td>354.279494752</td><td>nan</td><td>nan</td><td>13952.7840205</td><td>212.460740696</td><td>nan</td><td>nan</td><td>35246.5164083</td><td>232814.335013</td><td>7207.01222134</td><td>142064.895701</td><td>0.0</td><td>0.0</td><td>0.0</td><td>0.0</td><td>nan</td><td>nan</td><td>nan</td><td>nan</td><td>nan</td><td>nan</td><td>nan</td><td>nan</td><td>nan</td><td>nan</td><td>nan</td><td>nan</td><td>nan</td><td>nan</td><td>nan</td><td>nan</td></tr>\n",
       "</table>"
      ],
      "text/plain": [
       "<Table masked=False length=1>\n",
       "      ObjID             ra           dec      ... Temp_16 [NeIII] Den_16 [SII]c\n",
       "                                              ...        K           1 / cm3   \n",
       "    string136        float64       float64    ...     float64        float64   \n",
       "----------------- ------------- ------------- ... --------------- -------------\n",
       "IRAS15225+2350SP1 231.182922363 23.6697216034 ...             nan           nan"
      ]
     },
     "execution_count": 54,
     "metadata": {},
     "output_type": "execute_result"
    }
   ],
   "source": [
    "#resultListDT=Table.read(dirName+'/resultTables/DeTe.tbl', format='ascii')\n",
    "resultListDT"
   ]
  },
  {
   "cell_type": "code",
   "execution_count": 55,
   "metadata": {
    "collapsed": true
   },
   "outputs": [],
   "source": [
    "\n",
    "resultListDT.write(dirName+'/resultTables/DeTe'+str(resultListDT['ObjID'][jj])+'.tbl',format='ascii')\n",
    "resultListDT.write(dirName+'/resultTables/DeTe.tbl',format='ascii')"
   ]
  },
  {
   "cell_type": "code",
   "execution_count": 62,
   "metadata": {
    "collapsed": false
   },
   "outputs": [
    {
     "name": "stdout",
     "output_type": "stream",
     "text": [
      "Using matplotlib backend: Qt4Agg\n",
      "warng _ManageAtomicData: atom data not available for H1\n",
      "warng _ManageAtomicData: coll data not available for H1\n",
      "warng _ManageAtomicData: atom data not available for He1\n",
      "warng _ManageAtomicData: coll data not available for He1\n",
      "{'S2': array([ nan]), 'N2': array([ nan]), 'O3': array([ nan]), 'O2': array([ nan]), 'O1': array([ nan])}\n"
     ]
    }
   ],
   "source": [
    "###    Grafica del diagnóstico densidad y temperatura para el espectro de indice jj\n",
    "\n",
    "jj=0\n",
    "\n",
    "%matplotlib\n",
    "\n",
    "### General settings\n",
    "# Setting verbosity level. Enter pn.my_logging? for details\n",
    "pn.log_.level = 2 # set this to 3 to have more details\n",
    "# Adopt an extinction law\n",
    "extinction_law = 'CCM89'\n",
    "\n",
    "# Define the data file\n",
    "obs_data = dirName+'/resultTables/TablaPN'+str(resultListDT['ObjID'][jj])+'.dat'\n",
    "# Define plot title\n",
    "title = 'Flux'\n",
    "### Read and deredden observational data\n",
    "# define an Observation object and assign it to name ’obs’\n",
    "obs = pn.Observation()\n",
    "\n",
    "# fill obs with data read from file obs_data, with lines varying across rows and a default per\n",
    "obs.readData(obs_data, fileFormat='lines_in_rows_err_cols', errIsRelative=True)\n",
    "# deredden data with Cardelli’s law\n",
    "obs.extinction.law = extinction_law\n",
    "\n",
    "# de 1 a 7\n",
    "corrHxHb = 7\n",
    "\n",
    "if corrHxHb==1:\n",
    "    ###  Corrección del cociente Ha / Hb cuyo valor esperado es 2.86 para nebulosas planetarias\n",
    "    obs.def_EBV(label1=\"H1r_6563A\", label2=\"H1r_4861A\", r_theo=2.86)\n",
    "    obs.correctData(normWave=4861.)\n",
    "elif corrHxHb==2:\n",
    "    ###  Corrección del cociente Hgamma / Hb cuyo valor esperado es 0.47 para nebulosas planetarias\n",
    "    obs.def_EBV(label1=\"H1r_4341A\", label2=\"H1r_4861A\", r_theo=0.47)\n",
    "    obs.correctData(normWave=4861.)\n",
    "elif corrHxHb==3:\n",
    "    ###  Corrección del cociente Hdelta / Hb cuyo valor esperado es 0.256 para nebulosas planetarias\n",
    "    obs.def_EBV(label1=\"H1r_4102A\", label2=\"H1r_4861A\", r_theo=0.256)\n",
    "    obs.correctData(normWave=4861.)\n",
    "elif corrHxHb==4:\n",
    "    ###  Corrección del cociente Hepsilon / Hb cuyo valor esperado es 0.158 para nebulosas planetarias\n",
    "    obs.def_EBV(label1=\"H1r_3970A\", label2=\"H1r_4861A\", r_theo=0.158)\n",
    "    obs.correctData(normWave=4861.)\n",
    "elif corrHxHb==5:\n",
    "    ###  Corrección del cociente H8 / Hb cuyo valor esperado es 0.105 para nebulosas planetarias\n",
    "    obs.def_EBV(label1=\"H1r_3889A\", label2=\"H1r_4861A\", r_theo=0.105)\n",
    "    obs.correctData(normWave=4861.)\n",
    "elif corrHxHb==6:\n",
    "    ###  Corrección del cociente H9 / Hb cuyo valor esperado es 0.0730 para nebulosas planetarias\n",
    "    obs.def_EBV(label1=\"H1r_3835A\", label2=\"H1r_4861A\", r_theo=0.0730)\n",
    "    obs.correctData(normWave=4861.)\n",
    "elif corrHxHb==7:\n",
    "    ###  Corrección del cociente H9 / Hb cuyo valor esperado es 0.0529 para nebulosas planetarias\n",
    "    obs.def_EBV(label1=\"H1r_3798A\", label2=\"H1r_4861A\", r_theo=0.0529)\n",
    "    obs.correctData(normWave=4861.)\n",
    "\n",
    "obs.correctData()\n",
    "obs.corrected=True\n",
    "\n",
    "# abundancies taken selected Te and De for 3c234\n",
    "#Te = np.mean([resultListDT['Temp_1 [OIII]'][0], resultListDT['Temp_4 [OIII]'][0] ])\n",
    "#Ne = np.mean([resultListDT['Den_1 [SII]a'][0], resultListDT['Den_4 [OII]a'][0] ])\n",
    "\n",
    "Te = np.mean([resultListDT['Temp_4 [OIII]'][0], resultListDT['Temp_5 [OIII]'][0] ])\n",
    "Ne = np.mean([resultListDT['Den_4 [OII]a'][0], resultListDT['Den_10 [OII]a'][0] ])\n",
    "\n",
    "\n",
    "# Define a dictionary to hold all the Atom objects needed\n",
    "all_atoms = pn.getAtomDict(atom_list=obs.getUniqueAtoms())\n",
    "# define a dictionary to store the abundances\n",
    "ab_dict = {}\n",
    "# we use the following lines to determine the ionic abundances\n",
    "ab_labels = ['O2_3726A', 'O2_3729A','O3_4363A', 'O3_5007A', 'O3_4931A','O3_4959A', 'N2_5755A','N2_6527A', 'S2_6716A','N2_6548A'\n",
    "             ,'N2_6584A', 'S2_6731A','O2_7319A+', 'O2_7330A+', 'S2_4069A', 'S2_4076A', 'O1_6300A', 'O1_6364A' , 'O1_6392A',\n",
    "             'O1_5577A', 'H1_4341A', 'H1_4861A', 'H1_6563A', 'H1_4102A', 'H1_3970A', 'H1_3889A', 'H1_3835A',\n",
    "             'H1_3798A', 'He1_4471A', 'He1_5016A', 'He1_5876A', 'He1_6678A', 'He1_7065A']\n",
    "for line in obs.getSortedLines():\n",
    "    if line.label in ab_labels:\n",
    "        ab = all_atoms[line.atom].getIonAbundance(line.corrIntens, Te, Ne, to_eval=line.to_eval, Hbeta=100)\n",
    "        ab_dict[line.atom] = ab\n",
    "\n",
    "\n",
    "### Include the diagnostics of interest\n",
    "# instantiate the Diagnostics class\n",
    "diags = pn.Diagnostics()\n",
    "# include in diags the relevant line ratios\n",
    "diags.addDiag([\n",
    "'[NII] 5755/6584',\n",
    "'[OII] 3726/3729',\n",
    "'[OIII] 4363/5007',\n",
    "'[SII] 6731/6716',\n",
    "'[ArIV] 4740/4711',\n",
    "'[SII] 4069/4076',\n",
    "'[SII] 4072+/6720+',\n",
    "'[OII] 3727+/7325+',\n",
    "'[OI] 5577/6300',\n",
    "'[OI] 5577/6300+',\n",
    "'[NeIII] 3343/3930+',\n",
    "'[ArIII] 5192/7136',\n",
    "'[ArIII] 5192/7300+'  ])\n",
    "\n",
    "diags.addClabel('[SII] 6731/6716', '[SII]a')\n",
    "diags.addClabel('[OII] 3726/3729', '[OII]a')\n",
    "diags.addClabel('[OII] 3727+/7325+', '[OII]b')\n",
    "diags.addClabel('[SII] 4072+/6720+', '[SII]b')\n",
    "diags.addClabel('[SII] 4069/4076', '[SII]c')\n",
    "diags.addClabel('[OI] 5577/6300', '[OI]a')\n",
    "diags.addClabel('[OI] 5577/6300+', '[OI]b')\n",
    "diags.addClabel('[ArIII] 5192/7136', '[ArIII]a')\n",
    "diags.addClabel('[ArIII] 5192/7300+', '[ArIII]b')\n",
    "\n",
    "# Create the emission maps to be compared to the observation data (some overkill here)\n",
    "emisgrids = pn.getEmisGridDict(atom_list=diags.getUniqueAtoms(), den_max=1e6)\n",
    "### Plot\n",
    "# Create the contour plot as the intersection of tem-den emission maps with dereddened line ra\n",
    "diags.plot(emisgrids, obs, i_obs=0)\n",
    "# Place the title\n",
    "plt.title(title)\n",
    "plt.savefig(dirName+'/resultTables/diagDenTem'+str(resultListDT['ObjID'][jj])+'D'+str(corrHxHb)+'.png')\n",
    "print ab_dict"
   ]
  },
  {
   "cell_type": "markdown",
   "metadata": {},
   "source": [
    "###                     Plots the fitting spectrum normalized of index jj"
   ]
  },
  {
   "cell_type": "code",
   "execution_count": 49,
   "metadata": {
    "collapsed": false,
    "scrolled": false
   },
   "outputs": [
    {
     "name": "stdout",
     "output_type": "stream",
     "text": [
      "Using matplotlib backend: Qt4Agg\n"
     ]
    }
   ],
   "source": [
    "#   plot of the galaxy with index jj observed with respect to the continuum in zero. Two models for the lines required \n",
    "\n",
    "jj=0\n",
    "\n",
    "%matplotlib\n",
    "if isFits:\n",
    "    if TypeFITS == 0:\n",
    "        print HDUs[jj][0].header['FLAVOR']\n",
    "        print HDUs[jj][0].header['QUALITY']\n",
    "        print HDUs[jj][0].header['FBADPIX'] ## %%Malos Pixeles\n",
    "        print HDUs[jj][2].data['SN_MEDIAN_ALL']\n",
    "        print HDUs[jj][2].data['SN_MEDIAN']\n",
    "\n",
    "lambd=Lambda[jj]\n",
    "\n",
    "plt.figure(figsize=(16, 9))\n",
    "plt.title('Spectrum Galaxy '+ resultListDT['ObjID'][jj])\n",
    "plt.xlabel(r'Wavelength (Angstroms $\\AA$) ')\n",
    "if TypeFITS == 0:\n",
    "    plt.ylabel(r'$f_{\\lambda}$ ('+str(head['BUNIT'])+')')\n",
    "else:\n",
    "    plt.ylabel(r'$f_{\\lambda}$')\n",
    "\n",
    "plt.errorbar(Lambda[jj],Spectra[jj]-SpectraCont[jj],SpectraIvar[jj],  c='gray',lw=1)\n",
    "plt.plot(Lambda[jj], Spectra[jj]-SpectraCont[jj], c='k', lw=0.8, label='Spectrum')\n",
    "plt.plot(Lambda[jj], Modelos[jj][0](Lambda[jj]), c='yellow', lw=1 , label='Model')\n",
    "\n",
    "plt.legend()\n",
    "\n",
    "x=np.linspace(Lambda[jj][0],Lambda[jj][-1],len(Lambda[jj]))\n",
    "for i in range(len(Tablas[jj])):\n",
    "    plt.axvline(x=Tablas[jj]['Lambda Vac'][i],c='dimgrey',lw=1.2,ls='--')\n",
    "    plt.text(Tablas[jj]['Lambda Vac'][i] + 0.5, Tablas[jj]['Amplitude'][i] * 1.2,Tablas[jj]['Element'][i])\n",
    "    if Tablas[jj]['Element'][i] == 'H I':\n",
    "        plt.plot(x,gaussian(x,Tablas[jj][i]['Amplitude'],Tablas[jj][i]['Wavelength'],Tablas[jj][i]['Sigma']), c='DeepPink')\n",
    "##        plt.plot(x,lorentzFunc(x,Tablas[jj][i]['Amplitude'],Tablas[jj][i]['Sigma'], Tablas[jj][i]['Wavelength']), c='DeepPink')\n",
    "    else:\n",
    "        if Tablas[jj][i]['Sigma']!=0:\n",
    "            plt.plot(x,gaussian(x,Tablas[jj][i]['Amplitude'],Tablas[jj][i]['Wavelength'],Tablas[jj][i]['Sigma']) , c='Lime' , label='Modelos')\n",
    "##            plt.plot(x,lorentzFunc(x,Tablas[jj][i]['Amplitude'],Tablas[jj][i]['Sigma'],Tablas[jj][i]['Wavelength']) , c='Lime')\n",
    "\n",
    "#plt.savefig('F1.eps', format='eps', dpi=1000)\n"
   ]
  },
  {
   "cell_type": "code",
   "execution_count": 95,
   "metadata": {
    "collapsed": false,
    "scrolled": false
   },
   "outputs": [
    {
     "name": "stdout",
     "output_type": "stream",
     "text": [
      "O2_3726A\n",
      "O2_3729A\n",
      "H1r_4341A\n",
      "O3_4363A\n",
      "H1r_4861A\n",
      "O3_4931A\n",
      "O3_4959A\n",
      "O3_5007A\n",
      "N2_5755A\n",
      "N2_6527A\n",
      "N2_6548A\n",
      "H1r_6563A\n",
      "N2_6584A\n",
      "S2_6716A\n",
      "S2_6731A\n",
      "Ar4_4711A\n",
      "Ar4_4740A\n",
      "H1r_4102A\n",
      "Fe3_4987A\n",
      "O2_7319A+\n",
      "O2_7330A+\n",
      "S2_4069A\n",
      "S2_4076A\n",
      "O1_6300A\n",
      "O1_6364A\n",
      "O1_6392A\n",
      "O1_5577A\n",
      "H1r_3970A\n",
      "H1r_3889A\n",
      "H1r_3835A\n",
      "H1r_3798A\n",
      "Ne3_3869A\n",
      "Ne3_3343A\n",
      "Ne3_3968A\n",
      "He1r_4471A\n",
      "He1r_5016A\n",
      "He1r_5876A\n",
      "He1r_6678A\n",
      "He1r_7065A\n",
      "Ar3_5192A\n",
      "Ar3_7751A\n",
      "Ar3_7136A\n"
     ]
    }
   ],
   "source": [
    "#TablePyNeb.add_row()\n",
    "for appa in TablePyNeb['LINE']:\n",
    "    print appa"
   ]
  },
  {
   "cell_type": "code",
   "execution_count": null,
   "metadata": {
    "collapsed": true
   },
   "outputs": [],
   "source": [
    "\"SDSS J165712.75+321141.4SP1\" 254.30315 32.19484 0.03834809 1\n",
    "3c234SP1 150.45634 28.78582 0.1848955 1\n"
   ]
  },
  {
   "cell_type": "code",
   "execution_count": 119,
   "metadata": {
    "collapsed": false
   },
   "outputs": [
    {
     "data": {
      "text/plain": [
       "230.2844051239245"
      ]
     },
     "execution_count": 119,
     "metadata": {},
     "output_type": "execute_result"
    }
   ],
   "source": [
    "np.mean([resultListDT['Temp_4 [OIII]'][0], resultListDT['Temp_5 [OIII]'][0] ])\n",
    "np.mean([resultListDT['Den_4 [OII]a'][0], resultListDT['Den_10 [OII]a'][0] ])"
   ]
  },
  {
   "cell_type": "code",
   "execution_count": 105,
   "metadata": {
    "collapsed": false
   },
   "outputs": [],
   "source": [
    "ab = all_atoms[line.atom].getIonAbundance(line.corrIntens, Te, Ne, to_eval=line.to_eval, Hbeta=100)"
   ]
  },
  {
   "cell_type": "code",
   "execution_count": 106,
   "metadata": {
    "collapsed": false
   },
   "outputs": [
    {
     "data": {
      "text/plain": [
       "array([  1.44719874e-05])"
      ]
     },
     "execution_count": 106,
     "metadata": {},
     "output_type": "execute_result"
    }
   ],
   "source": [
    "ab"
   ]
  },
  {
   "cell_type": "code",
   "execution_count": 120,
   "metadata": {
    "collapsed": false
   },
   "outputs": [
    {
     "data": {
      "text/plain": [
       "[Line Ar3 Ar3_5192A,\n",
       " Line Ar3 Ar3_7136A,\n",
       " Line Ar3 Ar3_7751A,\n",
       " Line Ar4 Ar4_4711A,\n",
       " Line Ar4 Ar4_4740A,\n",
       " Line Fe3 Fe3_4987A,\n",
       " Line H1r H1r_3798A,\n",
       " Line H1r H1r_3835A,\n",
       " Line H1r H1r_3889A,\n",
       " Line H1r H1r_3970A,\n",
       " Line H1r H1r_4102A,\n",
       " Line H1r H1r_4341A,\n",
       " Line H1r H1r_4861A,\n",
       " Line H1r H1r_6563A,\n",
       " Line He1r He1r_4471A,\n",
       " Line He1r He1r_5016A,\n",
       " Line He1r He1r_5876A,\n",
       " Line He1r He1r_6678A,\n",
       " Line He1r He1r_7065A,\n",
       " Line N2 N2_5755A,\n",
       " Line N2 N2_6527A,\n",
       " Line N2 N2_6548A,\n",
       " Line N2 N2_6584A,\n",
       " Line Ne3 Ne3_3343A,\n",
       " Line Ne3 Ne3_3869A,\n",
       " Line Ne3 Ne3_3968A,\n",
       " Line O1 O1_5577A,\n",
       " Line O1 O1_6300A,\n",
       " Line O1 O1_6364A,\n",
       " Line O1 O1_6392A,\n",
       " Line O2 O2_3726A,\n",
       " Line O2 O2_3729A,\n",
       " Line O2 O2_7319A+,\n",
       " Line O2 O2_7330A+,\n",
       " Line O3 O3_4363A,\n",
       " Line O3 O3_4931A,\n",
       " Line O3 O3_4959A,\n",
       " Line O3 O3_5007A,\n",
       " Line S2 S2_4069A,\n",
       " Line S2 S2_4076A,\n",
       " Line S2 S2_6716A,\n",
       " Line S2 S2_6731A]"
      ]
     },
     "execution_count": 120,
     "metadata": {},
     "output_type": "execute_result"
    }
   ],
   "source": [
    " obs.getSortedLines()"
   ]
  },
  {
   "cell_type": "code",
   "execution_count": 121,
   "metadata": {
    "collapsed": false
   },
   "outputs": [
    {
     "data": {
      "text/plain": [
       "array(['Ar3', 'Ar4', 'Fe3', 'H1r', 'He1r', 'N2', 'Ne3', 'O1', 'O2', 'O3',\n",
       "       'S2'], \n",
       "      dtype='|S4')"
      ]
     },
     "execution_count": 121,
     "metadata": {},
     "output_type": "execute_result"
    }
   ],
   "source": [
    "obs.getUniqueAtoms()"
   ]
  },
  {
   "cell_type": "code",
   "execution_count": null,
   "metadata": {
    "collapsed": true
   },
   "outputs": [],
   "source": [
    "obs"
   ]
  }
 ],
 "metadata": {
  "kernelspec": {
   "display_name": "Python 2",
   "language": "python",
   "name": "python2"
  },
  "language_info": {
   "codemirror_mode": {
    "name": "ipython",
    "version": 2
   },
   "file_extension": ".py",
   "mimetype": "text/x-python",
   "name": "python",
   "nbconvert_exporter": "python",
   "pygments_lexer": "ipython2",
   "version": "2.7.8"
  }
 },
 "nbformat": 4,
 "nbformat_minor": 0
}
