{
 "cells": [
  {
   "cell_type": "code",
   "execution_count": 33,
   "metadata": {
    "collapsed": false
   },
   "outputs": [],
   "source": [
    "from DefSD import *\n",
    "import sys\n",
    "import traceback\n",
    "import math as mt\n",
    "from scipy.integrate import simps\n",
    "gaussian = lambda x,a,b,c : a * np.exp(-0.5* (x - b)**2 / c**2)"
   ]
  },
  {
   "cell_type": "code",
   "execution_count": 9,
   "metadata": {
    "collapsed": true
   },
   "outputs": [],
   "source": [
    "#    Lorentz model ---- avoid, we won't use it\n",
    "\n",
    "lorentzFunc = lambda x,A,f,x0 : (A*f**2)/(f**2 + (x-x0)**2)\n",
    "#def lorentzFunc(lal, A, f, x0):\n",
    "#    return (A*f**2)/(f**2 + (x-x0)**2)\n",
    "\n",
    "def fit2(i, spec,lambd,ListLines,ListGal,iterr):\n",
    "    lineP = lineProfile(i,spec,lambd,ListLines,ListGal)\n",
    "    f1 = fitting.LevMarLSQFitter()\n",
    "    Lorentz = []\n",
    "    lineStdDev = 0.5 #3.5\n",
    "    for x in range(len(ListLines)):\n",
    "        lineAmplitude = ListGal[i]['flux'][lineP['lambda'][x]]\n",
    "        v = np.where((lambd >= ListLines['LAMBDA VAC ANG'][x]-1) & (lambd <= ListLines['LAMBDA VAC ANG'][x]+1))\n",
    "        ampMax= ListGal[i]['flux'][v[0][0]]\n",
    "        Lorentz.append(models.Lorentz1D(amplitude=lineAmplitude,x_0=ListLines['LAMBDA VAC ANG'][x],fwhm=2.355*lineStdDev, bounds={'amplitude':(0, ampMax)}))\n",
    "    \n",
    "    sum_Lorentz=Lorentz[0]+Lorentz[1]+Lorentz[2]+Lorentz[3]+Lorentz[4]+Lorentz[5]+Lorentz[6]+Lorentz[7]+Lorentz[8]+Lorentz[9]+Lorentz[10]+Lorentz[11]+Lorentz[12]\n",
    "    sum_Lo2=Lorentz[0]+Lorentz[1]\n",
    "    if len(ListLines) >= 14:\n",
    "        sum_Lorentz=Lorentz[0]+Lorentz[1]+Lorentz[2]+Lorentz[3]+Lorentz[4]+Lorentz[5]+Lorentz[6]+Lorentz[7]+Lorentz[8]+Lorentz[9]+Lorentz[10]+Lorentz[11]+Lorentz[12]+Lorentz[13]+Lorentz[14]\n",
    "    lorentz_fit = f1(sum_Lorentz, lambd, ListGal[i]['flux']-spec, maxiter=iterr)\n",
    "    lorentz_fit2 = f1(sum_Lo2, lambd, ListGal[i]['flux']  -spec, maxiter=iterr) \n",
    "    LOR=[]\n",
    "    LOR.append(lorentz_fit)   \n",
    "    LOR.append(lorentz_fit2)\n",
    "    return LOR"
   ]
  },
  {
   "cell_type": "code",
   "execution_count": 44,
   "metadata": {
    "collapsed": false
   },
   "outputs": [],
   "source": [
    "#   Obtain the index (Table linePr) of the feet line profile given a index of the galaxy : i, \n",
    "#   the continuum spectrum np.array : spec, the wavelenghts : lambd, data of the lines : ListLines,\n",
    "#   the list of spectrum galaxies : ListGal, and minimum resolution of the spectrum : limResoluc\n",
    "\n",
    "#   Aqui encontré muchos problemas porque cuando se encuentran las lineas acopladas de OII en 3726-29\n",
    "#   se debe encontrar los límites de los parámetros\n",
    "\n",
    "def lineProfile(i,spec, lambd,ListLines,ListGal, limResoluc):\n",
    "    linePr = Table(names=('lambda', 'inf', 'sup'), dtype=('i5','i5', 'i5'))\n",
    "    for c in range(0, len(ListLines)):\n",
    "        lambdLine=ListLines['LAMBDA VAC ANG'][c]          #Líneas obtenidas de la base de datos Astroquery\n",
    "        v = np.where((lambd >= lambdLine-limResoluc) & (lambd <= lambdLine+limResoluc))\n",
    "        if len(v[0]) == 0:\n",
    "            ind = 0\n",
    "            l_inf = 0\n",
    "            l_sup = 0\n",
    "            iM=0\n",
    "        else:\n",
    "            ind = 1\n",
    "            try:\n",
    "                f = FWHM(lambd[v[0][0]-ind:v[0][0]+ind], ListGal[i][v[0][0]-ind:v[0][0]+ind])\n",
    "            except IndexError:\n",
    "                f=[]\n",
    "            while (len(f)==0):\n",
    "                ind = ind+1\n",
    "                try:\n",
    "                    f = FWHM(lambd[v[0][0]-ind:v[0][0]+ind], ListGal[i][v[0][0]-ind:v[0][0]+ind])\n",
    "                except IndexError:   \n",
    "                    ind = ind+1\n",
    "                    f=[]\n",
    "            l_inf = v[0][0]-ind\n",
    "            l_sup = v[0][0]+ind\n",
    "            # Una vez encontrado el intervalo se busca el indice donde\n",
    "            # tiene el máximo valor de intensidad\n",
    "            indMaxInt = np.where(ListGal[i][l_inf:l_sup]==np.max(ListGal[i][l_inf:l_sup]))\n",
    "    #        print v\n",
    "            indMax=indMaxInt[0][0]+l_inf\n",
    "            iM = indMax\n",
    "            l_inf = 1\n",
    "            l_sup = 1\n",
    "            a=ListGal[i][indMax]\n",
    "            while (ListGal[i][indMax-l_inf] <= a):  # | ((ListGal[i][indMax-l_inf]-spec[indMax-l_inf])>10):\n",
    "                a = ListGal[i][indMax-l_inf]\n",
    "                l_inf = l_inf+1\n",
    "\n",
    "            a=ListGal[i][indMax]\n",
    "            while (ListGal[i][indMax+l_sup] <= a):  # | ((ListGal[i][indMax+l_sup]-spec[indMax+l_sup])>10):\n",
    "                a = ListGal[i][indMax+l_sup]\n",
    "                l_sup = l_sup+1\n",
    "\n",
    "            l_inf = indMax-l_inf+1\n",
    "            l_sup = indMax+l_sup\n",
    "        linePr.add_row((iM, l_inf, l_sup))        \n",
    "    return linePr"
   ]
  },
  {
   "cell_type": "code",
   "execution_count": 42,
   "metadata": {
    "collapsed": false
   },
   "outputs": [],
   "source": [
    "#  finalFit(index int :i, continuum spectrum np.array :spec, \n",
    "#      wavelengths np.array :lambd, wavelenghts of lines Astropy.Table : ListLines,\n",
    "#      array of galaxies list :ListGal, error bar list : spIvar, maximum iteration Int :iterr,\n",
    "#      resolution limit float :limResol):)\n",
    "\n",
    "def finalFit(i, spec,lambd,ListLines,ListGal,spIvar,iterr, limResol):\n",
    "    lineP = lineProfile(i,spec,lambd,ListLines,ListGal, limResol)   #  Table of line profile indexes upper and lower \n",
    "    linePaux=lineP['lambda'].data     \n",
    "    alslk = lineP['lambda'][0]\n",
    "         #    it obtain the number of lines overlayed in a profile\n",
    "    for c in range(1,len(linePaux)):\n",
    "        if (linePaux[c]==alslk) & (alslk!=0):\n",
    "            linePaux[c-1] = 2\n",
    "            linePaux[c] = 2\n",
    "        else:\n",
    "            linePaux[c] = 1\n",
    "        alslk = lineP['lambda'][c]\n",
    "        \n",
    "    f1 = fitting.LevMarLSQFitter()\n",
    "    lineStdDev = 3.5    #   default standard deviation\n",
    "    condit = True #   esto es mejor quitarlo\n",
    "    while condit:    #   esto es mejor quitarlo\n",
    "        Gaus=[]      #    array of models\n",
    "        for x in range(len(ListLines)):       #     for each line profile it is created a gaussian model \n",
    "            if lineP['inf'][x]==0:            \n",
    "                Gaus.append(models.Gaussian1D(amplitude=0,mean=ListLines['LAMBDA VAC ANG'][x],stddev=0))\n",
    "                      #    it didn't model a profile for this line\n",
    "            else:\n",
    "                v = np.where((lambd >= ListLines['LAMBDA VAC ANG'][x]-limResol) & (lambd <= ListLines['LAMBDA VAC ANG'][x]+limResol))\n",
    "                      #    estimate the wavelenghts for the center of the line\n",
    "                \n",
    "                ampMax= ListGal[i][v[0][0]]-spec[v[0][0]]   #   max amplitude of the profile\n",
    "                nLines = linePaux[x]                        #   obtain the number of overlaying line profiles \n",
    "                f = FWHM(lambd[lineP['inf'][x]:lineP['sup'][x]], ListGal[i][lineP['inf'][x]:lineP['sup'][x]])\n",
    "                      #    calculate the FWHM of the profile\n",
    "                coasi = 0\n",
    "                while len(f)==0:\n",
    "                    coasi = coasi + 1\n",
    "                    f = FWHM(lambd[(lineP['inf'][x]-coasi):(lineP['sup'][x]+coasi)], ListGal[i][(lineP['inf'][x]-coasi):(lineP['sup'][x]+coasi)])\n",
    "                           #  calculate FWHM so often as it is found a non profile spectrum\n",
    "                        \n",
    "                stdLine = (1/2.3548)*f[0]/nLines     #   estimate the observed standard deviation\n",
    "                lineWidthBase = (lambd[lineP['sup'][x]] - lambd[lineP['inf'][x]])/(2*nLines)\n",
    "                      ##   calculate the observed line width at the base of the profile\n",
    "                if (ampMax>0) & (ampMax>3*spIvar[lineP['lambda'][x]]):  # & (coasi < 2):\n",
    "                      #   a model for the observed amplitude (emission line) is greater than three times\n",
    "                        #    the error of the intensity in the spectrum and the bounds depend on the number of lines\n",
    "                        #   in the profile and the width of his base\n",
    "                    Gaus.append(models.Gaussian1D(amplitude=ampMax,mean=ListLines['LAMBDA VAC ANG'][x],stddev=stdLine, bounds={'mean':(ListLines['LAMBDA VAC ANG'][x]-lineWidthBase/(2*nLines), ListLines['LAMBDA VAC ANG'][x]+lineWidthBase/(2*nLines)),'stddev':(0.8*stdLine, 1.5*stdLine)}))\n",
    "                elif ampMax<=3*spIvar[lineP['lambda'][x]]:\n",
    "                      ##   no model for the amplitud less tah three times the error\n",
    "                    Gaus.append(models.Gaussian1D(amplitude=0,mean=ListLines['LAMBDA VAC ANG'][x],stddev=0))\n",
    "                if ampMax <=0:\n",
    "                    print \"amplitud menor a cero\"\n",
    "                    #nans = nans + 1\n",
    "                print \"lines = \", nLines\n",
    "        condit = False  #   esto es mejor quitarlo\n",
    "    sum_Gaussian=Gaus[0]\n",
    "    for ooasia in range(1,len(Gaus)):\n",
    "            #  sum of all the models respective to all the wavelenghts \n",
    "        sum_Gaussian=sum_Gaussian + Gaus[ooasia]\n",
    "    sum_Ga2=Gaus[0]+Gaus[1]      #   only two models of the [o II]3726-29 lines\n",
    "    gaussian_fit = f1(sum_Gaussian, lambd, ListGal[i]-spec, maxiter=iterr)\n",
    "    gaussian_fit2 = f1(sum_Ga2, lambd, ListGal[i]-spec, maxiter=iterr) \n",
    "    Graph=[]\n",
    "    Graph.append(gaussian_fit)   \n",
    "    Graph.append(gaussian_fit2)\n",
    "    return Graph, lineP     ##  return the fitting to both models and line profiles wavelenghts"
   ]
  },
  {
   "cell_type": "code",
   "execution_count": 35,
   "metadata": {
    "collapsed": true
   },
   "outputs": [],
   "source": [
    "#   obtain the continuum of the spectrum given a the observed spectrum : spec, wavelenght : lambd, and\n",
    "#   a parameter of how variable is the continuum : ppend) \n",
    "\n",
    "def r(spec,lambd, ppend):\n",
    "    for b in range(0,len(spec)-1,1):\n",
    "        pend=(spec[b+1]-spec[b])/(lambd[b+1]-lambd[b])\n",
    "        \n",
    "        cont = 0\n",
    "        m=spec[0]\n",
    "        if b>0:\n",
    "            m= np.mean(spec[0:b])\n",
    "        if b>=30:\n",
    "            m= np.mean(spec[b-30:b-20])\n",
    "#        if (np.fabs(pend)<1):\n",
    "#            specSN.append(spec[b])\n",
    "#            lambdSN.append(lambd[b])\n",
    "        while (np.fabs(pend)>ppend):\n",
    "            cont = cont +1\n",
    "            if spec[b]>m:\n",
    "                if (spec[b]<spec[b+1]):\n",
    "                    spec[b+1]=(spec[b+1]+ spec[b])/2 \n",
    "                else:\n",
    "                    spec[b]=(spec[b+1]+ spec[b])/2     \n",
    "            if spec[b]<=m:\n",
    "                if (spec[b]<spec[b+1]):\n",
    "                    spec[b]=(spec[b+1]+ spec[b])/2  \n",
    "                else:\n",
    "                    spec[b+1]=(spec[b+1]+ spec[b])/2   \n",
    "            pend=(spec[b+1]-spec[b])/(lambd[b+1]-lambd[b])\n",
    "\n",
    "    f=len(spec)\n",
    "    for b in range(1,len(spec)-1,1):\n",
    "        v=f-b\n",
    "        pend=(spec[v-1]-spec[v])/(lambd[v-1]-lambd[v])\n",
    "        m=spec[f-1]\n",
    "        if v<(f-1):\n",
    "            m= np.mean(spec[v:f-1])\n",
    "        if v<(f-30):\n",
    "            m= np.mean(spec[v+20:v+30])\n",
    "        while (np.fabs(pend)>ppend/2):\n",
    "            if spec[v]>m:\n",
    "                if (spec[v]<spec[v-1]):\n",
    "                    spec[v-1]=(spec[v-1]+ spec[v])/2    \n",
    "                else:\n",
    "                    spec[v]=(spec[v-1]+ spec[v])/2    \n",
    "            if spec[v]<=m:\n",
    "                if (spec[v]<spec[v-1]):\n",
    "                    spec[v]=(spec[v-1]+ spec[v])/2 \n",
    "                else:\n",
    "                    spec[v-1]=(spec[v-1]+ spec[v])/2  \n",
    "            pend=(spec[v-1]-spec[v])/(lambd[v-1]-lambd[v])\n",
    "    return spec,lambd"
   ]
  },
  {
   "cell_type": "code",
   "execution_count": 58,
   "metadata": {
    "collapsed": false
   },
   "outputs": [
    {
     "data": {
      "text/html": [
       "&lt;Table masked=False length=1&gt;\n",
       "<table id=\"table176231312\">\n",
       "<thead><tr><th>ObjID</th><th>ra</th><th>dec</th><th>z</th><th>isFits</th><th>Temp_1 [OIII]</th><th>Den_1 [SII]</th><th>Temp_2 [NII]</th><th>Den_2 [OII]</th><th>Temp_3 [NII]</th><th>Den_3 [SII]</th><th>Temp_4 [OIII]</th><th>Den_4 [OII]</th></tr></thead>\n",
       "<thead><tr><th></th><th></th><th></th><th></th><th></th><th>K</th><th>1 / cm3</th><th>K</th><th>1 / cm3</th><th>K</th><th>1 / cm3</th><th>K</th><th>1 / cm3</th></tr></thead>\n",
       "<thead><tr><th>string48</th><th>float64</th><th>float64</th><th>float64</th><th>int64</th><th>float64</th><th>float64</th><th>float64</th><th>float64</th><th>float64</th><th>float64</th><th>float64</th><th>float64</th></tr></thead>\n",
       "<tr><td>Mrk477</td><td>220.158737183</td><td>53.50440979</td><td>0.0377259999514</td><td>1</td><td>0.0</td><td>0.0</td><td>0.0</td><td>0.0</td><td>0.0</td><td>0.0</td><td>0.0</td><td>0.0</td></tr>\n",
       "</table>"
      ],
      "text/plain": [
       "<Table masked=False length=1>\n",
       " ObjID         ra          dec     ... Den_3 [SII] Temp_4 [OIII] Den_4 [OII]\n",
       "                                   ...   1 / cm3         K         1 / cm3  \n",
       "string48    float64      float64   ...   float64      float64      float64  \n",
       "-------- ------------- ----------- ... ----------- ------------- -----------\n",
       "  Mrk477 220.158737183 53.50440979 ...         0.0           0.0         0.0"
      ]
     },
     "execution_count": 58,
     "metadata": {},
     "output_type": "execute_result"
    }
   ],
   "source": [
    "#   a table resultListDT relates the name of the objects and the resulting temoerature and density\n",
    "#   for the four couples of species\n",
    "\n",
    "resultListDT=Table.read('resultListDT.tbl', format='ascii')\n",
    "ion = [' [OIII]', ' [SII]', ' [NII]', ' [OII]', ' [NII]', ' [SII]', ' [OIII]', ' [OII]']\n",
    "for i in range(1,5):\n",
    "    colT= Column(name='Temp_'+str(i)+ion[2*(i-1)], length=len(resultListDT),unit=u.K)\n",
    "    colD= Column(name='Den_'+str(i)+ion[2*(i-1)+1], length=len(resultListDT),unit=1 / (u.cm**3))\n",
    "    resultListDT.add_columns([colT,colD])\n",
    "resultListDT"
   ]
  },
  {
   "cell_type": "code",
   "execution_count": 59,
   "metadata": {
    "collapsed": false
   },
   "outputs": [
    {
     "name": "stdout",
     "output_type": "stream",
     "text": [
      "Objeto: Mrk477\n",
      "lines =  2\n",
      "lines =  2\n",
      "lines =  1\n",
      "lines =  1\n",
      "lines =  1\n",
      "lines =  1\n",
      "lines =  1\n",
      "lines =  1\n",
      "lines =  1\n",
      "lines =  1\n",
      "lines =  1\n",
      "lines =  1\n",
      "lines =  1\n",
      "lines =  1\n",
      "lines =  1\n"
     ]
    },
    {
     "data": {
      "text/plain": [
       "[<Table masked=False length=15>\n",
       "   Amplitude      Wavelength      Sigma     Lambda Vac Element    Flux  Flux_Err\n",
       "    float64        float64       float64     float64   string64 float64 float64 \n",
       " -------------- ------------- ------------- ---------- -------- ------- --------\n",
       "  3349.46230342 3728.88909504 3.32823994103   3727.092   [O II]     0.0      0.0\n",
       " -1278.83079089 3731.93162738 2.15489820804   3729.875   [O II]     0.0      0.0\n",
       "  597.589604363 4341.44998505 2.43488028054   4341.684      H I     0.0      0.0\n",
       "  276.923076854 4364.41945458 3.16113127423   4364.436  [O III]     0.0      0.0\n",
       "  1217.60775622 4862.52720552 2.71632551577   4862.683      H I     0.0      0.0\n",
       "  2665.28560137 5007.91534758 6.81266300165   4932.603  [O III]     0.0      0.0\n",
       "   3965.3827849  4960.2154519 3.01363429465   4960.295  [O III]     0.0      0.0\n",
       "  9851.74189183 5008.18049199  2.2317816197    5008.24  [O III]     0.0      0.0\n",
       "  22.4065776605 5756.20497067 3.21873076391    5756.24   [N II]     0.0      0.0\n",
       "  672.562929469 6563.99862515 15.0507871304    6529.04   [N II]     0.0      0.0\n",
       "  236.556978133 6549.73554633 2.03185792952    6549.85   [N II]     0.0      0.0\n",
       "  3164.87518725 6564.48668286 2.82065081772    6564.61      H I     0.0      0.0\n",
       "  1107.36313918 6585.42861533  2.7819346052    6585.28   [N II]     0.0      0.0\n",
       "  668.296366031 6718.31074152 3.40111400759    6718.29   [S II]     0.0      0.0\n",
       "  709.923831103 6732.50701763 3.40029078431    6732.67   [S II]     0.0      0.0]"
      ]
     },
     "execution_count": 59,
     "metadata": {},
     "output_type": "execute_result"
    }
   ],
   "source": [
    "#   Obtain the lists Spectra, Headers, spectrum variance of the intensity according with a list of galaxy names\n",
    "#   and a Table Tabla of models for each line for all the spectra\n",
    "\n",
    "Headers = []\n",
    "Spectra = []\n",
    "Lambda = []\n",
    "Modelos=[]\n",
    "Tablas=[]\n",
    "HDUs=[]\n",
    "TypeFITS=[]\n",
    "SpectraIvar = []\n",
    "paramCont=0.04\n",
    "typeFITS =0\n",
    "for x in range(len(resultListDT['ObjID'])):\n",
    "    name = resultListDT['ObjID'][x]\n",
    "    z=resultListDT['z'][x]\n",
    "    isFits = resultListDT['isFits'][x]\n",
    "    if isFits:\n",
    "        hdulist = fits.open(name+'.fits')\n",
    "        head= hdulist[0].header\n",
    "        typeFITS=0\n",
    "        if head['NAXIS'] == 0:\n",
    "            total= hdulist[1].data\n",
    "        elif head['NAXIS'] == 1:\n",
    "            typeFITS=1\n",
    "        if typeFITS==0:\n",
    "            spectraFlux = total['flux']\n",
    "            spectraIvar = total['ivar']\n",
    "            linlam=np.exp(total['loglam']*np.log(10))          #  ocultar para leer desde archivo\n",
    "            lambd = linlam/(1+z)\n",
    "        else:\n",
    "            spectraFlux = hdulist[0].data #*(1e-19)\n",
    "            spectraIvar = spectraFlux*0\n",
    "            if 'CDELT1' in head:\n",
    "                lambd = np.linspace(head['CRVAL1'], head['CRVAL1']+head['CDELT1']*(len(spectraFlux)-1), len(spectraFlux))\n",
    "            elif 'W0' in head:\n",
    "                lambd = np.linspace(head['W0'], head['W0']+head['WPC']*(len(spectraFlux)-1), len(spectraFlux))\n",
    "            else:\n",
    "                print \"No se reconoce el formato del archivo FITS\"\n",
    "                break\n",
    "            lambd = lambd/(1+z)\n",
    "    else:\n",
    "        specTable = Table.read(str(name)+'.txt', format='ascii')\n",
    "        spectraFlux = specTable['Intensity'].data #.tolist()\n",
    "        spectraIvar = spectraFlux*0\n",
    "        lambd = specTable['Spectral-axis'].data #.tolist()\n",
    "        lambd = lambd/(1+z)\n",
    "    orderU = 10**(int(mt.log(np.mean(spectraFlux), 10))-1)\n",
    "#    scaleFactor = 10**(-int(mt.log(np.mean(spectraFlux), 10))+1)\n",
    "#    spectraFlux=spectraFlux*scaleFactor\n",
    "    \n",
    "    SpectraIvar.append(spectraIvar)\n",
    "    TypeFITS.append(typeFITS)\n",
    "    Lambda.append(lambd)\n",
    "#    HDUs.append(hdulist)\n",
    "#    Headers.append(head)   #Datos de la cabecera del archivo .fits\n",
    "    Spectra.append(spectraFlux)\n",
    "    print \"Objeto: \" + name\n",
    "    spec =np.array(spectraFlux)\n",
    "    spec2, lambd = r(spec, lambd, paramCont*orderU)    \n",
    "    LS=np.zeros([15,7])\n",
    "    limResolucion = mt.ceil(lambd[1]-lambd[0])\n",
    "    \n",
    "# ..............    \n",
    "    \n",
    "    if lambd[0] > 3720.0 :\n",
    "        print 'No esta en la region del espectro deseada, se realiza solo a las lineas principales'\n",
    "        ListaLineas=Table.read('LinesPrincipal.txt', format='ascii')\n",
    "        LS=np.zeros([13,7])\n",
    "        ModelG1, lineProf = finalFit(x, spec2, lambd,ListaLineas,Spectra, spectraIvar,2000, limResolucion)\n",
    "#        ModelL1 = fit2(x, spec2, lambd,ListaLineas,Spectra,2500)\n",
    "    else:\n",
    "        ListaLineas=Table.read('LinesAll.txt', format='ascii')\n",
    "        ModelG1, lineProf = finalFit(x, spec2, lambd,ListaLineas,Spectra, spectraIvar,2000, limResolucion)\n",
    "#        ModelL1 = fit2(x, spec2, lambd,ListaLineas,Spectra,2500)\n",
    "    \n",
    "    Tabla=Table(LS,names=('Amplitude','Wavelength','Sigma','Lambda Vac','Element','Flux','Flux_Err'),\n",
    "                dtype=('f8','f8','f8','f8','S8','f8','f8'))\n",
    "    Tabla['Lambda Vac']=ListaLineas['LAMBDA VAC ANG']\n",
    "    Tabla['Element']=ListaLineas['SPECTRUM']\n",
    "    AA=split_list(ModelG1[0].parameters, wanted_parts=len(ListaLineas))\n",
    "    AAA=split_list(ModelG1[1].parameters, wanted_parts=2)\n",
    "#    AA=split_list(ModelL1[0].parameters, wanted_parts=len(ListaLineas))\n",
    "#    AAA=split_list(ModelL1[1].parameters, wanted_parts=2)\n",
    "    for ii in range(len(ListaLineas)):\n",
    "        if AA[ii][2]<0:\n",
    "            Tabla['Amplitude'][ii],Tabla['Wavelength'][ii],Tabla['Sigma'][ii]=np.array([AA[ii][0], AA[ii][1], mt.fabs(AA[ii][2])])\n",
    "        else:\n",
    "            Tabla['Amplitude'][ii],Tabla['Wavelength'][ii],Tabla['Sigma'][ii]=AA[ii]\n",
    "        if ii==0 or ii==1:\n",
    "            if AAA[ii][2]<0:\n",
    "                Tabla['Amplitude'][ii],Tabla['Wavelength'][ii],Tabla['Sigma'][ii]=np.array([AAA[ii][0], AAA[ii][1], mt.fabs(AAA[ii][2])])\n",
    "            else:\n",
    "                Tabla['Amplitude'][ii],Tabla['Wavelength'][ii],Tabla['Sigma'][ii]=AAA[ii]\n",
    "    Modelos.append(ModelG1)\n",
    "#    Modelos.append(ModelL1)\n",
    "    Tablas.append(Tabla)\n",
    "Tablas"
   ]
  },
  {
   "cell_type": "code",
   "execution_count": 36,
   "metadata": {
    "collapsed": false,
    "scrolled": true
   },
   "outputs": [
    {
     "name": "stdout",
     "output_type": "stream",
     "text": [
      "Using matplotlib backend: Qt4Agg\n",
      "Line Wavelgt :  3727.092 . Equivalent Width  205.849511539\n",
      "Line Wavelgt :  3729.875 . Equivalent Width  205.849511539\n",
      "Line Wavelgt :  4341.684 . Equivalent Width  64.2707\n",
      "Line Wavelgt :  4364.436 . Equivalent Width  50.1315160803\n",
      "Line Wavelgt :  4862.683 . Equivalent Width  128.026\n",
      "Line Wavelgt :  4932.603 . Equivalent Width  380.959\n",
      "Line Wavelgt :  4960.295 . Equivalent Width  380.959\n",
      "Line Wavelgt :  5008.24 . Equivalent Width  1073.85\n",
      "Line Wavelgt :  5756.24 . Equivalent Width  4.74787223939\n",
      "Line Wavelgt :  6529.04 . Equivalent Width  419.965955145\n",
      "Line Wavelgt :  6549.85 . Equivalent Width  40.6417373251\n",
      "Line Wavelgt :  6564.61 . Equivalent Width  419.965955145\n",
      "Line Wavelgt :  6585.28 . Equivalent Width  178.262026524\n",
      "Line Wavelgt :  6718.29 . Equivalent Width  101.765524523\n",
      "Line Wavelgt :  6732.67 . Equivalent Width  96.8608\n"
     ]
    }
   ],
   "source": [
    "#   The plot of relative intensity and continuum emission for the galaxy index jj and the wavelenght of all the lines\n",
    "\n",
    "jj=0\n",
    "orderU = 10**(int(mt.log(np.mean(spectraFlux), 10))-1)\n",
    "\n",
    "spec =np.array(spectraFlux)\n",
    "spec2, lambd = r(spec, lambd, 0.004*orderU) # este parámetro de 0.004 puede ser igual para todas las galaxias\n",
    "                                      #  pero seria bueno iterar sobre este valor para tener mejores continuos\n",
    "                                      #  o tal vez tomar tres o maś regiones del espectro observado y calcular spec\n",
    "                                    #  para diferentes parámetros de 0.1 a 0.001\n",
    "        \n",
    "        \n",
    "%matplotlib\n",
    "spe = []\n",
    "speCont = []\n",
    "for xind in range(len(spectraFlux)):\n",
    "    spe.append((spectraFlux[xind])/(spec2[xind]))\n",
    "    speCont.append((spec2[xind])/(spec2[xind]))\n",
    "for i in range(len(Tablas[jj])):\n",
    "    plt.axvline(x=Tablas[jj]['Lambda Vac'][i],c='dimgrey',lw=0.8,ls='--')\n",
    "    plt.text(Tablas[jj]['Lambda Vac'][i] + 0.5, Tablas[jj]['Amplitude'][i] * 1.2,Tablas[jj]['Element'][i])\n",
    "\n",
    "plt.plot(lambd, spe, c='k', lw=0.5, label='normalized data')\n",
    "plt.plot(lambd, speCont, lw=2, label='normalized continuum')\n",
    "\n",
    "#  una vez normalizado el espectro observado a la medida del contínuo se integra por el método de Simpson\n",
    "for iLineProf in range(len(lineProf)):\n",
    "    sInteg = simps(y=spe[lineProf['inf'][iLineProf]:lineProf['sup'][iLineProf]], x=lambd[lineProf['inf'][iLineProf]:lineProf['sup'][iLineProf]], even='avg')\n",
    "    print \"Line Wavelgt : \", ListaLineas['LAMBDA VAC ANG'][iLineProf], \". Equivalent Width \", sInteg \n"
   ]
  },
  {
   "cell_type": "code",
   "execution_count": 60,
   "metadata": {
    "collapsed": false,
    "scrolled": false
   },
   "outputs": [
    {
     "name": "stdout",
     "output_type": "stream",
     "text": [
      "Using matplotlib backend: Qt4Agg\n"
     ]
    }
   ],
   "source": [
    "#   plot of the galaxy with index jj observed with respect to the continuum in zero. Two models for the lines required \n",
    "\n",
    "%matplotlib\n",
    "jj=0\n",
    "if isFits:\n",
    "    if TypeFITS == 0:\n",
    "        print HDUs[jj][0].header['FLAVOR']\n",
    "        print HDUs[jj][0].header['QUALITY']\n",
    "        print HDUs[jj][0].header['FBADPIX'] ## %%Malos Pixeles\n",
    "        print HDUs[jj][2].data['SN_MEDIAN_ALL']\n",
    "        print HDUs[jj][2].data['SN_MEDIAN']\n",
    "\n",
    "lambd=Lambda[jj]\n",
    "\n",
    "plt.figure(figsize=(16, 9))\n",
    "plt.title('Spectrum Galaxy '+ resultListDT['ObjID'][jj])\n",
    "plt.xlabel(r'Wavelength (Angstroms $\\AA$) ')\n",
    "if TypeFITS == 0:\n",
    "    plt.ylabel(r'$f_{\\lambda}$ ('+str(head['BUNIT'])+')')\n",
    "else:\n",
    "    plt.ylabel(r'$f_{\\lambda}$')\n",
    "\n",
    "plt.errorbar(lambd,Spectra[jj]-spec2,SpectraIvar[jj],  c='k',lw=2,label='Data')   #Flujo en negro\n",
    "#plt.errorbar(lambd,Spectra[jj] ,SpectraIvar[jj],  c='k',lw=2,label='Data')   #Flujo en negro\n",
    "#plt.plot(lambd, spec2, lw=2, label='reducedSpectra')\n",
    "plt.plot(lambd, Modelos[jj][1](lambd), c='midnightblue', lw=2, label='Model')\n",
    "plt.plot(lambd, Modelos[jj][0](lambd), c='yellow', lw=1, label='Model')\n",
    "#plt.plot(lambd, spec2, lw=2, label='reducedSpectra')\n",
    "\n",
    "plt.legend()\n",
    "\n",
    "x=np.linspace(lambd[0],lambd[-1],len(lambd))\n",
    "#eqWidth[]\n",
    "for i in range(len(Tablas[jj])):\n",
    "#    eqw = quad(gaussian,Tablas[jj][i]['Wavelength']-3*Tablas[jj][i]['Sigma'],Tablas[jj][i]['Wavelength']+3*Tablas[jj][i]['Sigma'],args=(Tablas[jj][i]['Amplitude'],Tablas[jj][i]['Wavelength'],Tablas[jj][i]['Sigma']))\n",
    "#    Tablas[jj]['Flux'][i],Tablas[jj]['Flux_Err'][i]=quad(gaussian,Tablas[jj][i]['Wavelength']-3*Tablas[jj][i]['Sigma'],Tablas[jj][i]['Wavelength']+3*Tablas[jj][i]['Sigma'],args=(Tablas[jj][i]['Amplitude'],Tablas[jj][i]['Wavelength'],Tablas[jj][i]['Sigma']))\n",
    "#    Tablas[jj]['Flux'][i],Tablas[jj]['Flux_Err'][i]=quad(lorentzFunc,Tablas[jj][i]['Wavelength']-3*Tablas[jj][i]['Sigma'],Tablas[jj][i]['Wavelength']+3*Tablas[jj][i]['Sigma'],args=(Tablas[jj][i]['Amplitude'],Tablas[jj][i]['Wavelength'],Tablas[jj][i]['Sigma']))\n",
    "    plt.axvline(x=Tablas[jj]['Lambda Vac'][i],c='dimgrey',lw=1.2,ls='--')\n",
    "    plt.text(Tablas[jj]['Lambda Vac'][i] + 0.5, Tablas[jj]['Amplitude'][i] * 1.2,Tablas[jj]['Element'][i])\n",
    "    if Tablas[jj]['Element'][i] == 'H I':\n",
    "        plt.plot(x,gaussian(x,Tablas[jj][i]['Amplitude'],Tablas[jj][i]['Wavelength'],Tablas[jj][i]['Sigma']), c='DeepPink')\n",
    "##        plt.plot(x,lorentzFunc(x,Tablas[jj][i]['Amplitude'],Tablas[jj][i]['Sigma'], Tablas[jj][i]['Wavelength']), c='DeepPink')\n",
    "    else:\n",
    "        if Tablas[jj][i]['Sigma']!=0:\n",
    "            plt.plot(x,gaussian(x,Tablas[jj][i]['Amplitude'],Tablas[jj][i]['Wavelength'],Tablas[jj][i]['Sigma']) , c='Lime')\n",
    "##            plt.plot(x,lorentzFunc(x,Tablas[jj][i]['Amplitude'],Tablas[jj][i]['Sigma'],Tablas[jj][i]['Wavelength']) , c='Lime')\n",
    "#Tablas[jj]\n"
   ]
  },
  {
   "cell_type": "code",
   "execution_count": 61,
   "metadata": {
    "collapsed": false
   },
   "outputs": [
    {
     "data": {
      "text/html": [
       "&lt;Table masked=False length=15&gt;\n",
       "<table id=\"table81540688\">\n",
       "<thead><tr><th>Amplitude</th><th>Wavelength</th><th>Sigma</th><th>Lambda Vac</th><th>Element</th><th>Flux</th><th>Flux_Err</th></tr></thead>\n",
       "<thead><tr><th>float64</th><th>float64</th><th>float64</th><th>float64</th><th>string64</th><th>float64</th><th>float64</th></tr></thead>\n",
       "<tr><td>3349.46230342</td><td>3728.88909504</td><td>3.32823994103</td><td>3727.092</td><td>[O II]</td><td>27867.9847698</td><td>3.093967825e-10</td></tr>\n",
       "<tr><td>-1278.83079089</td><td>3731.93162738</td><td>2.15489820804</td><td>3729.875</td><td>[O II]</td><td>0.0</td><td>0.0</td></tr>\n",
       "<tr><td>597.589604363</td><td>4341.44998505</td><td>2.43488028054</td><td>4341.684</td><td>H I</td><td>3637.44544478</td><td>4.03837566686e-11</td></tr>\n",
       "<tr><td>276.923076854</td><td>4364.41945458</td><td>3.16113127423</td><td>4364.436</td><td>[O III]</td><td>2188.35372102</td><td>2.42956067591e-11</td></tr>\n",
       "<tr><td>1217.60775622</td><td>4862.52720552</td><td>2.71632551577</td><td>4862.683</td><td>H I</td><td>8268.08744427</td><td>9.17942102538e-11</td></tr>\n",
       "<tr><td>2665.28560137</td><td>5007.91534758</td><td>6.81266300165</td><td>4932.603</td><td>[O III]</td><td>45391.7055872</td><td>5.03949167119e-10</td></tr>\n",
       "<tr><td>3965.3827849</td><td>4960.2154519</td><td>3.01363429465</td><td>4960.295</td><td>[O III]</td><td>29873.8714796</td><td>3.31666600434e-10</td></tr>\n",
       "<tr><td>9851.74189183</td><td>5008.18049199</td><td>2.2317816197</td><td>5008.24</td><td>[O III]</td><td>54964.2825765</td><td>6.10226119635e-10</td></tr>\n",
       "<tr><td>22.4065776605</td><td>5756.20497067</td><td>3.21873076391</td><td>5756.24</td><td>[N II]</td><td>180.291819321</td><td>2.00164128436e-12</td></tr>\n",
       "<tr><td>672.562929469</td><td>6563.99862515</td><td>15.0507871304</td><td>6529.04</td><td>[N II]</td><td>25305.0955478</td><td>2.80942998032e-10</td></tr>\n",
       "<tr><td>236.556978133</td><td>6549.73554633</td><td>2.03185792952</td><td>6549.85</td><td>[N II]</td><td>1201.55856601</td><td>1.33399799453e-11</td></tr>\n",
       "<tr><td>3164.87518725</td><td>6564.48668286</td><td>2.82065081772</td><td>6564.61</td><td>H I</td><td>22316.2776216</td><td>2.47760451044e-10</td></tr>\n",
       "<tr><td>1107.36313918</td><td>6585.42861533</td><td>2.7819346052</td><td>6585.28</td><td>[N II]</td><td>7701.10104803</td><td>8.54993966251e-11</td></tr>\n",
       "<tr><td>668.296366031</td><td>6718.31074152</td><td>3.40111400759</td><td>6718.29</td><td>[S II]</td><td>5682.06413778</td><td>6.30835843632e-11</td></tr>\n",
       "<tr><td>709.923831103</td><td>6732.50701763</td><td>3.40029078431</td><td>6732.67</td><td>[S II]</td><td>6034.53284567</td><td>6.69967727129e-11</td></tr>\n",
       "</table>"
      ],
      "text/plain": [
       "<Table masked=False length=15>\n",
       "  Amplitude      Wavelength      Sigma     ...      Flux          Flux_Err    \n",
       "   float64        float64       float64    ...    float64         float64     \n",
       "-------------- ------------- ------------- ... ------------- -----------------\n",
       " 3349.46230342 3728.88909504 3.32823994103 ... 27867.9847698   3.093967825e-10\n",
       "-1278.83079089 3731.93162738 2.15489820804 ...           0.0               0.0\n",
       " 597.589604363 4341.44998505 2.43488028054 ... 3637.44544478 4.03837566686e-11\n",
       " 276.923076854 4364.41945458 3.16113127423 ... 2188.35372102 2.42956067591e-11\n",
       " 1217.60775622 4862.52720552 2.71632551577 ... 8268.08744427 9.17942102538e-11\n",
       " 2665.28560137 5007.91534758 6.81266300165 ... 45391.7055872 5.03949167119e-10\n",
       "  3965.3827849  4960.2154519 3.01363429465 ... 29873.8714796 3.31666600434e-10\n",
       " 9851.74189183 5008.18049199  2.2317816197 ... 54964.2825765 6.10226119635e-10\n",
       " 22.4065776605 5756.20497067 3.21873076391 ... 180.291819321 2.00164128436e-12\n",
       " 672.562929469 6563.99862515 15.0507871304 ... 25305.0955478 2.80942998032e-10\n",
       " 236.556978133 6549.73554633 2.03185792952 ... 1201.55856601 1.33399799453e-11\n",
       " 3164.87518725 6564.48668286 2.82065081772 ... 22316.2776216 2.47760451044e-10\n",
       " 1107.36313918 6585.42861533  2.7819346052 ... 7701.10104803 8.54993966251e-11\n",
       " 668.296366031 6718.31074152 3.40111400759 ... 5682.06413778 6.30835843632e-11\n",
       " 709.923831103 6732.50701763 3.40029078431 ... 6034.53284567 6.69967727129e-11"
      ]
     },
     "execution_count": 61,
     "metadata": {},
     "output_type": "execute_result"
    }
   ],
   "source": [
    "#   Flux determination for each model in galaxy list\n",
    "\n",
    "for jj in range(len(resultListDT)):\n",
    "    for i in range(len(Tablas[jj])):\n",
    "        if Tablas[jj][i]['Amplitude']<=0:\n",
    "            Tablas[jj]['Flux'][i],Tablas[jj]['Flux_Err'][i]= 0,0\n",
    "        else:\n",
    "            Tablas[jj]['Flux'][i],Tablas[jj]['Flux_Err'][i]=quad(gaussian,Tablas[jj][i]['Wavelength']-3*Tablas[jj][i]['Sigma'],Tablas[jj][i]['Wavelength']+3*Tablas[jj][i]['Sigma'],args=(Tablas[jj][i]['Amplitude'],Tablas[jj][i]['Wavelength'],Tablas[jj][i]['Sigma']))\n",
    "    #    Tablas[jj]['Flux'][i],Tablas[jj]['Flux_Err'][i]=quad(lorentzFunc,Tablas[jj][i]['Wavelength']-3*Tablas[jj][i]['Sigma'],Tablas[jj][i]['Wavelength']+3*Tablas[jj][i]['Sigma'],args=(Tablas[jj][i]['Amplitude'],Tablas[jj][i]['Wavelength'],Tablas[jj][i]['Sigma']))\n",
    "#        plt.axvline(x=Tablas[jj]['Lambda Vac'][i],c='dimgrey',lw=1.2,ls='--')\n",
    "#        plt.text(Tablas[jj]['Lambda Vac'][i] + 0.5, Tablas[jj]['Amplitude'][i] * 1.2,Tablas[jj]['Element'][i])\n",
    "#        if Tablas[jj]['Element'][i] == 'H I':\n",
    "#            plt.plot(x,gaussian(x,Tablas[jj][i]['Amplitude'],Tablas[jj][i]['Wavelength'],Tablas[jj][i]['Sigma']), c='DeepPink')\n",
    "    #        plt.plot(x,lorentzFunc(x,Tablas[jj][i]['Amplitude'],Tablas[jj][i]['Sigma'], Tablas[jj][i]['Wavelength']), c='DeepPink')\n",
    "#        else:\n",
    "#            if Tablas[jj][i]['Sigma']!=0:\n",
    "#                plt.plot(x,gaussian(x,Tablas[jj][i]['Amplitude'],Tablas[jj][i]['Wavelength'],Tablas[jj][i]['Sigma']) , c='Lime')\n",
    "    #        plt.plot(x,lorentzFunc(x,Tablas[jj][i]['Amplitude'],Tablas[jj][i]['Sigma'],Tablas[jj][i]['Wavelength']) , c='Lime')\n",
    "    Tablas[jj].write('Tabla'+str(resultListDT['ObjID'][jj])+'.tbl',format='ascii')\n",
    "Tablas[0]\n"
   ]
  },
  {
   "cell_type": "code",
   "execution_count": 19,
   "metadata": {
    "collapsed": false
   },
   "outputs": [
    {
     "name": "stdout",
     "output_type": "stream",
     "text": [
      "Using matplotlib backend: Qt4Agg\n"
     ]
    },
    {
     "data": {
      "text/plain": [
       "[<matplotlib.lines.Line2D at 0x7084d90>]"
      ]
     },
     "execution_count": 19,
     "metadata": {},
     "output_type": "execute_result"
    }
   ],
   "source": [
    "%matplotlib\n",
    "kaksj = Modelos[jj][1](lambd)\n",
    "lalskal = Modelos[jj][0](lambd)\n",
    "specModel = spec+lalskal\n",
    "plt.errorbar(lambd,Spectra[jj] ,SpectraIvar[jj],  c='k',lw=2,label='Data')   #Flujo en negro\n",
    "plt.plot(lambd, specModel, lw=2, label='reducedSpectra')"
   ]
  },
  {
   "cell_type": "code",
   "execution_count": 20,
   "metadata": {
    "collapsed": false
   },
   "outputs": [
    {
     "name": "stdout",
     "output_type": "stream",
     "text": [
      "Using matplotlib backend: Qt4Agg\n"
     ]
    },
    {
     "name": "stderr",
     "output_type": "stream",
     "text": [
      "/usr/lib64/python2.7/site-packages/matplotlib/axes/_axes.py:476: UserWarning: No labelled objects found. Use label='...' kwarg on individual plots.\n",
      "  warnings.warn(\"No labelled objects found. \"\n"
     ]
    }
   ],
   "source": [
    "%matplotlib\n",
    "\n",
    "plt.figure(figsize=(16, 9))\n",
    "for i in range(10):\n",
    "    B=[]\n",
    "    for j in range(len(Spectra[jj])):\n",
    "        bb=SpectraIvar[jj][j]*random.uniform(-3,3)\n",
    "        B.append(bb)\n",
    "    plt.plot(lambd,(Spectra[jj] +B),c='orange')\n",
    "plt.legend()"
   ]
  },
  {
   "cell_type": "code",
   "execution_count": 31,
   "metadata": {
    "collapsed": false
   },
   "outputs": [
    {
     "name": "stderr",
     "output_type": "stream",
     "text": [
      "/usr/lib/python2.7/site-packages/IPython/kernel/__main__.py:9: RuntimeWarning: divide by zero encountered in double_scalars\n",
      "/usr/lib/python2.7/site-packages/IPython/kernel/__main__.py:11: RuntimeWarning: divide by zero encountered in double_scalars\n",
      "/usr/lib/python2.7/site-packages/IPython/kernel/__main__.py:19: RuntimeWarning: divide by zero encountered in double_scalars\n",
      "/usr/lib/python2.7/site-packages/IPython/kernel/__main__.py:21: RuntimeWarning: divide by zero encountered in double_scalars\n"
     ]
    }
   ],
   "source": [
    "#   it obtains the electron density and temperature by the cross iterative method for all couple of given species.\n",
    "\n",
    "for jj in range(len(resultListDT)):\n",
    "    k=0\n",
    "    if lambd[0] > 3720.0 :\n",
    "        k=2\n",
    "    try:\n",
    "        a=diags.getCrossTemDen('[OIII] 4363/5007+', '[SII] 6731/6716', Tablas[jj]['Flux'][3-k]/(Tablas[jj]['Flux'][6-k]+Tablas[jj]['Flux'][7-k]), Tablas[jj]['Flux'][13-k]/Tablas[jj]['Flux'][14-k])\n",
    "        b=diags.getCrossTemDen('[NII] 5755/6584+', '[OII] 3726/3729', Tablas[jj]['Flux'][8-k]/(Tablas[jj]['Flux'][12-k]+Tablas[jj]['Flux'][10-k]), Tablas[jj]['Flux'][0-k]/Tablas[jj]['Flux'][1-k])\n",
    "        c=diags.getCrossTemDen('[NII] 5755/6584+', '[SII] 6731/6716', Tablas[jj]['Flux'][8-k]/(Tablas[jj]['Flux'][12-k]+Tablas[jj]['Flux'][10-k]), Tablas[jj]['Flux'][13-k]/Tablas[jj]['Flux'][14-k])\n",
    "        d=diags.getCrossTemDen('[OIII] 4363/5007+', '[OII] 3726/3729', Tablas[jj]['Flux'][3-k]/(Tablas[jj]['Flux'][6-k]+Tablas[jj]['Flux'][7-k]), Tablas[jj]['Flux'][0-k]/Tablas[jj]['Flux'][1-k])\n",
    "    except ValueError:\n",
    "        continue\n",
    "\n",
    "    for i in IntrinsicHB:\n",
    "        rc.setCorr((Tablas[jj]['Flux'][11-k]/Tablas[jj]['Flux'][4-k])/i, Tablas[jj]['Lambda Vac'][11-k], Tablas[jj]['Lambda Vac'][4-k])\n",
    "        try:\n",
    "            a2=diags.getCrossTemDen('[OIII] 4363/5007+', '[SII] 6731/6716',Tablas[jj]['Flux'][3-k]*rc.getCorrHb(Tablas[jj]['Lambda Vac'][3-k])/(Tablas[jj]['Flux'][6-k]*rc.getCorrHb(Tablas[jj]['Lambda Vac'][6-k])+ Tablas[jj]['Flux'][7-k]*rc.getCorrHb(Tablas[jj]['Lambda Vac'][7-k]) ), Tablas[jj]['Flux'][13-k] * rc.getCorrHb(Tablas[jj]['Lambda Vac'][13-k])/Tablas[jj]['Flux'][14-k] * rc.getCorrHb(Tablas[jj]['Lambda Vac'][14-k]))\n",
    "            b2=diags.getCrossTemDen('[NII] 5755/6584+', '[OII] 3726/3729', Tablas[jj]['Flux'][8-k]*rc.getCorrHb(Tablas[jj]['Lambda Vac'][8-k])/(Tablas[jj]['Flux'][12-k]*rc.getCorrHb(Tablas[jj]['Lambda Vac'][12-k])+Tablas[jj]['Flux'][10-k]*rc.getCorrHb(Tablas[jj]['Lambda Vac'][7-k])), Tablas[jj]['Flux'][0-k]*rc.getCorrHb(Tablas[jj]['Lambda Vac'][0-k])/Tablas[jj]['Flux'][1-k])*rc.getCorrHb(Tablas[jj]['Lambda Vac'][1-k])\n",
    "            c2=diags.getCrossTemDen('[NII] 5755/6584+', '[SII] 6731/6716', Tablas[jj]['Flux'][8-k]*rc.getCorrHb(Tablas[jj]['Lambda Vac'][8-k])/(Tablas[jj]['Flux'][12-k]*rc.getCorrHb(Tablas[jj]['Lambda Vac'][12-k])+Tablas[jj]['Flux'][10-k]*rc.getCorrHb(Tablas[jj]['Lambda Vac'][7-k])),Tablas[jj]['Flux'][13-k] * rc.getCorrHb(Tablas[jj]['Lambda Vac'][13-k])/Tablas[jj]['Flux'][14-k] * rc.getCorrHb(Tablas[jj]['Lambda Vac'][14-k]))\n",
    "            d2=diags.getCrossTemDen('[OIII] 4363/5007+', '[OII] 3726/3729',Tablas[jj]['Flux'][3-k]*rc.getCorrHb(Tablas[jj]['Lambda Vac'][3-k])/(Tablas[jj]['Flux'][6-k]*rc.getCorrHb(Tablas[jj]['Lambda Vac'][6-k])+ Tablas[jj]['Flux'][7-k]*rc.getCorrHb(Tablas[jj]['Lambda Vac'][7-k]) ), Tablas[jj]['Flux'][0-k]*rc.getCorrHb(Tablas[jj]['Lambda Vac'][0-k])/Tablas[jj]['Flux'][1-k])*rc.getCorrHb(Tablas[jj]['Lambda Vac'][1-k])\n",
    "        except ValueError:\n",
    "            continue\n",
    "        if b2 != () or d2 != ():\n",
    "            plt.scatter(b2[0], b2[1],c='c')\n",
    "            plt.scatter(d2[0], d2[1],c='c')\n",
    "        if i == 2.86:\n",
    "            resultListDT['Temp_1 [OIII]'][jj]=a2[0]\n",
    "            resultListDT['Den_1 [SII]'][jj]=a2[1]\n",
    "            resultListDT['Temp_3 [NII]'][jj]=c2[0]\n",
    "            resultListDT['Den_3 [SII]'][jj]=c2[1]\n",
    "            if b2 != () or d2 != ():\n",
    "                resultListDT['Temp_2 [NII]'][jj]=b2[0]\n",
    "                resultListDT['Den_2 [OII]'][jj]=b2[1] \n",
    "                resultListDT['Temp_4 [OIII]'][jj]=d2[0]\n",
    "                resultListDT['Den_4 [OII]'][jj]=d2[1]\n",
    "            if lambd[0] > 3720.0 :\n",
    "                resultListDT['Temp_2 [NII]'][jj]=0.0\n",
    "                resultListDT['Den_2 [OII]'][jj]=0.0\n",
    "                resultListDT['Temp_4 [OIII]'][jj]=0.0\n",
    "                resultListDT['Den_4 [OII]'][jj]=0.0\n",
    "    resultListDT.write('TemDenGalaxies'+str(resultListDT['ObjID'][jj])+'.tbl',format='ascii')\n",
    "    resultListDT\n"
   ]
  },
  {
   "cell_type": "code",
   "execution_count": 37,
   "metadata": {
    "collapsed": false
   },
   "outputs": [
    {
     "name": "stdout",
     "output_type": "stream",
     "text": [
      "  Amplitude      Wavelength      Sigma     ...      Flux          Flux_Err    \n",
      "-------------- ------------- ------------- ... ------------- -----------------\n",
      " 3349.46230342 3728.88909504 3.32823994103 ... 27867.9847698   3.093967825e-10\n",
      "-1278.83079089 3731.93162738 2.15489820804 ...           0.0               0.0\n",
      " 597.589604363 4341.44998505 2.43488028054 ... 3637.44544478 4.03837566686e-11\n",
      " 276.923076854 4364.41945458 3.16113127423 ... 2188.35372102 2.42956067591e-11\n",
      " 1217.60775622 4862.52720552 2.71632551577 ... 8268.08744427 9.17942102538e-11\n",
      " 2665.28560137 5007.91534758 6.81266300165 ... 45391.7055872 5.03949167119e-10\n",
      "  3965.3827849  4960.2154519 3.01363429465 ... 29873.8714796 3.31666600434e-10\n",
      " 9851.74189183 5008.18049199  2.2317816197 ... 54964.2825765 6.10226119635e-10\n",
      " 22.4065776605 5756.20497067 3.21873076391 ... 180.291819321 2.00164128436e-12\n",
      " 672.562929469 6563.99862515 15.0507871304 ... 25305.0955478 2.80942998032e-10\n",
      " 236.556978133 6549.73554633 2.03185792952 ... 1201.55856601 1.33399799453e-11\n",
      " 3164.87518725 6564.48668286 2.82065081772 ... 22316.2776216 2.47760451044e-10\n",
      " 1107.36313918 6585.42861533  2.7819346052 ... 7701.10104803 8.54993966251e-11\n",
      " 668.296366031 6718.31074152 3.40111400759 ... 5682.06413778 6.30835843632e-11\n",
      " 709.923831103 6732.50701763 3.40029078431 ... 6034.53284567 6.69967727129e-11\n"
     ]
    },
    {
     "data": {
      "text/html": [
       "&lt;Table masked=False length=1&gt;\n",
       "<table id=\"table134923984\">\n",
       "<thead><tr><th>ObjID</th><th>ra</th><th>dec</th><th>z</th><th>isFits</th><th>Temp_1 [OIII]</th><th>Den_1 [SII]</th><th>Temp_2 [NII]</th><th>Den_2 [OII]</th><th>Temp_3 [NII]</th><th>Den_3 [SII]</th><th>Temp_4 [OIII]</th><th>Den_4 [OII]</th></tr></thead>\n",
       "<thead><tr><th></th><th></th><th></th><th></th><th></th><th>K</th><th>1 / cm3</th><th>K</th><th>1 / cm3</th><th>K</th><th>1 / cm3</th><th>K</th><th>1 / cm3</th></tr></thead>\n",
       "<thead><tr><th>string48</th><th>float64</th><th>float64</th><th>float64</th><th>int64</th><th>float64</th><th>float64</th><th>float64</th><th>float64</th><th>float64</th><th>float64</th><th>float64</th><th>float64</th></tr></thead>\n",
       "<tr><td>Mrk477</td><td>220.158737183</td><td>53.50440979</td><td>0.0377259999514</td><td>1</td><td>19754.4849025</td><td>823.024353046</td><td>0.0</td><td>0.0</td><td>12959.3522829</td><td>698.60719779</td><td>0.0</td><td>0.0</td></tr>\n",
       "</table>"
      ],
      "text/plain": [
       "<Table masked=False length=1>\n",
       " ObjID         ra          dec     ... Den_3 [SII]  Temp_4 [OIII] Den_4 [OII]\n",
       "                                   ...   1 / cm3          K         1 / cm3  \n",
       "string48    float64      float64   ...   float64       float64      float64  \n",
       "-------- ------------- ----------- ... ------------ ------------- -----------\n",
       "  Mrk477 220.158737183 53.50440979 ... 698.60719779           0.0         0.0"
      ]
     },
     "execution_count": 37,
     "metadata": {},
     "output_type": "execute_result"
    }
   ],
   "source": [
    "print Tablas[0]\n",
    "\n",
    "resultListDT"
   ]
  },
  {
   "cell_type": "code",
   "execution_count": 15,
   "metadata": {
    "collapsed": false
   },
   "outputs": [],
   "source": [
    "#   a function that obtain the slope and the intersection given two points within it\n",
    "\n",
    "def linModel(x0, y0, x1, y1):\n",
    "    m=(y1-y0)/(x1-x0)\n",
    "    b=y1-m*x1\n",
    "    return m, b"
   ]
  },
  {
   "cell_type": "code",
   "execution_count": 24,
   "metadata": {
    "collapsed": true
   },
   "outputs": [],
   "source": [
    "#   linear function with an np.array : x, a slope : a and intersection : c \n",
    "\n",
    "def lines(x, a, c):\n",
    "    return a*x + c"
   ]
  },
  {
   "cell_type": "code",
   "execution_count": 25,
   "metadata": {
    "collapsed": false
   },
   "outputs": [],
   "source": [
    "#   a line that joins two points in the feet of the line profile in lineProf\n",
    "\n",
    "#   Esto puede ser util para hacer una linea recta alrededor del perfil de la linea y para tener una mejor \n",
    "#   integral sobre este perfil.\n",
    "\n",
    "lineProf\n",
    "m1, b1 = linModel( lambd[lineProf[0]['inf']] , spec2[lineProf[0]['inf']] , lambd[lineProf[0]['sup']], spec2[lineProf[0]['sup']])\n",
    "ly = lines( lambd[lineProf[0]['inf']:lineProf[0]['sup']] , m1, b1)"
   ]
  },
  {
   "cell_type": "code",
   "execution_count": null,
   "metadata": {
    "collapsed": true
   },
   "outputs": [],
   "source": [
    "#  está pendiente hacer el ancho equivalente."
   ]
  },
  {
   "cell_type": "code",
   "execution_count": 54,
   "metadata": {
    "collapsed": false
   },
   "outputs": [],
   "source": [
    "import scipy.interpolate"
   ]
  },
  {
   "cell_type": "code",
   "execution_count": 55,
   "metadata": {
    "collapsed": false
   },
   "outputs": [
    {
     "ename": "NameError",
     "evalue": "name 'interpolate' is not defined",
     "output_type": "error",
     "traceback": [
      "\u001b[1;31m---------------------------------------------------------------------------\u001b[0m",
      "\u001b[1;31mNameError\u001b[0m                                 Traceback (most recent call last)",
      "\u001b[1;32m<ipython-input-55-3cfa1b0d6caa>\u001b[0m in \u001b[0;36m<module>\u001b[1;34m()\u001b[0m\n\u001b[1;32m----> 1\u001b[1;33m \u001b[0ma\u001b[0m \u001b[1;33m=\u001b[0m \u001b[0minterpolate\u001b[0m\u001b[1;33m.\u001b[0m\u001b[0minterp1d\u001b[0m\u001b[1;33m(\u001b[0m\u001b[0mlambd\u001b[0m\u001b[1;33m,\u001b[0m \u001b[0mspectraFlux\u001b[0m\u001b[1;33m)\u001b[0m\u001b[1;33m\u001b[0m\u001b[0m\n\u001b[0m",
      "\u001b[1;31mNameError\u001b[0m: name 'interpolate' is not defined"
     ]
    }
   ],
   "source": [
    "a = interpolate.interp1d(lambd, spectraFlux)"
   ]
  },
  {
   "cell_type": "code",
   "execution_count": null,
   "metadata": {
    "collapsed": true
   },
   "outputs": [],
   "source": []
  }
 ],
 "metadata": {
  "kernelspec": {
   "display_name": "Python 2",
   "language": "python",
   "name": "python2"
  },
  "language_info": {
   "codemirror_mode": {
    "name": "ipython",
    "version": 2
   },
   "file_extension": ".py",
   "mimetype": "text/x-python",
   "name": "python",
   "nbconvert_exporter": "python",
   "pygments_lexer": "ipython2",
   "version": "2.7.6"
  }
 },
 "nbformat": 4,
 "nbformat_minor": 0
}
