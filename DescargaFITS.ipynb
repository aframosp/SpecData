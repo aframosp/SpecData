{
 "cells": [
  {
   "cell_type": "code",
   "execution_count": 1,
   "metadata": {
    "collapsed": false
   },
   "outputs": [
    {
     "name": "stderr",
     "output_type": "stream",
     "text": [
      "/usr/lib/python2.7/site-packages/astroquery/sdss/__init__.py:33: UserWarning: Experimental: SDSS has not yet been refactored to have its API match the rest of astroquery (but it's nearly there).\n",
      "  warnings.warn(\"Experimental: SDSS has not yet been refactored to have its API \"\n"
     ]
    }
   ],
   "source": [
    "from astroquery.ned import Ned \n",
    "from astroquery.sdss import SDSS \n",
    "#import astroquery as aq\n",
    "from astropy import coordinates as coords   #Conversion, sistemas y marcos de referencia\n",
    "from astropy import units as u   #Conversion y desarrollo de operaciones aritméticas de instancias Quantity\n",
    "from astropy.io import fits   \n",
    "from astropy.table import Table\n",
    "import numpy as np\n",
    "#from matplotlib import pyplot as plt\n",
    "import math as mt\n",
    "#import sys"
   ]
  },
  {
   "cell_type": "markdown",
   "metadata": {},
   "source": [
    "###   NED z query and SDSS spectra query"
   ]
  },
  {
   "cell_type": "code",
   "execution_count": 4,
   "metadata": {
    "collapsed": false
   },
   "outputs": [
    {
     "data": {
      "text/html": [
       "&lt;Table masked=True length=1&gt;\n",
       "<table id=\"table140347477298448\">\n",
       "<thead><tr><th>col1</th><th>col2</th><th>col3</th><th>col4</th><th>col5</th><th>col6</th><th>col7</th><th>col8</th><th>col9</th><th>col10</th><th>col11</th></tr></thead>\n",
       "<thead><tr><th>int64</th><th>int64</th><th>int64</th><th>float64</th><th>float64</th><th>string8</th><th>float64</th><th>int64</th><th>int64</th><th>string40</th><th>int64</th></tr></thead>\n",
       "<tr><td>1</td><td>--</td><td>299493525735630848</td><td>179.89005384</td><td>54.21599414</td><td>S</td><td>0.0006005246</td><td>--</td><td>--</td><td>LINER</td><td>1</td></tr>\n",
       "</table>"
      ],
      "text/plain": [
       "<Table masked=True length=1>\n",
       " col1  col2        col3            col4     ...  col8  col9  col10   col11\n",
       "int64 int64       int64          float64    ... int64 int64 string40 int64\n",
       "----- ----- ------------------ ------------ ... ----- ----- -------- -----\n",
       "    1    -- 299493525735630848 179.89005384 ...    --    --    LINER     1"
      ]
     },
     "execution_count": 4,
     "metadata": {},
     "output_type": "execute_result"
    }
   ],
   "source": [
    "filename = 'newObj'\n",
    "newList = Table.read(filename+'.txt', format = 'ascii')\n",
    "newList"
   ]
  },
  {
   "cell_type": "code",
   "execution_count": 11,
   "metadata": {
    "collapsed": false,
    "scrolled": true
   },
   "outputs": [
    {
     "name": "stdout",
     "output_type": "stream",
     "text": [
      "0 299493525735630848SP1: Found one spectrum\n"
     ]
    }
   ],
   "source": [
    "newResultListDT=Table(names=('ObjID','ra','dec','z', 'isFits'),dtype=('S33', 'f12', 'f12','f8', 'i1'))\n",
    "ListaGalaxias=newList['col3']\n",
    "for i in range(len(ListaGalaxias)):\n",
    "    name = newList['col3'][i]\n",
    "    # resultNED= Ned.query_object(ListaGalaxias[i])\n",
    "    RA = newList['col4'][i]  #*u.degree   #resultNED['RA(deg)'][0]*u.degree   \n",
    "    DEC = newList['col5'][i] #*u.degree   #resultNED['DEC(deg)'][0]*u.degree\n",
    "    z = newList['col7'][i]    #resultNED['Redshift'][0]\n",
    "    pos=coords.SkyCoord(ra=RA, dec=DEC, frame='icrs', unit='deg')  #Cordenadas en sistema ICRS\n",
    "    try:\n",
    "        xid = SDSS.query_region(pos, spectro=True)\n",
    "        if xid is None:\n",
    "            print i, str(name)+': Not found'\n",
    "        else:\n",
    "            sp = SDSS.get_spectra(matches=xid)\n",
    "            for iii in range(len(sp)):\n",
    "                hdulist = fits.HDUList(sp[iii])\n",
    "                total= hdulist[1].data\n",
    "                linlam=np.exp(total['loglam']*np.log(10))\n",
    "                lambd = linlam/(1+z)\n",
    "                if lambd[0]<3700 and lambd[-1]>6800:\n",
    "                    name = str(ListaGalaxias[i])+'SP'+str(iii+1)\n",
    "                    print i, str(name)+': Found one spectrum'\n",
    "                    hdulist.writeto('Exam_fits/'+str(ListaGalaxias[i])+'SP'+str(iii+1)+'.fits',clobber=True)\n",
    "                    newResultListDT.add_row([name,pos.ra*u.degree,pos.dec*u.degree,z, 1])\n",
    "    except: # HTTPError:\n",
    "        # e = sys.exc_info()[0]\n",
    "        # write_to_page( \"<p>Error: %s</p>\" % e )\n",
    "        print \"error downloading the file\"\n",
    "        continue\n",
    "\n",
    "newResultListDT.write(filename+'SDSSFound.tbl', format='ascii')"
   ]
  },
  {
   "cell_type": "code",
   "execution_count": 6,
   "metadata": {
    "collapsed": false
   },
   "outputs": [
    {
     "data": {
      "text/html": [
       "&lt;Table masked=False length=1&gt;\n",
       "<table id=\"table140073941466320\">\n",
       "<thead><tr><th>ObjID</th><th>ra</th><th>dec</th><th>z</th><th>isFits</th></tr></thead>\n",
       "<thead><tr><th>string264</th><th>float32</th><th>float32</th><th>float64</th><th>int8</th></tr></thead>\n",
       "<tr><td>SDSS J165712.75+321141.4SP1</td><td>254.303</td><td>32.195</td><td>0.038</td><td>1</td></tr>\n",
       "</table>"
      ],
      "text/plain": [
       "<Table masked=False length=1>\n",
       "           ObjID               ra     dec      z    isFits\n",
       "         string264          float32 float32 float64  int8 \n",
       "--------------------------- ------- ------- ------- ------\n",
       "SDSS J165712.75+321141.4SP1 254.303  32.195   0.038      1"
      ]
     },
     "execution_count": 6,
     "metadata": {},
     "output_type": "execute_result"
    }
   ],
   "source": [
    "#ListaGalaxias[i]\n",
    "newResultListDT"
   ]
  },
  {
   "cell_type": "markdown",
   "metadata": {
    "collapsed": true
   },
   "source": [
    "###    NED Spectra query"
   ]
  },
  {
   "cell_type": "code",
   "execution_count": 21,
   "metadata": {
    "collapsed": false
   },
   "outputs": [
    {
     "name": "stdout",
     "output_type": "stream",
     "text": [
      "Can't identify FITS format in file:  3C234\n",
      "Can't identify FITS format in file:  Arp299A\n",
      "Can't identify FITS format in file:  CBS74\n",
      "Can't identify FITS format in file:  IC0860\n",
      "Can't identify FITS format in file:  IC4397\n",
      "Can't identify FITS format in file:  LEDA84081\n",
      "Can't identify FITS format in file:  LEDA84113\n",
      "Can't identify FITS format in file:  LEDA84586\n",
      "Can't identify FITS format in file:  LEDA90159\n",
      "Can't identify FITS format in file:  LEDA90258\n",
      "Can't identify FITS format in file:  Mrk34\n",
      "Can't identify FITS format in file:  Mrk273\n",
      "Can't identify FITS format in file:  Mrk463\n",
      "Can't identify FITS format in file:  Mrk477\n",
      "Can't identify FITS format in file:  Mrk673\n",
      "Can't identify FITS format in file:  Mrk686\n",
      "Can't identify FITS format in file:  Mrk1014\n",
      "Can't identify FITS format in file:  NGC3982\n",
      "Can't identify FITS format in file:  NGC4579\n",
      "Can't identify FITS format in file:  NGC4579\n",
      "Can't identify FITS format in file:  NGC5033\n",
      "Can't identify FITS format in file:  NGC5273\n",
      "Can't identify FITS format in file:  PGC025218\n",
      "Can't identify FITS format in file:  PGC048898\n",
      "Can't identify FITS format in file:  PGC055020\n",
      "Can't identify FITS format in file:  PGC055114\n"
     ]
    }
   ],
   "source": [
    "fileName = 'list1'\n",
    "#newList = Table.read(fileName+'.txt', format = 'ascii')\n",
    "\n",
    "['3C234','Arp299Aaa','Arp299Aba','CBS74','IC0860','IC4397','LEDA84081','LEDA84113','LEDA84586','LEDA90159','LEDA90258','Mrk34','Mrk273','Mrk463','Mrk477','Mrk673','Mrk686','Mrk1014','NGC3982aa','NGC3982ba','NGC3982ca','NGC4579aa','NGC4579ba','NGC5033','NGC5273','PGC025218','PGC048898','PGC055020','PGC055114']\n",
    "\n",
    "newResultListDT=Table(names=('ObjID','ra','dec','z', 'isFits'),dtype=('S33', 'f12', 'f12','f8', 'i1'))\n",
    "ListaGalaxias = ['3C234','Arp299A','CBS74','IC0860','IC4397','LEDA84081',\n",
    "                 'LEDA84113','LEDA84586','LEDA90159','LEDA90258','Mrk34','Mrk273','Mrk463',\n",
    "                 'Mrk477','Mrk673','Mrk686','Mrk1014','NGC3982',\n",
    "                 'NGC4579','NGC4579','NGC5033','NGC5273','PGC025218','PGC048898','PGC055020','PGC055114']\n",
    "\n",
    "\n",
    "#['3C234','CBS74','Mrk34','Mrk273','Mrk463','Mrk477','Mrk686','NGC3982','NGC5273','PGC055020','PGC055114']\n",
    "#['ETACAR', 'M17', 'M16', 'M20','NGC3576' ,'ORION 1 ','ORION 1' ,'S209', 'S283','S98','S127','S128','IC10','N80','N83','N13','N32','N81','N66','NGC295','IC142','NGC595','MA 2','NGC604','NGC588 ','IC131','NGC753','Mkn 600','NGC2363','IIZw40','NGC2366','N59','N44','N55','N113','N127','N159','N4','N214','N79','N191']\n",
    "#  newList['col3']\n",
    "for i in range(len(ListaGalaxias)):\n",
    "    name = ListaGalaxias[i]\n",
    "    try:\n",
    "        resultNED= Ned.query_object(name)\n",
    "        spectra = Ned.get_spectra(name)\n",
    "    except :\n",
    "        print \"The name\",str(name),\"cannot be found in NED database.\"\n",
    "        continue\n",
    "    RA = resultNED['RA(deg)'][0]*u.degree\n",
    "    DEC = resultNED['DEC(deg)'][0]*u.degree\n",
    "    z = resultNED['Redshift'][0]\n",
    "    #  newResultListDT.add_row([name,RA,DEC,z, 1])\n",
    "    if spectra is None:\n",
    "        print i, str(name)+': Not found'\n",
    "    else:\n",
    "        for iii in range(len(spectra)):\n",
    "            hduli = fits.HDUList(spectra[iii])\n",
    "            hea= hduli[0].header\n",
    "            typeFITS=1\n",
    "            if hea['NAXIS'] == 0:\n",
    "                typeFITS=0\n",
    "                print \"Can't identify FITS format in file: \", str(name)\n",
    "                continue\n",
    "                total= hduli[1].data\n",
    "            elif hea['NAXIS'] == 1:\n",
    "                typeFITS=1\n",
    "            if typeFITS==0:\n",
    "                spectraFlux = total['flux']\n",
    "                linlam=np.exp(total['loglam']*np.log(10))          #  ocultar para leer desde archivo\n",
    "                lambd = linlam/(1+z)\n",
    "            else:\n",
    "                spectraFlux = hduli[0].data\n",
    "                if 'CDELT1' in hea:\n",
    "                    lambd = np.linspace(hea['CRVAL1'], hea['CRVAL1']+hea['CDELT1']*(len(spectraFlux)-1), len(spectraFlux))\n",
    "                elif 'W0' in hea:\n",
    "                    lambd = np.linspace(hea['W0'], hea['W0']+hea['WPC']*(len(spectraFlux)-1), len(spectraFlux))\n",
    "                else:\n",
    "                    print \"Can't identify FITS format in file: \", str(name)\n",
    "                    continue\n",
    "            lambd = lambd/(1+z)\n",
    "            if lambd[0]<3700 and lambd[-1]>6800:\n",
    "                name = str(name)+'SP'+str(iii+1)\n",
    "                print i, str(name)+': Found one spectrum'\n",
    "                hduli.writeto('Exam_fits/'+str(name)+'.fits',clobber=True)\n",
    "                newResultListDT.add_row([name,RA,DEC,z, 1])\n",
    "                \n",
    "newResultListDT.write(fileName+'NEDFound.tbl', format='ascii')"
   ]
  },
  {
   "cell_type": "code",
   "execution_count": 22,
   "metadata": {
    "collapsed": false
   },
   "outputs": [
    {
     "data": {
      "text/html": [
       "&lt;Table masked=False length=26&gt;\n",
       "<table id=\"table139897325493008\">\n",
       "<thead><tr><th>ObjID</th><th>ra</th><th>dec</th><th>z</th><th>isFits</th></tr></thead>\n",
       "<thead><tr><th>string264</th><th>float32</th><th>float32</th><th>float64</th><th>int8</th></tr></thead>\n",
       "<tr><td>3C234</td><td>150.456</td><td>28.7858</td><td>0.184925</td><td>1</td></tr>\n",
       "<tr><td>Arp299A</td><td>172.14</td><td>58.5629</td><td>0.010411</td><td>1</td></tr>\n",
       "<tr><td>CBS74</td><td>128.106</td><td>37.1269</td><td>0.092145</td><td>1</td></tr>\n",
       "<tr><td>IC0860</td><td>198.765</td><td>24.6189</td><td>0.011164</td><td>1</td></tr>\n",
       "<tr><td>IC4397</td><td>214.495</td><td>26.4126</td><td>0.014744</td><td>1</td></tr>\n",
       "<tr><td>LEDA84081</td><td>209.042</td><td>29.0931</td><td>0.108451</td><td>1</td></tr>\n",
       "<tr><td>LEDA84113</td><td>212.079</td><td>29.0798</td><td>0.116777</td><td>1</td></tr>\n",
       "<tr><td>LEDA84586</td><td>230.659</td><td>33.5266</td><td>0.124409</td><td>1</td></tr>\n",
       "<tr><td>LEDA90159</td><td>180.611</td><td>-1.48758</td><td>0.150694</td><td>1</td></tr>\n",
       "<tr><td>LEDA90258</td><td>252.309</td><td>34.4194</td><td>0.11147</td><td>1</td></tr>\n",
       "<tr><td>...</td><td>...</td><td>...</td><td>...</td><td>...</td></tr>\n",
       "<tr><td>Mrk1014</td><td>29.9592</td><td>0.39462</td><td>0.16311</td><td>1</td></tr>\n",
       "<tr><td>NGC3982</td><td>179.117</td><td>55.1252</td><td>0.003699</td><td>1</td></tr>\n",
       "<tr><td>NGC4579</td><td>189.431</td><td>11.8182</td><td>0.00506</td><td>1</td></tr>\n",
       "<tr><td>NGC4579</td><td>189.431</td><td>11.8182</td><td>0.00506</td><td>1</td></tr>\n",
       "<tr><td>NGC5033</td><td>198.364</td><td>36.5939</td><td>0.002919</td><td>1</td></tr>\n",
       "<tr><td>NGC5273</td><td>205.535</td><td>35.6542</td><td>0.003619</td><td>1</td></tr>\n",
       "<tr><td>PGC025218</td><td>134.674</td><td>10.6895</td><td>0.148</td><td>1</td></tr>\n",
       "<tr><td>PGC048898</td><td>206.889</td><td>12.2901</td><td>0.12174</td><td>1</td></tr>\n",
       "<tr><td>PGC055020</td><td>231.183</td><td>23.6695</td><td>0.139</td><td>1</td></tr>\n",
       "<tr><td>PGC055114</td><td>231.748</td><td>35.9771</td><td>0.055155</td><td>1</td></tr>\n",
       "</table>"
      ],
      "text/plain": [
       "<Table masked=False length=26>\n",
       "  ObjID      ra     dec       z     isFits\n",
       "string264 float32 float32  float64   int8 \n",
       "--------- ------- -------- -------- ------\n",
       "    3C234 150.456  28.7858 0.184925      1\n",
       "  Arp299A  172.14  58.5629 0.010411      1\n",
       "    CBS74 128.106  37.1269 0.092145      1\n",
       "   IC0860 198.765  24.6189 0.011164      1\n",
       "   IC4397 214.495  26.4126 0.014744      1\n",
       "LEDA84081 209.042  29.0931 0.108451      1\n",
       "LEDA84113 212.079  29.0798 0.116777      1\n",
       "LEDA84586 230.659  33.5266 0.124409      1\n",
       "LEDA90159 180.611 -1.48758 0.150694      1\n",
       "LEDA90258 252.309  34.4194  0.11147      1\n",
       "      ...     ...      ...      ...    ...\n",
       "  Mrk1014 29.9592  0.39462  0.16311      1\n",
       "  NGC3982 179.117  55.1252 0.003699      1\n",
       "  NGC4579 189.431  11.8182  0.00506      1\n",
       "  NGC4579 189.431  11.8182  0.00506      1\n",
       "  NGC5033 198.364  36.5939 0.002919      1\n",
       "  NGC5273 205.535  35.6542 0.003619      1\n",
       "PGC025218 134.674  10.6895    0.148      1\n",
       "PGC048898 206.889  12.2901  0.12174      1\n",
       "PGC055020 231.183  23.6695    0.139      1\n",
       "PGC055114 231.748  35.9771 0.055155      1"
      ]
     },
     "execution_count": 22,
     "metadata": {},
     "output_type": "execute_result"
    }
   ],
   "source": [
    "newResultListDT"
   ]
  },
  {
   "cell_type": "markdown",
   "metadata": {
    "collapsed": true
   },
   "source": [
    "###     SDSS query from a list file .tbl"
   ]
  },
  {
   "cell_type": "code",
   "execution_count": 25,
   "metadata": {
    "collapsed": false
   },
   "outputs": [
    {
     "data": {
      "text/plain": [
       "26"
      ]
     },
     "execution_count": 25,
     "metadata": {},
     "output_type": "execute_result"
    }
   ],
   "source": [
    "fileName = 'list1NEDFound'\n",
    "newList = Table.read(fileName+\".tbl\", format = 'ascii')\n",
    "len(newList)"
   ]
  },
  {
   "cell_type": "code",
   "execution_count": 26,
   "metadata": {
    "collapsed": false,
    "scrolled": true
   },
   "outputs": [
    {
     "name": "stdout",
     "output_type": "stream",
     "text": [
      "0 3C234SP1: Found one spectrum\n",
      "1 Arp299A: Not found\n",
      "2 CBS74SP1: Found one spectrum\n",
      "Downloading http://data.sdss3.org/sas/dr10/sdss/spectro/redux/26/spectra/2663/spec-2663-54234-0548.fits [Done]\n",
      "Downloading http://data.sdss3.org/sas/dr10/sdss/spectro/redux/26/spectra/2116/spec-2116-53854-0051.fits [Done]\n",
      "5 LEDA84081SP1: Found one spectrum\n",
      "Downloading http://data.sdss3.org/sas/dr10/sdss/spectro/redux/26/spectra/2126/spec-2126-53794-0307.fits [Done]\n",
      "6 LEDA84113SP1: Found one spectrum\n",
      "Downloading http://data.sdss3.org/sas/dr10/sdss/spectro/redux/26/spectra/1387/spec-1387-53118-0458.fits [Done]\n",
      "7 LEDA84586SP1: Found one spectrum\n",
      "8 LEDA90159SP1: Found one spectrum\n",
      "9 LEDA90258: Not found\n",
      "10 Mrk34SP1: Found one spectrum\n",
      "11 Mrk273SP1: Found one spectrum\n",
      "12 Mrk463: Not found\n",
      "13 Mrk477SP1: Found one spectrum\n",
      "Downloading http://data.sdss3.org/sas/dr10/sdss/spectro/redux/26/spectra/2127/spec-2127-53859-0518.fits [Done]\n",
      "14 Mrk673SP1: Found one spectrum\n",
      "Downloading http://data.sdss3.org/sas/dr10/sdss/spectro/redux/26/spectra/0403/spec-0403-51871-0550.fits [Done]\n",
      "16 Mrk1014SP1: Found one spectrum\n",
      "18 NGC4579: Not found\n",
      "19 NGC4579: Not found\n",
      "20 NGC5033: Not found\n",
      "Downloading http://data.sdss3.org/sas/dr10/sdss/spectro/redux/26/spectra/2575/spec-2575-54085-0125.fits [Done]\n",
      "22 PGC025218SP1: Found one spectrum\n",
      "Downloading http://data.sdss3.org/sas/dr10/sdss/spectro/redux/26/spectra/1701/spec-1701-53142-0483.fits [Done]\n",
      "23 PGC048898SP1: Found one spectrum\n",
      "24 PGC055020SP1: Found one spectrum\n",
      "25 PGC055114SP1: Found one spectrum\n"
     ]
    }
   ],
   "source": [
    "newResultListDT=Table(names=('ObjID','ra','dec','z', 'isFits', 'type'),dtype=('S33', 'f12', 'f12','f8', 'i1', 'S13'))\n",
    "ListaGalaxias=newList['specobjid']\n",
    "for i in range(len(ListaGalaxias)):\n",
    "    name = newList['specobjid'][i]\n",
    "    # resultNED= Ned.query_object(ListaGalaxias[i])\n",
    "    RA = newList['ra'][i]  #*u.degree   #resultNED['RA(deg)'][0]*u.degree   \n",
    "    DEC = newList['dec'][i] #*u.degree   #resultNED['DEC(deg)'][0]*u.degree\n",
    "    z = newList['redshift'][i]    #resultNED['Redshift'][0]\n",
    "    pos=coords.SkyCoord(ra=RA, dec=DEC, frame='icrs', unit='deg')  #Cordenadas en sistema ICRS\n",
    "    try:\n",
    "        xid = SDSS.query_region(pos, spectro=True)\n",
    "        if xid is None:\n",
    "            print i, str(name)+': Not found'\n",
    "        else:\n",
    "            sp = SDSS.get_spectra(matches=xid)\n",
    "            for iii in range(len(sp)):\n",
    "                hdulist = fits.HDUList(sp[iii])\n",
    "                total= hdulist[1].data\n",
    "                linlam=np.exp(total['loglam']*np.log(10))\n",
    "                lambd = linlam/(1+z)\n",
    "                if lambd[0]<3710 and lambd[-1]>6760:\n",
    "                    name = str(ListaGalaxias[i])+'SP'+str(iii+1)\n",
    "                    print i, str(name)+': Found one spectrum'\n",
    "                    hdulist.writeto('Exam_fits/'+name+'.fits',clobber=True)\n",
    "                    if 'bptclass' in newList:\n",
    "                        if newList['bptclass'][i] == 1:\n",
    "                            typeGal = 'SF'\n",
    "                        elif newList['bptclass'][i] == 2:\n",
    "                            typeGal = 'lowS/N SF'\n",
    "                        elif newList['bptclass'][i] == 3:\n",
    "                            typeGal = 'comp'\n",
    "                        elif newList['bptclass'][i] == 4:\n",
    "                            typeGal = 'AGN'\n",
    "                        elif newList['bptclass'][i] == 5:\n",
    "                            typeGal = 'lowS/N LINER'\n",
    "                        else:\n",
    "                            typeGal = 'unclass'\n",
    "                    else:\n",
    "                        typeGal = 'unknown'\n",
    "                    newResultListDT.add_row([name,pos.ra*u.degree,pos.dec*u.degree,z, 1, typeGal])\n",
    "    except: # HTTPError:\n",
    "        # e = sys.exc_info()[0]\n",
    "        # write_to_page( \"<p>Error: %s</p>\" % e )\n",
    "        continue\n",
    "\n",
    "newResultListDT.write(fileName+'SDSSFound.tbl', format='ascii')"
   ]
  },
  {
   "cell_type": "code",
   "execution_count": 16,
   "metadata": {
    "collapsed": false
   },
   "outputs": [
    {
     "data": {
      "text/html": [
       "&lt;Table masked=False length=7&gt;\n",
       "<table id=\"table139897324319312\">\n",
       "<thead><tr><th>ObjID</th><th>ra</th><th>dec</th><th>z</th><th>isFits</th><th>type</th></tr></thead>\n",
       "<thead><tr><th>string264</th><th>float32</th><th>float32</th><th>float64</th><th>int8</th><th>string104</th></tr></thead>\n",
       "<tr><td>3C234SP1</td><td>150.456</td><td>28.7858</td><td>0.184925</td><td>1</td><td>unknown</td></tr>\n",
       "<tr><td>CBS74SP1</td><td>128.106</td><td>37.1269</td><td>0.092145</td><td>1</td><td>unknown</td></tr>\n",
       "<tr><td>Mrk34SP1</td><td>158.536</td><td>60.0311</td><td>0.0505</td><td>1</td><td>unknown</td></tr>\n",
       "<tr><td>Mrk273SP1</td><td>206.175</td><td>55.8868</td><td>0.03778</td><td>1</td><td>unknown</td></tr>\n",
       "<tr><td>Mrk477SP1</td><td>220.159</td><td>53.5044</td><td>0.037726</td><td>1</td><td>unknown</td></tr>\n",
       "<tr><td>PGC055020SP1</td><td>231.183</td><td>23.6695</td><td>0.139</td><td>1</td><td>unknown</td></tr>\n",
       "<tr><td>PGC055114SP1</td><td>231.748</td><td>35.9771</td><td>0.055155</td><td>1</td><td>unknown</td></tr>\n",
       "</table>"
      ],
      "text/plain": [
       "<Table masked=False length=7>\n",
       "   ObjID        ra     dec      z     isFits    type  \n",
       " string264   float32 float32 float64   int8  string104\n",
       "------------ ------- ------- -------- ------ ---------\n",
       "    3C234SP1 150.456 28.7858 0.184925      1   unknown\n",
       "    CBS74SP1 128.106 37.1269 0.092145      1   unknown\n",
       "    Mrk34SP1 158.536 60.0311   0.0505      1   unknown\n",
       "   Mrk273SP1 206.175 55.8868  0.03778      1   unknown\n",
       "   Mrk477SP1 220.159 53.5044 0.037726      1   unknown\n",
       "PGC055020SP1 231.183 23.6695    0.139      1   unknown\n",
       "PGC055114SP1 231.748 35.9771 0.055155      1   unknown"
      ]
     },
     "execution_count": 16,
     "metadata": {},
     "output_type": "execute_result"
    }
   ],
   "source": [
    "newResultListDT"
   ]
  },
  {
   "cell_type": "code",
   "execution_count": 9,
   "metadata": {
    "collapsed": false
   },
   "outputs": [
    {
     "data": {
      "text/html": [
       "&lt;Table masked=False length=36&gt;\n",
       "<table id=\"table140482478935376\">\n",
       "<thead><tr><th>col1</th><th>col2</th><th>col3</th><th>col4</th><th>col5</th><th>col6</th><th>col7</th><th>col8</th><th>col9</th></tr></thead>\n",
       "<thead><tr><th>string48</th><th>float64</th><th>float64</th><th>float64</th><th>string40</th><th>string40</th><th>string40</th><th>float64</th><th>float64</th></tr></thead>\n",
       "<tr><td>8025</td><td>53.07059</td><td>-27.75539</td><td>1.303</td><td>0.45</td><td>&lt;0.24</td><td>1.65</td><td>10.4</td><td>0.88</td></tr>\n",
       "<tr><td>6837</td><td>53.12799</td><td>-27.7714</td><td>1.306</td><td>&gt;5.82</td><td>0.57</td><td>0.80</td><td>10.45</td><td>0.79</td></tr>\n",
       "<tr><td>9956</td><td>53.0909</td><td>-27.73119</td><td>1.307</td><td>&gt;5.61</td><td>&lt;0.33</td><td>&lt;0.58</td><td>9.09</td><td>0.57</td></tr>\n",
       "<tr><td>6408</td><td>53.13639</td><td>-27.77499</td><td>1.308</td><td>1.16</td><td>&lt;0.22</td><td>0.50</td><td>9.34</td><td>0.58</td></tr>\n",
       "<tr><td>11132</td><td>53.08729</td><td>-27.7185</td><td>1.308</td><td>1.43</td><td>0.24</td><td>0.19</td><td>9.64</td><td>0.79</td></tr>\n",
       "<tr><td>8263</td><td>53.02619</td><td>-27.7523</td><td>1.327</td><td>1.47</td><td>&lt;0.45</td><td>0.60</td><td>9.8</td><td>0.63</td></tr>\n",
       "<tr><td>11404d</td><td>53.1248</td><td>-27.7171</td><td>1.356</td><td>2.12</td><td>0.28</td><td>0.33</td><td>10.8</td><td>0.8</td></tr>\n",
       "<tr><td>11730</td><td>53.1454</td><td>-27.7126</td><td>1.361</td><td>4.10</td><td>&lt;0.38</td><td>0.73</td><td>9.26</td><td>0.62</td></tr>\n",
       "<tr><td>9038e</td><td>53.07529</td><td>-27.74259</td><td>1.374</td><td>1.80</td><td>0.26</td><td>0.24</td><td>10.02</td><td>0.53</td></tr>\n",
       "<tr><td>7835</td><td>53.05199</td><td>-27.75839</td><td>1.376</td><td>&gt;2.77</td><td>&lt;0.19</td><td>0.22</td><td>10.46</td><td>0.7</td></tr>\n",
       "<tr><td>...</td><td>...</td><td>...</td><td>...</td><td>...</td><td>...</td><td>...</td><td>...</td><td>...</td></tr>\n",
       "<tr><td>10817e</td><td>53.12279</td><td>-27.72279</td><td>1.612</td><td>&gt;7.49</td><td>1.03</td><td>0.27</td><td>10.7</td><td>0.84</td></tr>\n",
       "<tr><td>8803</td><td>53.1329</td><td>-27.7458</td><td>1.612</td><td>1.45</td><td>0.20</td><td>0.40</td><td>10.42</td><td>0.82</td></tr>\n",
       "<tr><td>8154</td><td>53.1473</td><td>-27.75349</td><td>1.612</td><td>&gt;3.20</td><td>0.36</td><td>0.40</td><td>10.45</td><td>0.76</td></tr>\n",
       "<tr><td>7371</td><td>53.08409</td><td>-27.7637</td><td>1.612</td><td>2.17</td><td>0.11</td><td>0.12</td><td>9.58</td><td>0.36</td></tr>\n",
       "<tr><td>12285</td><td>53.11</td><td>-27.70789</td><td>1.613</td><td>5.47</td><td>0.14</td><td>0.18</td><td>10.52</td><td>0.71</td></tr>\n",
       "<tr><td>7989</td><td>53.10279</td><td>-27.75609</td><td>1.613</td><td>4.74</td><td>0.45</td><td>&lt;0.10</td><td>10.06</td><td>0.66</td></tr>\n",
       "<tr><td>12703</td><td>53.1137</td><td>-27.70149</td><td>1.613</td><td>4.03</td><td>0.27</td><td>0.21</td><td>11.11</td><td>0.9</td></tr>\n",
       "<tr><td>12522e</td><td>53.1049</td><td>-27.7052</td><td>1.613</td><td>2.83</td><td>0.52</td><td>0.22</td><td>10.84</td><td>0.64</td></tr>\n",
       "<tr><td>8414</td><td>53.1565</td><td>-27.75079</td><td>1.614</td><td>0.88</td><td>&lt;0.21</td><td>0.46</td><td>9.33</td><td>0.39</td></tr>\n",
       "<tr><td>7499</td><td>53.1411</td><td>-27.76189</td><td>1.622</td><td>0.68</td><td>0.36</td><td>0.40</td><td>10.08</td><td>0.79</td></tr>\n",
       "</table>"
      ],
      "text/plain": [
       "<Table masked=False length=36>\n",
       "  col1     col2      col3     col4    col5     col6     col7     col8    col9 \n",
       "string48 float64   float64  float64 string40 string40 string40 float64 float64\n",
       "-------- -------- --------- ------- -------- -------- -------- ------- -------\n",
       "    8025 53.07059 -27.75539   1.303     0.45    <0.24     1.65    10.4    0.88\n",
       "    6837 53.12799  -27.7714   1.306    >5.82     0.57     0.80   10.45    0.79\n",
       "    9956  53.0909 -27.73119   1.307    >5.61    <0.33    <0.58    9.09    0.57\n",
       "    6408 53.13639 -27.77499   1.308     1.16    <0.22     0.50    9.34    0.58\n",
       "   11132 53.08729  -27.7185   1.308     1.43     0.24     0.19    9.64    0.79\n",
       "    8263 53.02619  -27.7523   1.327     1.47    <0.45     0.60     9.8    0.63\n",
       "  11404d  53.1248  -27.7171   1.356     2.12     0.28     0.33    10.8     0.8\n",
       "   11730  53.1454  -27.7126   1.361     4.10    <0.38     0.73    9.26    0.62\n",
       "   9038e 53.07529 -27.74259   1.374     1.80     0.26     0.24   10.02    0.53\n",
       "    7835 53.05199 -27.75839   1.376    >2.77    <0.19     0.22   10.46     0.7\n",
       "     ...      ...       ...     ...      ...      ...      ...     ...     ...\n",
       "  10817e 53.12279 -27.72279   1.612    >7.49     1.03     0.27    10.7    0.84\n",
       "    8803  53.1329  -27.7458   1.612     1.45     0.20     0.40   10.42    0.82\n",
       "    8154  53.1473 -27.75349   1.612    >3.20     0.36     0.40   10.45    0.76\n",
       "    7371 53.08409  -27.7637   1.612     2.17     0.11     0.12    9.58    0.36\n",
       "   12285    53.11 -27.70789   1.613     5.47     0.14     0.18   10.52    0.71\n",
       "    7989 53.10279 -27.75609   1.613     4.74     0.45    <0.10   10.06    0.66\n",
       "   12703  53.1137 -27.70149   1.613     4.03     0.27     0.21   11.11     0.9\n",
       "  12522e  53.1049  -27.7052   1.613     2.83     0.52     0.22   10.84    0.64\n",
       "    8414  53.1565 -27.75079   1.614     0.88    <0.21     0.46    9.33    0.39\n",
       "    7499  53.1411 -27.76189   1.622     0.68     0.36     0.40   10.08    0.79"
      ]
     },
     "execution_count": 9,
     "metadata": {},
     "output_type": "execute_result"
    }
   ],
   "source": [
    "newList"
   ]
  },
  {
   "cell_type": "code",
   "execution_count": 2,
   "metadata": {
    "collapsed": false
   },
   "outputs": [],
   "source": [
    "name = 'arco-001'\n",
    "hdulist = fits.open('crudas/'+name+'.fit')\n"
   ]
  },
  {
   "cell_type": "code",
   "execution_count": 3,
   "metadata": {
    "collapsed": false
   },
   "outputs": [],
   "source": [
    "head= hdulist[0].header\n",
    "total= hdulist[0].data"
   ]
  },
  {
   "cell_type": "code",
   "execution_count": 6,
   "metadata": {
    "collapsed": true
   },
   "outputs": [],
   "source": [
    "hdulist.writeto('crudas/'+name+'SP1.fits',clobber=True)"
   ]
  },
  {
   "cell_type": "code",
   "execution_count": null,
   "metadata": {
    "collapsed": true
   },
   "outputs": [],
   "source": []
  }
 ],
 "metadata": {
  "kernelspec": {
   "display_name": "Python 2",
   "language": "python",
   "name": "python2"
  },
  "language_info": {
   "codemirror_mode": {
    "name": "ipython",
    "version": 2
   },
   "file_extension": ".py",
   "mimetype": "text/x-python",
   "name": "python",
   "nbconvert_exporter": "python",
   "pygments_lexer": "ipython2",
   "version": "2.7.8"
  }
 },
 "nbformat": 4,
 "nbformat_minor": 0
}
