{
 "cells": [
  {
   "cell_type": "code",
   "execution_count": 1,
   "metadata": {
    "collapsed": false
   },
   "outputs": [
    {
     "name": "stderr",
     "output_type": "stream",
     "text": [
      "/usr/local/lib/python2.7/dist-packages/astroquery-0.3.dev0-py2.7.egg/astroquery/sdss/__init__.py:33: UserWarning: Experimental: SDSS has not yet been refactored to have its API match the rest of astroquery (but it's nearly there).\n",
      "  warnings.warn(\"Experimental: SDSS has not yet been refactored to have its API \"\n"
     ]
    }
   ],
   "source": [
    "from astroquery.ned import Ned \n",
    "from astroquery.sdss import SDSS \n",
    "#import astroquery as aq\n",
    "from astropy import coordinates as coords   #Conversion, sistemas y marcos de referencia\n",
    "from astropy import units as u   #Conversion y desarrollo de operaciones aritméticas de instancias Quantity\n",
    "from astropy.io import fits   \n",
    "from astropy.table import Table"
   ]
  },
  {
   "cell_type": "code",
   "execution_count": 3,
   "metadata": {
    "collapsed": false
   },
   "outputs": [
    {
     "name": "stderr",
     "output_type": "stream",
     "text": [
      "WARNING: AstropyDeprecationWarning: Since 0.4, config parameter 'astropy.utils.data.REMOTE_TIMEOUT' is deprecated. Use 'astropy.utils.data.conf.remote_timeout' instead. [astropy.config.configuration]\n",
      "WARNING:astropy:AstropyDeprecationWarning: Since 0.4, config parameter 'astropy.utils.data.REMOTE_TIMEOUT' is deprecated. Use 'astropy.utils.data.conf.remote_timeout' instead.\n"
     ]
    },
    {
     "name": "stdout",
     "output_type": "stream",
     "text": [
      "Downloading http://data.sdss3.org/sas/dr12/sdss/spectro/redux/26/spectra/0392/spec-0392-51793-0517.fits [Done]\n",
      "Object Name\n",
      "-----------\n",
      "   MRK 0955: Found 1 spectra\n",
      "Downloading http://data.sdss3.org/sas/dr12/sdss/spectro/redux/26/spectra/1612/spec-1612-53149-0616.fits [Done]\n",
      "Object Name\n",
      "-----------\n",
      "    IC 3078: Found 1 spectra\n",
      " ObjID  RA(deg) DEC(deg) Redshift\n",
      "------- ------- -------- --------\n",
      " Mrk955 9.39919  0.28069 0.035001\n",
      "IC 3078   184.0  12.6873 0.066148\n"
     ]
    }
   ],
   "source": [
    "resultListDT1=Table(names=('ObjID','RA(deg)','DEC(deg)','Redshift'),dtype=('S25', 'f12', 'f12','f8'))\n",
    "ListaGalaxias=['Mrk955','IC 3078']\n",
    "for i in range(len(ListaGalaxias)):\n",
    "    resultNED= Ned.query_object(ListaGalaxias[i])\n",
    "    RA=resultNED['RA(deg)'][0]*u.degree\n",
    "    DEC=resultNED['DEC(deg)'][0]*u.degree\n",
    "    z=resultNED['Redshift'][0]\n",
    "    pos=coords.SkyCoord(ra=RA, dec=DEC, frame='icrs', unit='deg')  #Cordenadas en sistema ICRS\n",
    "    xid = SDSS.query_region(pos, spectro=True)\n",
    "    if xid is None:\n",
    "        print str(resultNED['Object Name'])+': Not found'\n",
    "    else:\n",
    "        sp = SDSS.get_spectra(matches=xid)\n",
    "        print str(resultNED['Object Name'])+': Found '+str(len(sp))+' spectra'\n",
    "        hdulist = fits.HDUList(sp[0])\n",
    "        hdulist.writeto(str(ListaGalaxias[i])+'.fits',clobber=True)\n",
    "        resultListDT1.add_row([ListaGalaxias[i],RA,DEC,z])\n",
    "resultListDT1.write('ListaGalaxias.tbl', format='ascii')\n",
    "print resultListDT1"
   ]
  },
  {
   "cell_type": "code",
   "execution_count": 4,
   "metadata": {
    "collapsed": false
   },
   "outputs": [
    {
     "data": {
      "text/html": [
       "&lt;Table masked=False length=2&gt;\n",
       "<table id=\"table140342337101584\">\n",
       "<thead><tr><th>ObjID</th><th>RA(deg)</th><th>DEC(deg)</th><th>Redshift</th></tr></thead>\n",
       "<thead><tr><th>string200</th><th>float32</th><th>float32</th><th>float64</th></tr></thead>\n",
       "<tr><td>Mrk955</td><td>9.39919</td><td>0.28069</td><td>0.035001</td></tr>\n",
       "<tr><td>IC 3078</td><td>184.0</td><td>12.6873</td><td>0.066148</td></tr>\n",
       "</table>"
      ],
      "text/plain": [
       "<Table masked=False length=2>\n",
       "  ObjID   RA(deg) DEC(deg) Redshift\n",
       "string200 float32 float32  float64 \n",
       "--------- ------- -------- --------\n",
       "   Mrk955 9.39919  0.28069 0.035001\n",
       "  IC 3078   184.0  12.6873 0.066148"
      ]
     },
     "execution_count": 4,
     "metadata": {},
     "output_type": "execute_result"
    }
   ],
   "source": [
    "resultListDT1"
   ]
  },
  {
   "cell_type": "code",
   "execution_count": null,
   "metadata": {
    "collapsed": false
   },
   "outputs": [],
   "source": []
  }
 ],
 "metadata": {
  "kernelspec": {
   "display_name": "Python 2",
   "language": "python",
   "name": "python2"
  },
  "language_info": {
   "codemirror_mode": {
    "name": "ipython",
    "version": 2
   },
   "file_extension": ".py",
   "mimetype": "text/x-python",
   "name": "python",
   "nbconvert_exporter": "python",
   "pygments_lexer": "ipython2",
   "version": "2.7.9"
  }
 },
 "nbformat": 4,
 "nbformat_minor": 0
}
