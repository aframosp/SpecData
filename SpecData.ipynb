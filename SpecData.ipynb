{
 "cells": [
  {
   "cell_type": "code",
   "execution_count": 1,
   "metadata": {
    "collapsed": false
   },
   "outputs": [],
   "source": [
    "from DefSD import *\n",
    "from astropy.analytic_functions import blackbody\n",
    "from astropy.convolution import convolve, Gaussian1DKernel, Box1DKernel\n",
    "\n"
   ]
  },
  {
   "cell_type": "code",
   "execution_count": 27,
   "metadata": {
    "collapsed": false
   },
   "outputs": [
    {
     "name": "stdout",
     "output_type": "stream",
     "text": [
      "Error opening the file:  6SP1\n"
     ]
    }
   ],
   "source": [
    "resultListDT=Table.read('resultListDT.tbl', format='ascii')\n",
    "for x in range(len(resultListDT['ObjID'])):\n",
    "    name = resultListDT['ObjID'][x]\n",
    "    try:\n",
    "        hdulist = fits.open('Exam_fits/'+name+'.fits')\n",
    "    except IOError:\n",
    "        print \"Error opening the file: \", name"
   ]
  },
  {
   "cell_type": "code",
   "execution_count": 2,
   "metadata": {
    "collapsed": false
   },
   "outputs": [
    {
     "name": "stderr",
     "output_type": "stream",
     "text": [
      "WARNING: The fit may be unsuccessful; check fit_info['message'] for more information. [astropy.modeling.fitting]\n",
      "WARNING:astropy:The fit may be unsuccessful; check fit_info['message'] for more information.\n"
     ]
    },
    {
     "name": "stdout",
     "output_type": "stream",
     "text": [
      "Object [ 0 ]:  LBQS 0006+0015\n"
     ]
    }
   ],
   "source": [
    "#   a table resultListDT relates the name of the objects and the resulting temoerature and density\n",
    "#   for the four couples of species\n",
    "\n",
    "resultListDT=Table.read('resultListDT.tbl', format='ascii')\n",
    "ion = [' [OIII]', ' [SII]', ' [NII]', ' [OII]', ' [NII]', ' [SII]', ' [OIII]', ' [OII]']\n",
    "for i in range(1,5):\n",
    "    colT= Column(name='Temp_'+str(i)+ion[2*(i-1)], length=len(resultListDT),unit=u.K)\n",
    "    colD= Column(name='Den_'+str(i)+ion[2*(i-1)+1], length=len(resultListDT),unit=1 / (u.cm**3))\n",
    "    resultListDT.add_columns([colT,colD])\n",
    "resultListDT\n",
    "\n",
    "#   Obtain the lists Spectra, Headers, spectrum variance of the intensity according with a list of galaxy names\n",
    "#   and a Table Tabla of models for each line for all the spectra\n",
    "\n",
    "Headers = []\n",
    "Spectra = []\n",
    "Spectra2 = []\n",
    "SpectraCont = []\n",
    "Lambda = []\n",
    "Modelos=[]\n",
    "Tablas=[]\n",
    "HDUs=[]\n",
    "TypeFITS=[]\n",
    "SpectraIvar = []\n",
    "LINEProfile = []\n",
    "paramCont=0.4\n",
    "typeFITS =0\n",
    "for x in range(len(resultListDT['ObjID'])):\n",
    "    try:\n",
    "        name = resultListDT['ObjID'][x]\n",
    "        z=resultListDT['z'][x]\n",
    "        isFits = resultListDT['isFits'][x]\n",
    "        if isFits:\n",
    "            hdulist = fits.open('Exam_fits/'+name+'.fits')\n",
    "            head= hdulist[0].header\n",
    "            typeFITS=0\n",
    "            if head['NAXIS'] == 0:\n",
    "                total= hdulist[1].data\n",
    "            elif head['NAXIS'] == 1:\n",
    "                typeFITS=1\n",
    "            if typeFITS==0:\n",
    "                spectraFlux = total['flux']\n",
    "                spectraIvar = total['ivar']\n",
    "                linlam=np.exp(total['loglam']*np.log(10))          #  ocultar para leer desde archivo\n",
    "                lambd = linlam/(1+z)\n",
    "            else:\n",
    "                spectraFlux = hdulist[0].data #*(1e-19)\n",
    "                spectraIvar = spectraFlux*0\n",
    "                if 'CDELT1' in head:\n",
    "                    lambd = np.linspace(head['CRVAL1'], head['CRVAL1']+head['CDELT1']*(len(spectraFlux)-1), len(spectraFlux))\n",
    "                elif 'W0' in head:\n",
    "                    lambd = np.linspace(head['W0'], head['W0']+head['WPC']*(len(spectraFlux)-1), len(spectraFlux))\n",
    "                else:\n",
    "                    print \"Can't identify FITS format in file: \", str(name)\n",
    "                    break\n",
    "                lambd = lambd/(1+z)\n",
    "        else:\n",
    "            specTable = Table.read('Exam_fits/'+str(name)+'.txt', format='ascii')\n",
    "            spectraFlux = specTable['Intensity'].data #.tolist()\n",
    "            spectraIvar = spectraFlux*0\n",
    "            lambd = specTable['Spectral-axis'].data #.tolist()\n",
    "            lambd = lambd/(1+z)\n",
    "        orderU = 10**(int(mt.log(np.mean(spectraFlux), 10))-1)\n",
    "\n",
    "        TypeFITS.append(typeFITS)\n",
    "        Spectra2.append(spectraFlux)\n",
    "        print \"Object [\",x,\"]: \", name\n",
    "        spec =np.array(spectraFlux)\n",
    "        spec2, lambd = r(spec, lambd, paramCont*orderU)\n",
    "        \n",
    "        #gauss_kernel = Gaussian1DKernel(2)\n",
    "        #smoothed_data_gauss = convolve(spectraFlux, gauss_kernel)\n",
    "        #spec2 = smoothed_data_gauss\n",
    "\n",
    "        limResolucion = mt.ceil(lambd[1]-lambd[0])\n",
    "\n",
    "    # ..............    \n",
    "\n",
    "        if lambd[0] > 3720.0 :\n",
    "            print \"The object isn't in expected spectrum region (3700 - 6800 Angstrom)\"\n",
    "            ListaLineas=Table.read('LinesPrincipal.txt', format='ascii')\n",
    "            LS=np.zeros([13,10])\n",
    "\n",
    "            lineProf = lineProfile(x,spec2, lambd,ListaLineas,Spectra2, limResolucion)\n",
    "            LINEProfile.append(lineProf)\n",
    "            # Este ciclo calcula remplaza la región del contínuo que está justo en el perfil de línea, por una recta\n",
    "            # que es mas preciso al determinar la amplitud del modelo gaussiano\n",
    "            for ina in range(len(lineProf)):\n",
    "                lInf = lineProf[ina]['inf']\n",
    "                lSup = lineProf[ina]['sup']\n",
    "                lDel = lSup-lInf\n",
    "                if (lInf-3*lDel) >= 0 :\n",
    "                    lInf = lInf-3*lDel\n",
    "                if (lSup+3*lDel) <= len(lambd) :\n",
    "                    lSup = lSup+3*lDel\n",
    "                m1, b1 = linModel( lambd[lInf] , spec2[lInf] , lambd[lSup], spec2[lSup])\n",
    "                lineLambd = lambd[lInf:lSup]\n",
    "                lineIntCont = lines( lineLambd , m1, b1)\n",
    "                spec2[lInf:lSup] = lineIntCont\n",
    "            ModelG1, lineProf, spec2 = finalFit(x, spec2, lambd,ListaLineas,Spectra2, spectraIvar,2000, limResolucion)\n",
    "    #        ModelL1 = fit2(x, spec2, lambd,ListaLineas,Spectra,2500)\n",
    "        else:\n",
    "            # Este ciclo calcula remplaza la región del contínuo que está justo en el perfil de línea, por una recta\n",
    "            # que es mas preciso al determinar la amplitud del modelo gaussiano\n",
    "            ListaLineas=Table.read('LinesAll.txt', format='ascii')\n",
    "            lineProf = lineProfile(x,spec2, lambd,ListaLineas,Spectra2, limResolucion)\n",
    "            LINEProfile.append(lineProf)\n",
    "            for ina in range(len(lineProf)):\n",
    "                lInf = lineProf[ina]['inf']\n",
    "                lSup = lineProf[ina]['sup']\n",
    "                lDel = lSup-lInf\n",
    "                if (lInf-3*lDel) >= 0 :\n",
    "                    lInf = lInf-3*lDel\n",
    "                if (lSup+3*lDel) <= len(lambd) :\n",
    "                    lSup = lSup+3*lDel\n",
    "                m1, b1 = linModel( lambd[lInf] , spec2[lInf] , lambd[lSup], spec2[lSup])\n",
    "                lineLambd = lambd[lInf:lSup]\n",
    "                lineIntCont = lines( lineLambd , m1, b1)\n",
    "                spec2[lInf:lSup] = lineIntCont\n",
    "            LS=np.zeros([len(ListaLineas),10])\n",
    "            ModelG1, lineProf, spec2 = finalFit(x, spec2, lambd,ListaLineas,Spectra2, spectraIvar,2000, limResolucion)\n",
    "    #        ModelL1 = fit2(x, spec2, lambd,ListaLineas,Spectra,2500)\n",
    "\n",
    "        Tabla=Table(LS,names=('Amplitude','Wavelength','Sigma','Lambda Vac','Element','Flux','Flux_Err', 'FWHM', 'eqWidth', 'S/N>3'),\n",
    "                    dtype=('f8','f8','f8','f8','S8','f8','f8','f8','f8','S5'))\n",
    "        Tabla['Lambda Vac']=ListaLineas['LAMBDA VAC ANG']\n",
    "        Tabla['Element']=ListaLineas['SPECTRUM']\n",
    "        AA=split_list(ModelG1[0].parameters, wanted_parts=len(ListaLineas))\n",
    "        AAA=split_list(ModelG1[1].parameters, wanted_parts=2)\n",
    "    #    AA=split_list(ModelL1[0].parameters, wanted_parts=len(ListaLineas))\n",
    "    #    AAA=split_list(ModelL1[1].parameters, wanted_parts=2)\n",
    "        for ii in range(len(ListaLineas)):\n",
    "            if 3*np.mean(spectraIvar[lineProf[0]['inf']:lineProf[0]['sup']]) >= AA[ii][0]:\n",
    "                Tabla['S/N>3'][ii] = str(False)\n",
    "            else:\n",
    "                Tabla['S/N>3'][ii] = str(True)\n",
    "            if AA[ii][2]<0:\n",
    "                Tabla['Amplitude'][ii],Tabla['Wavelength'][ii],Tabla['Sigma'][ii]=np.array([AA[ii][0], AA[ii][1], mt.fabs(AA[ii][2])])\n",
    "            else:\n",
    "                Tabla['Amplitude'][ii],Tabla['Wavelength'][ii],Tabla['Sigma'][ii]=np.array([AA[ii][0], AA[ii][1], AA[ii][2]])\n",
    "            if ii==0 or ii==1:\n",
    "                if AAA[ii][2]<0:\n",
    "                    Tabla['Amplitude'][ii],Tabla['Wavelength'][ii],Tabla['Sigma'][ii]=np.array([AAA[ii][0], AAA[ii][1], mt.fabs(AAA[ii][2])])\n",
    "                else:\n",
    "                    Tabla['Amplitude'][ii],Tabla['Wavelength'][ii],Tabla['Sigma'][ii]=np.array([AAA[ii][0], AAA[ii][1], AAA[ii][2]])\n",
    "        Modelos.append(ModelG1)\n",
    "        #    Modelos.append(ModelL1)\n",
    "        #print Tabla \n",
    "        Tablas.append(Tabla)\n",
    "        SpectraIvar.append(spectraIvar)\n",
    "        SpectraCont.append(spec2)\n",
    "        Lambda.append(lambd)\n",
    "        Spectra.append(spectraFlux)\n",
    "    except ValueError:\n",
    "        print \"It has not been possible to process the spectrum of: \", name"
   ]
  },
  {
   "cell_type": "code",
   "execution_count": 3,
   "metadata": {
    "collapsed": false
   },
   "outputs": [
    {
     "name": "stdout",
     "output_type": "stream",
     "text": [
      "Using matplotlib backend: Qt4Agg\n"
     ]
    }
   ],
   "source": [
    "#   plot of the galaxy with index jj observed with respect to the continuum in zero. Two models for the lines required \n",
    "%matplotlib\n",
    "### inline\n",
    "for jj in [0]:  #  range(len(resultListDT)):\n",
    "#    plt.errorbar(Lambda[jj],Spectra[jj],SpectraIvar[jj],  c='gray',lw=1,label='Spectrum')\n",
    "    plt.plot(Lambda[jj],Spectra[jj], lw=0.5, c = 'k', label='Spectra')\n",
    "    plt.plot(Lambda[jj],SpectraCont[jj], lw=2, c = 'g', label='Spectra')\n",
    "    lPPP = lineProf\n",
    "    for iasiao in range(len(lPPP)):\n",
    "        plt.plot(Lambda[jj][lPPP['inf'][iasiao]:lPPP['sup'][iasiao]],Spectra[jj][lPPP['inf'][iasiao]:lPPP['sup'][iasiao]], lw=2.0, c = 'b')\n"
   ]
  },
  {
   "cell_type": "markdown",
   "metadata": {},
   "source": [
    "###     EqWidth ,  FWHM,  FLUX"
   ]
  },
  {
   "cell_type": "code",
   "execution_count": 14,
   "metadata": {
    "collapsed": false,
    "scrolled": true
   },
   "outputs": [
    {
     "name": "stdout",
     "output_type": "stream",
     "text": [
      "0\n"
     ]
    },
    {
     "data": {
      "text/plain": [
       "[<Table masked=False length=16>\n",
       "    Amplitude      Wavelength       Sigma       ...    eqWidth     S/N>3  \n",
       "     float64        float64        float64      ...    float64    string40\n",
       " --------------- ------------- ---------------- ... ------------- --------\n",
       "   296.847328262 3726.88680262    1.23428480385 ... 122.798979538     True\n",
       "    411.66263725 3729.63857101    1.10361103985 ... 122.798979538     True\n",
       "   148.625975694 4341.46003852    1.19628442733 ... 41.4457167935     True\n",
       "   15.4508796268 4364.11795564    1.25225844797 ... 11.3282785416     True\n",
       "   311.219288129 4862.57983716    1.25744096144 ... 104.181160655     True\n",
       "   1.75535500179 4939.39571682 0.00273808645007 ...  6.1013597303     True\n",
       "   455.284770542 4960.20385883    1.24552779714 ... 145.135154551     True\n",
       "   1331.74735084 5008.17333271    1.26520095029 ... 432.860709292     True\n",
       "  -1.38375125401 5760.10196737    0.52003278368 ...           0.0    False\n",
       " -0.524378610208  6502.3333519    14.1347490161 ...           0.0    False\n",
       "   10.4598651401 6549.83521641    1.73604784184 ... 17.3515186032     True\n",
       "   698.874525261 6564.64007619    1.76958725619 ... 481.710235596     True\n",
       "   30.9476067396 6585.22797921    1.86636278601 ... 39.3023414612     True\n",
       "   53.3024761398 6718.35198935    1.79190321381 ... 50.2412289261     True\n",
       "   36.6706911507 6732.62194859    1.78548692551 ... 37.2928886414     True\n",
       "   10.3920953609 6302.28240761    1.58638644882 ... 16.8847618103     True]"
      ]
     },
     "execution_count": 14,
     "metadata": {},
     "output_type": "execute_result"
    }
   ],
   "source": [
    "#   The plot of relative intensity and continuum emission for the galaxy index jj and the wavelenght of all the lines\n",
    "#   The equivalent width, flux and FWHM for galaxy jj is measured too        \n",
    "for jj in range(len(Tablas)):\n",
    "    spe = []\n",
    "    speCont = []\n",
    "    for xind in range(len(Spectra[jj])):\n",
    "        spe.append((Spectra[jj][xind])/(SpectraCont[jj][xind]))\n",
    "        speCont.append((SpectraCont[jj][xind])/(SpectraCont[jj][xind]))\n",
    "\n",
    "    lFWHM = []\n",
    "    eqW = []    ##  lista de valores \n",
    "    #  una vez normalizado el espectro observado a la medida del contínuo se integra por el método de Simpson\n",
    "    print jj\n",
    "    for iLineProf in range(len(LINEProfile[jj])):\n",
    "        try:\n",
    "            f = FWHM(Lambda[jj][LINEProfile[jj]['inf'][iLineProf]:LINEProfile[jj]['sup'][iLineProf]], Spectra[jj][LINEProfile[jj]['inf'][iLineProf]:LINEProfile[jj]['sup'][iLineProf]])\n",
    "            if len(f) == 0:\n",
    "                lFWHM.append(0)\n",
    "            else:\n",
    "                lFWHM.append(f[0])\n",
    "        except ValueError:\n",
    "            lFWHM.append(0)\n",
    "        sInteg = simps(y=spe[LINEProfile[jj]['inf'][iLineProf]:LINEProfile[jj]['sup'][iLineProf]], x=Lambda[jj][LINEProfile[jj]['inf'][iLineProf]:LINEProfile[jj]['sup'][iLineProf]], even='avg')\n",
    "        eqW.append(sInteg)\n",
    "    #   Flux determination for each model in galaxy list\n",
    "    #   assignment of the FWHM and equivalent width in the Table for the first galaxy\n",
    "    for i in range(len(Tablas[jj])):\n",
    "        if Tablas[jj][i]['Amplitude']<=0:\n",
    "            Tablas[jj]['Flux'][i],Tablas[jj]['Flux_Err'][i]= 0,0\n",
    "        else:\n",
    "            Tablas[jj]['Flux'][i],Tablas[jj]['Flux_Err'][i]=quad(gaussian,Tablas[jj][i]['Wavelength']-3*Tablas[jj][i]['Sigma'],Tablas[jj][i]['Wavelength']+3*Tablas[jj][i]['Sigma'],args=(Tablas[jj][i]['Amplitude'],Tablas[jj][i]['Wavelength'],Tablas[jj][i]['Sigma']))\n",
    "            Tablas[jj]['FWHM'][i],Tablas[jj]['eqWidth'][i] = lFWHM[i], eqW[i]\n",
    "    Tablas[jj].write('resultTables/Tabla'+str(resultListDT['ObjID'][jj])+'.tbl',format='ascii')\n",
    "Tablas"
   ]
  },
  {
   "cell_type": "markdown",
   "metadata": {},
   "source": [
    "###        Electron density and temperature and plot"
   ]
  },
  {
   "cell_type": "code",
   "execution_count": 15,
   "metadata": {
    "collapsed": false
   },
   "outputs": [
    {
     "data": {
      "text/html": [
       "&lt;Table masked=False length=1&gt;\n",
       "<table id=\"table139947804037200\">\n",
       "<thead><tr><th>ObjID</th><th>ra</th><th>dec</th><th>z</th><th>isFits</th><th>Temp_1 [OIII]</th><th>Den_1 [SII]</th><th>Temp_2 [NII]</th><th>Den_2 [OII]</th><th>Temp_3 [NII]</th><th>Den_3 [SII]</th><th>Temp_4 [OIII]</th><th>Den_4 [OII]</th></tr></thead>\n",
       "<thead><tr><th></th><th></th><th></th><th></th><th></th><th>K</th><th>1 / cm3</th><th>K</th><th>1 / cm3</th><th>K</th><th>1 / cm3</th><th>K</th><th>1 / cm3</th></tr></thead>\n",
       "<thead><tr><th>string32</th><th>float64</th><th>float64</th><th>float64</th><th>int64</th><th>float64</th><th>float64</th><th>float64</th><th>float64</th><th>float64</th><th>float64</th><th>float64</th><th>float64</th></tr></thead>\n",
       "<tr><td>SDSS</td><td>254.30315</td><td>32.19484</td><td>0.038348</td><td>1</td><td>12237.9455378</td><td>974.739203046</td><td>nan</td><td>nan</td><td>nan</td><td>nan</td><td>12246.7343102</td><td>301.404988989</td></tr>\n",
       "</table>"
      ],
      "text/plain": [
       "<Table masked=False length=1>\n",
       " ObjID       ra      dec       z     ... Den_3 [SII] Temp_4 [OIII]  Den_4 [OII] \n",
       "                                     ...   1 / cm3         K          1 / cm3   \n",
       "string32  float64  float64  float64  ...   float64      float64       float64   \n",
       "-------- --------- -------- -------- ... ----------- ------------- -------------\n",
       "    SDSS 254.30315 32.19484 0.038348 ...         nan 12246.7343102 301.404988989"
      ]
     },
     "execution_count": 15,
     "metadata": {},
     "output_type": "execute_result"
    }
   ],
   "source": [
    "#   it obtains the electron density and temperature by the PyNeb cross iterative method for all couple of given species.\n",
    "\n",
    "fig = plt.figure()\n",
    "fig.suptitle('')\n",
    "ax = fig.add_subplot(111)\n",
    "ax.set_ylabel('Density $n_e (cm^{-3})$')\n",
    "ax.set_xlabel('Temperature $T_e (K)$')\n",
    "\n",
    "for jj in range(len(Tablas)):\n",
    "    k=0\n",
    "    #if Lambda[jj][0] > 3720.0 :\n",
    "    #    k=2\n",
    "    try:\n",
    "        a=diags.getCrossTemDen('[OIII] 4363/5007+', '[SII] 6731/6716', Tablas[jj]['Flux'][3-k]/(Tablas[jj]['Flux'][6-k]+Tablas[jj]['Flux'][7-k]), Tablas[jj]['Flux'][13-k]/Tablas[jj]['Flux'][14-k])\n",
    "        b=diags.getCrossTemDen('[NII] 5755/6584+', '[OII] 3726/3729', Tablas[jj]['Flux'][8-k]/(Tablas[jj]['Flux'][12-k]+Tablas[jj]['Flux'][10-k]), Tablas[jj]['Flux'][0-k]/Tablas[jj]['Flux'][1-k])\n",
    "        c=diags.getCrossTemDen('[NII] 5755/6584+', '[SII] 6731/6716', Tablas[jj]['Flux'][8-k]/(Tablas[jj]['Flux'][12-k]+Tablas[jj]['Flux'][10-k]), Tablas[jj]['Flux'][13-k]/Tablas[jj]['Flux'][14-k])\n",
    "        d=diags.getCrossTemDen('[OIII] 4363/5007+', '[OII] 3726/3729', Tablas[jj]['Flux'][3-k]/(Tablas[jj]['Flux'][6-k]+Tablas[jj]['Flux'][7-k]), Tablas[jj]['Flux'][0-k]/Tablas[jj]['Flux'][1-k])\n",
    "    except ValueError:\n",
    "        continue\n",
    "\n",
    "    for i in IntrinsicHB:\n",
    "        rc.setCorr((Tablas[jj]['Flux'][11-k]/Tablas[jj]['Flux'][4-k])/i, Tablas[jj]['Lambda Vac'][11-k], Tablas[jj]['Lambda Vac'][4-k])\n",
    "        try:\n",
    "            a2=diags.getCrossTemDen('[OIII] 4363/5007+', '[SII] 6731/6716',Tablas[jj]['Flux'][3-k]*rc.getCorrHb(Tablas[jj]['Lambda Vac'][3-k])/(Tablas[jj]['Flux'][6-k]*rc.getCorrHb(Tablas[jj]['Lambda Vac'][6-k])+ Tablas[jj]['Flux'][7-k]*rc.getCorrHb(Tablas[jj]['Lambda Vac'][7-k]) ), Tablas[jj]['Flux'][13-k] * rc.getCorrHb(Tablas[jj]['Lambda Vac'][13-k])/Tablas[jj]['Flux'][14-k] * rc.getCorrHb(Tablas[jj]['Lambda Vac'][14-k]))\n",
    "            b2=diags.getCrossTemDen('[NII] 5755/6584+', '[OII] 3726/3729', Tablas[jj]['Flux'][8-k]*rc.getCorrHb(Tablas[jj]['Lambda Vac'][8-k])/(Tablas[jj]['Flux'][12-k]*rc.getCorrHb(Tablas[jj]['Lambda Vac'][12-k])+Tablas[jj]['Flux'][10-k]*rc.getCorrHb(Tablas[jj]['Lambda Vac'][7-k])), Tablas[jj]['Flux'][0-k]*rc.getCorrHb(Tablas[jj]['Lambda Vac'][0-k])/Tablas[jj]['Flux'][1-k])*rc.getCorrHb(Tablas[jj]['Lambda Vac'][1-k])\n",
    "            c2=diags.getCrossTemDen('[NII] 5755/6584+', '[SII] 6731/6716', Tablas[jj]['Flux'][8-k]*rc.getCorrHb(Tablas[jj]['Lambda Vac'][8-k])/(Tablas[jj]['Flux'][12-k]*rc.getCorrHb(Tablas[jj]['Lambda Vac'][12-k])+Tablas[jj]['Flux'][10-k]*rc.getCorrHb(Tablas[jj]['Lambda Vac'][7-k])),Tablas[jj]['Flux'][13-k] * rc.getCorrHb(Tablas[jj]['Lambda Vac'][13-k])/Tablas[jj]['Flux'][14-k] * rc.getCorrHb(Tablas[jj]['Lambda Vac'][14-k]))\n",
    "            d2=diags.getCrossTemDen('[OIII] 4363/5007+', '[OII] 3726/3729',Tablas[jj]['Flux'][3-k]*rc.getCorrHb(Tablas[jj]['Lambda Vac'][3-k])/(Tablas[jj]['Flux'][6-k]*rc.getCorrHb(Tablas[jj]['Lambda Vac'][6-k])+ Tablas[jj]['Flux'][7-k]*rc.getCorrHb(Tablas[jj]['Lambda Vac'][7-k]) ), Tablas[jj]['Flux'][0-k]*rc.getCorrHb(Tablas[jj]['Lambda Vac'][0-k])/Tablas[jj]['Flux'][1-k])*rc.getCorrHb(Tablas[jj]['Lambda Vac'][1-k])\n",
    "        except ValueError:\n",
    "            continue\n",
    "        if b2 != () or d2 != ():\n",
    "            plt.scatter(b2[0], b2[1],c='c')\n",
    "            plt.scatter(d2[0], d2[1],c='c')\n",
    "        if i == 2.86:\n",
    "            resultListDT['Temp_1 [OIII]'][jj]=a2[0]\n",
    "            resultListDT['Den_1 [SII]'][jj]=a2[1]\n",
    "            resultListDT['Temp_3 [NII]'][jj]=c2[0]\n",
    "            resultListDT['Den_3 [SII]'][jj]=c2[1]\n",
    "            if b2 != () or d2 != ():\n",
    "                resultListDT['Temp_2 [NII]'][jj]=b2[0]\n",
    "                resultListDT['Den_2 [OII]'][jj]=b2[1] \n",
    "                resultListDT['Temp_4 [OIII]'][jj]=d2[0]\n",
    "                resultListDT['Den_4 [OII]'][jj]=d2[1]\n",
    "            #if Lambda[jj][0] > 3720.0 :\n",
    "            #    resultListDT['Temp_2 [NII]'][jj]=0.0\n",
    "            #    resultListDT['Den_2 [OII]'][jj]=0.0\n",
    "            #    resultListDT['Temp_4 [OIII]'][jj]=0.0\n",
    "            #    resultListDT['Den_4 [OII]'][jj]=0.0\n",
    "    resultListDT.write('resultTables/TemDenGalaxies'+str(resultListDT['ObjID'][jj])+'.tbl',format='ascii')\n",
    "resultListDT\n"
   ]
  },
  {
   "cell_type": "markdown",
   "metadata": {},
   "source": [
    "###                     Plots the fitting spectrum normalized of index jj"
   ]
  },
  {
   "cell_type": "code",
   "execution_count": 4,
   "metadata": {
    "collapsed": false,
    "scrolled": false
   },
   "outputs": [
    {
     "name": "stdout",
     "output_type": "stream",
     "text": [
      "Using matplotlib backend: Qt4Agg\n"
     ]
    }
   ],
   "source": [
    "#   plot of the galaxy with index jj observed with respect to the continuum in zero. Two models for the lines required \n",
    "\n",
    "%matplotlib\n",
    "jj=0\n",
    "if isFits:\n",
    "    if TypeFITS == 0:\n",
    "        print HDUs[jj][0].header['FLAVOR']\n",
    "        print HDUs[jj][0].header['QUALITY']\n",
    "        print HDUs[jj][0].header['FBADPIX'] ## %%Malos Pixeles\n",
    "        print HDUs[jj][2].data['SN_MEDIAN_ALL']\n",
    "        print HDUs[jj][2].data['SN_MEDIAN']\n",
    "\n",
    "lambd=Lambda[jj]\n",
    "\n",
    "plt.figure(figsize=(16, 9))\n",
    "plt.title('Spectrum Galaxy '+ resultListDT['ObjID'][jj])\n",
    "plt.xlabel(r'Wavelength (Angstroms $\\AA$) ')\n",
    "if TypeFITS == 0:\n",
    "    plt.ylabel(r'$f_{\\lambda}$ ('+str(head['BUNIT'])+')')\n",
    "else:\n",
    "    plt.ylabel(r'$f_{\\lambda}$')\n",
    "\n",
    "plt.errorbar(Lambda[jj],Spectra[jj]-SpectraCont[jj],SpectraIvar[jj],  c='gray',lw=1,label='Spectrum')\n",
    "plt.plot(Lambda[jj], Spectra[jj]-SpectraCont[jj], c='k', lw=0.8, label='Model')\n",
    "plt.plot(Lambda[jj], Modelos[jj][0](Lambda[jj]), c='yellow', lw=1)\n",
    "\n",
    "plt.legend()\n",
    "\n",
    "x=np.linspace(Lambda[jj][0],Lambda[jj][-1],len(Lambda[jj]))\n",
    "for i in range(len(Tablas[jj])):\n",
    "    plt.axvline(x=Tablas[jj]['Lambda Vac'][i],c='dimgrey',lw=1.2,ls='--')\n",
    "    plt.text(Tablas[jj]['Lambda Vac'][i] + 0.5, Tablas[jj]['Amplitude'][i] * 1.2,Tablas[jj]['Element'][i])\n",
    "    if Tablas[jj]['Element'][i] == 'H I':\n",
    "        plt.plot(x,gaussian(x,Tablas[jj][i]['Amplitude'],Tablas[jj][i]['Wavelength'],Tablas[jj][i]['Sigma']), c='DeepPink')\n",
    "##        plt.plot(x,lorentzFunc(x,Tablas[jj][i]['Amplitude'],Tablas[jj][i]['Sigma'], Tablas[jj][i]['Wavelength']), c='DeepPink')\n",
    "    else:\n",
    "        if Tablas[jj][i]['Sigma']!=0:\n",
    "            plt.plot(x,gaussian(x,Tablas[jj][i]['Amplitude'],Tablas[jj][i]['Wavelength'],Tablas[jj][i]['Sigma']) , c='Lime')\n",
    "##            plt.plot(x,lorentzFunc(x,Tablas[jj][i]['Amplitude'],Tablas[jj][i]['Sigma'],Tablas[jj][i]['Wavelength']) , c='Lime')\n",
    "\n",
    "#plt.savefig('F1.eps', format='eps', dpi=1000)\n"
   ]
  },
  {
   "cell_type": "code",
   "execution_count": 14,
   "metadata": {
    "collapsed": false,
    "scrolled": true
   },
   "outputs": [
    {
     "name": "stdout",
     "output_type": "stream",
     "text": [
      "Using matplotlib backend: Qt4Agg\n"
     ]
    },
    {
     "data": {
      "text/plain": [
       "[<matplotlib.lines.Line2D at 0x7f00ec1d4990>]"
      ]
     },
     "execution_count": 14,
     "metadata": {},
     "output_type": "execute_result"
    }
   ],
   "source": [
    "%matplotlib\n",
    "kaksj = Modelos[jj][1](Lambda[jj])\n",
    "lalskal = Modelos[jj][0](Lambda[jj])\n",
    "specModel = spec+lalskal\n",
    "plt.errorbar(Lambda[jj],Spectra[jj] ,SpectraIvar[jj],  c='k',lw=2,label='Data')   #Flujo en negro\n",
    "plt.plot(Lambda[jj], specModel, lw=2, label='reducedSpectra')"
   ]
  },
  {
   "cell_type": "code",
   "execution_count": 14,
   "metadata": {
    "collapsed": false
   },
   "outputs": [
    {
     "name": "stdout",
     "output_type": "stream",
     "text": [
      "Using matplotlib backend: Qt4Agg\n"
     ]
    },
    {
     "name": "stderr",
     "output_type": "stream",
     "text": [
      "/usr/local/lib/python2.7/dist-packages/matplotlib/axes/_axes.py:475: UserWarning: No labelled objects found. Use label='...' kwarg on individual plots.\n",
      "  warnings.warn(\"No labelled objects found. \"\n"
     ]
    }
   ],
   "source": [
    "%matplotlib\n",
    "\n",
    "plt.figure(figsize=(16, 9))\n",
    "for i in range(10):\n",
    "    B=[]\n",
    "    for j in range(len(Spectra[jj])):\n",
    "        bb=SpectraIvar[jj][j]*random.uniform(-3,3)\n",
    "        B.append(bb)\n",
    "    plt.plot(Lambda[jj],(Spectra[jj] +B),c='orange')\n",
    "plt.legend()"
   ]
  },
  {
   "cell_type": "code",
   "execution_count": 41,
   "metadata": {
    "collapsed": false
   },
   "outputs": [],
   "source": [
    "#   star spectrum\n",
    "\n",
    "theorFlux = blackbody.blackbody_lambda(Lambda[jj], 6000)\n",
    "theorFlux = theorFlux/np.max(theorFlux)\n",
    "theorFlux = theorFlux*np.max(Spectra[jj])\n",
    "%matplotlib\n",
    "#plt.plot(Lambda[jj], theorFlux)\n",
    "plt.plot(Lambda[jj],Spectra[jj], lw=0.5, c = 'k', label='Spectra')\n",
    "plt.plot(Lambda[jj],SpectraCont[jj], lw=2, c = 'g', label='Spectra')"
   ]
  },
  {
   "cell_type": "code",
   "execution_count": 28,
   "metadata": {
    "collapsed": false
   },
   "outputs": [
    {
     "data": {
      "text/html": [
       "&lt;Table masked=False length=16&gt;\n",
       "<table id=\"table139947794030864\">\n",
       "<thead><tr><th>LAMBDA VAC ANG</th><th>SPECTRUM</th><th>TT</th><th>TERM</th><th>J J</th><th>LEVEL ENERGY  CM 1</th></tr></thead>\n",
       "<thead><tr><th>float64</th><th>string56</th><th>string16</th><th>string56</th><th>string56</th><th>string176</th></tr></thead>\n",
       "<tr><td>3727.092</td><td>[O II]</td><td>E2</td><td>4So-2Do</td><td>3/2-3/2</td><td>0.00 -    26830.57</td></tr>\n",
       "<tr><td>3729.875</td><td>[O II]</td><td>E2</td><td>4So-2Do</td><td>3/2-5/2</td><td>0.00 -    26810.55</td></tr>\n",
       "<tr><td>4341.684</td><td>H I</td><td>E1</td><td>2-5</td><td>*-*</td><td>82259.11 -   105291.66</td></tr>\n",
       "<tr><td>4364.436</td><td>[O III]</td><td>E2</td><td>1D-1S</td><td>2-0</td><td>20273.27 -    43185.74</td></tr>\n",
       "<tr><td>4862.683</td><td>H I</td><td>E1</td><td>2-4</td><td>*-*</td><td>82259.11 -   102823.90</td></tr>\n",
       "<tr><td>4932.603</td><td>[O III]</td><td>E2</td><td>3P-1D</td><td>0-2</td><td>0.00 -    20273.27</td></tr>\n",
       "<tr><td>4960.295</td><td>[O III]</td><td>M1</td><td>3P-1D</td><td>1-2</td><td>113.18 -    20273.27</td></tr>\n",
       "<tr><td>5008.24</td><td>[O III]</td><td>M1</td><td>3P-1D</td><td>2-2</td><td>306.17 -    20273.27</td></tr>\n",
       "<tr><td>5756.24</td><td>[N II]</td><td>E2</td><td>1D-1S</td><td>2-0</td><td>15316.19 -    32688.64</td></tr>\n",
       "<tr><td>6529.04</td><td>[N II]</td><td>E2</td><td>3P-1D</td><td>0-2</td><td>0.00 -    15316.19</td></tr>\n",
       "<tr><td>6549.85</td><td>[N II]</td><td>M1</td><td>3P-1D</td><td>1-2</td><td>48.67 -    15316.19</td></tr>\n",
       "<tr><td>6564.61</td><td>H I</td><td>E1</td><td>2-3</td><td>*-*</td><td>82259.11 -    97492.31</td></tr>\n",
       "<tr><td>6585.28</td><td>[N II]</td><td>M1</td><td>3P-1D</td><td>2-2</td><td>130.80 -    15316.19</td></tr>\n",
       "<tr><td>6718.29</td><td>[S II]</td><td>E2</td><td>4So-2Do</td><td>3/2-5/2</td><td>0.00 -    14884.73</td></tr>\n",
       "<tr><td>6732.67</td><td>[S II]</td><td>E2</td><td>4So-2Do</td><td>3/2-3/2</td><td>0.00 -    14852.94</td></tr>\n",
       "<tr><td>6302.046</td><td>[O I]</td><td>M1</td><td>3P-1D</td><td>2-2</td><td>0.00 -    15867.86</td></tr>\n",
       "</table>"
      ],
      "text/plain": [
       "<Table masked=False length=16>\n",
       "LAMBDA VAC ANG SPECTRUM    TT      TERM     J J      LEVEL ENERGY  CM 1  \n",
       "   float64     string56 string16 string56 string56       string176       \n",
       "-------------- -------- -------- -------- -------- ----------------------\n",
       "      3727.092   [O II]       E2  4So-2Do  3/2-3/2     0.00 -    26830.57\n",
       "      3729.875   [O II]       E2  4So-2Do  3/2-5/2     0.00 -    26810.55\n",
       "      4341.684      H I       E1      2-5      *-* 82259.11 -   105291.66\n",
       "      4364.436  [O III]       E2    1D-1S      2-0 20273.27 -    43185.74\n",
       "      4862.683      H I       E1      2-4      *-* 82259.11 -   102823.90\n",
       "      4932.603  [O III]       E2    3P-1D      0-2     0.00 -    20273.27\n",
       "      4960.295  [O III]       M1    3P-1D      1-2   113.18 -    20273.27\n",
       "       5008.24  [O III]       M1    3P-1D      2-2   306.17 -    20273.27\n",
       "       5756.24   [N II]       E2    1D-1S      2-0 15316.19 -    32688.64\n",
       "       6529.04   [N II]       E2    3P-1D      0-2     0.00 -    15316.19\n",
       "       6549.85   [N II]       M1    3P-1D      1-2    48.67 -    15316.19\n",
       "       6564.61      H I       E1      2-3      *-* 82259.11 -    97492.31\n",
       "       6585.28   [N II]       M1    3P-1D      2-2   130.80 -    15316.19\n",
       "       6718.29   [S II]       E2  4So-2Do  3/2-5/2     0.00 -    14884.73\n",
       "       6732.67   [S II]       E2  4So-2Do  3/2-3/2     0.00 -    14852.94\n",
       "      6302.046    [O I]       M1    3P-1D      2-2     0.00 -    15867.86"
      ]
     },
     "execution_count": 28,
     "metadata": {},
     "output_type": "execute_result"
    }
   ],
   "source": [
    "ListaLineas=Table.read('LinesAll.txt', format='ascii')\n",
    "ListaLineas"
   ]
  },
  {
   "cell_type": "code",
   "execution_count": 126,
   "metadata": {
    "collapsed": true
   },
   "outputs": [],
   "source": [
    "def lineProfile2(i,spec, lambd,ListLines,ListGal, limResoluc):\n",
    "    linePr = Table(names=('lambda', 'inf', 'sup'), dtype=('i5','i5', 'i5'))\n",
    "    for c in range(0, len(ListLines)):\n",
    "        lambdLine=ListLines['LAMBDA VAC ANG'][c]          #Líneas obtenidas de la base de datos Astroquery\n",
    "        v = np.where((lambd >= lambdLine-limResoluc) & (lambd <= lambdLine+limResoluc))\n",
    "        print v\n",
    "        if len(v[0]) == 0:\n",
    "            ind = 0\n",
    "            l_inf = 0\n",
    "            l_sup = 0\n",
    "            iM=0\n",
    "        else:\n",
    "            ind = 1\n",
    "            \n",
    "            l_inf = v[0][0]-ind\n",
    "            l_sup = v[0][-1]+ind\n",
    "            slopeRight = spec[l_sup+1]-spec[l_sup]\n",
    "            cooc = 0\n",
    "            while cooc<1:\n",
    "                l_sup=l_sup+1\n",
    "                sloRaux = slopeRight\n",
    "                slopeRight = spec[l_sup+1]-spec[l_sup]\n",
    "                if slopeRight*sloRaux <= 0:\n",
    "                    cooc = cooc + 1\n",
    "            cooc = 0\n",
    "            slopeLeft = spec[l_inf-1]-spec[l_inf]\n",
    "            while cooc<1:\n",
    "                l_inf=l_inf-1\n",
    "                sloLaux = slopeLeft\n",
    "                slopeLeft = spec[l_inf-1]-spec[l_inf]\n",
    "                if slopeLeft*sloLaux <= 0:\n",
    "                    cooc = cooc + 1\n",
    "            print l_inf,l_sup\n",
    "            # Una vez encontrado el intervalo se busca el indice donde\n",
    "            # tiene el máximo valor de intensidad\n",
    "            indMaxInt = np.where(ListGal[i][l_inf:l_sup]==np.max(ListGal[i][l_inf:l_sup]))\n",
    "            indMax=indMaxInt[0][0]+l_inf\n",
    "            iM = indMax\n",
    "            \n",
    "        linePr.add_row((iM, l_inf, l_sup))        \n",
    "    return linePr"
   ]
  },
  {
   "cell_type": "code",
   "execution_count": 100,
   "metadata": {
    "collapsed": false
   },
   "outputs": [
    {
     "name": "stdout",
     "output_type": "stream",
     "text": [
      "(array([42, 43]),)\n",
      "31 56\n",
      "(array([45, 46, 47]),)\n",
      "31 56\n",
      "(array([705, 706]),)\n",
      "697 715\n",
      "(array([728, 729]),)\n",
      "715 742\n",
      "(array([1197, 1198]),)\n",
      "1187 1210\n",
      "(array([1259, 1260]),)\n",
      "1253 1268\n",
      "(array([1284, 1285]),)\n",
      "1268 1294\n",
      "(array([1326]),)\n",
      "1313 1344\n",
      "(array([1930, 1931]),)\n",
      "1926 1938\n",
      "(array([2477, 2478]),)\n",
      "2469 2492\n",
      "(array([2491, 2492]),)\n",
      "2469 2501\n",
      "(array([2501]),)\n",
      "2493 2510\n",
      "(array([2515]),)\n",
      "2510 2532\n",
      "(array([2602]),)\n",
      "2593 2607\n",
      "(array([2611]),)\n",
      "2607 2622\n",
      "(array([2324]),)\n",
      "2315 2329\n"
     ]
    },
    {
     "data": {
      "text/html": [
       "&lt;Table masked=False length=16&gt;\n",
       "<table id=\"table139947765510096\">\n",
       "<thead><tr><th>lambda</th><th>inf</th><th>sup</th></tr></thead>\n",
       "<thead><tr><th>int32</th><th>int32</th><th>int32</th></tr></thead>\n",
       "<tr><td>45</td><td>31</td><td>56</td></tr>\n",
       "<tr><td>45</td><td>31</td><td>56</td></tr>\n",
       "<tr><td>706</td><td>697</td><td>715</td></tr>\n",
       "<tr><td>728</td><td>715</td><td>742</td></tr>\n",
       "<tr><td>1198</td><td>1187</td><td>1210</td></tr>\n",
       "<tr><td>1254</td><td>1253</td><td>1268</td></tr>\n",
       "<tr><td>1284</td><td>1268</td><td>1294</td></tr>\n",
       "<tr><td>1326</td><td>1313</td><td>1344</td></tr>\n",
       "<tr><td>1932</td><td>1926</td><td>1938</td></tr>\n",
       "<tr><td>2491</td><td>2469</td><td>2492</td></tr>\n",
       "<tr><td>2500</td><td>2469</td><td>2501</td></tr>\n",
       "<tr><td>2501</td><td>2493</td><td>2510</td></tr>\n",
       "<tr><td>2515</td><td>2510</td><td>2532</td></tr>\n",
       "<tr><td>2602</td><td>2593</td><td>2607</td></tr>\n",
       "<tr><td>2611</td><td>2607</td><td>2622</td></tr>\n",
       "<tr><td>2324</td><td>2315</td><td>2329</td></tr>\n",
       "</table>"
      ],
      "text/plain": [
       "<Table masked=False length=16>\n",
       "lambda  inf   sup \n",
       "int32  int32 int32\n",
       "------ ----- -----\n",
       "    45    31    56\n",
       "    45    31    56\n",
       "   706   697   715\n",
       "   728   715   742\n",
       "  1198  1187  1210\n",
       "  1254  1253  1268\n",
       "  1284  1268  1294\n",
       "  1326  1313  1344\n",
       "  1932  1926  1938\n",
       "  2491  2469  2492\n",
       "  2500  2469  2501\n",
       "  2501  2493  2510\n",
       "  2515  2510  2532\n",
       "  2602  2593  2607\n",
       "  2611  2607  2622\n",
       "  2324  2315  2329"
      ]
     },
     "execution_count": 100,
     "metadata": {},
     "output_type": "execute_result"
    }
   ],
   "source": [
    "#box_kernel = Box1DKernel(10)\n",
    "#smoothed_data_box = convolve(Spectra[jj], box_kernel)\n",
    "jj=0\n",
    "gauss_kernel = Gaussian1DKernel(2)\n",
    "smoothed_data_gauss = convolve(Spectra[jj], gauss_kernel)\n",
    "\n",
    "\n",
    "lPPP = lineProfile(0,smoothed_data_gauss, Lambda[0],ListaLineas,Spectra, limResolucion)\n",
    "lPPP"
   ]
  },
  {
   "cell_type": "code",
   "execution_count": 102,
   "metadata": {
    "collapsed": false
   },
   "outputs": [
    {
     "name": "stdout",
     "output_type": "stream",
     "text": [
      "Using matplotlib backend: Qt4Agg\n"
     ]
    }
   ],
   "source": [
    "\n",
    "jj = 0\n",
    "\n",
    "\n",
    "\n",
    "%matplotlib\n",
    "#plt.plot(Lambda[jj], theorFlux)\n",
    "plt.plot(Lambda[jj],Spectra[jj], lw=0.5, c = 'k', label='Spectra')\n",
    "plt.plot(Lambda[jj],SpectraCont[jj], lw=2, c = 'g', label='Spectra')\n",
    "plt.plot(Lambda[jj],smoothed_data_gauss, lw=2, c = 'cyan', label='Spectra')\n",
    "for iasiao in range(len(lPPP)):\n",
    "    plt.plot(Lambda[jj][lPPP['inf'][iasiao]:lPPP['sup'][iasiao]],Spectra[jj][lPPP['inf'][iasiao]:lPPP['sup'][iasiao]], lw=2.0, c = 'b')"
   ]
  },
  {
   "cell_type": "code",
   "execution_count": 19,
   "metadata": {
    "collapsed": false,
    "scrolled": true
   },
   "outputs": [
    {
     "name": "stdout",
     "output_type": "stream",
     "text": [
      "Using matplotlib backend: Qt4Agg\n"
     ]
    },
    {
     "data": {
      "text/plain": [
       "[<matplotlib.lines.Line2D at 0x7f4822ea1150>]"
      ]
     },
     "execution_count": 19,
     "metadata": {},
     "output_type": "execute_result"
    }
   ],
   "source": [
    "#np.std(Spectra[0][])\n",
    "jj = 0\n",
    "spssp = [100]*len(Spectra[0])\n",
    "divisi = 2\n",
    "lambdDiv = int(mt.floor(len(spssp)/divisi))\n",
    "lambdDivArr = [lambdDiv*a for a in range(divisi)]\n",
    "lambdDivArr[-1] = len(Spectra[0])\n",
    "for aa in range(len(lambdDivArr)-1):\n",
    "    stdSpDiv = np.std(Spectra[0][lambdDivArr[aa]:lambdDivArr[aa+1]])\n",
    "    #box_kernel = Box1DKernel(stdSpDiv)\n",
    "    #smoothed_data_box = convolve(Spectra[0][lambdDivArr[aa]:lambdDivArr[aa+1]], box_kernel)\n",
    "    \n",
    "    gauss_kernel = Gaussian1DKernel(stdSpDiv)\n",
    "    smoothed_data_gauss = convolve(Spectra[0][lambdDivArr[aa]:lambdDivArr[aa+1]], gauss_kernel)\n",
    "    \n",
    "    spssp[lambdDivArr[aa]:lambdDivArr[aa+1]] = smoothed_data_gauss # smoothed_data_box\n",
    "    #meanSpDiv = np.mean(SpectraIvar[0][lambdDivArr[aa]:lambdDivArr[aa+1]])\n",
    "    #print \"std: \", , \"err: \", np.mean(SpectraIvar[0][lambdDivArr[aa]:lambdDivArr[aa+1]])\n",
    "    #print Spectra[0][lambdDivArr[aa]:lambdDivArr[aa+1]]\n",
    "\n",
    "\n",
    "%matplotlib\n",
    "#plt.plot(Lambda[jj], theorFlux)\n",
    "plt.plot(Lambda[jj],Spectra[jj], lw=0.5, c = 'k', label='Spectra')\n",
    "plt.plot(Lambda[jj],SpectraCont[jj], lw=2, c = 'g', label='Spectra')\n",
    "plt.plot(Lambda[jj],spssp, lw=2, c = 'cyan', label='Spectra')"
   ]
  },
  {
   "cell_type": "code",
   "execution_count": 60,
   "metadata": {
    "collapsed": false
   },
   "outputs": [
    {
     "data": {
      "text/plain": [
       "100"
      ]
     },
     "execution_count": 60,
     "metadata": {},
     "output_type": "execute_result"
    }
   ],
   "source": [
    "len(lambdDivArr)"
   ]
  },
  {
   "cell_type": "code",
   "execution_count": null,
   "metadata": {
    "collapsed": true
   },
   "outputs": [],
   "source": []
  },
  {
   "cell_type": "markdown",
   "metadata": {
    "collapsed": false
   },
   "source": [
    "###   Read tables Tabla... from files stored in resultTables and then density temperature calculation"
   ]
  },
  {
   "cell_type": "code",
   "execution_count": 40,
   "metadata": {
    "collapsed": false
   },
   "outputs": [
    {
     "data": {
      "text/html": [
       "&lt;Table masked=False length=12&gt;\n",
       "<table id=\"table139729071106384\">\n",
       "<thead><tr><th>ObjID</th><th>ra</th><th>dec</th><th>z</th><th>isFits</th><th>Temp_1 [OIII]</th><th>Den_1 [SII]</th><th>Temp_2 [NII]</th><th>Den_2 [OII]</th><th>Temp_3 [NII]</th><th>Den_3 [SII]</th><th>Temp_4 [OIII]</th><th>Den_4 [OII]</th></tr></thead>\n",
       "<thead><tr><th></th><th></th><th></th><th></th><th></th><th>K</th><th>1 / cm3</th><th>K</th><th>1 / cm3</th><th>K</th><th>1 / cm3</th><th>K</th><th>1 / cm3</th></tr></thead>\n",
       "<thead><tr><th>string264</th><th>float32</th><th>float32</th><th>float64</th><th>int8</th><th>float64</th><th>float64</th><th>float64</th><th>float64</th><th>float64</th><th>float64</th><th>float64</th><th>float64</th></tr></thead>\n",
       "<tr><td>2MASX J00505919-0031294</td><td>0.0</td><td>0.0</td><td>0.0</td><td>1</td><td>0.0</td><td>0.0</td><td>0.0</td><td>0.0</td><td>0.0</td><td>0.0</td><td>0.0</td><td>0.0</td></tr>\n",
       "<tr><td>UGC 06315 NED02SP1</td><td>0.0</td><td>0.0</td><td>0.0</td><td>1</td><td>0.0</td><td>0.0</td><td>0.0</td><td>0.0</td><td>0.0</td><td>0.0</td><td>0.0</td><td>0.0</td></tr>\n",
       "<tr><td>MRK 0168SP1</td><td>0.0</td><td>0.0</td><td>0.0</td><td>1</td><td>0.0</td><td>0.0</td><td>0.0</td><td>0.0</td><td>0.0</td><td>0.0</td><td>0.0</td><td>0.0</td></tr>\n",
       "<tr><td>UM 213SP1</td><td>0.0</td><td>0.0</td><td>0.0</td><td>1</td><td>0.0</td><td>0.0</td><td>0.0</td><td>0.0</td><td>0.0</td><td>0.0</td><td>0.0</td><td>0.0</td></tr>\n",
       "<tr><td>SDSS J011031.04+010200.7SP1</td><td>0.0</td><td>0.0</td><td>0.0</td><td>1</td><td>0.0</td><td>0.0</td><td>0.0</td><td>0.0</td><td>0.0</td><td>0.0</td><td>0.0</td><td>0.0</td></tr>\n",
       "<tr><td>MRK 0738SP1</td><td>0.0</td><td>0.0</td><td>0.0</td><td>1</td><td>0.0</td><td>0.0</td><td>0.0</td><td>0.0</td><td>0.0</td><td>0.0</td><td>0.0</td><td>0.0</td></tr>\n",
       "<tr><td>TON 0151SP2</td><td>0.0</td><td>0.0</td><td>0.0</td><td>1</td><td>0.0</td><td>0.0</td><td>0.0</td><td>0.0</td><td>0.0</td><td>0.0</td><td>0.0</td><td>0.0</td></tr>\n",
       "<tr><td>2MASX J15540451+2134564SP1</td><td>0.0</td><td>0.0</td><td>0.0</td><td>1</td><td>0.0</td><td>0.0</td><td>0.0</td><td>0.0</td><td>0.0</td><td>0.0</td><td>0.0</td><td>0.0</td></tr>\n",
       "<tr><td>SDSS J162142.37+374536.7SP1</td><td>0.0</td><td>0.0</td><td>0.0</td><td>1</td><td>0.0</td><td>0.0</td><td>0.0</td><td>0.0</td><td>0.0</td><td>0.0</td><td>0.0</td><td>0.0</td></tr>\n",
       "<tr><td>2MASX J00580076+0028456SP1</td><td>0.0</td><td>0.0</td><td>0.0</td><td>1</td><td>0.0</td><td>0.0</td><td>0.0</td><td>0.0</td><td>0.0</td><td>0.0</td><td>0.0</td><td>0.0</td></tr>\n",
       "<tr><td>2MASX J03025710-0829425SP1</td><td>0.0</td><td>0.0</td><td>0.0</td><td>1</td><td>0.0</td><td>0.0</td><td>0.0</td><td>0.0</td><td>0.0</td><td>0.0</td><td>0.0</td><td>0.0</td></tr>\n",
       "<tr><td>SDSS J170918.48+621731.5SP1</td><td>0.0</td><td>0.0</td><td>0.0</td><td>1</td><td>0.0</td><td>0.0</td><td>0.0</td><td>0.0</td><td>0.0</td><td>0.0</td><td>0.0</td><td>0.0</td></tr>\n",
       "</table>"
      ],
      "text/plain": [
       "<Table masked=False length=12>\n",
       "           ObjID               ra     dec   ... Temp_4 [OIII] Den_4 [OII]\n",
       "                                            ...       K         1 / cm3  \n",
       "         string264          float32 float32 ...    float64      float64  \n",
       "--------------------------- ------- ------- ... ------------- -----------\n",
       "    2MASX J00505919-0031294     0.0     0.0 ...           0.0         0.0\n",
       "         UGC 06315 NED02SP1     0.0     0.0 ...           0.0         0.0\n",
       "                MRK 0168SP1     0.0     0.0 ...           0.0         0.0\n",
       "                  UM 213SP1     0.0     0.0 ...           0.0         0.0\n",
       "SDSS J011031.04+010200.7SP1     0.0     0.0 ...           0.0         0.0\n",
       "                MRK 0738SP1     0.0     0.0 ...           0.0         0.0\n",
       "                TON 0151SP2     0.0     0.0 ...           0.0         0.0\n",
       " 2MASX J15540451+2134564SP1     0.0     0.0 ...           0.0         0.0\n",
       "SDSS J162142.37+374536.7SP1     0.0     0.0 ...           0.0         0.0\n",
       " 2MASX J00580076+0028456SP1     0.0     0.0 ...           0.0         0.0\n",
       " 2MASX J03025710-0829425SP1     0.0     0.0 ...           0.0         0.0\n",
       "SDSS J170918.48+621731.5SP1     0.0     0.0 ...           0.0         0.0"
      ]
     },
     "execution_count": 40,
     "metadata": {},
     "output_type": "execute_result"
    }
   ],
   "source": [
    "#  From files in this path directory\n",
    "\n",
    "#   This reads the tables \"Tabla...\" and obtains the best fitting by the difference of\n",
    "#      wavelenght after fitting and the theoretical only the lines given in aarr. A table resultListDT is\n",
    "#      built and then next module can be modified to read it.\n",
    "\n",
    "resultListDT=Table(names=('ObjID','ra','dec','z', 'isFits'),dtype=('S33', 'f12', 'f12','f8', 'i1'))\n",
    "resultList = Table.read(\"resultList.tbl\", format = 'ascii')\n",
    "limDim = 0.5\n",
    "aarr = [3, 6, 7, 10, 12, 13, 14, 0, 1]\n",
    "Tablas = []\n",
    "for objID in resultList:\n",
    "    nameTable = \"Tabla\"+str(objID[0])+\".tbl\"\n",
    "    tableObjID = Table.read('resultTables/'+nameTable, format = 'ascii')\n",
    "    conta = 0\n",
    "    for iLine in aarr: # range(len(tableObjID)):\n",
    "        if (mt.fabs(tableObjID['Lambda Vac'][iLine]-tableObjID['Wavelength'][iLine]) > limDim) or (tableObjID['Flux'][iLine]==0.0) :\n",
    "            continue\n",
    "        else:\n",
    "            conta = conta + 1\n",
    "    if conta == len(aarr):\n",
    "        resultListDT.add_row([objID[0], 0, 0, 0, 1])\n",
    "        Tablas.append(tableObjID)\n",
    "\n",
    "ion = [' [OIII]', ' [SII]', ' [NII]', ' [OII]', ' [NII]', ' [SII]', ' [OIII]', ' [OII]']\n",
    "for i in range(1,5):\n",
    "    colT= Column(name='Temp_'+str(i)+ion[2*(i-1)], length=len(resultListDT),unit=u.K)\n",
    "    colD= Column(name='Den_'+str(i)+ion[2*(i-1)+1], length=len(resultListDT),unit=1 / (u.cm**3))\n",
    "    resultListDT.add_columns([colT,colD])\n",
    "resultListDT\n",
    "\n",
    "#   it obtains the electron density and temperature by the PyNeb cross iterative method for all couple of given species.\n",
    "\n",
    "fig = plt.figure()\n",
    "fig.suptitle('')\n",
    "ax = fig.add_subplot(111)\n",
    "ax.set_ylabel('Density $n_e (cm^{-3})$')\n",
    "ax.set_xlabel('Temperature $T_e (K)$')\n",
    "\n",
    "for jj in [11]:  #  range(len(Tablas)):\n",
    "    k=0\n",
    "    #if Lambda[jj][0] > 3720.0 :\n",
    "    #    k=2\n",
    "    try:\n",
    "        a=diags.getCrossTemDen('[OIII] 4363/5007+', '[SII] 6731/6716', Tablas[jj]['Flux'][3-k]/(Tablas[jj]['Flux'][6-k]+Tablas[jj]['Flux'][7-k]), Tablas[jj]['Flux'][13-k]/Tablas[jj]['Flux'][14-k])\n",
    "        b=diags.getCrossTemDen('[NII] 5755/6584+', '[OII] 3726/3729', Tablas[jj]['Flux'][8-k]/(Tablas[jj]['Flux'][12-k]+Tablas[jj]['Flux'][10-k]), Tablas[jj]['Flux'][0-k]/Tablas[jj]['Flux'][1-k])\n",
    "        c=diags.getCrossTemDen('[NII] 5755/6584+', '[SII] 6731/6716', Tablas[jj]['Flux'][8-k]/(Tablas[jj]['Flux'][12-k]+Tablas[jj]['Flux'][10-k]), Tablas[jj]['Flux'][13-k]/Tablas[jj]['Flux'][14-k])\n",
    "        d=diags.getCrossTemDen('[OIII] 4363/5007+', '[OII] 3726/3729', Tablas[jj]['Flux'][3-k]/(Tablas[jj]['Flux'][6-k]+Tablas[jj]['Flux'][7-k]), Tablas[jj]['Flux'][0-k]/Tablas[jj]['Flux'][1-k])\n",
    "    except ValueError:\n",
    "        continue\n",
    "\n",
    "    for i in IntrinsicHB:\n",
    "        rc.setCorr((Tablas[jj]['Flux'][11-k]/Tablas[jj]['Flux'][4-k])/i, Tablas[jj]['Lambda Vac'][11-k], Tablas[jj]['Lambda Vac'][4-k])\n",
    "        try:\n",
    "            a2=diags.getCrossTemDen('[OIII] 4363/5007+', '[SII] 6731/6716',Tablas[jj]['Flux'][3-k]*rc.getCorrHb(Tablas[jj]['Lambda Vac'][3-k])/(Tablas[jj]['Flux'][6-k]*rc.getCorrHb(Tablas[jj]['Lambda Vac'][6-k])+ Tablas[jj]['Flux'][7-k]*rc.getCorrHb(Tablas[jj]['Lambda Vac'][7-k]) ), Tablas[jj]['Flux'][13-k] * rc.getCorrHb(Tablas[jj]['Lambda Vac'][13-k])/Tablas[jj]['Flux'][14-k] * rc.getCorrHb(Tablas[jj]['Lambda Vac'][14-k]))\n",
    "            b2=diags.getCrossTemDen('[NII] 5755/6584+', '[OII] 3726/3729', Tablas[jj]['Flux'][8-k]*rc.getCorrHb(Tablas[jj]['Lambda Vac'][8-k])/(Tablas[jj]['Flux'][12-k]*rc.getCorrHb(Tablas[jj]['Lambda Vac'][12-k])+Tablas[jj]['Flux'][10-k]*rc.getCorrHb(Tablas[jj]['Lambda Vac'][7-k])), Tablas[jj]['Flux'][0-k]*rc.getCorrHb(Tablas[jj]['Lambda Vac'][0-k])/Tablas[jj]['Flux'][1-k])*rc.getCorrHb(Tablas[jj]['Lambda Vac'][1-k])\n",
    "            c2=diags.getCrossTemDen('[NII] 5755/6584+', '[SII] 6731/6716', Tablas[jj]['Flux'][8-k]*rc.getCorrHb(Tablas[jj]['Lambda Vac'][8-k])/(Tablas[jj]['Flux'][12-k]*rc.getCorrHb(Tablas[jj]['Lambda Vac'][12-k])+Tablas[jj]['Flux'][10-k]*rc.getCorrHb(Tablas[jj]['Lambda Vac'][7-k])),Tablas[jj]['Flux'][13-k] * rc.getCorrHb(Tablas[jj]['Lambda Vac'][13-k])/Tablas[jj]['Flux'][14-k] * rc.getCorrHb(Tablas[jj]['Lambda Vac'][14-k]))\n",
    "            d2=diags.getCrossTemDen('[OIII] 4363/5007+', '[OII] 3726/3729',Tablas[jj]['Flux'][3-k]*rc.getCorrHb(Tablas[jj]['Lambda Vac'][3-k])/(Tablas[jj]['Flux'][6-k]*rc.getCorrHb(Tablas[jj]['Lambda Vac'][6-k])+ Tablas[jj]['Flux'][7-k]*rc.getCorrHb(Tablas[jj]['Lambda Vac'][7-k]) ), Tablas[jj]['Flux'][0-k]*rc.getCorrHb(Tablas[jj]['Lambda Vac'][0-k])/Tablas[jj]['Flux'][1-k])*rc.getCorrHb(Tablas[jj]['Lambda Vac'][1-k])\n",
    "        except ValueError:\n",
    "            continue\n",
    "        if b2 != () or d2 != ():\n",
    "            plt.scatter(b2[0], b2[1],c='c')\n",
    "            plt.scatter(d2[0], d2[1],c='c')\n",
    "        if i == 2.86:\n",
    "            resultListDT['Temp_1 [OIII]'][jj]=a2[0]\n",
    "            resultListDT['Den_1 [SII]'][jj]=a2[1]\n",
    "            resultListDT['Temp_3 [NII]'][jj]=c2[0]\n",
    "            resultListDT['Den_3 [SII]'][jj]=c2[1]\n",
    "            if b2 != () or d2 != ():\n",
    "                resultListDT['Temp_2 [NII]'][jj]=b2[0]\n",
    "                resultListDT['Den_2 [OII]'][jj]=b2[1] \n",
    "                resultListDT['Temp_4 [OIII]'][jj]=d2[0]\n",
    "                resultListDT['Den_4 [OII]'][jj]=d2[1]\n",
    "            #if Lambda[jj][0] > 3720.0 :\n",
    "            #    resultListDT['Temp_2 [NII]'][jj]=0.0\n",
    "            #    resultListDT['Den_2 [OII]'][jj]=0.0\n",
    "            #    resultListDT['Temp_4 [OIII]'][jj]=0.0\n",
    "            #    resultListDT['Den_4 [OII]'][jj]=0.0\n",
    "    #resultListDT.write('resultTables/TemDenGalaxies'+str(resultListDT['ObjID'][jj])+'.tbl',format='ascii')\n",
    "resultListDT\n"
   ]
  },
  {
   "cell_type": "code",
   "execution_count": null,
   "metadata": {
    "collapsed": true
   },
   "outputs": [],
   "source": []
  },
  {
   "cell_type": "code",
   "execution_count": 79,
   "metadata": {
    "collapsed": false
   },
   "outputs": [
    {
     "ename": "TypeError",
     "evalue": "1 parameter(s) provided but 3 expected",
     "output_type": "error",
     "traceback": [
      "\u001b[1;31m---------------------------------------------------------------------------\u001b[0m",
      "\u001b[1;31mTypeError\u001b[0m                                 Traceback (most recent call last)",
      "\u001b[1;32m<ipython-input-79-b34eb39dea75>\u001b[0m in \u001b[0;36m<module>\u001b[1;34m()\u001b[0m\n\u001b[0;32m     16\u001b[0m \u001b[1;33m\u001b[0m\u001b[0m\n\u001b[0;32m     17\u001b[0m \u001b[0mpars\u001b[0m \u001b[1;33m=\u001b[0m \u001b[1;33m{\u001b[0m \u001b[0mg_init\u001b[0m\u001b[1;33m:\u001b[0m \u001b[1;34m'g_init'\u001b[0m\u001b[1;33m,\u001b[0m \u001b[0mg_init2\u001b[0m\u001b[1;33m:\u001b[0m \u001b[1;34m'g_init2'\u001b[0m\u001b[1;33m}\u001b[0m\u001b[1;33m\u001b[0m\u001b[0m\n\u001b[1;32m---> 18\u001b[1;33m \u001b[0mfit_g\u001b[0m \u001b[1;33m=\u001b[0m \u001b[0mfitting\u001b[0m\u001b[1;33m.\u001b[0m\u001b[0mJointFitter\u001b[0m\u001b[1;33m(\u001b[0m \u001b[0mpars\u001b[0m \u001b[1;33m,\u001b[0m \u001b[0mjointpars\u001b[0m\u001b[1;33m,\u001b[0m \u001b[1;33m[\u001b[0m\u001b[1;36m30\u001b[0m\u001b[1;33m,\u001b[0m \u001b[1;36m1.3\u001b[0m\u001b[1;33m,\u001b[0m \u001b[1;36m1.0\u001b[0m\u001b[1;33m]\u001b[0m\u001b[1;33m)\u001b[0m   \u001b[1;31m# LevMarLSQFitter()\u001b[0m\u001b[1;33m\u001b[0m\u001b[0m\n\u001b[0m\u001b[0;32m     19\u001b[0m \u001b[0mg\u001b[0m \u001b[1;33m=\u001b[0m \u001b[0mfit_g\u001b[0m\u001b[1;33m(\u001b[0m\u001b[0mg_init\u001b[0m\u001b[1;33m,\u001b[0m \u001b[0mg_init2\u001b[0m\u001b[1;33m,\u001b[0m \u001b[0mx\u001b[0m\u001b[1;33m,\u001b[0m \u001b[0my\u001b[0m\u001b[1;33m)\u001b[0m\u001b[1;33m\u001b[0m\u001b[0m\n\u001b[0;32m     20\u001b[0m \u001b[1;33m\u001b[0m\u001b[0m\n",
      "\u001b[1;32m/usr/lib64/python2.7/site-packages/astropy-1.0rc1-py2.7-linux-x86_64.egg/astropy/modeling/fitting.pyc\u001b[0m in \u001b[0;36m__init__\u001b[1;34m(self, models, jointparameters, initvals)\u001b[0m\n\u001b[0;32m    672\u001b[0m         \u001b[0mself\u001b[0m\u001b[1;33m.\u001b[0m\u001b[0minitvals\u001b[0m \u001b[1;33m=\u001b[0m \u001b[0mlist\u001b[0m\u001b[1;33m(\u001b[0m\u001b[0minitvals\u001b[0m\u001b[1;33m)\u001b[0m\u001b[1;33m\u001b[0m\u001b[0m\n\u001b[0;32m    673\u001b[0m         \u001b[0mself\u001b[0m\u001b[1;33m.\u001b[0m\u001b[0mjointparams\u001b[0m \u001b[1;33m=\u001b[0m \u001b[0mjointparameters\u001b[0m\u001b[1;33m\u001b[0m\u001b[0m\n\u001b[1;32m--> 674\u001b[1;33m         \u001b[0mself\u001b[0m\u001b[1;33m.\u001b[0m\u001b[0m_verify_input\u001b[0m\u001b[1;33m(\u001b[0m\u001b[1;33m)\u001b[0m\u001b[1;33m\u001b[0m\u001b[0m\n\u001b[0m\u001b[0;32m    675\u001b[0m         \u001b[0mself\u001b[0m\u001b[1;33m.\u001b[0m\u001b[0mfitparams\u001b[0m \u001b[1;33m=\u001b[0m \u001b[0mself\u001b[0m\u001b[1;33m.\u001b[0m\u001b[0m_model_to_fit_params\u001b[0m\u001b[1;33m(\u001b[0m\u001b[1;33m)\u001b[0m\u001b[1;33m\u001b[0m\u001b[0m\n\u001b[0;32m    676\u001b[0m \u001b[1;33m\u001b[0m\u001b[0m\n",
      "\u001b[1;32m/usr/lib64/python2.7/site-packages/astropy-1.0rc1-py2.7-linux-x86_64.egg/astropy/modeling/fitting.pyc\u001b[0m in \u001b[0;36m_verify_input\u001b[1;34m(self)\u001b[0m\n\u001b[0;32m    752\u001b[0m             \u001b[1;32mif\u001b[0m \u001b[0mlen\u001b[0m\u001b[1;33m(\u001b[0m\u001b[0mself\u001b[0m\u001b[1;33m.\u001b[0m\u001b[0mjointparams\u001b[0m\u001b[1;33m[\u001b[0m\u001b[0mj\u001b[0m\u001b[1;33m]\u001b[0m\u001b[1;33m)\u001b[0m \u001b[1;33m!=\u001b[0m \u001b[0mlen\u001b[0m\u001b[1;33m(\u001b[0m\u001b[0mself\u001b[0m\u001b[1;33m.\u001b[0m\u001b[0minitvals\u001b[0m\u001b[1;33m)\u001b[0m\u001b[1;33m:\u001b[0m\u001b[1;33m\u001b[0m\u001b[0m\n\u001b[0;32m    753\u001b[0m                 raise TypeError(\"%d parameter(s) provided but %d expected\" %\n\u001b[1;32m--> 754\u001b[1;33m                                 (len(self.jointparams[j]), len(self.initvals)))\n\u001b[0m\u001b[0;32m    755\u001b[0m \u001b[1;33m\u001b[0m\u001b[0m\n\u001b[0;32m    756\u001b[0m     \u001b[1;32mdef\u001b[0m \u001b[0m__call__\u001b[0m\u001b[1;33m(\u001b[0m\u001b[0mself\u001b[0m\u001b[1;33m,\u001b[0m \u001b[1;33m*\u001b[0m\u001b[0margs\u001b[0m\u001b[1;33m)\u001b[0m\u001b[1;33m:\u001b[0m\u001b[1;33m\u001b[0m\u001b[0m\n",
      "\u001b[1;31mTypeError\u001b[0m: 1 parameter(s) provided but 3 expected"
     ]
    }
   ],
   "source": [
    "\n",
    "# Generate fake data\n",
    "np.random.seed(0)\n",
    "x = np.linspace(-10., 5., 200)\n",
    "y = 30 * np.exp(-0.5 * (x - (1.3))**2 / 0.8**2)\n",
    "y1 = 40 * np.exp(-0.5 * (x - (1.0))**2 / 0.8**2)\n",
    "y += np.random.normal(0., 0.2, x.shape)\n",
    "y1 += np.random.normal(0., 0.2, x.shape)\n",
    "y = y+y1\n",
    "\n",
    "# Fit the data using a Gaussian\n",
    "g_init = models.Gaussian1D(amplitude=1.5, mean=1.3, stddev=1.)\n",
    "g_init2 = models.Gaussian1D(amplitude=1., mean=1.0, stddev=1.)\n",
    "\n",
    "jointpars = { 'g_init':[g_init.parameters], 'g_init2': [g_init2.parameters]}\n",
    "\n",
    "pars = { g_init: 'g_init', g_init2: 'g_init2'}\n",
    "fit_g = fitting.JointFitter( pars , jointpars, [30, 1.3, 1.0])   # LevMarLSQFitter()\n",
    "g = fit_g(g_init, g_init2, x, y)\n",
    "\n",
    "# Plot the data with the best-fit model\n"
   ]
  },
  {
   "cell_type": "code",
   "execution_count": 55,
   "metadata": {
    "collapsed": false
   },
   "outputs": [
    {
     "name": "stdout",
     "output_type": "stream",
     "text": [
      "Using matplotlib backend: Qt4Agg\n"
     ]
    },
    {
     "ename": "KeyError",
     "evalue": "'fjac'",
     "output_type": "error",
     "traceback": [
      "\u001b[1;31m---------------------------------------------------------------------------\u001b[0m",
      "\u001b[1;31mKeyError\u001b[0m                                  Traceback (most recent call last)",
      "\u001b[1;32m<ipython-input-55-d4fc40a0243f>\u001b[0m in \u001b[0;36m<module>\u001b[1;34m()\u001b[0m\n\u001b[0;32m      4\u001b[0m \u001b[0mplt\u001b[0m\u001b[1;33m.\u001b[0m\u001b[0mplot\u001b[0m\u001b[1;33m(\u001b[0m\u001b[0mx\u001b[0m\u001b[1;33m,\u001b[0m \u001b[0mt\u001b[0m\u001b[1;33m(\u001b[0m\u001b[0mx\u001b[0m\u001b[1;33m)\u001b[0m\u001b[1;33m,\u001b[0m \u001b[1;34m'b-'\u001b[0m\u001b[1;33m,\u001b[0m \u001b[0mlw\u001b[0m\u001b[1;33m=\u001b[0m\u001b[1;36m2\u001b[0m\u001b[1;33m,\u001b[0m \u001b[0mlabel\u001b[0m\u001b[1;33m=\u001b[0m\u001b[1;34m'Trapezoid'\u001b[0m\u001b[1;33m)\u001b[0m\u001b[1;33m\u001b[0m\u001b[0m\n\u001b[0;32m      5\u001b[0m \u001b[0mplt\u001b[0m\u001b[1;33m.\u001b[0m\u001b[0mplot\u001b[0m\u001b[1;33m(\u001b[0m\u001b[0mx\u001b[0m\u001b[1;33m,\u001b[0m \u001b[0mg\u001b[0m\u001b[1;33m(\u001b[0m\u001b[0mx\u001b[0m\u001b[1;33m)\u001b[0m\u001b[1;33m,\u001b[0m \u001b[1;34m'r-'\u001b[0m\u001b[1;33m,\u001b[0m \u001b[0mlw\u001b[0m\u001b[1;33m=\u001b[0m\u001b[1;36m2\u001b[0m\u001b[1;33m,\u001b[0m \u001b[0mlabel\u001b[0m\u001b[1;33m=\u001b[0m\u001b[1;34m'Gaussian'\u001b[0m\u001b[1;33m)\u001b[0m\u001b[1;33m\u001b[0m\u001b[0m\n\u001b[1;32m----> 6\u001b[1;33m \u001b[0mplt\u001b[0m\u001b[1;33m.\u001b[0m\u001b[0mplot\u001b[0m\u001b[1;33m(\u001b[0m\u001b[0mx\u001b[0m\u001b[1;33m,\u001b[0m \u001b[0mfit_g\u001b[0m\u001b[1;33m.\u001b[0m\u001b[0mfit_info\u001b[0m\u001b[1;33m[\u001b[0m\u001b[1;34m'fjac'\u001b[0m\u001b[1;33m]\u001b[0m\u001b[1;33m[\u001b[0m\u001b[1;36m3\u001b[0m\u001b[1;33m]\u001b[0m\u001b[1;33m,\u001b[0m \u001b[1;34m'g-'\u001b[0m\u001b[1;33m,\u001b[0m \u001b[0mlw\u001b[0m\u001b[1;33m=\u001b[0m\u001b[1;36m2\u001b[0m\u001b[1;33m,\u001b[0m \u001b[0mlabel\u001b[0m\u001b[1;33m=\u001b[0m\u001b[1;34m'Gaussian'\u001b[0m\u001b[1;33m)\u001b[0m\u001b[1;33m\u001b[0m\u001b[0m\n\u001b[0m\u001b[0;32m      7\u001b[0m \u001b[1;33m\u001b[0m\u001b[0m\n\u001b[0;32m      8\u001b[0m \u001b[0mplt\u001b[0m\u001b[1;33m.\u001b[0m\u001b[0mxlabel\u001b[0m\u001b[1;33m(\u001b[0m\u001b[1;34m'Position'\u001b[0m\u001b[1;33m)\u001b[0m\u001b[1;33m\u001b[0m\u001b[0m\n",
      "\u001b[1;31mKeyError\u001b[0m: 'fjac'"
     ]
    }
   ],
   "source": [
    "%matplotlib\n",
    "plt.figure(figsize=(8,5))\n",
    "plt.plot(x, y, 'ko')\n",
    "plt.plot(x, t(x), 'b-', lw=2, label='Trapezoid')\n",
    "plt.plot(x, g(x), 'r-', lw=2, label='Gaussian')\n",
    "plt.plot(x, fit_g.fit_info['fjac'][3], 'g-', lw=2, label='Gaussian')\n",
    "\n",
    "plt.xlabel('Position')\n",
    "plt.ylabel('Flux')\n",
    "plt.legend(loc=2)"
   ]
  },
  {
   "cell_type": "code",
   "execution_count": 63,
   "metadata": {
    "collapsed": false
   },
   "outputs": [
    {
     "data": {
      "text/plain": [
       "array([ 1.5,  1.3,  1. ])"
      ]
     },
     "execution_count": 63,
     "metadata": {},
     "output_type": "execute_result"
    }
   ],
   "source": [
    "#print fit_g.fit_info\n",
    "#print g\n",
    "g_init.parameters\n"
   ]
  },
  {
   "cell_type": "code",
   "execution_count": null,
   "metadata": {
    "collapsed": true
   },
   "outputs": [],
   "source": [
    "nfev': None,\n",
    "                         'fvec': None,\n",
    "                         'fjac': None,\n",
    "                         'ipvt': None,\n",
    "                         'qtf': None,\n",
    "                         'message': None,\n",
    "                         'ierr': None,\n",
    "                         'param_jac': None,\n",
    "                         'param_cov': None"
   ]
  }
 ],
 "metadata": {
  "kernelspec": {
   "display_name": "Python 2",
   "language": "python",
   "name": "python2"
  },
  "language_info": {
   "codemirror_mode": {
    "name": "ipython",
    "version": 2
   },
   "file_extension": ".py",
   "mimetype": "text/x-python",
   "name": "python",
   "nbconvert_exporter": "python",
   "pygments_lexer": "ipython2",
   "version": "2.7.8"
  }
 },
 "nbformat": 4,
 "nbformat_minor": 0
}
