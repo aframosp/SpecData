{
 "cells": [
  {
   "cell_type": "code",
   "execution_count": 1,
   "metadata": {
    "collapsed": false
   },
   "outputs": [],
   "source": [
    "from DefSD import *\n",
    "from astropy.analytic_functions import blackbody\n",
    "from astropy.convolution import convolve, Gaussian1DKernel, Box1DKernel\n"
   ]
  },
  {
   "cell_type": "code",
   "execution_count": 33,
   "metadata": {
    "collapsed": false
   },
   "outputs": [
    {
     "name": "stdout",
     "output_type": "stream",
     "text": [
      "Objeto: NGC3227\n",
      "It has not been possible to fit the line:  5756.24\n"
     ]
    }
   ],
   "source": [
    "#   a table resultListDT relates the name of the objects and the resulting temoerature and density\n",
    "#   for the four couples of species\n",
    "\n",
    "resultListDT=Table.read('resultListDT.tbl', format='ascii')\n",
    "ion = [' [OIII]', ' [SII]', ' [NII]', ' [OII]', ' [NII]', ' [SII]', ' [OIII]', ' [OII]']\n",
    "for i in range(1,5):\n",
    "    colT= Column(name='Temp_'+str(i)+ion[2*(i-1)], length=len(resultListDT),unit=u.K)\n",
    "    colD= Column(name='Den_'+str(i)+ion[2*(i-1)+1], length=len(resultListDT),unit=1 / (u.cm**3))\n",
    "    resultListDT.add_columns([colT,colD])\n",
    "resultListDT\n",
    "\n",
    "#   Obtain the lists Spectra, Headers, spectrum variance of the intensity according with a list of galaxy names\n",
    "#   and a Table Tabla of models for each line for all the spectra\n",
    "\n",
    "Headers = []\n",
    "Spectra = []\n",
    "Spectra2 = []\n",
    "SpectraCont = []\n",
    "Lambda = []\n",
    "Modelos=[]\n",
    "Tablas=[]\n",
    "HDUs=[]\n",
    "TypeFITS=[]\n",
    "SpectraIvar = []\n",
    "LINEProfile = []\n",
    "paramCont=0.6\n",
    "typeFITS =0\n",
    "for x in range(len(resultListDT['ObjID'])):\n",
    "    try:\n",
    "        name = resultListDT['ObjID'][x]\n",
    "        z=resultListDT['z'][x]\n",
    "        isFits = resultListDT['isFits'][x]\n",
    "        if isFits:\n",
    "            hdulist = fits.open('Exam_fits/'+name+'.fits')\n",
    "            head= hdulist[0].header\n",
    "            typeFITS=0\n",
    "            if head['NAXIS'] == 0:\n",
    "                total= hdulist[1].data\n",
    "            elif head['NAXIS'] == 1:\n",
    "                typeFITS=1\n",
    "            if typeFITS==0:\n",
    "                spectraFlux = total['flux']\n",
    "                spectraIvar = total['ivar']\n",
    "                linlam=np.exp(total['loglam']*np.log(10))          #  ocultar para leer desde archivo\n",
    "                lambd = linlam/(1+z)\n",
    "            else:\n",
    "                spectraFlux = hdulist[0].data #*(1e-19)\n",
    "                spectraIvar = spectraFlux*0\n",
    "                if 'CDELT1' in head:\n",
    "                    lambd = np.linspace(head['CRVAL1'], head['CRVAL1']+head['CDELT1']*(len(spectraFlux)-1), len(spectraFlux))\n",
    "                elif 'W0' in head:\n",
    "                    lambd = np.linspace(head['W0'], head['W0']+head['WPC']*(len(spectraFlux)-1), len(spectraFlux))\n",
    "                else:\n",
    "                    print \"Can't identify FITS format in file: \", str(name)\n",
    "                    break\n",
    "                lambd = lambd/(1+z)\n",
    "        else:\n",
    "            specTable = Table.read('Exam_fits/'+str(name)+'.txt', format='ascii')\n",
    "            spectraFlux = specTable['Intensity'].data #.tolist()\n",
    "            spectraIvar = spectraFlux*0\n",
    "            lambd = specTable['Spectral-axis'].data #.tolist()\n",
    "            lambd = lambd/(1+z)\n",
    "        orderU = 10**(int(mt.log(np.mean(spectraFlux), 10))-1)\n",
    "    #    scaleFactor = 10**(-int(mt.log(np.mean(spectraFlux), 10))+1)\n",
    "    #    spectraFlux=spectraFlux*scaleFactor\n",
    "\n",
    "        TypeFITS.append(typeFITS)\n",
    "    #    HDUs.append(hdulist)\n",
    "    #    Headers.append(head)   #Datos de la cabecera del archivo .fits\n",
    "        Spectra2.append(spectraFlux)\n",
    "        print \"Objeto: \" + name\n",
    "        spec =np.array(spectraFlux)\n",
    "        spec2, lambd = r(spec, lambd, paramCont*orderU)\n",
    "\n",
    "\n",
    "        limResolucion = mt.ceil(lambd[1]-lambd[0])\n",
    "\n",
    "    # ..............    \n",
    "\n",
    "        if lambd[0] > 3720.0 :\n",
    "            print \"The object isn't in expected spectrum region (3700 - 6800 Angstrom)\"\n",
    "            ListaLineas=Table.read('LinesPrincipal.txt', format='ascii')\n",
    "            LS=np.zeros([13,10])\n",
    "\n",
    "            lineProf = lineProfile(x,spec2, lambd,ListaLineas,Spectra2, limResolucion)\n",
    "            LINEProfile.append(lineProf)\n",
    "            # Este ciclo calcula remplaza la región del contínuo que está justo en el perfil de línea, por una recta\n",
    "            # que es mas preciso al determinar la amplitud del modelo gaussiano\n",
    "            for ina in range(len(lineProf)):\n",
    "                lInf = lineProf[ina]['inf']\n",
    "                lSup = lineProf[ina]['sup']\n",
    "                lDel = lSup-lInf\n",
    "                if (lInf-3*lDel) >= 0 :\n",
    "                    lInf = lInf-3*lDel\n",
    "                if (lSup+3*lDel) <= len(lambd) :\n",
    "                    lSup = lSup+3*lDel\n",
    "                m1, b1 = linModel( lambd[lInf] , spec2[lInf] , lambd[lSup], spec2[lSup])\n",
    "                lineLambd = lambd[lInf:lSup]\n",
    "                lineIntCont = lines( lineLambd , m1, b1)\n",
    "                spec2[lInf:lSup] = lineIntCont\n",
    "            ModelG1, lineProf, spec2 = finalFit(x, spec2, lambd,ListaLineas,Spectra2, spectraIvar,2000, limResolucion)\n",
    "    #        ModelL1 = fit2(x, spec2, lambd,ListaLineas,Spectra,2500)\n",
    "        else:\n",
    "            # Este ciclo calcula remplaza la región del contínuo que está justo en el perfil de línea, por una recta\n",
    "            # que es mas preciso al determinar la amplitud del modelo gaussiano\n",
    "            ListaLineas=Table.read('LinesAll.txt', format='ascii')\n",
    "            lineProf = lineProfile(x,spec2, lambd,ListaLineas,Spectra2, limResolucion)\n",
    "            LINEProfile.append(lineProf)\n",
    "            for ina in range(len(lineProf)):\n",
    "                lInf = lineProf[ina]['inf']\n",
    "                lSup = lineProf[ina]['sup']\n",
    "                lDel = lSup-lInf\n",
    "                if (lInf-3*lDel) >= 0 :\n",
    "                    lInf = lInf-3*lDel\n",
    "                if (lSup+3*lDel) <= len(lambd) :\n",
    "                    lSup = lSup+3*lDel\n",
    "                m1, b1 = linModel( lambd[lInf] , spec2[lInf] , lambd[lSup], spec2[lSup])\n",
    "                lineLambd = lambd[lInf:lSup]\n",
    "                lineIntCont = lines( lineLambd , m1, b1)\n",
    "                spec2[lInf:lSup] = lineIntCont\n",
    "            LS=np.zeros([len(ListaLineas),10])\n",
    "            ModelG1, lineProf, spec2 = finalFit(x, spec2, lambd,ListaLineas,Spectra2, spectraIvar,2000, limResolucion)\n",
    "    #        ModelL1 = fit2(x, spec2, lambd,ListaLineas,Spectra,2500)\n",
    "\n",
    "        Tabla=Table(LS,names=('Amplitude','Wavelength','Sigma','Lambda Vac','Element','Flux','Flux_Err', 'FWHM', 'eqWidth', 'S/N>3'),\n",
    "                    dtype=('f8','f8','f8','f8','S8','f8','f8','f8','f8','S5'))\n",
    "        Tabla['Lambda Vac']=ListaLineas['LAMBDA VAC ANG']\n",
    "        Tabla['Element']=ListaLineas['SPECTRUM']\n",
    "        AA=split_list(ModelG1[0].parameters, wanted_parts=len(ListaLineas))\n",
    "        AAA=split_list(ModelG1[1].parameters, wanted_parts=2)\n",
    "    #    AA=split_list(ModelL1[0].parameters, wanted_parts=len(ListaLineas))\n",
    "    #    AAA=split_list(ModelL1[1].parameters, wanted_parts=2)\n",
    "        for ii in range(len(ListaLineas)):\n",
    "            if 3*np.mean(spectraIvar[lineProf[0]['inf']:lineProf[0]['sup']]) >= AA[ii][0]:\n",
    "                Tabla['S/N>3'][ii] = str(False)\n",
    "            else:\n",
    "                Tabla['S/N>3'][ii] = str(True)\n",
    "            if AA[ii][2]<0:\n",
    "                Tabla['Amplitude'][ii],Tabla['Wavelength'][ii],Tabla['Sigma'][ii]=np.array([AA[ii][0], AA[ii][1], mt.fabs(AA[ii][2])])\n",
    "            else:\n",
    "                Tabla['Amplitude'][ii],Tabla['Wavelength'][ii],Tabla['Sigma'][ii]=AA[ii]\n",
    "            if ii==0 or ii==1:\n",
    "                if AAA[ii][2]<0:\n",
    "                    Tabla['Amplitude'][ii],Tabla['Wavelength'][ii],Tabla['Sigma'][ii]=np.array([AAA[ii][0], AAA[ii][1], mt.fabs(AAA[ii][2])])\n",
    "                else:\n",
    "                    Tabla['Amplitude'][ii],Tabla['Wavelength'][ii],Tabla['Sigma'][ii]=AAA[ii]\n",
    "        Modelos.append(ModelG1)\n",
    "        #    Modelos.append(ModelL1)\n",
    "        #print Tabla \n",
    "        Tablas.append(Tabla)\n",
    "        SpectraIvar.append(spectraIvar)\n",
    "        SpectraCont.append(spec2)\n",
    "        Lambda.append(lambd)\n",
    "        Spectra.append(spectraFlux)\n",
    "    except ValueError:\n",
    "        print \"It has not been possible to process the spectrum of: \", name"
   ]
  },
  {
   "cell_type": "code",
   "execution_count": 36,
   "metadata": {
    "collapsed": false
   },
   "outputs": [
    {
     "name": "stdout",
     "output_type": "stream",
     "text": [
      "Using matplotlib backend: Qt4Agg\n"
     ]
    }
   ],
   "source": [
    "#   plot of the galaxy with index jj observed with respect to the continuum in zero. Two models for the lines required \n",
    "%matplotlib\n",
    "\n",
    "### inline\n",
    "for jj in [0]:  #  range(len(resultListDT)):\n",
    "#    plt.errorbar(Lambda[jj],Spectra[jj],SpectraIvar[jj],  c='gray',lw=1,label='Spectrum')\n",
    "    plt.plot(Lambda[jj],Spectra[jj], lw=0.5, c = 'k', label='Spectra')\n",
    "    plt.plot(Lambda[jj],SpectraCont[jj], lw=2, c = 'g', label='Spectra')\n"
   ]
  },
  {
   "cell_type": "markdown",
   "metadata": {},
   "source": [
    "###     EqWidth ,  FWHM,  FLUX"
   ]
  },
  {
   "cell_type": "code",
   "execution_count": 30,
   "metadata": {
    "collapsed": false,
    "scrolled": true
   },
   "outputs": [
    {
     "name": "stdout",
     "output_type": "stream",
     "text": [
      "0\n"
     ]
    },
    {
     "data": {
      "text/plain": [
       "[<Table masked=False length=16>\n",
       "   Amplitude      Wavelength      Sigma      ...    eqWidth     S/N>3  \n",
       "    float64        float64       float64     ...    float64    string40\n",
       " -------------- ------------- -------------- ... ------------- --------\n",
       "  7.08767812155  3727.9529636  1.63062998523 ...  12.592202708     True\n",
       "   3.2894290148 3731.07165109  1.03227093945 ...  12.592202708     True\n",
       "            0.0      4341.684            0.0 ...           0.0    False\n",
       "  1.88226492563 4355.54327591  10.2212740037 ... 2.42375946045     True\n",
       "   1.6383700035 4862.61732443  0.74581029497 ... 7.73196401182     True\n",
       "  1.82230881747 4934.44958832  1.26376348705 ...   4.651055336     True\n",
       " 0.987463156726 4958.81426096  10.3974032116 ... 3.61990144011     True\n",
       "  2.75131093046 5007.96778094  1.89578326617 ... 7.26278162003     True\n",
       "            0.0       5756.24            0.0 ...           0.0    False\n",
       "  9.51890917847 6529.10287056 0.220311721112 ... 3.15637850761     True\n",
       "  4.53394962789 6549.01036724  2.13232739839 ... 8.45783789211     True\n",
       "  19.1186251129 6564.68137889  2.86896184545 ... 22.3725251422     True\n",
       "  13.4332184278 6585.02519268  3.24621279103 ... 25.9686584473     True\n",
       "  4.22680261019 6718.85762426  4.24324651857 ... 5.45139429552     True\n",
       "  4.07251957879 6733.13393901  2.24878454133 ... 14.8981237377     True\n",
       "  1.97321323889 6302.67266265  1.23477546744 ...  8.9854927063     True]"
      ]
     },
     "execution_count": 30,
     "metadata": {},
     "output_type": "execute_result"
    }
   ],
   "source": [
    "#   The plot of relative intensity and continuum emission for the galaxy index jj and the wavelenght of all the lines\n",
    "#   The equivalent width, flux and FWHM for galaxy jj is measured too\n",
    "\n",
    "#orderU = 10**(int(mt.log(np.mean(spectraFlux), 10))-1)\n",
    "\n",
    "#spec =np.array(spectraFlux)\n",
    "#spec2, lambd = r(spec, lambd, 0.004*orderU) # este parámetro de 0.004 puede ser igual para todas las galaxias\n",
    "                                      #  pero seria bueno iterar sobre este valor para tener mejores continuos\n",
    "                                      #  o tal vez tomar tres o maś regiones del espectro observado y calcular spec\n",
    "                                    #  para diferentes parámetros de 0.1 a 0.001\n",
    "        \n",
    "\n",
    "#%matplotlib\n",
    "for jj in range(len(Tablas)):\n",
    "    spe = []\n",
    "    speCont = []\n",
    "    for xind in range(len(Spectra[jj])):\n",
    "        spe.append((Spectra[jj][xind])/(SpectraCont[jj][xind]))\n",
    "        speCont.append((SpectraCont[jj][xind])/(SpectraCont[jj][xind]))\n",
    "    #for i in range(len(Tablas[jj])):\n",
    "    #    plt.axvline(x=Tablas[jj]['Lambda Vac'][i],c='dimgrey',lw=0.8,ls='--')\n",
    "    #    plt.text(Tablas[jj]['Lambda Vac'][i] + 0.5, Tablas[jj]['Amplitude'][i] * 1.2,Tablas[jj]['Element'][i])\n",
    "\n",
    "    #plt.plot(lambd, spe, c='k', lw=0.5, label='normalized data')\n",
    "    #plt.plot(lambd, speCont, lw=2, label='normalized continuum')\n",
    "\n",
    "    lFWHM = []\n",
    "    eqW = []    ##  lista de valores \n",
    "    #  una vez normalizado el espectro observado a la medida del contínuo se integra por el método de Simpson\n",
    "    print jj\n",
    "    for iLineProf in range(len(LINEProfile[jj])):\n",
    "        try:\n",
    "            f = FWHM(Lambda[jj][LINEProfile[jj]['inf'][iLineProf]:LINEProfile[jj]['sup'][iLineProf]], Spectra[jj][LINEProfile[jj]['inf'][iLineProf]:LINEProfile[jj]['sup'][iLineProf]])\n",
    "            if len(f) == 0:\n",
    "                lFWHM.append(0)\n",
    "            else:\n",
    "                lFWHM.append(f[0])\n",
    "        except ValueError:\n",
    "            lFWHM.append(0)\n",
    "        sInteg = simps(y=spe[LINEProfile[jj]['inf'][iLineProf]:LINEProfile[jj]['sup'][iLineProf]], x=Lambda[jj][LINEProfile[jj]['inf'][iLineProf]:LINEProfile[jj]['sup'][iLineProf]], even='avg')\n",
    "        eqW.append(sInteg)\n",
    "    #   Flux determination for each model in galaxy list\n",
    "    #   assignment of the FWHM and equivalent width in the Table for the first galaxy\n",
    "    for i in range(len(Tablas[jj])):\n",
    "        if Tablas[jj][i]['Amplitude']<=0:\n",
    "            Tablas[jj]['Flux'][i],Tablas[jj]['Flux_Err'][i]= 0,0\n",
    "        else:\n",
    "            Tablas[jj]['Flux'][i],Tablas[jj]['Flux_Err'][i]=quad(gaussian,Tablas[jj][i]['Wavelength']-3*Tablas[jj][i]['Sigma'],Tablas[jj][i]['Wavelength']+3*Tablas[jj][i]['Sigma'],args=(Tablas[jj][i]['Amplitude'],Tablas[jj][i]['Wavelength'],Tablas[jj][i]['Sigma']))\n",
    "            Tablas[jj]['FWHM'][i],Tablas[jj]['eqWidth'][i] = lFWHM[i], eqW[i]\n",
    "    Tablas[jj].write('resultTables/Tabla'+str(resultListDT['ObjID'][jj])+'.tbl',format='ascii')\n",
    "Tablas"
   ]
  },
  {
   "cell_type": "markdown",
   "metadata": {},
   "source": [
    "###        Selection of best fittings for estimate electron density and temperature and plot"
   ]
  },
  {
   "cell_type": "code",
   "execution_count": 40,
   "metadata": {
    "collapsed": false
   },
   "outputs": [
    {
     "data": {
      "text/html": [
       "&lt;Table masked=False length=12&gt;\n",
       "<table id=\"table139729071106384\">\n",
       "<thead><tr><th>ObjID</th><th>ra</th><th>dec</th><th>z</th><th>isFits</th><th>Temp_1 [OIII]</th><th>Den_1 [SII]</th><th>Temp_2 [NII]</th><th>Den_2 [OII]</th><th>Temp_3 [NII]</th><th>Den_3 [SII]</th><th>Temp_4 [OIII]</th><th>Den_4 [OII]</th></tr></thead>\n",
       "<thead><tr><th></th><th></th><th></th><th></th><th></th><th>K</th><th>1 / cm3</th><th>K</th><th>1 / cm3</th><th>K</th><th>1 / cm3</th><th>K</th><th>1 / cm3</th></tr></thead>\n",
       "<thead><tr><th>string264</th><th>float32</th><th>float32</th><th>float64</th><th>int8</th><th>float64</th><th>float64</th><th>float64</th><th>float64</th><th>float64</th><th>float64</th><th>float64</th><th>float64</th></tr></thead>\n",
       "<tr><td>2MASX J00505919-0031294</td><td>0.0</td><td>0.0</td><td>0.0</td><td>1</td><td>0.0</td><td>0.0</td><td>0.0</td><td>0.0</td><td>0.0</td><td>0.0</td><td>0.0</td><td>0.0</td></tr>\n",
       "<tr><td>UGC 06315 NED02SP1</td><td>0.0</td><td>0.0</td><td>0.0</td><td>1</td><td>0.0</td><td>0.0</td><td>0.0</td><td>0.0</td><td>0.0</td><td>0.0</td><td>0.0</td><td>0.0</td></tr>\n",
       "<tr><td>MRK 0168SP1</td><td>0.0</td><td>0.0</td><td>0.0</td><td>1</td><td>0.0</td><td>0.0</td><td>0.0</td><td>0.0</td><td>0.0</td><td>0.0</td><td>0.0</td><td>0.0</td></tr>\n",
       "<tr><td>UM 213SP1</td><td>0.0</td><td>0.0</td><td>0.0</td><td>1</td><td>0.0</td><td>0.0</td><td>0.0</td><td>0.0</td><td>0.0</td><td>0.0</td><td>0.0</td><td>0.0</td></tr>\n",
       "<tr><td>SDSS J011031.04+010200.7SP1</td><td>0.0</td><td>0.0</td><td>0.0</td><td>1</td><td>0.0</td><td>0.0</td><td>0.0</td><td>0.0</td><td>0.0</td><td>0.0</td><td>0.0</td><td>0.0</td></tr>\n",
       "<tr><td>MRK 0738SP1</td><td>0.0</td><td>0.0</td><td>0.0</td><td>1</td><td>0.0</td><td>0.0</td><td>0.0</td><td>0.0</td><td>0.0</td><td>0.0</td><td>0.0</td><td>0.0</td></tr>\n",
       "<tr><td>TON 0151SP2</td><td>0.0</td><td>0.0</td><td>0.0</td><td>1</td><td>0.0</td><td>0.0</td><td>0.0</td><td>0.0</td><td>0.0</td><td>0.0</td><td>0.0</td><td>0.0</td></tr>\n",
       "<tr><td>2MASX J15540451+2134564SP1</td><td>0.0</td><td>0.0</td><td>0.0</td><td>1</td><td>0.0</td><td>0.0</td><td>0.0</td><td>0.0</td><td>0.0</td><td>0.0</td><td>0.0</td><td>0.0</td></tr>\n",
       "<tr><td>SDSS J162142.37+374536.7SP1</td><td>0.0</td><td>0.0</td><td>0.0</td><td>1</td><td>0.0</td><td>0.0</td><td>0.0</td><td>0.0</td><td>0.0</td><td>0.0</td><td>0.0</td><td>0.0</td></tr>\n",
       "<tr><td>2MASX J00580076+0028456SP1</td><td>0.0</td><td>0.0</td><td>0.0</td><td>1</td><td>0.0</td><td>0.0</td><td>0.0</td><td>0.0</td><td>0.0</td><td>0.0</td><td>0.0</td><td>0.0</td></tr>\n",
       "<tr><td>2MASX J03025710-0829425SP1</td><td>0.0</td><td>0.0</td><td>0.0</td><td>1</td><td>0.0</td><td>0.0</td><td>0.0</td><td>0.0</td><td>0.0</td><td>0.0</td><td>0.0</td><td>0.0</td></tr>\n",
       "<tr><td>SDSS J170918.48+621731.5SP1</td><td>0.0</td><td>0.0</td><td>0.0</td><td>1</td><td>0.0</td><td>0.0</td><td>0.0</td><td>0.0</td><td>0.0</td><td>0.0</td><td>0.0</td><td>0.0</td></tr>\n",
       "</table>"
      ],
      "text/plain": [
       "<Table masked=False length=12>\n",
       "           ObjID               ra     dec   ... Temp_4 [OIII] Den_4 [OII]\n",
       "                                            ...       K         1 / cm3  \n",
       "         string264          float32 float32 ...    float64      float64  \n",
       "--------------------------- ------- ------- ... ------------- -----------\n",
       "    2MASX J00505919-0031294     0.0     0.0 ...           0.0         0.0\n",
       "         UGC 06315 NED02SP1     0.0     0.0 ...           0.0         0.0\n",
       "                MRK 0168SP1     0.0     0.0 ...           0.0         0.0\n",
       "                  UM 213SP1     0.0     0.0 ...           0.0         0.0\n",
       "SDSS J011031.04+010200.7SP1     0.0     0.0 ...           0.0         0.0\n",
       "                MRK 0738SP1     0.0     0.0 ...           0.0         0.0\n",
       "                TON 0151SP2     0.0     0.0 ...           0.0         0.0\n",
       " 2MASX J15540451+2134564SP1     0.0     0.0 ...           0.0         0.0\n",
       "SDSS J162142.37+374536.7SP1     0.0     0.0 ...           0.0         0.0\n",
       " 2MASX J00580076+0028456SP1     0.0     0.0 ...           0.0         0.0\n",
       " 2MASX J03025710-0829425SP1     0.0     0.0 ...           0.0         0.0\n",
       "SDSS J170918.48+621731.5SP1     0.0     0.0 ...           0.0         0.0"
      ]
     },
     "execution_count": 40,
     "metadata": {},
     "output_type": "execute_result"
    }
   ],
   "source": [
    "#  From files in this path directory\n",
    "\n",
    "#   a table resultListDT relates the name of the objects and the resulting temperature and density\n",
    "#   for the four couples of species\n",
    "\n",
    "resultListDT=Table(names=('ObjID','ra','dec','z', 'isFits'),dtype=('S33', 'f12', 'f12','f8', 'i1'))\n",
    "resultList = Table.read(\"resultList.tbl\", format = 'ascii')\n",
    "limDim = 0.5\n",
    "aarr = [3, 6, 7, 10, 12, 13, 14, 0, 1]\n",
    "Tablas = []\n",
    "for objID in resultList:\n",
    "    nameTable = \"Tabla\"+str(objID[0])+\".tbl\"\n",
    "    tableObjID = Table.read('resultTables/'+nameTable, format = 'ascii')\n",
    "    conta = 0\n",
    "    for iLine in aarr: # range(len(tableObjID)):\n",
    "        if (mt.fabs(tableObjID['Lambda Vac'][iLine]-tableObjID['Wavelength'][iLine]) > limDim) or (tableObjID['Flux'][iLine]==0.0) :\n",
    "            continue\n",
    "        else:\n",
    "            conta = conta + 1\n",
    "    if conta == len(aarr):\n",
    "        resultListDT.add_row([objID[0], 0, 0, 0, 1])\n",
    "        Tablas.append(tableObjID)\n",
    "\n",
    "ion = [' [OIII]', ' [SII]', ' [NII]', ' [OII]', ' [NII]', ' [SII]', ' [OIII]', ' [OII]']\n",
    "for i in range(1,5):\n",
    "    colT= Column(name='Temp_'+str(i)+ion[2*(i-1)], length=len(resultListDT),unit=u.K)\n",
    "    colD= Column(name='Den_'+str(i)+ion[2*(i-1)+1], length=len(resultListDT),unit=1 / (u.cm**3))\n",
    "    resultListDT.add_columns([colT,colD])\n",
    "resultListDT"
   ]
  },
  {
   "cell_type": "markdown",
   "metadata": {},
   "source": [
    "###        Electron density and temperature and plot"
   ]
  },
  {
   "cell_type": "code",
   "execution_count": 52,
   "metadata": {
    "collapsed": false
   },
   "outputs": [
    {
     "data": {
      "text/html": [
       "&lt;Table masked=False length=12&gt;\n",
       "<table id=\"table139729071106384\">\n",
       "<thead><tr><th>ObjID</th><th>ra</th><th>dec</th><th>z</th><th>isFits</th><th>Temp_1 [OIII]</th><th>Den_1 [SII]</th><th>Temp_2 [NII]</th><th>Den_2 [OII]</th><th>Temp_3 [NII]</th><th>Den_3 [SII]</th><th>Temp_4 [OIII]</th><th>Den_4 [OII]</th></tr></thead>\n",
       "<thead><tr><th></th><th></th><th></th><th></th><th></th><th>K</th><th>1 / cm3</th><th>K</th><th>1 / cm3</th><th>K</th><th>1 / cm3</th><th>K</th><th>1 / cm3</th></tr></thead>\n",
       "<thead><tr><th>string264</th><th>float32</th><th>float32</th><th>float64</th><th>int8</th><th>float64</th><th>float64</th><th>float64</th><th>float64</th><th>float64</th><th>float64</th><th>float64</th><th>float64</th></tr></thead>\n",
       "<tr><td>2MASX J00505919-0031294</td><td>0.0</td><td>0.0</td><td>0.0</td><td>1</td><td>nan</td><td>nan</td><td>nan</td><td>nan</td><td>nan</td><td>nan</td><td>nan</td><td>nan</td></tr>\n",
       "<tr><td>UGC 06315 NED02SP1</td><td>0.0</td><td>0.0</td><td>0.0</td><td>1</td><td>nan</td><td>nan</td><td>nan</td><td>nan</td><td>nan</td><td>nan</td><td>13998.7514473</td><td>1125.15307594</td></tr>\n",
       "<tr><td>MRK 0168SP1</td><td>0.0</td><td>0.0</td><td>0.0</td><td>1</td><td>nan</td><td>nan</td><td>nan</td><td>nan</td><td>nan</td><td>nan</td><td>10192.5438002</td><td>752.278578614</td></tr>\n",
       "<tr><td>UM 213SP1</td><td>0.0</td><td>0.0</td><td>0.0</td><td>1</td><td>nan</td><td>nan</td><td>7044.48012712</td><td>650.727983664</td><td>nan</td><td>nan</td><td>14812.9640809</td><td>916.201633073</td></tr>\n",
       "<tr><td>SDSS J011031.04+010200.7SP1</td><td>0.0</td><td>0.0</td><td>0.0</td><td>1</td><td>17721.8477004</td><td>21.4658415426</td><td>nan</td><td>nan</td><td>nan</td><td>nan</td><td>17721.8477004</td><td>246.17387015</td></tr>\n",
       "<tr><td>MRK 0738SP1</td><td>0.0</td><td>0.0</td><td>0.0</td><td>1</td><td>nan</td><td>nan</td><td>nan</td><td>nan</td><td>nan</td><td>nan</td><td>nan</td><td>nan</td></tr>\n",
       "<tr><td>TON 0151SP2</td><td>0.0</td><td>0.0</td><td>0.0</td><td>1</td><td>12111.2148248</td><td>236.335547884</td><td>15530.0679823</td><td>617.217615421</td><td>15570.6056833</td><td>253.724626865</td><td>12111.2148248</td><td>553.609970817</td></tr>\n",
       "<tr><td>2MASX J15540451+2134564SP1</td><td>0.0</td><td>0.0</td><td>0.0</td><td>1</td><td>nan</td><td>nan</td><td>10125.2662886</td><td>157.537542558</td><td>nan</td><td>nan</td><td>10076.1380268</td><td>157.537542558</td></tr>\n",
       "<tr><td>SDSS J162142.37+374536.7SP1</td><td>0.0</td><td>0.0</td><td>0.0</td><td>1</td><td>9120.83599865</td><td>118.500930297</td><td>nan</td><td>nan</td><td>nan</td><td>nan</td><td>9117.90122964</td><td>320.178211969</td></tr>\n",
       "<tr><td>2MASX J00580076+0028456SP1</td><td>0.0</td><td>0.0</td><td>0.0</td><td>1</td><td>nan</td><td>nan</td><td>10440.20949</td><td>326.034964115</td><td>nan</td><td>nan</td><td>28963.0568731</td><td>477.433209483</td></tr>\n",
       "<tr><td>2MASX J03025710-0829425SP1</td><td>0.0</td><td>0.0</td><td>0.0</td><td>1</td><td>nan</td><td>nan</td><td>nan</td><td>nan</td><td>nan</td><td>nan</td><td>nan</td><td>nan</td></tr>\n",
       "<tr><td>SDSS J170918.48+621731.5SP1</td><td>0.0</td><td>0.0</td><td>0.0</td><td>1</td><td>nan</td><td>nan</td><td>nan</td><td>nan</td><td>nan</td><td>nan</td><td>50611.9732602</td><td>2887.86235441</td></tr>\n",
       "</table>"
      ],
      "text/plain": [
       "<Table masked=False length=12>\n",
       "           ObjID               ra     dec   ... Temp_4 [OIII]  Den_4 [OII] \n",
       "                                            ...       K          1 / cm3   \n",
       "         string264          float32 float32 ...    float64       float64   \n",
       "--------------------------- ------- ------- ... ------------- -------------\n",
       "    2MASX J00505919-0031294     0.0     0.0 ...           nan           nan\n",
       "         UGC 06315 NED02SP1     0.0     0.0 ... 13998.7514473 1125.15307594\n",
       "                MRK 0168SP1     0.0     0.0 ... 10192.5438002 752.278578614\n",
       "                  UM 213SP1     0.0     0.0 ... 14812.9640809 916.201633073\n",
       "SDSS J011031.04+010200.7SP1     0.0     0.0 ... 17721.8477004  246.17387015\n",
       "                MRK 0738SP1     0.0     0.0 ...           nan           nan\n",
       "                TON 0151SP2     0.0     0.0 ... 12111.2148248 553.609970817\n",
       " 2MASX J15540451+2134564SP1     0.0     0.0 ... 10076.1380268 157.537542558\n",
       "SDSS J162142.37+374536.7SP1     0.0     0.0 ... 9117.90122964 320.178211969\n",
       " 2MASX J00580076+0028456SP1     0.0     0.0 ... 28963.0568731 477.433209483\n",
       " 2MASX J03025710-0829425SP1     0.0     0.0 ...           nan           nan\n",
       "SDSS J170918.48+621731.5SP1     0.0     0.0 ... 50611.9732602 2887.86235441"
      ]
     },
     "execution_count": 52,
     "metadata": {},
     "output_type": "execute_result"
    }
   ],
   "source": [
    "#   it obtains the electron density and temperature by the PyNeb cross iterative method for all couple of given species.\n",
    "\n",
    "fig = plt.figure()\n",
    "fig.suptitle('')\n",
    "ax = fig.add_subplot(111)\n",
    "ax.set_ylabel('Density $n_e (cm^{-3})$')\n",
    "ax.set_xlabel('Temperature $T_e (K)$')\n",
    "\n",
    "for jj in [11]:  #  range(len(Tablas)):\n",
    "    k=0\n",
    "    #if Lambda[jj][0] > 3720.0 :\n",
    "    #    k=2\n",
    "    try:\n",
    "        a=diags.getCrossTemDen('[OIII] 4363/5007+', '[SII] 6731/6716', Tablas[jj]['Flux'][3-k]/(Tablas[jj]['Flux'][6-k]+Tablas[jj]['Flux'][7-k]), Tablas[jj]['Flux'][13-k]/Tablas[jj]['Flux'][14-k])\n",
    "        b=diags.getCrossTemDen('[NII] 5755/6584+', '[OII] 3726/3729', Tablas[jj]['Flux'][8-k]/(Tablas[jj]['Flux'][12-k]+Tablas[jj]['Flux'][10-k]), Tablas[jj]['Flux'][0-k]/Tablas[jj]['Flux'][1-k])\n",
    "        c=diags.getCrossTemDen('[NII] 5755/6584+', '[SII] 6731/6716', Tablas[jj]['Flux'][8-k]/(Tablas[jj]['Flux'][12-k]+Tablas[jj]['Flux'][10-k]), Tablas[jj]['Flux'][13-k]/Tablas[jj]['Flux'][14-k])\n",
    "        d=diags.getCrossTemDen('[OIII] 4363/5007+', '[OII] 3726/3729', Tablas[jj]['Flux'][3-k]/(Tablas[jj]['Flux'][6-k]+Tablas[jj]['Flux'][7-k]), Tablas[jj]['Flux'][0-k]/Tablas[jj]['Flux'][1-k])\n",
    "    except ValueError:\n",
    "        continue\n",
    "\n",
    "    for i in IntrinsicHB:\n",
    "        rc.setCorr((Tablas[jj]['Flux'][11-k]/Tablas[jj]['Flux'][4-k])/i, Tablas[jj]['Lambda Vac'][11-k], Tablas[jj]['Lambda Vac'][4-k])\n",
    "        try:\n",
    "            a2=diags.getCrossTemDen('[OIII] 4363/5007+', '[SII] 6731/6716',Tablas[jj]['Flux'][3-k]*rc.getCorrHb(Tablas[jj]['Lambda Vac'][3-k])/(Tablas[jj]['Flux'][6-k]*rc.getCorrHb(Tablas[jj]['Lambda Vac'][6-k])+ Tablas[jj]['Flux'][7-k]*rc.getCorrHb(Tablas[jj]['Lambda Vac'][7-k]) ), Tablas[jj]['Flux'][13-k] * rc.getCorrHb(Tablas[jj]['Lambda Vac'][13-k])/Tablas[jj]['Flux'][14-k] * rc.getCorrHb(Tablas[jj]['Lambda Vac'][14-k]))\n",
    "            b2=diags.getCrossTemDen('[NII] 5755/6584+', '[OII] 3726/3729', Tablas[jj]['Flux'][8-k]*rc.getCorrHb(Tablas[jj]['Lambda Vac'][8-k])/(Tablas[jj]['Flux'][12-k]*rc.getCorrHb(Tablas[jj]['Lambda Vac'][12-k])+Tablas[jj]['Flux'][10-k]*rc.getCorrHb(Tablas[jj]['Lambda Vac'][7-k])), Tablas[jj]['Flux'][0-k]*rc.getCorrHb(Tablas[jj]['Lambda Vac'][0-k])/Tablas[jj]['Flux'][1-k])*rc.getCorrHb(Tablas[jj]['Lambda Vac'][1-k])\n",
    "            c2=diags.getCrossTemDen('[NII] 5755/6584+', '[SII] 6731/6716', Tablas[jj]['Flux'][8-k]*rc.getCorrHb(Tablas[jj]['Lambda Vac'][8-k])/(Tablas[jj]['Flux'][12-k]*rc.getCorrHb(Tablas[jj]['Lambda Vac'][12-k])+Tablas[jj]['Flux'][10-k]*rc.getCorrHb(Tablas[jj]['Lambda Vac'][7-k])),Tablas[jj]['Flux'][13-k] * rc.getCorrHb(Tablas[jj]['Lambda Vac'][13-k])/Tablas[jj]['Flux'][14-k] * rc.getCorrHb(Tablas[jj]['Lambda Vac'][14-k]))\n",
    "            d2=diags.getCrossTemDen('[OIII] 4363/5007+', '[OII] 3726/3729',Tablas[jj]['Flux'][3-k]*rc.getCorrHb(Tablas[jj]['Lambda Vac'][3-k])/(Tablas[jj]['Flux'][6-k]*rc.getCorrHb(Tablas[jj]['Lambda Vac'][6-k])+ Tablas[jj]['Flux'][7-k]*rc.getCorrHb(Tablas[jj]['Lambda Vac'][7-k]) ), Tablas[jj]['Flux'][0-k]*rc.getCorrHb(Tablas[jj]['Lambda Vac'][0-k])/Tablas[jj]['Flux'][1-k])*rc.getCorrHb(Tablas[jj]['Lambda Vac'][1-k])\n",
    "        except ValueError:\n",
    "            continue\n",
    "        if b2 != () or d2 != ():\n",
    "            plt.scatter(b2[0], b2[1],c='c')\n",
    "            plt.scatter(d2[0], d2[1],c='c')\n",
    "        if i == 2.86:\n",
    "            resultListDT['Temp_1 [OIII]'][jj]=a2[0]\n",
    "            resultListDT['Den_1 [SII]'][jj]=a2[1]\n",
    "            resultListDT['Temp_3 [NII]'][jj]=c2[0]\n",
    "            resultListDT['Den_3 [SII]'][jj]=c2[1]\n",
    "            if b2 != () or d2 != ():\n",
    "                resultListDT['Temp_2 [NII]'][jj]=b2[0]\n",
    "                resultListDT['Den_2 [OII]'][jj]=b2[1] \n",
    "                resultListDT['Temp_4 [OIII]'][jj]=d2[0]\n",
    "                resultListDT['Den_4 [OII]'][jj]=d2[1]\n",
    "            #if Lambda[jj][0] > 3720.0 :\n",
    "            #    resultListDT['Temp_2 [NII]'][jj]=0.0\n",
    "            #    resultListDT['Den_2 [OII]'][jj]=0.0\n",
    "            #    resultListDT['Temp_4 [OIII]'][jj]=0.0\n",
    "            #    resultListDT['Den_4 [OII]'][jj]=0.0\n",
    "    #resultListDT.write('resultTables/TemDenGalaxies'+str(resultListDT['ObjID'][jj])+'.tbl',format='ascii')\n",
    "resultListDT\n"
   ]
  },
  {
   "cell_type": "markdown",
   "metadata": {},
   "source": [
    "###                     Plots"
   ]
  },
  {
   "cell_type": "code",
   "execution_count": 35,
   "metadata": {
    "collapsed": false,
    "scrolled": false
   },
   "outputs": [
    {
     "name": "stdout",
     "output_type": "stream",
     "text": [
      "Using matplotlib backend: Qt4Agg\n"
     ]
    }
   ],
   "source": [
    "#   plot of the galaxy with index jj observed with respect to the continuum in zero. Two models for the lines required \n",
    "\n",
    "%matplotlib\n",
    "jj=0\n",
    "if isFits:\n",
    "    if TypeFITS == 0:\n",
    "        print HDUs[jj][0].header['FLAVOR']\n",
    "        print HDUs[jj][0].header['QUALITY']\n",
    "        print HDUs[jj][0].header['FBADPIX'] ## %%Malos Pixeles\n",
    "        print HDUs[jj][2].data['SN_MEDIAN_ALL']\n",
    "        print HDUs[jj][2].data['SN_MEDIAN']\n",
    "\n",
    "lambd=Lambda[jj]\n",
    "\n",
    "plt.figure(figsize=(16, 9))\n",
    "plt.title('Spectrum Galaxy '+ resultListDT['ObjID'][jj])\n",
    "plt.xlabel(r'Wavelength (Angstroms $\\AA$) ')\n",
    "if TypeFITS == 0:\n",
    "    plt.ylabel(r'$f_{\\lambda}$ ('+str(head['BUNIT'])+')')\n",
    "else:\n",
    "    plt.ylabel(r'$f_{\\lambda}$')\n",
    "\n",
    "plt.errorbar(Lambda[jj],Spectra[jj]-SpectraCont[jj],SpectraIvar[jj],  c='gray',lw=1,label='Spectrum')   #Flujo en negro\n",
    "#plt.errorbar(Lambda[jj],Spectra[jj]-SpectraCont[jj]-Modelos[jj][0](Lambda[jj]),SpectraIvar[jj],  c='k',lw=2,label='Data')   #Flujo en negro\n",
    "#plt.errorbar(lambd,Spectra[jj] ,SpectraIvar[jj],  c='k',lw=2,label='Data')   #Flujo en negro\n",
    "#plt.plot(lambd, spec2, lw=2, label='reducedSpectra')\n",
    "#plt.plot(Lambda[jj], Modelos[jj][1](Lambda[jj]), c='cyan', lw=2, label='Model')\n",
    "plt.plot(Lambda[jj], Spectra[jj]-SpectraCont[jj], c='k', lw=0.8, label='Model')\n",
    "plt.plot(Lambda[jj], Modelos[jj][0](Lambda[jj]), c='yellow', lw=1)\n",
    "#plt.plot(lambd, spec2, lw=2, label='reducedSpectra')\n",
    "\n",
    "plt.legend()\n",
    "\n",
    "x=np.linspace(Lambda[jj][0],Lambda[jj][-1],len(Lambda[jj]))\n",
    "for i in range(len(Tablas[jj])):\n",
    "    plt.axvline(x=Tablas[jj]['Lambda Vac'][i],c='dimgrey',lw=1.2,ls='--')\n",
    "    plt.text(Tablas[jj]['Lambda Vac'][i] + 0.5, Tablas[jj]['Amplitude'][i] * 1.2,Tablas[jj]['Element'][i])\n",
    "    if Tablas[jj]['Element'][i] == 'H I':\n",
    "        plt.plot(x,gaussian(x,Tablas[jj][i]['Amplitude'],Tablas[jj][i]['Wavelength'],Tablas[jj][i]['Sigma']), c='DeepPink')\n",
    "##        plt.plot(x,lorentzFunc(x,Tablas[jj][i]['Amplitude'],Tablas[jj][i]['Sigma'], Tablas[jj][i]['Wavelength']), c='DeepPink')\n",
    "    else:\n",
    "        if Tablas[jj][i]['Sigma']!=0:\n",
    "            plt.plot(x,gaussian(x,Tablas[jj][i]['Amplitude'],Tablas[jj][i]['Wavelength'],Tablas[jj][i]['Sigma']) , c='Lime')\n",
    "##            plt.plot(x,lorentzFunc(x,Tablas[jj][i]['Amplitude'],Tablas[jj][i]['Sigma'],Tablas[jj][i]['Wavelength']) , c='Lime')\n",
    "\n",
    "#plt.savefig('F1.eps', format='eps', dpi=1000)\n"
   ]
  },
  {
   "cell_type": "code",
   "execution_count": 14,
   "metadata": {
    "collapsed": false,
    "scrolled": true
   },
   "outputs": [
    {
     "name": "stdout",
     "output_type": "stream",
     "text": [
      "Using matplotlib backend: Qt4Agg\n"
     ]
    },
    {
     "data": {
      "text/plain": [
       "[<matplotlib.lines.Line2D at 0x7f00ec1d4990>]"
      ]
     },
     "execution_count": 14,
     "metadata": {},
     "output_type": "execute_result"
    }
   ],
   "source": [
    "%matplotlib\n",
    "kaksj = Modelos[jj][1](Lambda[jj])\n",
    "lalskal = Modelos[jj][0](Lambda[jj])\n",
    "specModel = spec+lalskal\n",
    "plt.errorbar(Lambda[jj],Spectra[jj] ,SpectraIvar[jj],  c='k',lw=2,label='Data')   #Flujo en negro\n",
    "plt.plot(Lambda[jj], specModel, lw=2, label='reducedSpectra')"
   ]
  },
  {
   "cell_type": "code",
   "execution_count": 14,
   "metadata": {
    "collapsed": false
   },
   "outputs": [
    {
     "name": "stdout",
     "output_type": "stream",
     "text": [
      "Using matplotlib backend: Qt4Agg\n"
     ]
    },
    {
     "name": "stderr",
     "output_type": "stream",
     "text": [
      "/usr/local/lib/python2.7/dist-packages/matplotlib/axes/_axes.py:475: UserWarning: No labelled objects found. Use label='...' kwarg on individual plots.\n",
      "  warnings.warn(\"No labelled objects found. \"\n"
     ]
    }
   ],
   "source": [
    "%matplotlib\n",
    "\n",
    "plt.figure(figsize=(16, 9))\n",
    "for i in range(10):\n",
    "    B=[]\n",
    "    for j in range(len(Spectra[jj])):\n",
    "        bb=SpectraIvar[jj][j]*random.uniform(-3,3)\n",
    "        B.append(bb)\n",
    "    plt.plot(Lambda[jj],(Spectra[jj] +B),c='orange')\n",
    "plt.legend()"
   ]
  },
  {
   "cell_type": "code",
   "execution_count": 54,
   "metadata": {
    "collapsed": false
   },
   "outputs": [
    {
     "data": {
      "text/html": [
       "&lt;Table masked=False length=12&gt;\n",
       "<table id=\"table139729071106384\">\n",
       "<thead><tr><th>ObjID</th><th>ra</th><th>dec</th><th>z</th><th>isFits</th><th>Temp_1 [OIII]</th><th>Den_1 [SII]</th><th>Temp_2 [NII]</th><th>Den_2 [OII]</th><th>Temp_3 [NII]</th><th>Den_3 [SII]</th><th>Temp_4 [OIII]</th><th>Den_4 [OII]</th></tr></thead>\n",
       "<thead><tr><th></th><th></th><th></th><th></th><th></th><th>K</th><th>1 / cm3</th><th>K</th><th>1 / cm3</th><th>K</th><th>1 / cm3</th><th>K</th><th>1 / cm3</th></tr></thead>\n",
       "<thead><tr><th>string264</th><th>float32</th><th>float32</th><th>float64</th><th>int8</th><th>float64</th><th>float64</th><th>float64</th><th>float64</th><th>float64</th><th>float64</th><th>float64</th><th>float64</th></tr></thead>\n",
       "<tr><td>2MASX J00505919-0031294</td><td>0.0</td><td>0.0</td><td>0.0</td><td>1</td><td>nan</td><td>nan</td><td>nan</td><td>nan</td><td>nan</td><td>nan</td><td>nan</td><td>nan</td></tr>\n",
       "<tr><td>UGC 06315 NED02SP1</td><td>0.0</td><td>0.0</td><td>0.0</td><td>1</td><td>nan</td><td>nan</td><td>nan</td><td>nan</td><td>nan</td><td>nan</td><td>13998.7514473</td><td>1125.15307594</td></tr>\n",
       "<tr><td>MRK 0168SP1</td><td>0.0</td><td>0.0</td><td>0.0</td><td>1</td><td>nan</td><td>nan</td><td>nan</td><td>nan</td><td>nan</td><td>nan</td><td>10192.5438002</td><td>752.278578614</td></tr>\n",
       "<tr><td>UM 213SP1</td><td>0.0</td><td>0.0</td><td>0.0</td><td>1</td><td>nan</td><td>nan</td><td>7044.48012712</td><td>650.727983664</td><td>nan</td><td>nan</td><td>14812.9640809</td><td>916.201633073</td></tr>\n",
       "<tr><td>SDSS J011031.04+010200.7SP1</td><td>0.0</td><td>0.0</td><td>0.0</td><td>1</td><td>17721.8477004</td><td>21.4658415426</td><td>nan</td><td>nan</td><td>nan</td><td>nan</td><td>17721.8477004</td><td>246.17387015</td></tr>\n",
       "<tr><td>MRK 0738SP1</td><td>0.0</td><td>0.0</td><td>0.0</td><td>1</td><td>nan</td><td>nan</td><td>nan</td><td>nan</td><td>nan</td><td>nan</td><td>nan</td><td>nan</td></tr>\n",
       "<tr><td>TON 0151SP2</td><td>0.0</td><td>0.0</td><td>0.0</td><td>1</td><td>12111.2148248</td><td>236.335547884</td><td>15530.0679823</td><td>617.217615421</td><td>15570.6056833</td><td>253.724626865</td><td>12111.2148248</td><td>553.609970817</td></tr>\n",
       "<tr><td>2MASX J15540451+2134564SP1</td><td>0.0</td><td>0.0</td><td>0.0</td><td>1</td><td>nan</td><td>nan</td><td>10125.2662886</td><td>157.537542558</td><td>nan</td><td>nan</td><td>10076.1380268</td><td>157.537542558</td></tr>\n",
       "<tr><td>SDSS J162142.37+374536.7SP1</td><td>0.0</td><td>0.0</td><td>0.0</td><td>1</td><td>9120.83599865</td><td>118.500930297</td><td>nan</td><td>nan</td><td>nan</td><td>nan</td><td>9117.90122964</td><td>320.178211969</td></tr>\n",
       "<tr><td>2MASX J00580076+0028456SP1</td><td>0.0</td><td>0.0</td><td>0.0</td><td>1</td><td>nan</td><td>nan</td><td>10440.20949</td><td>326.034964115</td><td>nan</td><td>nan</td><td>28963.0568731</td><td>477.433209483</td></tr>\n",
       "<tr><td>2MASX J03025710-0829425SP1</td><td>0.0</td><td>0.0</td><td>0.0</td><td>1</td><td>nan</td><td>nan</td><td>nan</td><td>nan</td><td>nan</td><td>nan</td><td>nan</td><td>nan</td></tr>\n",
       "<tr><td>SDSS J170918.48+621731.5SP1</td><td>0.0</td><td>0.0</td><td>0.0</td><td>1</td><td>nan</td><td>nan</td><td>nan</td><td>nan</td><td>nan</td><td>nan</td><td>50611.9732602</td><td>2887.86235441</td></tr>\n",
       "</table>"
      ],
      "text/plain": [
       "<Table masked=False length=12>\n",
       "           ObjID               ra     dec   ... Temp_4 [OIII]  Den_4 [OII] \n",
       "                                            ...       K          1 / cm3   \n",
       "         string264          float32 float32 ...    float64       float64   \n",
       "--------------------------- ------- ------- ... ------------- -------------\n",
       "    2MASX J00505919-0031294     0.0     0.0 ...           nan           nan\n",
       "         UGC 06315 NED02SP1     0.0     0.0 ... 13998.7514473 1125.15307594\n",
       "                MRK 0168SP1     0.0     0.0 ... 10192.5438002 752.278578614\n",
       "                  UM 213SP1     0.0     0.0 ... 14812.9640809 916.201633073\n",
       "SDSS J011031.04+010200.7SP1     0.0     0.0 ... 17721.8477004  246.17387015\n",
       "                MRK 0738SP1     0.0     0.0 ...           nan           nan\n",
       "                TON 0151SP2     0.0     0.0 ... 12111.2148248 553.609970817\n",
       " 2MASX J15540451+2134564SP1     0.0     0.0 ... 10076.1380268 157.537542558\n",
       "SDSS J162142.37+374536.7SP1     0.0     0.0 ... 9117.90122964 320.178211969\n",
       " 2MASX J00580076+0028456SP1     0.0     0.0 ... 28963.0568731 477.433209483\n",
       " 2MASX J03025710-0829425SP1     0.0     0.0 ...           nan           nan\n",
       "SDSS J170918.48+621731.5SP1     0.0     0.0 ... 50611.9732602 2887.86235441"
      ]
     },
     "execution_count": 54,
     "metadata": {},
     "output_type": "execute_result"
    }
   ],
   "source": [
    "resultListDT"
   ]
  },
  {
   "cell_type": "code",
   "execution_count": null,
   "metadata": {
    "collapsed": true
   },
   "outputs": [],
   "source": []
  },
  {
   "cell_type": "code",
   "execution_count": 41,
   "metadata": {
    "collapsed": false
   },
   "outputs": [],
   "source": [
    "#   star spectrum\n",
    "\n",
    "theorFlux = blackbody.blackbody_lambda(Lambda[jj], 6000)\n",
    "theorFlux = theorFlux/np.max(theorFlux)\n",
    "theorFlux = theorFlux*np.max(Spectra[jj])\n",
    "%matplotlib\n",
    "#plt.plot(Lambda[jj], theorFlux)\n",
    "plt.plot(Lambda[jj],Spectra[jj], lw=0.5, c = 'k', label='Spectra')\n",
    "plt.plot(Lambda[jj],SpectraCont[jj], lw=2, c = 'g', label='Spectra')"
   ]
  },
  {
   "cell_type": "code",
   "execution_count": null,
   "metadata": {
    "collapsed": true
   },
   "outputs": [],
   "source": []
  },
  {
   "cell_type": "code",
   "execution_count": 62,
   "metadata": {
    "collapsed": false
   },
   "outputs": [
    {
     "name": "stdout",
     "output_type": "stream",
     "text": [
      "Using matplotlib backend: Qt4Agg\n"
     ]
    },
    {
     "data": {
      "text/plain": [
       "[<matplotlib.lines.Line2D at 0x7fa0bc37e350>]"
      ]
     },
     "execution_count": 62,
     "metadata": {},
     "output_type": "execute_result"
    }
   ],
   "source": [
    "\n",
    "jj = 0\n",
    "\n",
    "box_kernel = Box1DKernel(5)\n",
    "smoothed_data_box = convolve(Spectra[jj], box_kernel)\n",
    "\n",
    "#gauss_kernel = Gaussian1DKernel(5)\n",
    "#smoothed_data_gauss = convolve(Spectra[jj], gauss_kernel)\n",
    "\n",
    "%matplotlib\n",
    "#plt.plot(Lambda[jj], theorFlux)\n",
    "plt.plot(Lambda[jj],Spectra[jj], lw=0.5, c = 'k', label='Spectra')\n",
    "plt.plot(Lambda[jj],SpectraCont[jj], lw=2, c = 'g', label='Spectra')\n",
    "plt.plot(Lambda[jj],smoothed_data_box, lw=2, c = 'cyan', label='Spectra')"
   ]
  },
  {
   "cell_type": "code",
   "execution_count": 64,
   "metadata": {
    "collapsed": false,
    "scrolled": true
   },
   "outputs": [
    {
     "name": "stdout",
     "output_type": "stream",
     "text": [
      "Using matplotlib backend: Qt4Agg\n"
     ]
    },
    {
     "data": {
      "text/plain": [
       "[<matplotlib.lines.Line2D at 0x7fa0bb939e90>]"
      ]
     },
     "execution_count": 64,
     "metadata": {},
     "output_type": "execute_result"
    }
   ],
   "source": [
    "#np.std(Spectra[0][])\n",
    "spssp = [100]*len(Spectra[0])\n",
    "divisi = 2\n",
    "lambdDiv = int(mt.floor(len(spssp)/divisi))\n",
    "lambdDivArr = [lambdDiv*a for a in range(divisi)]\n",
    "lambdDivArr[-1] = len(Spectra[0])\n",
    "for aa in range(len(lambdDivArr)-1):\n",
    "    stdSpDiv = np.std(Spectra[0][lambdDivArr[aa]:lambdDivArr[aa+1]])\n",
    "    #box_kernel = Box1DKernel(stdSpDiv)\n",
    "    #smoothed_data_box = convolve(Spectra[0][lambdDivArr[aa]:lambdDivArr[aa+1]], box_kernel)\n",
    "    \n",
    "    gauss_kernel = Gaussian1DKernel(stdSpDiv)\n",
    "    smoothed_data_gauss = convolve(Spectra[0][lambdDivArr[aa]:lambdDivArr[aa+1]], gauss_kernel)\n",
    "    \n",
    "    spssp[lambdDivArr[aa]:lambdDivArr[aa+1]] = smoothed_data_gauss # smoothed_data_box\n",
    "    #meanSpDiv = np.mean(SpectraIvar[0][lambdDivArr[aa]:lambdDivArr[aa+1]])\n",
    "    #print \"std: \", , \"err: \", np.mean(SpectraIvar[0][lambdDivArr[aa]:lambdDivArr[aa+1]])\n",
    "    #print Spectra[0][lambdDivArr[aa]:lambdDivArr[aa+1]]\n",
    "\n",
    "\n",
    "%matplotlib\n",
    "#plt.plot(Lambda[jj], theorFlux)\n",
    "plt.plot(Lambda[jj],Spectra[jj], lw=0.5, c = 'k', label='Spectra')\n",
    "plt.plot(Lambda[jj],SpectraCont[jj], lw=2, c = 'g', label='Spectra')\n",
    "plt.plot(Lambda[jj],spssp, lw=2, c = 'cyan', label='Spectra')"
   ]
  },
  {
   "cell_type": "code",
   "execution_count": 60,
   "metadata": {
    "collapsed": false
   },
   "outputs": [
    {
     "data": {
      "text/plain": [
       "100"
      ]
     },
     "execution_count": 60,
     "metadata": {},
     "output_type": "execute_result"
    }
   ],
   "source": [
    "len(lambdDivArr)"
   ]
  },
  {
   "cell_type": "code",
   "execution_count": null,
   "metadata": {
    "collapsed": true
   },
   "outputs": [],
   "source": []
  }
 ],
 "metadata": {
  "kernelspec": {
   "display_name": "Python 2",
   "language": "python",
   "name": "python2"
  },
  "language_info": {
   "codemirror_mode": {
    "name": "ipython",
    "version": 2
   },
   "file_extension": ".py",
   "mimetype": "text/x-python",
   "name": "python",
   "nbconvert_exporter": "python",
   "pygments_lexer": "ipython2",
   "version": "2.7.8"
  }
 },
 "nbformat": 4,
 "nbformat_minor": 0
}
