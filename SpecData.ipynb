{
 "cells": [
  {
   "cell_type": "code",
   "execution_count": 1,
   "metadata": {
    "collapsed": false
   },
   "outputs": [
    {
     "name": "stderr",
     "output_type": "stream",
     "text": [
      "/usr/local/lib/python2.7/dist-packages/PIL/Image.py:81: RuntimeWarning: The _imaging extension was built for another  version of Pillow or PIL\n",
      "  warnings.warn(str(v), RuntimeWarning)\n",
      "/usr/local/lib/python2.7/dist-packages/PIL/Image.py:81: RuntimeWarning: The _imaging extension was built for another  version of Pillow or PIL\n",
      "  warnings.warn(str(v), RuntimeWarning)\n",
      "/usr/local/lib/python2.7/dist-packages/PIL/Image.py:81: RuntimeWarning: The _imaging extension was built for another  version of Pillow or PIL\n",
      "  warnings.warn(str(v), RuntimeWarning)\n",
      "/usr/local/lib/python2.7/dist-packages/PIL/Image.py:81: RuntimeWarning: The _imaging extension was built for another  version of Pillow or PIL\n",
      "  warnings.warn(str(v), RuntimeWarning)\n"
     ]
    }
   ],
   "source": [
    "# from DefSD import *\n",
    "import sys\n",
    "import traceback\n",
    "import math as mt\n",
    "from scipy.integrate import simps\n",
    "gaussian = lambda x,a,b,c : a * np.exp(-0.5* (x - b)**2 / c**2)\n",
    "\n",
    "import numpy as np   #Herramientas paa manejar arreglos multidimensionales\n",
    "import matplotlib.pyplot as plt   #Gráficos, histogramas, gráfico de dispersión\n",
    "# from astropy import coordinates as coords   #Conversion, sistemas y marcos de referencia\n",
    "from astropy import units as u   #Conversion y desarrollo de operaciones aritméticas de instancias Quantity\n",
    "from astropy.io import fits   \n",
    "from astropy.table import Table, Column ,vstack\n",
    "from astropy.modeling import models, fitting   #Representación y ajuste de modelos en 1D y 2D\n",
    "from scipy.integrate import quad\n",
    "import pyneb as pn\n",
    "import random\n",
    "\n",
    "diags = pn.Diagnostics()\n",
    "\n",
    "# In[ ]:\n",
    "\n",
    "def FWHM(X,Y):\n",
    "    half_max = (max(Y)+min(Y)) / 2.\n",
    "    #find when function crosses line half_max (when sign of diff flips)\n",
    "    #take the 'derivative' of signum(half_max - Y[])\n",
    "    d = np.sign(half_max - np.array(Y[0:-1])) - np.sign(half_max - np.array(Y[1:]))\n",
    "    #plot(X,d) #if you are interested\n",
    "    #find the left and right most indexes\n",
    "    left_idx = np.where(d > 0)[0]\n",
    "    right_idx = np.where(d < 0)[-1]\n",
    "    return X[right_idx] - X[left_idx] #return the difference (full width)\n",
    "\n",
    "def split_list(alist, wanted_parts=1):\n",
    "    length = len(alist)\n",
    "    return [ alist[i*length // wanted_parts: (i+1)*length // wanted_parts] \n",
    "             for i in range(wanted_parts) ]\n",
    "\n",
    "rc = pn.RedCorr()\n",
    "rc.law = 'G03 LMC'\n",
    "IntrinsicHB=np.linspace(2.8,3.1,31)"
   ]
  },
  {
   "cell_type": "code",
   "execution_count": 2,
   "metadata": {
    "collapsed": false
   },
   "outputs": [],
   "source": [
    "#   a function that obtain the slope and the intersection given two points within it\n",
    "\n",
    "def linModel(x0, y0, x1, y1):\n",
    "    m=(y1-y0)/(x1-x0)\n",
    "    b=y1-m*x1\n",
    "    return m, b\n",
    "\n",
    "#   linear function with an np.array : x, a slope : a and intersection : c \n",
    "\n",
    "def lines(x, a, c):\n",
    "    return a*x + c"
   ]
  },
  {
   "cell_type": "code",
   "execution_count": 3,
   "metadata": {
    "collapsed": true
   },
   "outputs": [],
   "source": [
    "#    Lorentz model ---- avoid, we won't use it\n",
    "\n",
    "lorentzFunc = lambda x,A,f,x0 : (A*f**2)/(f**2 + (x-x0)**2)\n",
    "#def lorentzFunc(lal, A, f, x0):\n",
    "#    return (A*f**2)/(f**2 + (x-x0)**2)\n",
    "\n",
    "def fit2(i, spec,lambd,ListLines,ListGal,iterr):\n",
    "    lineP = lineProfile(i,spec,lambd,ListLines,ListGal)\n",
    "    f1 = fitting.LevMarLSQFitter()\n",
    "    Lorentz = []\n",
    "    lineStdDev = 0.5 #3.5\n",
    "    for x in range(len(ListLines)):\n",
    "        lineAmplitude = ListGal[i]['flux'][lineP['lambda'][x]]\n",
    "        v = np.where((lambd >= ListLines['LAMBDA VAC ANG'][x]-1) & (lambd <= ListLines['LAMBDA VAC ANG'][x]+1))\n",
    "        ampMax= ListGal[i]['flux'][v[0][0]]\n",
    "        Lorentz.append(models.Lorentz1D(amplitude=lineAmplitude,x_0=ListLines['LAMBDA VAC ANG'][x],fwhm=2.355*lineStdDev, bounds={'amplitude':(0, ampMax)}))\n",
    "    \n",
    "    sum_Lorentz=Lorentz[0]+Lorentz[1]+Lorentz[2]+Lorentz[3]+Lorentz[4]+Lorentz[5]+Lorentz[6]+Lorentz[7]+Lorentz[8]+Lorentz[9]+Lorentz[10]+Lorentz[11]+Lorentz[12]\n",
    "    sum_Lo2=Lorentz[0]+Lorentz[1]\n",
    "    if len(ListLines) >= 14:\n",
    "        sum_Lorentz=Lorentz[0]+Lorentz[1]+Lorentz[2]+Lorentz[3]+Lorentz[4]+Lorentz[5]+Lorentz[6]+Lorentz[7]+Lorentz[8]+Lorentz[9]+Lorentz[10]+Lorentz[11]+Lorentz[12]+Lorentz[13]+Lorentz[14]\n",
    "    lorentz_fit = f1(sum_Lorentz, lambd, ListGal[i]['flux']-spec, maxiter=iterr)\n",
    "    lorentz_fit2 = f1(sum_Lo2, lambd, ListGal[i]['flux']  -spec, maxiter=iterr) \n",
    "    LOR=[]\n",
    "    LOR.append(lorentz_fit)   \n",
    "    LOR.append(lorentz_fit2)\n",
    "    return LOR"
   ]
  },
  {
   "cell_type": "code",
   "execution_count": 4,
   "metadata": {
    "collapsed": false
   },
   "outputs": [],
   "source": [
    "#   Obtain the index (Table linePr) of the feet line profile given a index of the galaxy : i, \n",
    "#   the continuum spectrum np.array : spec, the wavelenghts : lambd, data of the lines : ListLines,\n",
    "#   the list of spectrum galaxies : ListGal, and minimum resolution of the spectrum : limResoluc\n",
    "\n",
    "#   Aqui encontré muchos problemas porque cuando se encuentran las lineas acopladas de OII en 3726-29\n",
    "#   se debe encontrar los límites de los parámetros\n",
    "\n",
    "def lineProfile(i,spec, lambd,ListLines,ListGal, limResoluc):\n",
    "    linePr = Table(names=('lambda', 'inf', 'sup'), dtype=('i5','i5', 'i5'))\n",
    "    for c in range(0, len(ListLines)):\n",
    "        lambdLine=ListLines['LAMBDA VAC ANG'][c]          #Líneas obtenidas de la base de datos Astroquery\n",
    "        v = np.where((lambd >= lambdLine-limResoluc) & (lambd <= lambdLine+limResoluc))\n",
    "        if len(v[0]) == 0:\n",
    "            ind = 0\n",
    "            l_inf = 0\n",
    "            l_sup = 0\n",
    "            iM=0\n",
    "        else:\n",
    "            ind = 1\n",
    "            try:\n",
    "                f = FWHM(lambd[v[0][0]-ind:v[0][0]+ind], ListGal[i][v[0][0]-ind:v[0][0]+ind])\n",
    "            except IndexError:\n",
    "                f=[]\n",
    "            while (len(f)==0):\n",
    "                ind = ind+1\n",
    "                try:\n",
    "                    f = FWHM(lambd[v[0][0]-ind:v[0][0]+ind], ListGal[i][v[0][0]-ind:v[0][0]+ind])\n",
    "                except IndexError:   \n",
    "                    ind = ind+1\n",
    "                    f=[]\n",
    "            l_inf = v[0][0]-ind\n",
    "            l_sup = v[0][0]+ind\n",
    "            # Una vez encontrado el intervalo se busca el indice donde\n",
    "            # tiene el máximo valor de intensidad\n",
    "            indMaxInt = np.where(ListGal[i][l_inf:l_sup]==np.max(ListGal[i][l_inf:l_sup]))\n",
    "    #        print v\n",
    "            indMax=indMaxInt[0][0]+l_inf\n",
    "            iM = indMax\n",
    "            l_inf = 1\n",
    "            l_sup = 1\n",
    "            a=ListGal[i][indMax]\n",
    "            while (ListGal[i][indMax-l_inf] <= a):  # | ((ListGal[i][indMax-l_inf]-spec[indMax-l_inf])>10):\n",
    "                a = ListGal[i][indMax-l_inf]\n",
    "                l_inf = l_inf+1\n",
    "\n",
    "            a=ListGal[i][indMax]\n",
    "            while (ListGal[i][indMax+l_sup] <= a):  # | ((ListGal[i][indMax+l_sup]-spec[indMax+l_sup])>10):\n",
    "                a = ListGal[i][indMax+l_sup]\n",
    "                l_sup = l_sup+1\n",
    "\n",
    "            l_inf = indMax-l_inf+1\n",
    "            l_sup = indMax+l_sup\n",
    "        linePr.add_row((iM, l_inf, l_sup))        \n",
    "    return linePr"
   ]
  },
  {
   "cell_type": "code",
   "execution_count": 5,
   "metadata": {
    "collapsed": false
   },
   "outputs": [],
   "source": [
    "#  finalFit(index int :i, continuum spectrum np.array :spec, \n",
    "#      wavelengths np.array :lambd, wavelenghts of lines Astropy.Table : ListLines,\n",
    "#      array of galaxies list :ListGal, error bar list : spIvar, maximum iteration Int :iterr,\n",
    "#      resolution limit float :limResol):)\n",
    "\n",
    "def finalFit(i, spec,lambd,ListLines,ListGal,spIvar,iterr, limResol):\n",
    "    lineP = lineProfile(i,spec,lambd,ListLines,ListGal, limResol)   #  Table of line profile indexes upper and lower \n",
    "    linePaux=lineP['lambda'].data     \n",
    "    alslk = lineP['lambda'][0]\n",
    "         #    it obtain the number of lines overlayed in a profile\n",
    "    for c in range(1,len(linePaux)):\n",
    "        if (linePaux[c]==alslk) & (alslk!=0):\n",
    "            linePaux[c-1] = 2\n",
    "            linePaux[c] = 2\n",
    "        else:\n",
    "            linePaux[c] = 1\n",
    "        alslk = lineP['lambda'][c]\n",
    "        \n",
    "    f1 = fitting.LevMarLSQFitter()\n",
    "    lineStdDev = 3.5    #   default standard deviation\n",
    "    condit = True #   esto es mejor quitarlo\n",
    "    while condit:    #   esto es mejor quitarlo\n",
    "        Gaus=[]      #    array of models\n",
    "        for x in range(len(ListLines)):       #     for each line profile it is created a gaussian model \n",
    "            if lineP['inf'][x]==0:            \n",
    "                Gaus.append(models.Gaussian1D(amplitude=0,mean=ListLines['LAMBDA VAC ANG'][x],stddev=0))\n",
    "                      #    it didn't model a profile for this line\n",
    "            else:\n",
    "                v = np.where((lambd >= ListLines['LAMBDA VAC ANG'][x]-limResol) & (lambd <= ListLines['LAMBDA VAC ANG'][x]+limResol))\n",
    "                      #    estimate the wavelenghts for the center of the line\n",
    "                \n",
    "                ampMax= ListGal[i][v[0][0]]-spec[v[0][0]]   #   max amplitude of the profile\n",
    "                nLines = linePaux[x]                        #   obtain the number of overlaying line profiles \n",
    "                f = FWHM(lambd[lineP['inf'][x]:lineP['sup'][x]], ListGal[i][lineP['inf'][x]:lineP['sup'][x]])\n",
    "                      #    calculate the FWHM of the profile\n",
    "                coasi = 0\n",
    "                while len(f)==0:\n",
    "                    coasi = coasi + 1\n",
    "                    f = FWHM(lambd[(lineP['inf'][x]-coasi):(lineP['sup'][x]+coasi)], ListGal[i][(lineP['inf'][x]-coasi):(lineP['sup'][x]+coasi)])\n",
    "                           #  calculate FWHM so often as it is found a non profile spectrum\n",
    "                        \n",
    "                stdLine = (1/2.3548)*f[0]/nLines     #   estimate the observed standard deviation\n",
    "                lineWidthBase = (lambd[lineP['sup'][x]] - lambd[lineP['inf'][x]])/(2*nLines)\n",
    "                      ##   calculate the observed line width at the base of the profile\n",
    "                if (ampMax>0) & (ampMax>3*spIvar[lineP['lambda'][x]]):  # & (coasi < 2):\n",
    "                      #   a model for the observed amplitude (emission line) is greater than three times\n",
    "                        #    the error of the intensity in the spectrum and the bounds depend on the number of lines\n",
    "                        #   in the profile and the width of his base\n",
    "                    Gaus.append(models.Gaussian1D(amplitude=ampMax,mean=ListLines['LAMBDA VAC ANG'][x],stddev=stdLine, bounds={'mean':(ListLines['LAMBDA VAC ANG'][x]-lineWidthBase/(2*nLines), ListLines['LAMBDA VAC ANG'][x]+lineWidthBase/(2*nLines)),'stddev':(0.8*stdLine, 1.5*stdLine)}))\n",
    "                elif ampMax<=3*spIvar[lineP['lambda'][x]]:\n",
    "                      ##   no model for the amplitud less tah three times the error\n",
    "                    Gaus.append(models.Gaussian1D(amplitude=0,mean=ListLines['LAMBDA VAC ANG'][x],stddev=0))\n",
    "                if ampMax <=0:\n",
    "                    print \"amplitud menor a cero\"\n",
    "                    #nans = nans + 1\n",
    "                #print \"lines = \", nLines\n",
    "        condit = False  #   esto es mejor quitarlo\n",
    "    sum_Gaussian=Gaus[0]\n",
    "    #for ooasia in range(1,len(Gaus)):\n",
    "            #  sum of all the models respective to all the wavelenghts \n",
    "    #    sum_Gaussian=sum_Gaussian + Gaus[ooasia]\n",
    "    sum_Ga2=Gaus[0]+Gaus[1]      #   only two models of the [o II]3726-29 lines\n",
    "    sum_Gaussian=Gaus[0]+Gaus[1]+Gaus[2]+Gaus[3]+Gaus[4]+Gaus[5]+Gaus[6]+Gaus[7]+Gaus[8]+Gaus[9]+Gaus[10]+Gaus[11]+Gaus[12]+Gaus[13]+Gaus[14]\n",
    "    gaussian_fit = f1(sum_Gaussian, lambd, ListGal[i]-spec, maxiter=iterr)\n",
    "    gaussian_fit2 = f1(sum_Ga2, lambd, ListGal[i]-spec, maxiter=iterr) \n",
    "    Graph=[]\n",
    "    Graph.append(gaussian_fit)   \n",
    "    Graph.append(gaussian_fit2)\n",
    "    return Graph, lineP     ##  return the fitting to both models and line profiles wavelenghts"
   ]
  },
  {
   "cell_type": "code",
   "execution_count": 6,
   "metadata": {
    "collapsed": true
   },
   "outputs": [],
   "source": [
    "#   obtain the continuum of the spectrum given a the observed spectrum : spec, wavelenght : lambd, and\n",
    "#   a parameter of how variable is the continuum : ppend) \n",
    "\n",
    "def r(spec,lambd, ppend):\n",
    "    for b in range(0,len(spec)-1,1):\n",
    "        pend=(spec[b+1]-spec[b])/(lambd[b+1]-lambd[b])\n",
    "        \n",
    "        cont = 0\n",
    "        m=spec[0]\n",
    "        if b>0:\n",
    "            m= np.mean(spec[0:b])\n",
    "        if b>=30:\n",
    "            m= np.mean(spec[b-30:b-20])\n",
    "#        if (np.fabs(pend)<1):\n",
    "#            specSN.append(spec[b])\n",
    "#            lambdSN.append(lambd[b])\n",
    "        while (np.fabs(pend)>ppend):\n",
    "            cont = cont +1\n",
    "            if spec[b]>m:\n",
    "                if (spec[b]<spec[b+1]):\n",
    "                    spec[b+1]=(spec[b+1]+ spec[b])/2 \n",
    "                else:\n",
    "                    spec[b]=(spec[b+1]+ spec[b])/2     \n",
    "            if spec[b]<=m:\n",
    "                if (spec[b]<spec[b+1]):\n",
    "                    spec[b]=(spec[b+1]+ spec[b])/2  \n",
    "                else:\n",
    "                    spec[b+1]=(spec[b+1]+ spec[b])/2   \n",
    "            pend=(spec[b+1]-spec[b])/(lambd[b+1]-lambd[b])\n",
    "\n",
    "    f=len(spec)\n",
    "    for b in range(1,len(spec)-1,1):\n",
    "        v=f-b\n",
    "        pend=(spec[v-1]-spec[v])/(lambd[v-1]-lambd[v])\n",
    "        m=spec[f-1]\n",
    "        if v<(f-1):\n",
    "            m= np.mean(spec[v:f-1])\n",
    "        if v<(f-30):\n",
    "            m= np.mean(spec[v+20:v+30])\n",
    "        while (np.fabs(pend)>ppend/2):\n",
    "            if spec[v]>m:\n",
    "                if (spec[v]<spec[v-1]):\n",
    "                    spec[v-1]=(spec[v-1]+ spec[v])/2    \n",
    "                else:\n",
    "                    spec[v]=(spec[v-1]+ spec[v])/2    \n",
    "            if spec[v]<=m:\n",
    "                if (spec[v]<spec[v-1]):\n",
    "                    spec[v]=(spec[v-1]+ spec[v])/2 \n",
    "                else:\n",
    "                    spec[v-1]=(spec[v-1]+ spec[v])/2  \n",
    "            pend=(spec[v-1]-spec[v])/(lambd[v-1]-lambd[v])\n",
    "    return spec,lambd"
   ]
  },
  {
   "cell_type": "code",
   "execution_count": 8,
   "metadata": {
    "collapsed": false
   },
   "outputs": [
    {
     "data": {
      "text/html": [
       "&lt;Table masked=False length=1&gt;\n",
       "<table id=\"table140612818968848\">\n",
       "<thead><tr><th>ObjID</th><th>ra</th><th>dec</th><th>z</th><th>isFits</th><th>Temp_1 [OIII]</th><th>Den_1 [SII]</th><th>Temp_2 [NII]</th><th>Den_2 [OII]</th><th>Temp_3 [NII]</th><th>Den_3 [SII]</th><th>Temp_4 [OIII]</th><th>Den_4 [OII]</th></tr></thead>\n",
       "<thead><tr><th></th><th></th><th></th><th></th><th></th><th>K</th><th>1 / cm3</th><th>K</th><th>1 / cm3</th><th>K</th><th>1 / cm3</th><th>K</th><th>1 / cm3</th></tr></thead>\n",
       "<thead><tr><th>string32</th><th>float64</th><th>float64</th><th>float64</th><th>int64</th><th>float64</th><th>float64</th><th>float64</th><th>float64</th><th>float64</th><th>float64</th><th>float64</th><th>float64</th></tr></thead>\n",
       "<tr><td>SDSS</td><td>254.30315</td><td>32.19484</td><td>0.038348</td><td>1</td><td>0.0</td><td>0.0</td><td>0.0</td><td>0.0</td><td>0.0</td><td>0.0</td><td>0.0</td><td>0.0</td></tr>\n",
       "</table>"
      ],
      "text/plain": [
       "<Table masked=False length=1>\n",
       " ObjID       ra      dec       z     ... Den_3 [SII] Temp_4 [OIII] Den_4 [OII]\n",
       "                                     ...   1 / cm3         K         1 / cm3  \n",
       "string32  float64  float64  float64  ...   float64      float64      float64  \n",
       "-------- --------- -------- -------- ... ----------- ------------- -----------\n",
       "    SDSS 254.30315 32.19484 0.038348 ...         0.0           0.0         0.0"
      ]
     },
     "execution_count": 8,
     "metadata": {},
     "output_type": "execute_result"
    }
   ],
   "source": [
    "#   a table resultListDT relates the name of the objects and the resulting temoerature and density\n",
    "#   for the four couples of species\n",
    "\n",
    "resultListDT=Table.read('resultListDT.tbl', format='ascii')\n",
    "ion = [' [OIII]', ' [SII]', ' [NII]', ' [OII]', ' [NII]', ' [SII]', ' [OIII]', ' [OII]']\n",
    "for i in range(1,5):\n",
    "    colT= Column(name='Temp_'+str(i)+ion[2*(i-1)], length=len(resultListDT),unit=u.K)\n",
    "    colD= Column(name='Den_'+str(i)+ion[2*(i-1)+1], length=len(resultListDT),unit=1 / (u.cm**3))\n",
    "    resultListDT.add_columns([colT,colD])\n",
    "resultListDT"
   ]
  },
  {
   "cell_type": "code",
   "execution_count": 9,
   "metadata": {
    "collapsed": false
   },
   "outputs": [
    {
     "name": "stdout",
     "output_type": "stream",
     "text": [
      "Objeto: SDSS\n",
      "amplitud menor a cero\n"
     ]
    },
    {
     "name": "stderr",
     "output_type": "stream",
     "text": [
      "/usr/local/lib/python2.7/dist-packages/astropy/modeling/functional_models.py:100: RuntimeWarning: divide by zero encountered in true_divide\n",
      "  return amplitude * np.exp(- 0.5 * (x - mean) ** 2 / stddev ** 2)\n"
     ]
    },
    {
     "data": {
      "text/plain": [
       "[<Table masked=False length=15>\n",
       "   Amplitude     Wavelength      Sigma     ... Flux_Err   FWHM  eqWidth\n",
       "    float64       float64       float64    ... float64  float64 float64\n",
       " ------------- ------------- ------------- ... -------- ------- -------\n",
       " 296.847328262 3726.88680262 1.23428480385 ...      0.0     0.0     0.0\n",
       "  411.66263725 3729.63857101 1.10361103985 ...      0.0     0.0     0.0\n",
       " 148.626108588 4341.46003885 1.19628304134 ...      0.0     0.0     0.0\n",
       " 14.7605470115 4364.07634908 1.36572771573 ...      0.0     0.0     0.0\n",
       " 311.219311694 4862.57983718 1.25744084197 ...      0.0     0.0     0.0\n",
       "           0.0      4932.603           0.0 ...      0.0     0.0     0.0\n",
       " 455.284979337 4960.20385907 1.24552704296 ...      0.0     0.0     0.0\n",
       "  1331.7475263 5008.17333277 1.26520076339 ...      0.0     0.0     0.0\n",
       "           0.0       5756.24           0.0 ...      0.0     0.0     0.0\n",
       "           0.0       6529.04           0.0 ...      0.0     0.0     0.0\n",
       "  10.459153745 6549.83562293 1.73534732389 ...      0.0     0.0     0.0\n",
       " 698.874539959 6564.64007636 1.76958698243 ...      0.0     0.0     0.0\n",
       " 30.9476077649 6585.22797926 1.86636273298 ...      0.0     0.0     0.0\n",
       " 53.3024744638 6718.35198933 1.79190327068 ...      0.0     0.0     0.0\n",
       " 36.6706900647 6732.62194857 1.78548698571 ...      0.0     0.0     0.0]"
      ]
     },
     "execution_count": 9,
     "metadata": {},
     "output_type": "execute_result"
    }
   ],
   "source": [
    "#   Obtain the lists Spectra, Headers, spectrum variance of the intensity according with a list of galaxy names\n",
    "#   and a Table Tabla of models for each line for all the spectra\n",
    "\n",
    "Headers = []\n",
    "Spectra = []\n",
    "Lambda = []\n",
    "Modelos=[]\n",
    "Tablas=[]\n",
    "HDUs=[]\n",
    "TypeFITS=[]\n",
    "SpectraIvar = []\n",
    "paramCont=0.04\n",
    "typeFITS =0\n",
    "for x in range(len(resultListDT['ObjID'])):\n",
    "    name = resultListDT['ObjID'][x]\n",
    "    z=resultListDT['z'][x]\n",
    "    isFits = resultListDT['isFits'][x]\n",
    "    if isFits:\n",
    "        hdulist = fits.open('Exam_fits/'+name+'.fits')\n",
    "        head= hdulist[0].header\n",
    "        typeFITS=0\n",
    "        if head['NAXIS'] == 0:\n",
    "            total= hdulist[1].data\n",
    "        elif head['NAXIS'] == 1:\n",
    "            typeFITS=1\n",
    "        if typeFITS==0:\n",
    "            spectraFlux = total['flux']\n",
    "            spectraIvar = total['ivar']\n",
    "            linlam=np.exp(total['loglam']*np.log(10))          #  ocultar para leer desde archivo\n",
    "            lambd = linlam/(1+z)\n",
    "        else:\n",
    "            spectraFlux = hdulist[0].data #*(1e-19)\n",
    "            spectraIvar = spectraFlux*0\n",
    "            if 'CDELT1' in head:\n",
    "                lambd = np.linspace(head['CRVAL1'], head['CRVAL1']+head['CDELT1']*(len(spectraFlux)-1), len(spectraFlux))\n",
    "            elif 'W0' in head:\n",
    "                lambd = np.linspace(head['W0'], head['W0']+head['WPC']*(len(spectraFlux)-1), len(spectraFlux))\n",
    "            else:\n",
    "                print \"No se reconoce el formato del archivo FITS\"\n",
    "                break\n",
    "            lambd = lambd/(1+z)\n",
    "    else:\n",
    "        specTable = Table.read(str(name)+'.txt', format='ascii')\n",
    "        spectraFlux = specTable['Intensity'].data #.tolist()\n",
    "        spectraIvar = spectraFlux*0\n",
    "        lambd = specTable['Spectral-axis'].data #.tolist()\n",
    "        lambd = lambd/(1+z)\n",
    "    orderU = 10**(int(mt.log(np.mean(spectraFlux), 10))-1)\n",
    "#    scaleFactor = 10**(-int(mt.log(np.mean(spectraFlux), 10))+1)\n",
    "#    spectraFlux=spectraFlux*scaleFactor\n",
    "    \n",
    "    SpectraIvar.append(spectraIvar)\n",
    "    TypeFITS.append(typeFITS)\n",
    "    Lambda.append(lambd)\n",
    "#    HDUs.append(hdulist)\n",
    "#    Headers.append(head)   #Datos de la cabecera del archivo .fits\n",
    "    Spectra.append(spectraFlux)\n",
    "    print \"Objeto: \" + name\n",
    "    spec =np.array(spectraFlux)\n",
    "    spec2, lambd = r(spec, lambd, paramCont*orderU)    \n",
    "    LS=np.zeros([15,9])\n",
    "    limResolucion = mt.ceil(lambd[1]-lambd[0])\n",
    "    \n",
    "# ..............    \n",
    "    \n",
    "    if lambd[0] > 3720.0 :\n",
    "        print 'No esta en la region del espectro deseada, se realiza solo a las lineas principales'\n",
    "        ListaLineas=Table.read('LinesPrincipal.txt', format='ascii')\n",
    "        LS=np.zeros([13,9])\n",
    "        \n",
    "        lineProf = lineProfile(x,spec2, lambd,ListaLineas,Spectra, limResolucion)\n",
    "        \n",
    "        # Este ciclo calcula remplaza la región del contínuo que está justo en el perfil de línea, por una recta\n",
    "        # que es mas preciso al determinar la amplitud del modelo gaussiano\n",
    "        for ina in range(len(lineProf)):\n",
    "            lInf = lineProf[ina]['inf']\n",
    "            lSup = lineProf[ina]['sup']\n",
    "            lDel = lSup-lInf\n",
    "            if (lInf-3*lDel) >= 0 :\n",
    "                lInf = lInf-3*lDel\n",
    "            if (lSup+3*lDel) <= len(lambd) :\n",
    "                lSup = lSup+3*lDel\n",
    "            m1, b1 = linModel( lambd[lInf] , spec2[lInf] , lambd[lSup], spec2[lSup])\n",
    "            lineLambd = lambd[lInf:lSup]\n",
    "            lineIntCont = lines( lineLambd , m1, b1)\n",
    "            spec2[lInf:lSup] = lineIntCont\n",
    "        ModelG1, lineProf = finalFit(x, spec2, lambd,ListaLineas,Spectra, spectraIvar,2000, limResolucion)\n",
    "#        ModelL1 = fit2(x, spec2, lambd,ListaLineas,Spectra,2500)\n",
    "    else:\n",
    "        # Este ciclo calcula remplaza la región del contínuo que está justo en el perfil de línea, por una recta\n",
    "        # que es mas preciso al determinar la amplitud del modelo gaussiano\n",
    "        ListaLineas=Table.read('LinesAll.txt', format='ascii')\n",
    "        lineProf = lineProfile(x,spec2, lambd,ListaLineas,Spectra, limResolucion)\n",
    "        for ina in range(len(lineProf)):\n",
    "            lInf = lineProf[ina]['inf']\n",
    "            lSup = lineProf[ina]['sup']\n",
    "            lDel = lSup-lInf\n",
    "            if (lInf-3*lDel) >= 0 :\n",
    "                lInf = lInf-3*lDel\n",
    "            if (lSup+3*lDel) <= len(lambd) :\n",
    "                lSup = lSup+3*lDel\n",
    "            m1, b1 = linModel( lambd[lInf] , spec2[lInf] , lambd[lSup], spec2[lSup])\n",
    "            lineLambd = lambd[lInf:lSup]\n",
    "            lineIntCont = lines( lineLambd , m1, b1)\n",
    "            spec2[lInf:lSup] = lineIntCont\n",
    "\n",
    "        ModelG1, lineProf = finalFit(x, spec2, lambd,ListaLineas,Spectra, spectraIvar,2000, limResolucion)\n",
    "#        ModelL1 = fit2(x, spec2, lambd,ListaLineas,Spectra,2500)\n",
    "    \n",
    "    Tabla=Table(LS,names=('Amplitude','Wavelength','Sigma','Lambda Vac','Element','Flux','Flux_Err', 'FWHM', 'eqWidth'),\n",
    "                dtype=('f8','f8','f8','f8','S8','f8','f8','f8','f8'))\n",
    "    Tabla['Lambda Vac']=ListaLineas['LAMBDA VAC ANG']\n",
    "    Tabla['Element']=ListaLineas['SPECTRUM']\n",
    "    AA=split_list(ModelG1[0].parameters, wanted_parts=len(ListaLineas))\n",
    "    AAA=split_list(ModelG1[1].parameters, wanted_parts=2)\n",
    "#    AA=split_list(ModelL1[0].parameters, wanted_parts=len(ListaLineas))\n",
    "#    AAA=split_list(ModelL1[1].parameters, wanted_parts=2)\n",
    "    for ii in range(len(ListaLineas)):\n",
    "        if AA[ii][2]<0:\n",
    "            Tabla['Amplitude'][ii],Tabla['Wavelength'][ii],Tabla['Sigma'][ii]=np.array([AA[ii][0], AA[ii][1], mt.fabs(AA[ii][2])])\n",
    "        else:\n",
    "            Tabla['Amplitude'][ii],Tabla['Wavelength'][ii],Tabla['Sigma'][ii]=AA[ii]\n",
    "        if ii==0 or ii==1:\n",
    "            if AAA[ii][2]<0:\n",
    "                Tabla['Amplitude'][ii],Tabla['Wavelength'][ii],Tabla['Sigma'][ii]=np.array([AAA[ii][0], AAA[ii][1], mt.fabs(AAA[ii][2])])\n",
    "            else:\n",
    "                Tabla['Amplitude'][ii],Tabla['Wavelength'][ii],Tabla['Sigma'][ii]=AAA[ii]\n",
    "    Modelos.append(ModelG1)\n",
    "#    Modelos.append(ModelL1)\n",
    "    Tablas.append(Tabla)\n",
    "Tablas"
   ]
  },
  {
   "cell_type": "code",
   "execution_count": 11,
   "metadata": {
    "collapsed": false,
    "scrolled": true
   },
   "outputs": [
    {
     "name": "stdout",
     "output_type": "stream",
     "text": [
      "Using matplotlib backend: Qt4Agg\n"
     ]
    }
   ],
   "source": [
    "#   The plot of relative intensity and continuum emission for the galaxy index jj and the wavelenght of all the lines\n",
    "#   The equivalent width and FWHM for galaxy jj is measured too\n",
    "jj=0\n",
    "#orderU = 10**(int(mt.log(np.mean(spectraFlux), 10))-1)\n",
    "\n",
    "#spec =np.array(spectraFlux)\n",
    "#spec2, lambd = r(spec, lambd, 0.004*orderU) # este parámetro de 0.004 puede ser igual para todas las galaxias\n",
    "                                      #  pero seria bueno iterar sobre este valor para tener mejores continuos\n",
    "                                      #  o tal vez tomar tres o maś regiones del espectro observado y calcular spec\n",
    "                                    #  para diferentes parámetros de 0.1 a 0.001\n",
    "        \n",
    "\n",
    "%matplotlib\n",
    "spe = []\n",
    "speCont = []\n",
    "for xind in range(len(spectraFlux)):\n",
    "    spe.append((spectraFlux[xind])/(spec2[xind]))\n",
    "    speCont.append((spec2[xind])/(spec2[xind]))\n",
    "for i in range(len(Tablas[jj])):\n",
    "    plt.axvline(x=Tablas[jj]['Lambda Vac'][i],c='dimgrey',lw=0.8,ls='--')\n",
    "    plt.text(Tablas[jj]['Lambda Vac'][i] + 0.5, Tablas[jj]['Amplitude'][i] * 1.2,Tablas[jj]['Element'][i])\n",
    "\n",
    "plt.plot(lambd, spe, c='k', lw=0.5, label='normalized data')\n",
    "plt.plot(lambd, speCont, lw=2, label='normalized continuum')\n",
    "\n",
    "lFWHM = []\n",
    "eqW = []    ##  lista de valores \n",
    "#  una vez normalizado el espectro observado a la medida del contínuo se integra por el método de Simpson\n",
    "for iLineProf in range(len(lineProf)):\n",
    "    f = FWHM(lambd[lineProf['inf'][iLineProf]:lineProf['sup'][iLineProf]], Spectra[jj][lineProf['inf'][iLineProf]:lineProf['sup'][iLineProf]])\n",
    "    if len(f) == 0:\n",
    "        lFWHM.append(0)\n",
    "    else:\n",
    "        lFWHM.append(f[0])\n",
    "    sInteg = simps(y=spe[lineProf['inf'][iLineProf]:lineProf['sup'][iLineProf]], x=lambd[lineProf['inf'][iLineProf]:lineProf['sup'][iLineProf]], even='avg')\n",
    "    eqW.append(sInteg)\n"
   ]
  },
  {
   "cell_type": "code",
   "execution_count": 10,
   "metadata": {
    "collapsed": false,
    "scrolled": false
   },
   "outputs": [
    {
     "name": "stdout",
     "output_type": "stream",
     "text": [
      "Using matplotlib backend: Qt4Agg\n"
     ]
    }
   ],
   "source": [
    "#   plot of the galaxy with index jj observed with respect to the continuum in zero. Two models for the lines required \n",
    "\n",
    "%matplotlib\n",
    "jj=0\n",
    "if isFits:\n",
    "    if TypeFITS == 0:\n",
    "        print HDUs[jj][0].header['FLAVOR']\n",
    "        print HDUs[jj][0].header['QUALITY']\n",
    "        print HDUs[jj][0].header['FBADPIX'] ## %%Malos Pixeles\n",
    "        print HDUs[jj][2].data['SN_MEDIAN_ALL']\n",
    "        print HDUs[jj][2].data['SN_MEDIAN']\n",
    "\n",
    "lambd=Lambda[jj]\n",
    "\n",
    "plt.figure(figsize=(16, 9))\n",
    "plt.title('Spectrum Galaxy '+ resultListDT['ObjID'][jj])\n",
    "plt.xlabel(r'Wavelength (Angstroms $\\AA$) ')\n",
    "if TypeFITS == 0:\n",
    "    plt.ylabel(r'$f_{\\lambda}$ ('+str(head['BUNIT'])+')')\n",
    "else:\n",
    "    plt.ylabel(r'$f_{\\lambda}$')\n",
    "\n",
    "plt.errorbar(lambd,Spectra[jj]-spec2,SpectraIvar[jj],  c='k',lw=2,label='Data')   #Flujo en negro\n",
    "#plt.errorbar(lambd,Spectra[jj] ,SpectraIvar[jj],  c='k',lw=2,label='Data')   #Flujo en negro\n",
    "#plt.plot(lambd, spec2, lw=2, label='reducedSpectra')\n",
    "plt.plot(lambd, Modelos[jj][1](lambd), c='midnightblue', lw=2, label='Model')\n",
    "plt.plot(lambd, Modelos[jj][0](lambd), c='yellow', lw=1, label='Model')\n",
    "#plt.plot(lambd, spec2, lw=2, label='reducedSpectra')\n",
    "\n",
    "plt.legend()\n",
    "\n",
    "x=np.linspace(lambd[0],lambd[-1],len(lambd))\n",
    "for i in range(len(Tablas[jj])):\n",
    "    plt.axvline(x=Tablas[jj]['Lambda Vac'][i],c='dimgrey',lw=1.2,ls='--')\n",
    "    plt.text(Tablas[jj]['Lambda Vac'][i] + 0.5, Tablas[jj]['Amplitude'][i] * 1.2,Tablas[jj]['Element'][i])\n",
    "    if Tablas[jj]['Element'][i] == 'H I':\n",
    "        plt.plot(x,gaussian(x,Tablas[jj][i]['Amplitude'],Tablas[jj][i]['Wavelength'],Tablas[jj][i]['Sigma']), c='DeepPink')\n",
    "##        plt.plot(x,lorentzFunc(x,Tablas[jj][i]['Amplitude'],Tablas[jj][i]['Sigma'], Tablas[jj][i]['Wavelength']), c='DeepPink')\n",
    "    else:\n",
    "        if Tablas[jj][i]['Sigma']!=0:\n",
    "            plt.plot(x,gaussian(x,Tablas[jj][i]['Amplitude'],Tablas[jj][i]['Wavelength'],Tablas[jj][i]['Sigma']) , c='Lime')\n",
    "##            plt.plot(x,lorentzFunc(x,Tablas[jj][i]['Amplitude'],Tablas[jj][i]['Sigma'],Tablas[jj][i]['Wavelength']) , c='Lime')\n"
   ]
  },
  {
   "cell_type": "code",
   "execution_count": 12,
   "metadata": {
    "collapsed": false
   },
   "outputs": [
    {
     "data": {
      "text/html": [
       "&lt;Table masked=False length=15&gt;\n",
       "<table id=\"table140612817392848\">\n",
       "<thead><tr><th>Amplitude</th><th>Wavelength</th><th>Sigma</th><th>Lambda Vac</th><th>Element</th><th>Flux</th><th>Flux_Err</th><th>FWHM</th><th>eqWidth</th></tr></thead>\n",
       "<thead><tr><th>float64</th><th>float64</th><th>float64</th><th>float64</th><th>string64</th><th>float64</th><th>float64</th><th>float64</th><th>float64</th></tr></thead>\n",
       "<tr><td>296.847328262</td><td>3726.88680262</td><td>1.23428480385</td><td>3727.092</td><td>[O II]</td><td>915.934396565</td><td>1.01689145385e-11</td><td>5.14794921875</td><td>122.798979538</td></tr>\n",
       "<tr><td>411.66263725</td><td>3729.63857101</td><td>1.10361103985</td><td>3729.875</td><td>[O II]</td><td>1135.72537785</td><td>1.26090845664e-11</td><td>5.14794921875</td><td>122.798979538</td></tr>\n",
       "<tr><td>148.626108588</td><td>4341.46003885</td><td>1.19628304134</td><td>4341.684</td><td>H I</td><td>444.472499314</td><td>4.93463603313e-12</td><td>3.0009765625</td><td>41.4457167935</td></tr>\n",
       "<tr><td>14.7605470115</td><td>4364.07634908</td><td>1.36572771573</td><td>4364.436</td><td>[O III]</td><td>50.3944160689</td><td>5.59490408376e-13</td><td>4.02001953125</td><td>11.3282785416</td></tr>\n",
       "<tr><td>311.219311694</td><td>4862.57983718</td><td>1.25744084197</td><td>4862.683</td><td>H I</td><td>978.295243845</td><td>1.08612590493e-11</td><td>3.35693359375</td><td>104.181160655</td></tr>\n",
       "<tr><td>0.0</td><td>4932.603</td><td>0.0</td><td>4932.603</td><td>[O III]</td><td>0.0</td><td>0.0</td><td>0.0</td><td>0.0</td></tr>\n",
       "<tr><td>455.284979337</td><td>4960.20385907</td><td>1.24552704296</td><td>4960.295</td><td>[O III]</td><td>1417.59549968</td><td>1.57384717238e-11</td><td>2.28466796875</td><td>145.135154551</td></tr>\n",
       "<tr><td>1331.7475263</td><td>5008.17333277</td><td>1.26520076339</td><td>5008.24</td><td>[O III]</td><td>4212.08557608</td><td>4.67635435583e-11</td><td>3.45703125</td><td>432.860709292</td></tr>\n",
       "<tr><td>0.0</td><td>5756.24</td><td>0.0</td><td>5756.24</td><td>[N II]</td><td>0.0</td><td>0.0</td><td>0.0</td><td>0.0</td></tr>\n",
       "<tr><td>0.0</td><td>6529.04</td><td>0.0</td><td>6529.04</td><td>[N II]</td><td>0.0</td><td>0.0</td><td>0.0</td><td>0.0</td></tr>\n",
       "<tr><td>10.459153745</td><td>6549.83562293</td><td>1.73534732389</td><td>6549.85</td><td>[N II]</td><td>45.3731362612</td><td>5.03743002715e-13</td><td>3.0166015625</td><td>17.3515186032</td></tr>\n",
       "<tr><td>698.874539959</td><td>6564.64007636</td><td>1.76958698243</td><td>6564.61</td><td>H I</td><td>3091.62618</td><td>3.43239455955e-11</td><td>3.02294921875</td><td>481.710235596</td></tr>\n",
       "<tr><td>30.9476077649</td><td>6585.22797926</td><td>1.86636273298</td><td>6585.28</td><td>[N II]</td><td>144.390619569</td><td>1.60305790994e-12</td><td>4.5458984375</td><td>39.3023414612</td></tr>\n",
       "<tr><td>53.3024744638</td><td>6718.35198933</td><td>1.79190327068</td><td>6718.29</td><td>[S II]</td><td>238.768908971</td><td>2.65086739994e-12</td><td>4.64453125</td><td>50.2412289261</td></tr>\n",
       "<tr><td>36.6706900647</td><td>6732.62194857</td><td>1.78548698571</td><td>6732.67</td><td>[S II]</td><td>163.678491402</td><td>1.81719629578e-12</td><td>4.65478515625</td><td>37.2928886414</td></tr>\n",
       "</table>"
      ],
      "text/plain": [
       "<Table masked=False length=15>\n",
       "  Amplitude     Wavelength      Sigma     ...      FWHM        eqWidth   \n",
       "   float64       float64       float64    ...    float64       float64   \n",
       "------------- ------------- ------------- ... ------------- -------------\n",
       "296.847328262 3726.88680262 1.23428480385 ... 5.14794921875 122.798979538\n",
       " 411.66263725 3729.63857101 1.10361103985 ... 5.14794921875 122.798979538\n",
       "148.626108588 4341.46003885 1.19628304134 ...  3.0009765625 41.4457167935\n",
       "14.7605470115 4364.07634908 1.36572771573 ... 4.02001953125 11.3282785416\n",
       "311.219311694 4862.57983718 1.25744084197 ... 3.35693359375 104.181160655\n",
       "          0.0      4932.603           0.0 ...           0.0           0.0\n",
       "455.284979337 4960.20385907 1.24552704296 ... 2.28466796875 145.135154551\n",
       " 1331.7475263 5008.17333277 1.26520076339 ...    3.45703125 432.860709292\n",
       "          0.0       5756.24           0.0 ...           0.0           0.0\n",
       "          0.0       6529.04           0.0 ...           0.0           0.0\n",
       " 10.459153745 6549.83562293 1.73534732389 ...  3.0166015625 17.3515186032\n",
       "698.874539959 6564.64007636 1.76958698243 ... 3.02294921875 481.710235596\n",
       "30.9476077649 6585.22797926 1.86636273298 ...  4.5458984375 39.3023414612\n",
       "53.3024744638 6718.35198933 1.79190327068 ...    4.64453125 50.2412289261\n",
       "36.6706900647 6732.62194857 1.78548698571 ... 4.65478515625 37.2928886414"
      ]
     },
     "execution_count": 12,
     "metadata": {},
     "output_type": "execute_result"
    }
   ],
   "source": [
    "#   Flux determination for each model in galaxy list\n",
    "#   assignment of the FWHM and equivalent width in the Table for the first galaxy\n",
    "\n",
    "for jj in range(len(resultListDT)):\n",
    "    for i in range(len(Tablas[jj])):\n",
    "        if Tablas[jj][i]['Amplitude']<=0:\n",
    "            Tablas[jj]['Flux'][i],Tablas[jj]['Flux_Err'][i]= 0,0\n",
    "        else:\n",
    "            Tablas[jj]['Flux'][i],Tablas[jj]['Flux_Err'][i]=quad(gaussian,Tablas[jj][i]['Wavelength']-3*Tablas[jj][i]['Sigma'],Tablas[jj][i]['Wavelength']+3*Tablas[jj][i]['Sigma'],args=(Tablas[jj][i]['Amplitude'],Tablas[jj][i]['Wavelength'],Tablas[jj][i]['Sigma']))\n",
    "            Tablas[jj]['FWHM'][i],Tablas[jj]['eqWidth'][i] = lFWHM[i], eqW[i]\n",
    "    Tablas[jj].write('Tabla'+str(resultListDT['ObjID'][jj])+'.tbl',format='ascii')\n",
    "Tablas[0]\n"
   ]
  },
  {
   "cell_type": "code",
   "execution_count": 13,
   "metadata": {
    "collapsed": false
   },
   "outputs": [
    {
     "name": "stdout",
     "output_type": "stream",
     "text": [
      "Using matplotlib backend: Qt4Agg\n"
     ]
    },
    {
     "data": {
      "text/plain": [
       "[<matplotlib.lines.Line2D at 0x7fe2f7715c90>]"
      ]
     },
     "execution_count": 13,
     "metadata": {},
     "output_type": "execute_result"
    }
   ],
   "source": [
    "%matplotlib\n",
    "kaksj = Modelos[jj][1](lambd)\n",
    "lalskal = Modelos[jj][0](lambd)\n",
    "specModel = spec+lalskal\n",
    "plt.errorbar(lambd,Spectra[jj] ,SpectraIvar[jj],  c='k',lw=2,label='Data')   #Flujo en negro\n",
    "plt.plot(lambd, specModel, lw=2, label='reducedSpectra')"
   ]
  },
  {
   "cell_type": "code",
   "execution_count": 14,
   "metadata": {
    "collapsed": false
   },
   "outputs": [
    {
     "name": "stdout",
     "output_type": "stream",
     "text": [
      "Using matplotlib backend: Qt4Agg\n"
     ]
    },
    {
     "name": "stderr",
     "output_type": "stream",
     "text": [
      "/usr/local/lib/python2.7/dist-packages/matplotlib/axes/_axes.py:475: UserWarning: No labelled objects found. Use label='...' kwarg on individual plots.\n",
      "  warnings.warn(\"No labelled objects found. \"\n"
     ]
    }
   ],
   "source": [
    "%matplotlib\n",
    "\n",
    "plt.figure(figsize=(16, 9))\n",
    "for i in range(10):\n",
    "    B=[]\n",
    "    for j in range(len(Spectra[jj])):\n",
    "        bb=SpectraIvar[jj][j]*random.uniform(-3,3)\n",
    "        B.append(bb)\n",
    "    plt.plot(lambd,(Spectra[jj] +B),c='orange')\n",
    "plt.legend()"
   ]
  },
  {
   "cell_type": "code",
   "execution_count": 15,
   "metadata": {
    "collapsed": false
   },
   "outputs": [],
   "source": [
    "#   it obtains the electron density and temperature by the cross iterative method for all couple of given species.\n",
    "\n",
    "fig = plt.figure()\n",
    "fig.suptitle('')\n",
    "ax = fig.add_subplot(111)\n",
    "ax.set_ylabel('Density $n_e (cm^{-3})$')\n",
    "ax.set_xlabel('Temperature $T_e (K)$')\n",
    "\n",
    "for jj in range(len(resultListDT)):\n",
    "    k=0\n",
    "    if lambd[0] > 3720.0 :\n",
    "        k=2\n",
    "    try:\n",
    "        a=diags.getCrossTemDen('[OIII] 4363/5007+', '[SII] 6731/6716', Tablas[jj]['Flux'][3-k]/(Tablas[jj]['Flux'][6-k]+Tablas[jj]['Flux'][7-k]), Tablas[jj]['Flux'][13-k]/Tablas[jj]['Flux'][14-k])\n",
    "        b=diags.getCrossTemDen('[NII] 5755/6584+', '[OII] 3726/3729', Tablas[jj]['Flux'][8-k]/(Tablas[jj]['Flux'][12-k]+Tablas[jj]['Flux'][10-k]), Tablas[jj]['Flux'][0-k]/Tablas[jj]['Flux'][1-k])\n",
    "        c=diags.getCrossTemDen('[NII] 5755/6584+', '[SII] 6731/6716', Tablas[jj]['Flux'][8-k]/(Tablas[jj]['Flux'][12-k]+Tablas[jj]['Flux'][10-k]), Tablas[jj]['Flux'][13-k]/Tablas[jj]['Flux'][14-k])\n",
    "        d=diags.getCrossTemDen('[OIII] 4363/5007+', '[OII] 3726/3729', Tablas[jj]['Flux'][3-k]/(Tablas[jj]['Flux'][6-k]+Tablas[jj]['Flux'][7-k]), Tablas[jj]['Flux'][0-k]/Tablas[jj]['Flux'][1-k])\n",
    "    except ValueError:\n",
    "        continue\n",
    "\n",
    "    for i in IntrinsicHB:\n",
    "        rc.setCorr((Tablas[jj]['Flux'][11-k]/Tablas[jj]['Flux'][4-k])/i, Tablas[jj]['Lambda Vac'][11-k], Tablas[jj]['Lambda Vac'][4-k])\n",
    "        try:\n",
    "            a2=diags.getCrossTemDen('[OIII] 4363/5007+', '[SII] 6731/6716',Tablas[jj]['Flux'][3-k]*rc.getCorrHb(Tablas[jj]['Lambda Vac'][3-k])/(Tablas[jj]['Flux'][6-k]*rc.getCorrHb(Tablas[jj]['Lambda Vac'][6-k])+ Tablas[jj]['Flux'][7-k]*rc.getCorrHb(Tablas[jj]['Lambda Vac'][7-k]) ), Tablas[jj]['Flux'][13-k] * rc.getCorrHb(Tablas[jj]['Lambda Vac'][13-k])/Tablas[jj]['Flux'][14-k] * rc.getCorrHb(Tablas[jj]['Lambda Vac'][14-k]))\n",
    "            b2=diags.getCrossTemDen('[NII] 5755/6584+', '[OII] 3726/3729', Tablas[jj]['Flux'][8-k]*rc.getCorrHb(Tablas[jj]['Lambda Vac'][8-k])/(Tablas[jj]['Flux'][12-k]*rc.getCorrHb(Tablas[jj]['Lambda Vac'][12-k])+Tablas[jj]['Flux'][10-k]*rc.getCorrHb(Tablas[jj]['Lambda Vac'][7-k])), Tablas[jj]['Flux'][0-k]*rc.getCorrHb(Tablas[jj]['Lambda Vac'][0-k])/Tablas[jj]['Flux'][1-k])*rc.getCorrHb(Tablas[jj]['Lambda Vac'][1-k])\n",
    "            c2=diags.getCrossTemDen('[NII] 5755/6584+', '[SII] 6731/6716', Tablas[jj]['Flux'][8-k]*rc.getCorrHb(Tablas[jj]['Lambda Vac'][8-k])/(Tablas[jj]['Flux'][12-k]*rc.getCorrHb(Tablas[jj]['Lambda Vac'][12-k])+Tablas[jj]['Flux'][10-k]*rc.getCorrHb(Tablas[jj]['Lambda Vac'][7-k])),Tablas[jj]['Flux'][13-k] * rc.getCorrHb(Tablas[jj]['Lambda Vac'][13-k])/Tablas[jj]['Flux'][14-k] * rc.getCorrHb(Tablas[jj]['Lambda Vac'][14-k]))\n",
    "            d2=diags.getCrossTemDen('[OIII] 4363/5007+', '[OII] 3726/3729',Tablas[jj]['Flux'][3-k]*rc.getCorrHb(Tablas[jj]['Lambda Vac'][3-k])/(Tablas[jj]['Flux'][6-k]*rc.getCorrHb(Tablas[jj]['Lambda Vac'][6-k])+ Tablas[jj]['Flux'][7-k]*rc.getCorrHb(Tablas[jj]['Lambda Vac'][7-k]) ), Tablas[jj]['Flux'][0-k]*rc.getCorrHb(Tablas[jj]['Lambda Vac'][0-k])/Tablas[jj]['Flux'][1-k])*rc.getCorrHb(Tablas[jj]['Lambda Vac'][1-k])\n",
    "        except ValueError:\n",
    "            continue\n",
    "        if b2 != () or d2 != ():\n",
    "            plt.scatter(b2[0], b2[1],c='c')\n",
    "            plt.scatter(d2[0], d2[1],c='c')\n",
    "        if i == 2.86:\n",
    "            resultListDT['Temp_1 [OIII]'][jj]=a2[0]\n",
    "            resultListDT['Den_1 [SII]'][jj]=a2[1]\n",
    "            resultListDT['Temp_3 [NII]'][jj]=c2[0]\n",
    "            resultListDT['Den_3 [SII]'][jj]=c2[1]\n",
    "            if b2 != () or d2 != ():\n",
    "                resultListDT['Temp_2 [NII]'][jj]=b2[0]\n",
    "                resultListDT['Den_2 [OII]'][jj]=b2[1] \n",
    "                resultListDT['Temp_4 [OIII]'][jj]=d2[0]\n",
    "                resultListDT['Den_4 [OII]'][jj]=d2[1]\n",
    "            if lambd[0] > 3720.0 :\n",
    "                resultListDT['Temp_2 [NII]'][jj]=0.0\n",
    "                resultListDT['Den_2 [OII]'][jj]=0.0\n",
    "                resultListDT['Temp_4 [OIII]'][jj]=0.0\n",
    "                resultListDT['Den_4 [OII]'][jj]=0.0\n",
    "    resultListDT.write('TemDenGalaxies'+str(resultListDT['ObjID'][jj])+'.tbl',format='ascii')\n",
    "    resultListDT\n"
   ]
  },
  {
   "cell_type": "code",
   "execution_count": 16,
   "metadata": {
    "collapsed": false
   },
   "outputs": [
    {
     "name": "stdout",
     "output_type": "stream",
     "text": [
      "  Amplitude     Wavelength      Sigma     ...      FWHM        eqWidth   \n",
      "------------- ------------- ------------- ... ------------- -------------\n",
      "296.847328262 3726.88680262 1.23428480385 ... 5.14794921875 122.798979538\n",
      " 411.66263725 3729.63857101 1.10361103985 ... 5.14794921875 122.798979538\n",
      "148.626108588 4341.46003885 1.19628304134 ...  3.0009765625 41.4457167935\n",
      "14.7605470115 4364.07634908 1.36572771573 ... 4.02001953125 11.3282785416\n",
      "311.219311694 4862.57983718 1.25744084197 ... 3.35693359375 104.181160655\n",
      "          0.0      4932.603           0.0 ...           0.0           0.0\n",
      "455.284979337 4960.20385907 1.24552704296 ... 2.28466796875 145.135154551\n",
      " 1331.7475263 5008.17333277 1.26520076339 ...    3.45703125 432.860709292\n",
      "          0.0       5756.24           0.0 ...           0.0           0.0\n",
      "          0.0       6529.04           0.0 ...           0.0           0.0\n",
      " 10.459153745 6549.83562293 1.73534732389 ...  3.0166015625 17.3515186032\n",
      "698.874539959 6564.64007636 1.76958698243 ... 3.02294921875 481.710235596\n",
      "30.9476077649 6585.22797926 1.86636273298 ...  4.5458984375 39.3023414612\n",
      "53.3024744638 6718.35198933 1.79190327068 ...    4.64453125 50.2412289261\n",
      "36.6706900647 6732.62194857 1.78548698571 ... 4.65478515625 37.2928886414\n"
     ]
    },
    {
     "data": {
      "text/html": [
       "&lt;Table masked=False length=1&gt;\n",
       "<table id=\"table140612818968848\">\n",
       "<thead><tr><th>ObjID</th><th>ra</th><th>dec</th><th>z</th><th>isFits</th><th>Temp_1 [OIII]</th><th>Den_1 [SII]</th><th>Temp_2 [NII]</th><th>Den_2 [OII]</th><th>Temp_3 [NII]</th><th>Den_3 [SII]</th><th>Temp_4 [OIII]</th><th>Den_4 [OII]</th></tr></thead>\n",
       "<thead><tr><th></th><th></th><th></th><th></th><th></th><th>K</th><th>1 / cm3</th><th>K</th><th>1 / cm3</th><th>K</th><th>1 / cm3</th><th>K</th><th>1 / cm3</th></tr></thead>\n",
       "<thead><tr><th>string32</th><th>float64</th><th>float64</th><th>float64</th><th>int64</th><th>float64</th><th>float64</th><th>float64</th><th>float64</th><th>float64</th><th>float64</th><th>float64</th><th>float64</th></tr></thead>\n",
       "<tr><td>SDSS</td><td>254.30315</td><td>32.19484</td><td>0.038348</td><td>1</td><td>12430.532374</td><td>980.646690798</td><td>nan</td><td>nan</td><td>nan</td><td>nan</td><td>12439.4594541</td><td>303.919538231</td></tr>\n",
       "</table>"
      ],
      "text/plain": [
       "<Table masked=False length=1>\n",
       " ObjID       ra      dec       z     ... Den_3 [SII] Temp_4 [OIII]  Den_4 [OII] \n",
       "                                     ...   1 / cm3         K          1 / cm3   \n",
       "string32  float64  float64  float64  ...   float64      float64       float64   \n",
       "-------- --------- -------- -------- ... ----------- ------------- -------------\n",
       "    SDSS 254.30315 32.19484 0.038348 ...         nan 12439.4594541 303.919538231"
      ]
     },
     "execution_count": 16,
     "metadata": {},
     "output_type": "execute_result"
    }
   ],
   "source": [
    "print Tablas[0]\n",
    "\n",
    "resultListDT\n"
   ]
  },
  {
   "cell_type": "code",
   "execution_count": 22,
   "metadata": {
    "collapsed": true
   },
   "outputs": [],
   "source": []
  }
 ],
 "metadata": {
  "kernelspec": {
   "display_name": "Python 2",
   "language": "python",
   "name": "python2"
  },
  "language_info": {
   "codemirror_mode": {
    "name": "ipython",
    "version": 2
   },
   "file_extension": ".py",
   "mimetype": "text/x-python",
   "name": "python",
   "nbconvert_exporter": "python",
   "pygments_lexer": "ipython2",
   "version": "2.7.10"
  }
 },
 "nbformat": 4,
 "nbformat_minor": 0
}
