{
 "cells": [
  {
   "cell_type": "code",
   "execution_count": 1,
   "metadata": {
    "collapsed": false
   },
   "outputs": [],
   "source": [
    "from DefSD import *\n"
   ]
  },
  {
   "cell_type": "code",
   "execution_count": 171,
   "metadata": {
    "collapsed": false
   },
   "outputs": [
    {
     "name": "stdout",
     "output_type": "stream",
     "text": [
      "Objeto: SDSS J003947.13-002934.7\n",
      "It has not been possible to fit the line:  4341.684\n",
      "It has not been possible to fit the line:  4862.683\n",
      "It has not been possible to fit the line:  6529.04\n",
      "  Amplitude      Wavelength      Sigma      Lambda Vac ... Flux_Err FWHM eqWidth\n",
      "-------------- ------------- -------------- ---------- ... -------- ---- -------\n",
      " 3.96996694795 3727.59490796  2.07375842216   3727.092 ...      0.0  0.0     0.0\n",
      " 1.67668965411 3729.90284345 0.217924034989   3729.875 ...      0.0  0.0     0.0\n",
      "           0.0      4341.684            0.0   4341.684 ...      0.0  0.0     0.0\n",
      " 2.26711876954 4364.75555493 0.851010499408   4364.436 ...      0.0  0.0     0.0\n",
      "           0.0      4862.683            0.0   4862.683 ...      0.0  0.0     0.0\n",
      "  1.3540461544 4933.07480372 0.772880832301   4932.603 ...      0.0  0.0     0.0\n",
      "0.866469762038 4955.46084813  8.97011747304   4960.295 ...      0.0  0.0     0.0\n",
      "  2.4075546355 5006.68370951  2.34535549659    5008.24 ...      0.0  0.0     0.0\n",
      "           0.0       5756.24            0.0    5756.24 ...      0.0  0.0     0.0\n",
      "           0.0       6529.04            0.0    6529.04 ...      0.0  0.0     0.0\n",
      " 2.28045708825  6547.5869021  5.22830788029    6549.85 ...      0.0  0.0     0.0\n",
      " 6.95256715517 6563.08165373   3.3246497788    6564.61 ...      0.0  0.0     0.0\n",
      " 6.64830889056 6584.15100736  3.62242363625    6585.28 ...      0.0  0.0     0.0\n",
      " 1.32765121079 6719.04121898    8.148808527    6718.29 ...      0.0  0.0     0.0\n",
      " 1.61466524392 6728.12022533 0.279895707582    6732.67 ...      0.0  0.0     0.0\n",
      "Objeto: 2MASX J00400069-0051457\n",
      "  Amplitude     Wavelength      Sigma      Lambda Vac ... Flux_Err FWHM eqWidth\n",
      "------------- ------------- -------------- ---------- ... -------- ---- -------\n",
      " 18.281303923  3728.0258044   1.9306480638   3727.092 ...      0.0  0.0     0.0\n",
      "8.87859449727 3731.39449469 0.836718232096   3729.875 ...      0.0  0.0     0.0\n",
      "1.45066760166 4349.72528901  3.23080129781   4341.684 ...      0.0  0.0     0.0\n",
      "3.76552333152  4364.5038405  4.62129396197   4364.436 ...      0.0  0.0     0.0\n",
      "          0.0      4862.683            0.0   4862.683 ...      0.0  0.0     0.0\n",
      "2.18361951742  4931.0478797  2.50237143099   4932.603 ...      0.0  0.0     0.0\n",
      "23.1519904286 4962.75386327  4.30530894986   4960.295 ...      0.0  0.0     0.0\n",
      "70.8178643132 5010.31849672  3.88002025096    5008.24 ...      0.0  0.0     0.0\n",
      "2.71750639941 5758.29960265  1.27806044688    5756.24 ...      0.0  0.0     0.0\n",
      "5.29765481501 6569.57789963  24.7614131559    6529.04 ...      0.0  0.0     0.0\n",
      " 9.6625819816 6549.63978841   2.3526062539    6549.85 ...      0.0  0.0     0.0\n",
      " 11.529275993 6565.39202511  2.73089616855    6564.61 ...      0.0  0.0     0.0\n",
      "28.8768943877 6586.32618965  3.41571371376    6585.28 ...      0.0  0.0     0.0\n",
      "8.03449731769 6718.70515263  3.27641242608    6718.29 ...      0.0  0.0     0.0\n",
      "8.06755838952 6733.68980944  3.53674434399    6732.67 ...      0.0  0.0     0.0\n",
      "Objeto: SDSS J004119.73+002632.3\n",
      "  Amplitude      Wavelength      Sigma      Lambda Vac ... Flux_Err FWHM eqWidth\n",
      "-------------- ------------- -------------- ---------- ... -------- ---- -------\n",
      "    23.1483469 3727.54564526  2.12883640125   3727.092 ...      0.0  0.0     0.0\n",
      " 14.6784299671 3730.20725642  1.70436765816   3729.875 ...      0.0  0.0     0.0\n",
      " 4.32810063342 4341.35052845  1.15150293426   4341.684 ...      0.0  0.0     0.0\n",
      " 1.72841613429 4364.88722924  4.39730355618   4364.436 ...      0.0  0.0     0.0\n",
      " 9.17485288254 4862.42001653  1.69389931184   4862.683 ...      0.0  0.0     0.0\n",
      " 1.82090345919 4932.73587443 0.103262139633   4932.603 ...      0.0  0.0     0.0\n",
      " 6.80017520358 4959.87324769  2.85730414215   4960.295 ...      0.0  0.0     0.0\n",
      " 19.5430163726 5007.70513206  2.60131185663    5008.24 ...      0.0  0.0     0.0\n",
      "0.754416026829 5760.76701467   10.717936964    5756.24 ...      0.0  0.0     0.0\n",
      " 3.46332194118 6536.38499887  1.37487401867    6529.04 ...      0.0  0.0     0.0\n",
      " 7.02551289417 6549.93828785  2.93504444665    6549.85 ...      0.0  0.0     0.0\n",
      " 44.0432367729 6564.88129115  2.87579415674    6564.61 ...      0.0  0.0     0.0\n",
      " 23.1800951219 6585.41966965  3.06730063917    6585.28 ...      0.0  0.0     0.0\n",
      " 10.9010526808 6718.53273386  2.95300876819    6718.29 ...      0.0  0.0     0.0\n",
      " 8.77572731881  6732.9725704  2.99963948724    6732.67 ...      0.0  0.0     0.0\n",
      "Objeto: 2MASX J00412528+1343345\n",
      "  Amplitude      Wavelength       Sigma       ... Flux_Err FWHM eqWidth\n",
      "-------------- ------------- ---------------- ... -------- ---- -------\n",
      " 13.8966374462 3728.62972773    1.79987137626 ...      0.0  0.0     0.0\n",
      " 50.3393593196 3729.44519949  0.0129431427147 ...      0.0  0.0     0.0\n",
      " 2.87441580806 4341.99454955    1.72500174872 ...      0.0  0.0     0.0\n",
      " 2.30235020757  4368.4666803    6.57569498058 ...      0.0  0.0     0.0\n",
      " 6.56285607436 4862.26545303    1.13283040643 ...      0.0  0.0     0.0\n",
      " 3.25118952505 4933.21015391  0.0178840583538 ...      0.0  0.0     0.0\n",
      " 2.46353718214 4960.76421355    1.22195511097 ...      0.0  0.0     0.0\n",
      " 4.46214221918 5008.16278339    1.27535974191 ...      0.0  0.0     0.0\n",
      " 1.22941141992 5754.58047827 0.00231292364379 ...      0.0  0.0     0.0\n",
      "0.898118890459 6531.04337002    1.56638091557 ...      0.0  0.0     0.0\n",
      " 5.80282081105 6549.38040186    1.78978618451 ...      0.0  0.0     0.0\n",
      "   47.54432812 6564.18353576    1.72030640646 ...      0.0  0.0     0.0\n",
      "  18.678348742 6584.92307251    1.83746758197 ...      0.0  0.0     0.0\n",
      " 11.0126813111 6717.94820388    1.81040969356 ...      0.0  0.0     0.0\n",
      " 8.88714724536 6732.30033979    1.67044468727 ...      0.0  0.0     0.0\n"
     ]
    }
   ],
   "source": [
    "#   a table resultListDT relates the name of the objects and the resulting temoerature and density\n",
    "#   for the four couples of species\n",
    "\n",
    "resultListDT=Table.read('resultListDT.tbl', format='ascii')\n",
    "ion = [' [OIII]', ' [SII]', ' [NII]', ' [OII]', ' [NII]', ' [SII]', ' [OIII]', ' [OII]']\n",
    "for i in range(1,5):\n",
    "    colT= Column(name='Temp_'+str(i)+ion[2*(i-1)], length=len(resultListDT),unit=u.K)\n",
    "    colD= Column(name='Den_'+str(i)+ion[2*(i-1)+1], length=len(resultListDT),unit=1 / (u.cm**3))\n",
    "    resultListDT.add_columns([colT,colD])\n",
    "resultListDT\n",
    "\n",
    "#   Obtain the lists Spectra, Headers, spectrum variance of the intensity according with a list of galaxy names\n",
    "#   and a Table Tabla of models for each line for all the spectra\n",
    "\n",
    "Headers = []\n",
    "Spectra = []\n",
    "SpectraCont = []\n",
    "Lambda = []\n",
    "Modelos=[]\n",
    "Tablas=[]\n",
    "HDUs=[]\n",
    "TypeFITS=[]\n",
    "SpectraIvar = []\n",
    "LINEProfile = []\n",
    "paramCont=0.1\n",
    "typeFITS =0\n",
    "for x in range(len(resultListDT['ObjID'])):\n",
    "    name = resultListDT['ObjID'][x]\n",
    "    z=resultListDT['z'][x]\n",
    "    isFits = resultListDT['isFits'][x]\n",
    "    if isFits:\n",
    "        hdulist = fits.open('Exam_fits/'+name+'.fits')\n",
    "        head= hdulist[0].header\n",
    "        typeFITS=0\n",
    "        if head['NAXIS'] == 0:\n",
    "            total= hdulist[1].data\n",
    "        elif head['NAXIS'] == 1:\n",
    "            typeFITS=1\n",
    "        if typeFITS==0:\n",
    "            spectraFlux = total['flux']\n",
    "            spectraIvar = total['ivar']\n",
    "            linlam=np.exp(total['loglam']*np.log(10))          #  ocultar para leer desde archivo\n",
    "            lambd = linlam/(1+z)\n",
    "        else:\n",
    "            spectraFlux = hdulist[0].data #*(1e-19)\n",
    "            spectraIvar = spectraFlux*0\n",
    "            if 'CDELT1' in head:\n",
    "                lambd = np.linspace(head['CRVAL1'], head['CRVAL1']+head['CDELT1']*(len(spectraFlux)-1), len(spectraFlux))\n",
    "            elif 'W0' in head:\n",
    "                lambd = np.linspace(head['W0'], head['W0']+head['WPC']*(len(spectraFlux)-1), len(spectraFlux))\n",
    "            else:\n",
    "                print \"Can't identify FITS format in file: \", str(name)\n",
    "                break\n",
    "            lambd = lambd/(1+z)\n",
    "    else:\n",
    "        specTable = Table.read(str(name)+'.txt', format='ascii')\n",
    "        spectraFlux = specTable['Intensity'].data #.tolist()\n",
    "        spectraIvar = spectraFlux*0\n",
    "        lambd = specTable['Spectral-axis'].data #.tolist()\n",
    "        lambd = lambd/(1+z)\n",
    "    orderU = 10**(int(mt.log(np.mean(spectraFlux), 10))-1)\n",
    "#    scaleFactor = 10**(-int(mt.log(np.mean(spectraFlux), 10))+1)\n",
    "#    spectraFlux=spectraFlux*scaleFactor\n",
    "    \n",
    "    SpectraIvar.append(spectraIvar)\n",
    "    TypeFITS.append(typeFITS)\n",
    "    Lambda.append(lambd)\n",
    "#    HDUs.append(hdulist)\n",
    "#    Headers.append(head)   #Datos de la cabecera del archivo .fits\n",
    "    Spectra.append(spectraFlux)\n",
    "    print \"Objeto: \" + name\n",
    "    spec =np.array(spectraFlux)\n",
    "    spec2, lambd = r(spec, lambd, paramCont*orderU)\n",
    "    \n",
    "    \n",
    "    limResolucion = mt.ceil(lambd[1]-lambd[0])\n",
    "    \n",
    "# ..............    \n",
    "    \n",
    "    if lambd[0] > 3720.0 :\n",
    "        print \"The object isn't in expected spectrum region\"\n",
    "        ListaLineas=Table.read('LinesPrincipal.txt', format='ascii')\n",
    "        LS=np.zeros([13,9])\n",
    "        \n",
    "        lineProf = lineProfile(x,spec2, lambd,ListaLineas,Spectra, limResolucion)\n",
    "        LINEProfile.append(lineProf)\n",
    "        # Este ciclo calcula remplaza la región del contínuo que está justo en el perfil de línea, por una recta\n",
    "        # que es mas preciso al determinar la amplitud del modelo gaussiano\n",
    "        for ina in range(len(lineProf)):\n",
    "            lInf = lineProf[ina]['inf']\n",
    "            lSup = lineProf[ina]['sup']\n",
    "            lDel = lSup-lInf\n",
    "            if (lInf-3*lDel) >= 0 :\n",
    "                lInf = lInf-3*lDel\n",
    "            if (lSup+3*lDel) <= len(lambd) :\n",
    "                lSup = lSup+3*lDel\n",
    "            m1, b1 = linModel( lambd[lInf] , spec2[lInf] , lambd[lSup], spec2[lSup])\n",
    "            lineLambd = lambd[lInf:lSup]\n",
    "            lineIntCont = lines( lineLambd , m1, b1)\n",
    "            spec2[lInf:lSup] = lineIntCont\n",
    "        ModelG1, lineProf, spec2 = finalFit(x, spec2, lambd,ListaLineas,Spectra, spectraIvar,2000, limResolucion)\n",
    "#        ModelL1 = fit2(x, spec2, lambd,ListaLineas,Spectra,2500)\n",
    "    else:\n",
    "        # Este ciclo calcula remplaza la región del contínuo que está justo en el perfil de línea, por una recta\n",
    "        # que es mas preciso al determinar la amplitud del modelo gaussiano\n",
    "        ListaLineas=Table.read('LinesAll.txt', format='ascii')\n",
    "        lineProf = lineProfile(x,spec2, lambd,ListaLineas,Spectra, limResolucion)\n",
    "        LINEProfile.append(lineProf)\n",
    "        for ina in range(len(lineProf)):\n",
    "            lInf = lineProf[ina]['inf']\n",
    "            lSup = lineProf[ina]['sup']\n",
    "            lDel = lSup-lInf\n",
    "            if (lInf-3*lDel) >= 0 :\n",
    "                lInf = lInf-3*lDel\n",
    "            if (lSup+3*lDel) <= len(lambd) :\n",
    "                lSup = lSup+3*lDel\n",
    "            m1, b1 = linModel( lambd[lInf] , spec2[lInf] , lambd[lSup], spec2[lSup])\n",
    "            lineLambd = lambd[lInf:lSup]\n",
    "            lineIntCont = lines( lineLambd , m1, b1)\n",
    "            spec2[lInf:lSup] = lineIntCont\n",
    "        LS=np.zeros([len(ListaLineas),9])\n",
    "        ModelG1, lineProf, spec2 = finalFit(x, spec2, lambd,ListaLineas,Spectra, spectraIvar,2000, limResolucion)\n",
    "#        ModelL1 = fit2(x, spec2, lambd,ListaLineas,Spectra,2500)\n",
    "    \n",
    "    Tabla=Table(LS,names=('Amplitude','Wavelength','Sigma','Lambda Vac','Element','Flux','Flux_Err', 'FWHM', 'eqWidth'),\n",
    "                dtype=('f8','f8','f8','f8','S8','f8','f8','f8','f8'))\n",
    "    Tabla['Lambda Vac']=ListaLineas['LAMBDA VAC ANG']\n",
    "    Tabla['Element']=ListaLineas['SPECTRUM']\n",
    "    AA=split_list(ModelG1[0].parameters, wanted_parts=len(ListaLineas))\n",
    "    AAA=split_list(ModelG1[1].parameters, wanted_parts=2)\n",
    "    SpectraCont.append(spec2)\n",
    "#    AA=split_list(ModelL1[0].parameters, wanted_parts=len(ListaLineas))\n",
    "#    AAA=split_list(ModelL1[1].parameters, wanted_parts=2)\n",
    "    for ii in range(len(ListaLineas)):\n",
    "        if AA[ii][2]<0:\n",
    "            Tabla['Amplitude'][ii],Tabla['Wavelength'][ii],Tabla['Sigma'][ii]=np.array([AA[ii][0], AA[ii][1], mt.fabs(AA[ii][2])])\n",
    "        else:\n",
    "            Tabla['Amplitude'][ii],Tabla['Wavelength'][ii],Tabla['Sigma'][ii]=AA[ii]\n",
    "        if ii==0 or ii==1:\n",
    "            if AAA[ii][2]<0:\n",
    "                Tabla['Amplitude'][ii],Tabla['Wavelength'][ii],Tabla['Sigma'][ii]=np.array([AAA[ii][0], AAA[ii][1], mt.fabs(AAA[ii][2])])\n",
    "            else:\n",
    "                Tabla['Amplitude'][ii],Tabla['Wavelength'][ii],Tabla['Sigma'][ii]=AAA[ii]\n",
    "    Modelos.append(ModelG1)\n",
    "    #    Modelos.append(ModelL1)\n",
    "    print Tabla \n",
    "    Tablas.append(Tabla)"
   ]
  },
  {
   "cell_type": "code",
   "execution_count": 176,
   "metadata": {
    "collapsed": false
   },
   "outputs": [
    {
     "name": "stdout",
     "output_type": "stream",
     "text": [
      "Using matplotlib backend: Qt4Agg\n"
     ]
    },
    {
     "data": {
      "text/plain": [
       "[<matplotlib.lines.Line2D at 0x7f6b7b05b110>]"
      ]
     },
     "execution_count": 176,
     "metadata": {},
     "output_type": "execute_result"
    }
   ],
   "source": [
    "#   plot of the galaxy with index jj observed with respect to the continuum in zero. Two models for the lines required \n",
    "\n",
    "%matplotlib\n",
    "jj=3\n",
    "#co = 8\n",
    "#1343\t\n",
    "#plt.plot(Lambda[jj][1339-co:1346+co],Spectra[jj][1339-co:1346+co], lw=0.5, c = 'k', label='Spectra')\n",
    "\n",
    "plt.plot(Lambda[jj],Spectra[jj], lw=0.5, c = 'k', label='Spectra')\n",
    "plt.plot(Lambda[jj],SpectraCont[jj], lw=2, c = 'g', label='Spectra')\n",
    "#plt.plot(Lambda[jj],spec2[jj], lw=2, c = 'k', label='Spectra')\n",
    "\n",
    "#plt.plot(Lambda[jj],SpectraCont[jj], lw=2, c='g', label='reducedSpectra')"
   ]
  },
  {
   "cell_type": "markdown",
   "metadata": {},
   "source": [
    "###     EqWidth ,  FWHM,  FLUX"
   ]
  },
  {
   "cell_type": "code",
   "execution_count": 177,
   "metadata": {
    "collapsed": false,
    "scrolled": true
   },
   "outputs": [],
   "source": [
    "#   The plot of relative intensity and continuum emission for the galaxy index jj and the wavelenght of all the lines\n",
    "#   The equivalent width, flux and FWHM for galaxy jj is measured too\n",
    "\n",
    "#orderU = 10**(int(mt.log(np.mean(spectraFlux), 10))-1)\n",
    "\n",
    "#spec =np.array(spectraFlux)\n",
    "#spec2, lambd = r(spec, lambd, 0.004*orderU) # este parámetro de 0.004 puede ser igual para todas las galaxias\n",
    "                                      #  pero seria bueno iterar sobre este valor para tener mejores continuos\n",
    "                                      #  o tal vez tomar tres o maś regiones del espectro observado y calcular spec\n",
    "                                    #  para diferentes parámetros de 0.1 a 0.001\n",
    "        \n",
    "\n",
    "#%matplotlib\n",
    "for jj in range(len(resultListDT['ObjID'])):\n",
    "    spe = []\n",
    "    speCont = []\n",
    "    for xind in range(len(Spectra[jj])):\n",
    "        spe.append((Spectra[jj][xind])/(SpectraCont[jj][xind]))\n",
    "        speCont.append((SpectraCont[jj][xind])/(SpectraCont[jj][xind]))\n",
    "    #for i in range(len(Tablas[jj])):\n",
    "    #    plt.axvline(x=Tablas[jj]['Lambda Vac'][i],c='dimgrey',lw=0.8,ls='--')\n",
    "    #    plt.text(Tablas[jj]['Lambda Vac'][i] + 0.5, Tablas[jj]['Amplitude'][i] * 1.2,Tablas[jj]['Element'][i])\n",
    "\n",
    "    #plt.plot(lambd, spe, c='k', lw=0.5, label='normalized data')\n",
    "    #plt.plot(lambd, speCont, lw=2, label='normalized continuum')\n",
    "\n",
    "    lFWHM = []\n",
    "    eqW = []    ##  lista de valores \n",
    "    #  una vez normalizado el espectro observado a la medida del contínuo se integra por el método de Simpson\n",
    "    for iLineProf in range(len(LINEProfile[jj])):\n",
    "        f = FWHM(Lambda[jj][LINEProfile[jj]['inf'][iLineProf]:LINEProfile[jj]['sup'][iLineProf]], Spectra[jj][LINEProfile[jj]['inf'][iLineProf]:LINEProfile[jj]['sup'][iLineProf]])\n",
    "        if len(f) == 0:\n",
    "            lFWHM.append(0)\n",
    "        else:\n",
    "            lFWHM.append(f[0])\n",
    "        sInteg = simps(y=spe[LINEProfile[jj]['inf'][iLineProf]:LINEProfile[jj]['sup'][iLineProf]], x=Lambda[jj][LINEProfile[jj]['inf'][iLineProf]:LINEProfile[jj]['sup'][iLineProf]], even='avg')\n",
    "        eqW.append(sInteg)\n",
    "    #   Flux determination for each model in galaxy list\n",
    "    #   assignment of the FWHM and equivalent width in the Table for the first galaxy\n",
    "    for i in range(len(Tablas[jj])):\n",
    "        if Tablas[jj][i]['Amplitude']<=0:\n",
    "            Tablas[jj]['Flux'][i],Tablas[jj]['Flux_Err'][i]= 0,0\n",
    "        else:\n",
    "            Tablas[jj]['Flux'][i],Tablas[jj]['Flux_Err'][i]=quad(gaussian,Tablas[jj][i]['Wavelength']-3*Tablas[jj][i]['Sigma'],Tablas[jj][i]['Wavelength']+3*Tablas[jj][i]['Sigma'],args=(Tablas[jj][i]['Amplitude'],Tablas[jj][i]['Wavelength'],Tablas[jj][i]['Sigma']))\n",
    "            Tablas[jj]['FWHM'][i],Tablas[jj]['eqWidth'][i] = lFWHM[i], eqW[i]\n",
    "    Tablas[jj].write('Tabla'+str(resultListDT['ObjID'][jj])+'.tbl',format='ascii')\n"
   ]
  },
  {
   "cell_type": "markdown",
   "metadata": {},
   "source": [
    "###        Electron density and temperature and plot"
   ]
  },
  {
   "cell_type": "code",
   "execution_count": 178,
   "metadata": {
    "collapsed": false
   },
   "outputs": [
    {
     "name": "stdout",
     "output_type": "stream",
     "text": [
      "[<Table masked=False length=15>\n",
      "  Amplitude      Wavelength      Sigma      ...      FWHM        eqWidth   \n",
      "   float64        float64       float64     ...    float64       float64   \n",
      "-------------- ------------- -------------- ... ------------- -------------\n",
      " 3.96996694795 3727.59490796  2.07375842216 ... 5.14794921875 11.0666942596\n",
      " 1.67668965411 3729.90284345 0.217924034989 ... 5.14794921875 11.0666942596\n",
      "           0.0      4341.684            0.0 ...           0.0           0.0\n",
      " 2.26711876954 4364.75555493 0.851010499408 ... 2.01025390625   5.583383366\n",
      "           0.0      4862.683            0.0 ...           0.0           0.0\n",
      "  1.3540461544 4933.07480372 0.772880832301 ... 3.40576171875 4.76902866364\n",
      "0.866469762038 4955.46084813  8.97011747304 ...  1.1435546875 2.42871212959\n",
      "  2.4075546355 5006.68370951  2.34535549659 ...   4.611328125 7.97471570969\n",
      "           0.0       5756.24            0.0 ...           0.0           0.0\n",
      "           0.0       6529.04            0.0 ...           0.0           0.0\n",
      " 2.28045708825  6547.5869021  5.22830788029 ...           0.0 7.09399795532\n",
      " 6.95256715517 6563.08165373   3.3246497788 ... 6.04541015625  18.377616567\n",
      " 6.64830889056 6584.15100736  3.62242363625 ...  7.5791015625 21.7977695983\n",
      " 1.32765121079 6719.04121898    8.148808527 ...  3.0927734375 5.24588608299\n",
      " 1.61466524392 6728.12022533 0.279895707582 ... 3.10009765625 11.6288452814, <Table masked=False length=15>\n",
      "  Amplitude     Wavelength      Sigma      ...      FWHM        eqWidth   \n",
      "   float64       float64       float64     ...    float64       float64   \n",
      "------------- ------------- -------------- ... ------------- -------------\n",
      " 18.281303923  3728.0258044   1.9306480638 ...           0.0 14.2220211029\n",
      "8.87859449727 3731.39449469 0.836718232096 ...           0.0 14.2220211029\n",
      "1.45066760166 4349.72528901  3.23080129781 ...           0.0 3.01378443922\n",
      "3.76552333152  4364.5038405  4.62129396197 ... 2.00830078125 3.70670202799\n",
      "          0.0      4862.683            0.0 ...           0.0           0.0\n",
      "2.18361951742  4931.0478797  2.50237143099 ... 1.13330078125 2.44150042534\n",
      "23.1519904286 4962.75386327  4.30530894986 ...   7.998046875 23.7243270874\n",
      "70.8178643132 5010.31849672  3.88002025096 ... 9.23095703125 42.1319922185\n",
      "2.71750639941 5758.29960265  1.27806044688 ...           0.0 2.73752713203\n",
      "5.29765481501 6569.57789963  24.7614131559 ...           0.0 2.97807216644\n",
      " 9.6625819816 6549.63978841   2.3526062539 ... 6.02685546875 16.4718657005\n",
      " 11.529275993 6565.39202511  2.73089616855 ... 6.04833984375 17.6600927054\n",
      "28.8768943877 6586.32618965  3.41571371376 ...  7.5810546875 33.8202056885\n",
      "8.03449731769 6718.70515263  3.27641242608 ... 6.18310546875 13.9352588654\n",
      "8.06755838952 6733.68980944  3.53674434399 ... 7.75048828125 17.3832492828, <Table masked=False length=15>\n",
      "  Amplitude      Wavelength      Sigma      ...      FWHM        eqWidth   \n",
      "   float64        float64       float64     ...    float64       float64   \n",
      "-------------- ------------- -------------- ... ------------- -------------\n",
      "    23.1483469 3727.54564526  2.12883640125 ...   6.869140625 40.2325286865\n",
      " 14.6784299671 3730.20725642  1.70436765816 ...   6.869140625 40.2325286865\n",
      " 4.32810063342 4341.35052845  1.15150293426 ...  3.9990234375 8.92987155914\n",
      " 1.72841613429 4364.88722924  4.39730355618 ...           0.0 3.45351646619\n",
      " 9.17485288254 4862.42001653  1.69389931184 ... 5.59619140625 14.6696584518\n",
      " 1.82090345919 4932.73587443 0.103262139633 ...  2.2705078125 3.77231147341\n",
      " 6.80017520358 4959.87324769  2.85730414215 ...           0.0 8.63377094269\n",
      " 19.5430163726 5007.70513206  2.60131185663 ...  6.9189453125 21.9636330193\n",
      "0.754416026829 5760.76701467   10.717936964 ...  5.2998046875  6.8913644081\n",
      " 3.46332194118 6536.38499887  1.37487401867 ...  1.5068359375 4.72187863899\n",
      " 7.02551289417 6549.93828785  2.93504444665 ...  7.5439453125 18.5047569275\n",
      " 44.0432367729 6564.88129115  2.87579415674 ... 7.55517578125 36.1182518005\n",
      " 23.1800951219 6585.41966965  3.06730063917 ...  7.5791015625 29.8519706726\n",
      " 10.9010526808 6718.53273386  2.95300876819 ...  7.7392578125 17.6609783173\n",
      " 8.77572731881  6732.9725704  2.99963948724 ... 7.74853515625 21.5450437341, <Table masked=False length=15>\n",
      "  Amplitude      Wavelength       Sigma       ...      FWHM         eqWidth   \n",
      "   float64        float64        float64      ...    float64        float64   \n",
      "-------------- ------------- ---------------- ... -------------- -------------\n",
      " 13.8966374462 3728.62972773    1.79987137626 ... 0.856689453125 14.8305988312\n",
      " 50.3393593196 3729.44519949  0.0129431427147 ... 0.856689453125 14.8305988312\n",
      " 2.87441580806 4341.99454955    1.72500174872 ...  0.99755859375 2.92549800873\n",
      " 2.30235020757  4368.4666803    6.57569498058 ...            0.0 3.96324330804\n",
      " 6.56285607436 4862.26545303    1.13283040643 ...    3.357421875 11.0939712524\n",
      " 3.25118952505 4933.21015391  0.0178840583538 ...            0.0 1.23980739166\n",
      " 2.46353718214 4960.76421355    1.22195511097 ...            0.0 3.95546164826\n",
      " 4.46214221918 5008.16278339    1.27535974191 ...  3.45751953125 8.73340606689\n",
      " 1.22941141992 5754.58047827 0.00231292364379 ...  1.32763671875 3.95343339763\n",
      "0.898118890459 6531.04337002    1.56638091557 ...   3.0048828125 6.28040409088\n",
      " 5.80282081105 6549.38040186    1.78978618451 ...    4.521484375 11.4252281189\n",
      "   47.54432812 6564.18353576    1.72030640646 ...  4.53759765625 33.5614023688\n",
      "  18.678348742 6584.92307251    1.83746758197 ...  4.54638671875 23.4818916321\n",
      " 11.0126813111 6717.94820388    1.81040969356 ...  4.63818359375 15.3986624203\n",
      " 8.88714724536 6732.30033979    1.67044468727 ...  4.64794921875 12.7798852921]\n"
     ]
    },
    {
     "name": "stderr",
     "output_type": "stream",
     "text": [
      "/usr/lib/python2.7/site-packages/IPython/kernel/__main__.py:22: RuntimeWarning: divide by zero encountered in double_scalars\n"
     ]
    },
    {
     "data": {
      "text/html": [
       "&lt;Table masked=False length=4&gt;\n",
       "<table id=\"table140099643140816\">\n",
       "<thead><tr><th>ObjID</th><th>ra</th><th>dec</th><th>z</th><th>isFits</th><th>Temp_1 [OIII]</th><th>Den_1 [SII]</th><th>Temp_2 [NII]</th><th>Den_2 [OII]</th><th>Temp_3 [NII]</th><th>Den_3 [SII]</th><th>Temp_4 [OIII]</th><th>Den_4 [OII]</th></tr></thead>\n",
       "<thead><tr><th></th><th></th><th></th><th></th><th></th><th>K</th><th>1 / cm3</th><th>K</th><th>1 / cm3</th><th>K</th><th>1 / cm3</th><th>K</th><th>1 / cm3</th></tr></thead>\n",
       "<thead><tr><th>string192</th><th>float64</th><th>float64</th><th>float64</th><th>int64</th><th>float64</th><th>float64</th><th>float64</th><th>float64</th><th>float64</th><th>float64</th><th>float64</th><th>float64</th></tr></thead>\n",
       "<tr><td>SDSS J003947.13-002934.7</td><td>9.94641685486</td><td>-0.49302777648</td><td>0.222564</td><td>1</td><td>0.0</td><td>0.0</td><td>0.0</td><td>0.0</td><td>0.0</td><td>0.0</td><td>0.0</td><td>0.0</td></tr>\n",
       "<tr><td>2MASX J00400069-0051457</td><td>10.0030412674</td><td>-0.862777769566</td><td>0.111082</td><td>1</td><td>0.0</td><td>0.0</td><td>0.0</td><td>0.0</td><td>0.0</td><td>0.0</td><td>0.0</td><td>0.0</td></tr>\n",
       "<tr><td>SDSS J004119.73+002632.3</td><td>10.3322086334</td><td>0.44230556488</td><td>0.108194</td><td>1</td><td>nan</td><td>nan</td><td>nan</td><td>nan</td><td>nan</td><td>nan</td><td>nan</td><td>nan</td></tr>\n",
       "<tr><td>2MASX J00412528+1343345</td><td>10.3554162979</td><td>13.7261943817</td><td>0.033304</td><td>1</td><td>nan</td><td>nan</td><td>nan</td><td>nan</td><td>nan</td><td>nan</td><td>nan</td><td>nan</td></tr>\n",
       "</table>"
      ],
      "text/plain": [
       "<Table masked=False length=4>\n",
       "         ObjID                 ra      ... Temp_4 [OIII] Den_4 [OII]\n",
       "                                       ...       K         1 / cm3  \n",
       "       string192            float64    ...    float64      float64  \n",
       "------------------------ ------------- ... ------------- -----------\n",
       "SDSS J003947.13-002934.7 9.94641685486 ...           0.0         0.0\n",
       " 2MASX J00400069-0051457 10.0030412674 ...           0.0         0.0\n",
       "SDSS J004119.73+002632.3 10.3322086334 ...           nan         nan\n",
       " 2MASX J00412528+1343345 10.3554162979 ...           nan         nan"
      ]
     },
     "execution_count": 178,
     "metadata": {},
     "output_type": "execute_result"
    }
   ],
   "source": [
    "#   it obtains the electron density and temperature by the PyNeb cross iterative method for all couple of given species.\n",
    "\n",
    "fig = plt.figure()\n",
    "fig.suptitle('')\n",
    "ax = fig.add_subplot(111)\n",
    "ax.set_ylabel('Density $n_e (cm^{-3})$')\n",
    "ax.set_xlabel('Temperature $T_e (K)$')\n",
    "\n",
    "for jj in range(len(resultListDT)):\n",
    "    k=0\n",
    "    if Lambda[jj][0] > 3720.0 :\n",
    "        k=2\n",
    "    try:\n",
    "        a=diags.getCrossTemDen('[OIII] 4363/5007+', '[SII] 6731/6716', Tablas[jj]['Flux'][3-k]/(Tablas[jj]['Flux'][6-k]+Tablas[jj]['Flux'][7-k]), Tablas[jj]['Flux'][13-k]/Tablas[jj]['Flux'][14-k])\n",
    "        b=diags.getCrossTemDen('[NII] 5755/6584+', '[OII] 3726/3729', Tablas[jj]['Flux'][8-k]/(Tablas[jj]['Flux'][12-k]+Tablas[jj]['Flux'][10-k]), Tablas[jj]['Flux'][0-k]/Tablas[jj]['Flux'][1-k])\n",
    "        c=diags.getCrossTemDen('[NII] 5755/6584+', '[SII] 6731/6716', Tablas[jj]['Flux'][8-k]/(Tablas[jj]['Flux'][12-k]+Tablas[jj]['Flux'][10-k]), Tablas[jj]['Flux'][13-k]/Tablas[jj]['Flux'][14-k])\n",
    "        d=diags.getCrossTemDen('[OIII] 4363/5007+', '[OII] 3726/3729', Tablas[jj]['Flux'][3-k]/(Tablas[jj]['Flux'][6-k]+Tablas[jj]['Flux'][7-k]), Tablas[jj]['Flux'][0-k]/Tablas[jj]['Flux'][1-k])\n",
    "    except ValueError:\n",
    "        continue\n",
    "\n",
    "    for i in IntrinsicHB:\n",
    "        rc.setCorr((Tablas[jj]['Flux'][11-k]/Tablas[jj]['Flux'][4-k])/i, Tablas[jj]['Lambda Vac'][11-k], Tablas[jj]['Lambda Vac'][4-k])\n",
    "        try:\n",
    "            a2=diags.getCrossTemDen('[OIII] 4363/5007+', '[SII] 6731/6716',Tablas[jj]['Flux'][3-k]*rc.getCorrHb(Tablas[jj]['Lambda Vac'][3-k])/(Tablas[jj]['Flux'][6-k]*rc.getCorrHb(Tablas[jj]['Lambda Vac'][6-k])+ Tablas[jj]['Flux'][7-k]*rc.getCorrHb(Tablas[jj]['Lambda Vac'][7-k]) ), Tablas[jj]['Flux'][13-k] * rc.getCorrHb(Tablas[jj]['Lambda Vac'][13-k])/Tablas[jj]['Flux'][14-k] * rc.getCorrHb(Tablas[jj]['Lambda Vac'][14-k]))\n",
    "            b2=diags.getCrossTemDen('[NII] 5755/6584+', '[OII] 3726/3729', Tablas[jj]['Flux'][8-k]*rc.getCorrHb(Tablas[jj]['Lambda Vac'][8-k])/(Tablas[jj]['Flux'][12-k]*rc.getCorrHb(Tablas[jj]['Lambda Vac'][12-k])+Tablas[jj]['Flux'][10-k]*rc.getCorrHb(Tablas[jj]['Lambda Vac'][7-k])), Tablas[jj]['Flux'][0-k]*rc.getCorrHb(Tablas[jj]['Lambda Vac'][0-k])/Tablas[jj]['Flux'][1-k])*rc.getCorrHb(Tablas[jj]['Lambda Vac'][1-k])\n",
    "            c2=diags.getCrossTemDen('[NII] 5755/6584+', '[SII] 6731/6716', Tablas[jj]['Flux'][8-k]*rc.getCorrHb(Tablas[jj]['Lambda Vac'][8-k])/(Tablas[jj]['Flux'][12-k]*rc.getCorrHb(Tablas[jj]['Lambda Vac'][12-k])+Tablas[jj]['Flux'][10-k]*rc.getCorrHb(Tablas[jj]['Lambda Vac'][7-k])),Tablas[jj]['Flux'][13-k] * rc.getCorrHb(Tablas[jj]['Lambda Vac'][13-k])/Tablas[jj]['Flux'][14-k] * rc.getCorrHb(Tablas[jj]['Lambda Vac'][14-k]))\n",
    "            d2=diags.getCrossTemDen('[OIII] 4363/5007+', '[OII] 3726/3729',Tablas[jj]['Flux'][3-k]*rc.getCorrHb(Tablas[jj]['Lambda Vac'][3-k])/(Tablas[jj]['Flux'][6-k]*rc.getCorrHb(Tablas[jj]['Lambda Vac'][6-k])+ Tablas[jj]['Flux'][7-k]*rc.getCorrHb(Tablas[jj]['Lambda Vac'][7-k]) ), Tablas[jj]['Flux'][0-k]*rc.getCorrHb(Tablas[jj]['Lambda Vac'][0-k])/Tablas[jj]['Flux'][1-k])*rc.getCorrHb(Tablas[jj]['Lambda Vac'][1-k])\n",
    "        except ValueError:\n",
    "            continue\n",
    "        if b2 != () or d2 != ():\n",
    "            plt.scatter(b2[0], b2[1],c='c')\n",
    "            plt.scatter(d2[0], d2[1],c='c')\n",
    "        if i == 2.86:\n",
    "            resultListDT['Temp_1 [OIII]'][jj]=a2[0]\n",
    "            resultListDT['Den_1 [SII]'][jj]=a2[1]\n",
    "            resultListDT['Temp_3 [NII]'][jj]=c2[0]\n",
    "            resultListDT['Den_3 [SII]'][jj]=c2[1]\n",
    "            if b2 != () or d2 != ():\n",
    "                resultListDT['Temp_2 [NII]'][jj]=b2[0]\n",
    "                resultListDT['Den_2 [OII]'][jj]=b2[1] \n",
    "                resultListDT['Temp_4 [OIII]'][jj]=d2[0]\n",
    "                resultListDT['Den_4 [OII]'][jj]=d2[1]\n",
    "            if lambd[0] > 3720.0 :\n",
    "                resultListDT['Temp_2 [NII]'][jj]=0.0\n",
    "                resultListDT['Den_2 [OII]'][jj]=0.0\n",
    "                resultListDT['Temp_4 [OIII]'][jj]=0.0\n",
    "                resultListDT['Den_4 [OII]'][jj]=0.0\n",
    "    resultListDT.write('TemDenGalaxies'+str(resultListDT['ObjID'][jj])+'.tbl',format='ascii')\n",
    "print Tablas\n",
    "resultListDT\n"
   ]
  },
  {
   "cell_type": "markdown",
   "metadata": {},
   "source": [
    "###                     Plots"
   ]
  },
  {
   "cell_type": "code",
   "execution_count": 170,
   "metadata": {
    "collapsed": false,
    "scrolled": false
   },
   "outputs": [
    {
     "name": "stdout",
     "output_type": "stream",
     "text": [
      "Using matplotlib backend: Qt4Agg\n"
     ]
    }
   ],
   "source": [
    "#   plot of the galaxy with index jj observed with respect to the continuum in zero. Two models for the lines required \n",
    "\n",
    "%matplotlib\n",
    "jj=0\n",
    "if isFits:\n",
    "    if TypeFITS == 0:\n",
    "        print HDUs[jj][0].header['FLAVOR']\n",
    "        print HDUs[jj][0].header['QUALITY']\n",
    "        print HDUs[jj][0].header['FBADPIX'] ## %%Malos Pixeles\n",
    "        print HDUs[jj][2].data['SN_MEDIAN_ALL']\n",
    "        print HDUs[jj][2].data['SN_MEDIAN']\n",
    "\n",
    "lambd=Lambda[jj]\n",
    "\n",
    "plt.figure(figsize=(16, 9))\n",
    "plt.title('Spectrum Galaxy '+ resultListDT['ObjID'][jj])\n",
    "plt.xlabel(r'Wavelength (Angstroms $\\AA$) ')\n",
    "if TypeFITS == 0:\n",
    "    plt.ylabel(r'$f_{\\lambda}$ ('+str(head['BUNIT'])+')')\n",
    "else:\n",
    "    plt.ylabel(r'$f_{\\lambda}$')\n",
    "\n",
    "plt.errorbar(Lambda[jj],Spectra[jj]-SpectraCont[jj],SpectraIvar[jj],  c='k',lw=0.5,label='Data')   #Flujo en negro\n",
    "#plt.errorbar(Lambda[jj],Spectra[jj]-SpectraCont[jj]-Modelos[jj][0](Lambda[jj]),SpectraIvar[jj],  c='k',lw=2,label='Data')   #Flujo en negro\n",
    "#plt.errorbar(lambd,Spectra[jj] ,SpectraIvar[jj],  c='k',lw=2,label='Data')   #Flujo en negro\n",
    "#plt.plot(lambd, spec2, lw=2, label='reducedSpectra')\n",
    "plt.plot(Lambda[jj], Modelos[jj][1](Lambda[jj]), c='midnightblue', lw=2, label='Model')\n",
    "plt.plot(Lambda[jj], Modelos[jj][0](Lambda[jj]), c='yellow', lw=1, label='Model')\n",
    "#plt.plot(lambd, spec2, lw=2, label='reducedSpectra')\n",
    "\n",
    "plt.legend()\n",
    "\n",
    "x=np.linspace(Lambda[jj][0],Lambda[jj][-1],len(Lambda[jj]))\n",
    "for i in range(len(Tablas[jj])):\n",
    "    plt.axvline(x=Tablas[jj]['Lambda Vac'][i],c='dimgrey',lw=1.2,ls='--')\n",
    "    plt.text(Tablas[jj]['Lambda Vac'][i] + 0.5, Tablas[jj]['Amplitude'][i] * 1.2,Tablas[jj]['Element'][i])\n",
    "    if Tablas[jj]['Element'][i] == 'H I':\n",
    "        plt.plot(x,gaussian(x,Tablas[jj][i]['Amplitude'],Tablas[jj][i]['Wavelength'],Tablas[jj][i]['Sigma']), c='DeepPink')\n",
    "##        plt.plot(x,lorentzFunc(x,Tablas[jj][i]['Amplitude'],Tablas[jj][i]['Sigma'], Tablas[jj][i]['Wavelength']), c='DeepPink')\n",
    "    else:\n",
    "        if Tablas[jj][i]['Sigma']!=0:\n",
    "            plt.plot(x,gaussian(x,Tablas[jj][i]['Amplitude'],Tablas[jj][i]['Wavelength'],Tablas[jj][i]['Sigma']) , c='Lime')\n",
    "##            plt.plot(x,lorentzFunc(x,Tablas[jj][i]['Amplitude'],Tablas[jj][i]['Sigma'],Tablas[jj][i]['Wavelength']) , c='Lime')\n"
   ]
  },
  {
   "cell_type": "code",
   "execution_count": 14,
   "metadata": {
    "collapsed": false,
    "scrolled": true
   },
   "outputs": [
    {
     "name": "stdout",
     "output_type": "stream",
     "text": [
      "Using matplotlib backend: Qt4Agg\n"
     ]
    },
    {
     "data": {
      "text/plain": [
       "[<matplotlib.lines.Line2D at 0x7f00ec1d4990>]"
      ]
     },
     "execution_count": 14,
     "metadata": {},
     "output_type": "execute_result"
    }
   ],
   "source": [
    "%matplotlib\n",
    "kaksj = Modelos[jj][1](lambd)\n",
    "lalskal = Modelos[jj][0](lambd)\n",
    "specModel = spec+lalskal\n",
    "plt.errorbar(lambd,Spectra[jj] ,SpectraIvar[jj],  c='k',lw=2,label='Data')   #Flujo en negro\n",
    "plt.plot(lambd, specModel, lw=2, label='reducedSpectra')"
   ]
  },
  {
   "cell_type": "code",
   "execution_count": 14,
   "metadata": {
    "collapsed": false
   },
   "outputs": [
    {
     "name": "stdout",
     "output_type": "stream",
     "text": [
      "Using matplotlib backend: Qt4Agg\n"
     ]
    },
    {
     "name": "stderr",
     "output_type": "stream",
     "text": [
      "/usr/local/lib/python2.7/dist-packages/matplotlib/axes/_axes.py:475: UserWarning: No labelled objects found. Use label='...' kwarg on individual plots.\n",
      "  warnings.warn(\"No labelled objects found. \"\n"
     ]
    }
   ],
   "source": [
    "%matplotlib\n",
    "\n",
    "plt.figure(figsize=(16, 9))\n",
    "for i in range(10):\n",
    "    B=[]\n",
    "    for j in range(len(Spectra[jj])):\n",
    "        bb=SpectraIvar[jj][j]*random.uniform(-3,3)\n",
    "        B.append(bb)\n",
    "    plt.plot(lambd,(Spectra[jj] +B),c='orange')\n",
    "plt.legend()"
   ]
  },
  {
   "cell_type": "code",
   "execution_count": 16,
   "metadata": {
    "collapsed": false
   },
   "outputs": [],
   "source": []
  },
  {
   "cell_type": "code",
   "execution_count": 117,
   "metadata": {
    "collapsed": false
   },
   "outputs": [
    {
     "name": "stdout",
     "output_type": "stream",
     "text": [
      "Using matplotlib backend: Qt4Agg\n"
     ]
    }
   ],
   "source": [
    "resultList = Table.read(\"resultList.tbl\", format = 'ascii')\n",
    "OIII5007_WT = 5008.24\n",
    "Hb_WT = 4862.683\n",
    "NII6583_WT = 6585.28\n",
    "Ha_WT = 6564.61\n",
    "SII6717_WT = 6718.29\n",
    "SII6731_WT = 6732.67\n",
    "\n",
    "%matplotlib\n",
    "\n",
    "#fig = plt.figure()\n",
    "#ax = fig.add_subplot(2,1,1)\n",
    "#ax.set_yscale('log')\n",
    "\n",
    "plt.yscale('log')\n",
    "plt.xscale('log')\n",
    "cooo = -1\n",
    "for objID in resultList:\n",
    "    nameTable = \"Tabla\"+str(objID[0])+\".tbl\"\n",
    "    tableObjID = Table.read(nameTable, format = 'ascii')\n",
    "    OIII5007 = tableObjID[\"Flux\"][7]\n",
    "    Hb = tableObjID[\"Flux\"][4]\n",
    "    NII6583 = tableObjID[\"Flux\"][12]\n",
    "    Ha = tableObjID[\"Flux\"][11] \n",
    "    SII6717 = tableObjID[\"Flux\"][13]\n",
    "    SII6731 = tableObjID[\"Flux\"][14]               # +++++++++++++++\n",
    "    OIII5007_W = tableObjID[\"Wavelength\"][7]\n",
    "    Hb_W = tableObjID[\"Wavelength\"][4]\n",
    "    NII6583_W = tableObjID[\"Wavelength\"][12]\n",
    "    Ha_W = tableObjID[\"Wavelength\"][11]\n",
    "    SII6717_W = tableObjID[\"Wavelength\"][13]\n",
    "    SII6731_W = tableObjID[\"Wavelength\"][14]\n",
    "    if OIII5007>0.0 and Hb>0.0 and NII6583>0.0 and Ha>0.0 and mt.fabs(OIII5007_WT-OIII5007_W)<1.5 and mt.fabs(Hb_WT-Hb_W)<1.5 and mt.fabs(NII6583_WT-NII6583_W)<1.5 and mt.fabs(Ha_WT-Ha_W)<1.5:\n",
    "        #    print NII6583/Ha, OIII5007/Hb, nameTable\n",
    "        cooo = cooo + 1\n",
    "        plt.scatter([NII6583/Ha], [OIII5007/Hb], c='k' )\n",
    "    \n",
    "#    if OIII5007>0.0 and Hb>0.0 and SII6717>0.0 and SII6731>0.0 and Ha>0.0 and mt.fabs(OIII5007_WT-OIII5007_W)<1.5 and mt.fabs(Hb_WT-Hb_W)<1.5 and mt.fabs(SII6731_WT-SII6731_W)<1.5 and mt.fabs(SII6717_WT-SII6717_W)<1.5 and mt.fabs(Ha_WT-Ha_W)<1.5:\n",
    "#        #    print NII6583/Ha, OIII5007/Hb, nameTable\n",
    "#        cooo = cooo + 1\n",
    "#        plt.scatter([(SII6717+SII6731)/Ha], [OIII5007/Hb], c='k' )\n",
    "    \n",
    "    #print \"OIII: \",mt.fabs(OIII5007_WT-OIII5007_W), \"Hbeta: \",mt.fabs(Hb_WT-Hb_W), \"NII: \",mt.fabs(NII6583_WT-NII6583_W), \"Halpha: \",mt.fabs(Ha_WT-Ha_W)  #, nameTable"
   ]
  },
  {
   "cell_type": "code",
   "execution_count": 115,
   "metadata": {
    "collapsed": false
   },
   "outputs": [
    {
     "data": {
      "text/plain": [
       "32"
      ]
     },
     "execution_count": 115,
     "metadata": {},
     "output_type": "execute_result"
    }
   ],
   "source": [
    "cooo"
   ]
  },
  {
   "cell_type": "code",
   "execution_count": 103,
   "metadata": {
    "collapsed": false
   },
   "outputs": [
    {
     "data": {
      "text/html": [
       "&lt;Table masked=False length=15&gt;\n",
       "<table id=\"table140327524720336\">\n",
       "<thead><tr><th>Amplitude</th><th>Wavelength</th><th>Sigma</th><th>Lambda Vac</th><th>Element</th><th>Flux</th><th>Flux_Err</th><th>FWHM</th><th>eqWidth</th></tr></thead>\n",
       "<thead><tr><th>float64</th><th>float64</th><th>float64</th><th>float64</th><th>string56</th><th>float64</th><th>float64</th><th>float64</th><th>float64</th></tr></thead>\n",
       "<tr><td>0.0</td><td>3727.092</td><td>0.0</td><td>3727.092</td><td>[O II]</td><td>0.0</td><td>0.0</td><td>0.0</td><td>0.0</td></tr>\n",
       "<tr><td>10.9654041435</td><td>3731.88461377</td><td>2.78840877294</td><td>3729.875</td><td>[O II]</td><td>76.4358193343</td><td>8.48608062618e-13</td><td>0.0</td><td>6.33787602988</td></tr>\n",
       "<tr><td>35.0743561758</td><td>4346.14755701</td><td>6.60866080193</td><td>4341.684</td><td>H I</td><td>579.454061974</td><td>6.433232419e-12</td><td>0.0</td><td>3.88139414744</td></tr>\n",
       "<tr><td>11.0222530334</td><td>4360.57138222</td><td>4.22433059715</td><td>4364.436</td><td>[O III]</td><td>116.397624632</td><td>1.29227322745e-12</td><td>0.0</td><td>4.40042352676</td></tr>\n",
       "<tr><td>124.443802963</td><td>4866.69100447</td><td>10.843008098</td><td>4862.683</td><td>H I</td><td>3373.17520008</td><td>3.74497676793e-11</td><td>14.5698242188</td><td>58.6926002502</td></tr>\n",
       "<tr><td>17.3335028207</td><td>4930.13960784</td><td>6.19581803732</td><td>4932.603</td><td>[O III]</td><td>268.473133759</td><td>2.9806505571e-12</td><td>0.0</td><td>3.92683624208</td></tr>\n",
       "<tr><td>17.0652004245</td><td>4958.72656613</td><td>3.69791581698</td><td>4960.295</td><td>[O III]</td><td>157.755407761</td><td>1.75143685904e-12</td><td>0.0</td><td>6.34411865537</td></tr>\n",
       "<tr><td>90.3054177862</td><td>5007.83987015</td><td>8.43299817755</td><td>5008.24</td><td>[O III]</td><td>1903.75762006</td><td>2.11359553991e-11</td><td>0.0</td><td>19.689653188</td></tr>\n",
       "<tr><td>3.9936753097</td><td>5760.40097659</td><td>6.00545588554</td><td>5756.24</td><td>[N II]</td><td>59.9562658294</td><td>6.65648268385e-13</td><td>0.0</td><td>2.75366020203</td></tr>\n",
       "<tr><td>111.770934698</td><td>6565.5185749</td><td>26.1991058639</td><td>6529.04</td><td>[N II]</td><td>7320.33901949</td><td>8.12720888851e-11</td><td>24.20703125</td><td>289.578971441</td></tr>\n",
       "<tr><td>310.783444078</td><td>6571.94279648</td><td>11.2374299543</td><td>6549.85</td><td>[N II]</td><td>8730.53212888</td><td>9.69283785179e-11</td><td>24.20703125</td><td>289.578971441</td></tr>\n",
       "<tr><td>122.887777092</td><td>6572.50756739</td><td>2.21084766683</td><td>6564.61</td><td>H I</td><td>679.177593763</td><td>7.54038606728e-12</td><td>24.20703125</td><td>289.578971441</td></tr>\n",
       "<tr><td>75.5596448338</td><td>6592.51479672</td><td>2.81933167282</td><td>6585.28</td><td>[N II]</td><td>532.539615275</td><td>5.91237746695e-12</td><td>24.20703125</td><td>289.578971441</td></tr>\n",
       "<tr><td>18.6191016566</td><td>6566.23186213</td><td>93.6162559293</td><td>6718.29</td><td>[S II]</td><td>4357.38398798</td><td>4.83766802659e-11</td><td>6.1953125</td><td>14.2420215607</td></tr>\n",
       "<tr><td>-3.96671421015</td><td>6773.81602768</td><td>15.7350974787</td><td>6732.67</td><td>[S II]</td><td>0.0</td><td>0.0</td><td>0.0</td><td>0.0</td></tr>\n",
       "</table>"
      ],
      "text/plain": [
       "<Table masked=False length=15>\n",
       "  Amplitude      Wavelength      Sigma     ...      FWHM        eqWidth   \n",
       "   float64        float64       float64    ...    float64       float64   \n",
       "-------------- ------------- ------------- ... ------------- -------------\n",
       "           0.0      3727.092           0.0 ...           0.0           0.0\n",
       " 10.9654041435 3731.88461377 2.78840877294 ...           0.0 6.33787602988\n",
       " 35.0743561758 4346.14755701 6.60866080193 ...           0.0 3.88139414744\n",
       " 11.0222530334 4360.57138222 4.22433059715 ...           0.0 4.40042352676\n",
       " 124.443802963 4866.69100447  10.843008098 ... 14.5698242188 58.6926002502\n",
       " 17.3335028207 4930.13960784 6.19581803732 ...           0.0 3.92683624208\n",
       " 17.0652004245 4958.72656613 3.69791581698 ...           0.0 6.34411865537\n",
       " 90.3054177862 5007.83987015 8.43299817755 ...           0.0  19.689653188\n",
       "  3.9936753097 5760.40097659 6.00545588554 ...           0.0 2.75366020203\n",
       " 111.770934698  6565.5185749 26.1991058639 ...   24.20703125 289.578971441\n",
       " 310.783444078 6571.94279648 11.2374299543 ...   24.20703125 289.578971441\n",
       " 122.887777092 6572.50756739 2.21084766683 ...   24.20703125 289.578971441\n",
       " 75.5596448338 6592.51479672 2.81933167282 ...   24.20703125 289.578971441\n",
       " 18.6191016566 6566.23186213 93.6162559293 ...     6.1953125 14.2420215607\n",
       "-3.96671421015 6773.81602768 15.7350974787 ...           0.0           0.0"
      ]
     },
     "execution_count": 103,
     "metadata": {},
     "output_type": "execute_result"
    }
   ],
   "source": [
    "tableObjID"
   ]
  },
  {
   "cell_type": "code",
   "execution_count": 27,
   "metadata": {
    "collapsed": false
   },
   "outputs": [
    {
     "data": {
      "text/plain": [
       "6.8772826"
      ]
     },
     "execution_count": 27,
     "metadata": {},
     "output_type": "execute_result"
    }
   ],
   "source": [
    "spec[len(spec)-1]"
   ]
  },
  {
   "cell_type": "code",
   "execution_count": 104,
   "metadata": {
    "collapsed": false
   },
   "outputs": [
    {
     "data": {
      "text/plain": [
       "64"
      ]
     },
     "execution_count": 104,
     "metadata": {},
     "output_type": "execute_result"
    }
   ],
   "source": [
    "len(resultList)"
   ]
  },
  {
   "cell_type": "code",
   "execution_count": null,
   "metadata": {
    "collapsed": true
   },
   "outputs": [],
   "source": []
  },
  {
   "cell_type": "code",
   "execution_count": null,
   "metadata": {
    "collapsed": true
   },
   "outputs": [],
   "source": []
  }
 ],
 "metadata": {
  "kernelspec": {
   "display_name": "Python 2",
   "language": "python",
   "name": "python2"
  },
  "language_info": {
   "codemirror_mode": {
    "name": "ipython",
    "version": 2
   },
   "file_extension": ".py",
   "mimetype": "text/x-python",
   "name": "python",
   "nbconvert_exporter": "python",
   "pygments_lexer": "ipython2",
   "version": "2.7.8"
  }
 },
 "nbformat": 4,
 "nbformat_minor": 0
}
