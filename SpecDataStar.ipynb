{
 "cells": [
  {
   "cell_type": "code",
   "execution_count": 1,
   "metadata": {
    "collapsed": true
   },
   "outputs": [],
   "source": [
    "from DefSD import *\n",
    "from astropy.analytic_functions import blackbody\n",
    "from astropy.convolution import convolve, Gaussian1DKernel, Box1DKernel\n",
    "\n"
   ]
  },
  {
   "cell_type": "code",
   "execution_count": 26,
   "metadata": {
    "collapsed": true
   },
   "outputs": [],
   "source": [
    "def finalFit(i, spec,lambd,ListLines,ListGal,spIvar,iterr, limResol):\n",
    "    lineP = lineProfile2(i,spec,lambd,ListLines,ListGal, limResol)   #  Table of line profile indexes upper and lower \n",
    "    linePaux=lineP['lambda'].data     \n",
    "    alslk = lineP['lambda'][0]\n",
    "         #    it obtain the number of lines overlayed in a profile\n",
    "    for c in range(1,len(linePaux)):\n",
    "        if (linePaux[c]==alslk) & (alslk!=0):\n",
    "            linePaux[c-1] = 2\n",
    "            linePaux[c] = 2\n",
    "        else:\n",
    "            linePaux[c] = 1\n",
    "        alslk = lineP['lambda'][c]\n",
    "        \n",
    "    f1 = fitting.LevMarLSQFitter()\n",
    "    lineStdDev = 3.5    #   default standard deviation\n",
    "    condit = True #   esto es mejor quitarlo\n",
    "    while condit:    #   esto es mejor quitarlo\n",
    "        Gaus=[]      #    array of models\n",
    "        for x in range(len(ListLines)):       #     for each line profile it is created a gaussian model \n",
    "            if lineP['inf'][x]==0:            \n",
    "                Gaus.append(models.Gaussian1D(amplitude=0,mean=ListLines['LAMBDA VAC ANG'][x],stddev=0))\n",
    "                      #    it didn't model a profile for this line\n",
    "            else:\n",
    "                #v = np.where((lambd >= ListLines['LAMBDA VAC ANG'][x]-limResol) & (lambd <= ListLines['LAMBDA VAC ANG'][x]+limResol))\n",
    "                      #    estimate the wavelenghts for the center of the line\n",
    "                #innaaaads = v[0][0]\n",
    "                innaaaads = lineP['lambda'][x]\n",
    "                ampMax= ListGal[i][innaaaads]-spec[innaaaads]   #   max amplitude of the profile\n",
    "                nLines = 1 #linePaux[x]                        #   obtain the number of overlaying line profiles \n",
    "                f = FWHM(lambd[lineP['inf'][x]:lineP['sup'][x]], ListGal[i][lineP['inf'][x]:lineP['sup'][x]])\n",
    "                      #    calculate the FWHM of the profile\n",
    "                coasi = 0\n",
    "                while len(f)==0:\n",
    "                    coasi = coasi + 1\n",
    "                    f = FWHM(lambd[(lineP['inf'][x]-coasi):(lineP['sup'][x]+coasi)], ListGal[i][(lineP['inf'][x]-coasi):(lineP['sup'][x]+coasi)])\n",
    "                           #  calculate FWHM so often as it is found a non profile spectrum\n",
    "                print f\n",
    "                stdLine = (1/2.3548)*f[0]/nLines     #   estimate the observed standard deviation\n",
    "                lineWidthBase = (lambd[lineP['sup'][x]] - lambd[lineP['inf'][x]])/(2*nLines)\n",
    "                      ##   calculate the observed line width at the base of the profile\n",
    "                Gaus.append(models.Gaussian1D(amplitude=ampMax,mean=ListLines['LAMBDA VAC ANG'][x],stddev=stdLine, bounds={'mean':(ListLines['LAMBDA VAC ANG'][x]-lineWidthBase/(2*nLines), ListLines['LAMBDA VAC ANG'][x]+lineWidthBase/(2*nLines)),'stddev':(0.8*stdLine, 1.5*stdLine)}))\n",
    "        condit = False  #   esto es mejor quitarlo\n",
    "    sum_Gaussian=Gaus[0]\n",
    "    for ooasia in range(1,len(Gaus)):\n",
    "            #  sum of all the models respective to all the wavelenghts \n",
    "        sum_Gaussian=sum_Gaussian + Gaus[ooasia]\n",
    "    gaussian_fit = f1(sum_Gaussian, lambd, ListGal[i]-spec, maxiter=iterr)\n",
    "    Graph=[]\n",
    "    Graph.append(gaussian_fit)   \n",
    "    return Graph, lineP, spec     ##  return the fitting to both models and line profiles wavelenghts\n"
   ]
  },
  {
   "cell_type": "code",
   "execution_count": 27,
   "metadata": {
    "collapsed": true
   },
   "outputs": [],
   "source": [
    "def lineProfile2(i,spec, lambd,ListLines,ListGal, limResoluc):\n",
    "    linePr = Table(names=('lambda', 'inf', 'sup'), dtype=('i5','i5', 'i5'))\n",
    "    for c in range(0, len(ListLines)):\n",
    "        lambdLine=ListLines['LAMBDA VAC ANG'][c]          #Líneas obtenidas de la base de datos Astroquery\n",
    "        v = np.where((lambd >= lambdLine-2*limResoluc) & (lambd <= lambdLine+2*limResoluc))\n",
    "        print v\n",
    "        if len(v[0]) == 0:\n",
    "            ind = 0\n",
    "            l_inf = 0\n",
    "            l_sup = 0\n",
    "            iM=0\n",
    "        else:\n",
    "            ind = 1\n",
    "            l_inf = v[0][0]-ind\n",
    "            l_sup = v[0][-1]+ind\n",
    "            slopeRight = spec[l_sup+1]-spec[l_sup]\n",
    "            cooc = 0\n",
    "            while cooc<1:\n",
    "                l_sup=l_sup+1\n",
    "                sloRaux = slopeRight\n",
    "                slopeRight = spec[l_sup+1]-spec[l_sup]\n",
    "                if slopeRight*sloRaux <= 0:\n",
    "                    cooc = cooc + 1\n",
    "            cooc = 0\n",
    "            slopeLeft = spec[l_inf-1]-spec[l_inf]\n",
    "            while cooc<1:\n",
    "                l_inf=l_inf-1\n",
    "                sloLaux = slopeLeft\n",
    "                slopeLeft = spec[l_inf-1]-spec[l_inf]\n",
    "                if slopeLeft*sloLaux <= 0:\n",
    "                    cooc = cooc + 1\n",
    "            l_sup=l_sup+1\n",
    "            # Una vez encontrado el intervalo se busca el indice donde\n",
    "            # tiene el máximo valor de intensidad\n",
    "            indMaxInt = np.where(ListGal[i][l_inf:l_sup]==np.min(ListGal[i][l_inf:l_sup]))  # tomar el valor absoluto !!!\n",
    "            indMax=indMaxInt[0][0]+l_inf\n",
    "            iM = indMax\n",
    "            \n",
    "        linePr.add_row((iM, l_inf, l_sup))        \n",
    "    return linePr"
   ]
  },
  {
   "cell_type": "code",
   "execution_count": 28,
   "metadata": {
    "collapsed": false
   },
   "outputs": [],
   "source": [
    "jj=0\n",
    "resultListDT=Table.read('newObjSDSSFound.tbl', format='ascii')\n",
    "name = resultListDT['ObjID'][0]\n",
    "hdulist = fits.open('Exam_fits/'+name+'.fits')\n",
    "head= hdulist[0].header\n",
    "total= hdulist[1].data\n",
    "linlam=np.exp(total['loglam']*np.log(10))          #  ocultar para leer desde archivo\n",
    "lambd = linlam/(1+0.0001)\n",
    "spectraFlux = total['flux']\n",
    "Spectra = []\n",
    "Spectra.append(spectraFlux)\n",
    "Lambda=[]\n",
    "Lambda.append(lambd)\n",
    "ListaLineas=Table.read('LinesStar.txt', format='ascii')\n",
    "spectraIvar = total['ivar']\n",
    "lima = Lambda[jj][1]-Lambda[jj][0]"
   ]
  },
  {
   "cell_type": "code",
   "execution_count": 29,
   "metadata": {
    "collapsed": true
   },
   "outputs": [],
   "source": [
    "jj = 0\n",
    "spssp = [100]*len(Spectra[0])\n",
    "divisi = 10\n",
    "lambdDiv = int(mt.floor(len(spssp)/divisi))\n",
    "lambdDivArr = [lambdDiv*a for a in range(divisi)]\n",
    "lambdDivArr[-1] = len(Spectra[0])\n",
    "SG = []\n",
    "for aa in range(len(lambdDivArr)-1):\n",
    "    stdSpDiv = np.std(Spectra[0][lambdDivArr[aa]:lambdDivArr[aa+1]])\n",
    "    #box_kernel = Box1DKernel(stdSpDiv)\n",
    "    #smoothed_data_box = convolve(Spectra[0][lambdDivArr[aa]:lambdDivArr[aa+1]], box_kernel)\n",
    "    #print stdSpDiv\n",
    "    gauss_kernel = Gaussian1DKernel(0.05*stdSpDiv)\n",
    "    meanSpDiv = np.mean(Spectra[0][lambdDivArr[aa]:lambdDivArr[aa+1]])\n",
    "    smoothed_data_gauss = convolve(Spectra[0][lambdDivArr[aa]:lambdDivArr[aa+1]], gauss_kernel, boundary=u'extend',fill_value=meanSpDiv, normalize_kernel=True)\n",
    "    SG.append(smoothed_data_gauss)\n",
    "    spssp[lambdDivArr[aa]:lambdDivArr[aa+1]] = smoothed_data_gauss # smoothed_data_box\n",
    "    #print \"std: \", , \"err: \", np.mean(SpectraIvar[0][lambdDivArr[aa]:lambdDivArr[aa+1]])\n",
    "    #print Spectra[0][lambdDivArr[aa]:lambdDivArr[aa+1]]\n",
    "\n",
    "#stdSp = np.std(Spectra[0])\n",
    "#STD = [stdSp]*len(Spectra[0])\n",
    "#spssp = spssp+STD"
   ]
  },
  {
   "cell_type": "code",
   "execution_count": 30,
   "metadata": {
    "collapsed": false
   },
   "outputs": [
    {
     "name": "stdout",
     "output_type": "stream",
     "text": [
      "(array([1882, 1883]),)\n",
      "(array([3472, 3473]),)\n",
      "(array([3495, 3496]),)\n",
      "(array([3556, 3557]),)\n"
     ]
    }
   ],
   "source": [
    "kLineP = lineProfile2(0, spssp, Lambda[0], ListaLineas, Spectra, lima)"
   ]
  },
  {
   "cell_type": "code",
   "execution_count": 31,
   "metadata": {
    "collapsed": false
   },
   "outputs": [],
   "source": [
    "spec2 = spssp\n",
    "for ina in range(len(kLineP)):\n",
    "    lInf = kLineP[ina]['inf']\n",
    "    lSup = kLineP[ina]['sup']\n",
    "    lDel = lSup-lInf\n",
    "    if (lInf-1*lDel) >= 0 :\n",
    "        lInf = lInf-1*lDel\n",
    "    if (lSup+1*lDel) <= len(lambd) :\n",
    "        lSup = lSup+1*lDel\n",
    "    m1, b1 = linModel( Lambda[jj][lInf] , spec2[lInf] , Lambda[jj][lSup], spec2[lSup])\n",
    "    lineLambd = Lambda[jj][lInf:lSup]\n",
    "    lineIntCont = lines( lineLambd , m1, b1)\n",
    "    spec2[lInf:lSup] = lineIntCont\n",
    "SpectraCont=[]\n",
    "SpectraCont.append(spec2)"
   ]
  },
  {
   "cell_type": "code",
   "execution_count": 35,
   "metadata": {
    "collapsed": false
   },
   "outputs": [
    {
     "name": "stdout",
     "output_type": "stream",
     "text": [
      "Using matplotlib backend: Qt4Agg\n"
     ]
    }
   ],
   "source": [
    "%matplotlib\n",
    "plt.plot(Lambda[jj],Spectra[jj], lw=0.5, c = 'k', label='Spectra')\n",
    "plt.plot(Lambda[jj],spssp, lw=2, c = 'cyan', label='Spectra')\n",
    "plt.plot(Lambda[jj],spec2, lw=2, c = 'g', label='Spectra')\n",
    "lPPP = kLineP\n",
    "#plt.plot(Lambda[jj],Spectra[jj]-spssp, lw=0.5, c = 'gray', label='Spectra')\n",
    "for iasiao in range(len(lPPP)):\n",
    "    plt.plot(Lambda[jj][lPPP['inf'][iasiao]:lPPP['sup'][iasiao]],Spectra[jj][lPPP['inf'][iasiao]:lPPP['sup'][iasiao]], lw=2.0, c = 'b')\n"
   ]
  },
  {
   "cell_type": "code",
   "execution_count": 32,
   "metadata": {
    "collapsed": false
   },
   "outputs": [
    {
     "name": "stdout",
     "output_type": "stream",
     "text": [
      "(array([1882, 1883]),)\n",
      "(array([3472, 3473]),)\n",
      "(array([3495, 3496]),)\n",
      "(array([3556, 3557]),)\n",
      "[-12.21435547]\n",
      "[-1.9609375  -7.87207031]\n",
      "[-1.9609375  -7.87207031]\n",
      "[-5.99023438]\n"
     ]
    },
    {
     "data": {
      "text/html": [
       "&lt;Table masked=False length=4&gt;\n",
       "<table id=\"table140688972111184\">\n",
       "<thead><tr><th>Amplitude</th><th>Wavelength</th><th>Sigma</th><th>Lambda Vac</th><th>Element</th><th>Flux</th><th>Flux_Err</th><th>FWHM</th><th>eqWidth</th><th>S/N&gt;3</th></tr></thead>\n",
       "<thead><tr><th>float64</th><th>float64</th><th>float64</th><th>float64</th><th>string64</th><th>float64</th><th>float64</th><th>float64</th><th>float64</th><th>string40</th></tr></thead>\n",
       "<tr><td>-157.912190851</td><td>5894.24233532</td><td>-5.13940867061</td><td>5894.0</td><td>[O I]</td><td>0.0</td><td>0.0</td><td>0.0</td><td>0.0</td><td>False</td></tr>\n",
       "<tr><td>-53.0844037105</td><td>8500.52576787</td><td>-1.90926527055</td><td>8500.0</td><td>[O I]</td><td>0.0</td><td>0.0</td><td>0.0</td><td>0.0</td><td>False</td></tr>\n",
       "<tr><td>-87.3407639504</td><td>8544.57266232</td><td>-2.88288244392</td><td>8544.9</td><td>[O I]</td><td>0.0</td><td>0.0</td><td>0.0</td><td>0.0</td><td>False</td></tr>\n",
       "<tr><td>-79.1995296149</td><td>8664.77513177</td><td>-2.142246992</td><td>8665.01</td><td>[O I]</td><td>0.0</td><td>0.0</td><td>0.0</td><td>0.0</td><td>False</td></tr>\n",
       "</table>"
      ],
      "text/plain": [
       "<Table masked=False length=4>\n",
       "  Amplitude      Wavelength      Sigma      ...   FWHM  eqWidth  S/N>3  \n",
       "   float64        float64       float64     ... float64 float64 string40\n",
       "-------------- ------------- -------------- ... ------- ------- --------\n",
       "-157.912190851 5894.24233532 -5.13940867061 ...     0.0     0.0    False\n",
       "-53.0844037105 8500.52576787 -1.90926527055 ...     0.0     0.0    False\n",
       "-87.3407639504 8544.57266232 -2.88288244392 ...     0.0     0.0    False\n",
       "-79.1995296149 8664.77513177   -2.142246992 ...     0.0     0.0    False"
      ]
     },
     "execution_count": 32,
     "metadata": {},
     "output_type": "execute_result"
    }
   ],
   "source": [
    "ModelG1, lineProf, spec2 = finalFit(0, spec2, Lambda[jj],ListaLineas,Spectra, spectraIvar,2000, lima)\n",
    "Modelos = []\n",
    "Modelos.append(ModelG1)\n",
    "LS=np.zeros([len(ListaLineas),10])\n",
    "Tabla=Table(LS,names=('Amplitude','Wavelength','Sigma','Lambda Vac','Element','Flux','Flux_Err', 'FWHM', 'eqWidth', 'S/N>3'),\n",
    "                    dtype=('f8','f8','f8','f8','S8','f8','f8','f8','f8','S5'))\n",
    "Tabla['Lambda Vac']=ListaLineas['LAMBDA VAC ANG']\n",
    "Tabla['Element']=ListaLineas['SPECTRUM']\n",
    "\n",
    "AA=split_list(ModelG1[0].parameters, wanted_parts=len(ListaLineas))\n",
    "for ii in range(len(ListaLineas)):\n",
    "    if 3*np.mean(spectraIvar[lineProf[0]['inf']:lineProf[0]['sup']]) >= AA[ii][0]:\n",
    "        Tabla['S/N>3'][ii] = str(False)\n",
    "    else:\n",
    "        Tabla['S/N>3'][ii] = str(True)\n",
    "    Tabla['Amplitude'][ii],Tabla['Wavelength'][ii],Tabla['Sigma'][ii]=np.array([AA[ii][0], AA[ii][1], AA[ii][2]])\n",
    "Tabla"
   ]
  },
  {
   "cell_type": "code",
   "execution_count": 33,
   "metadata": {
    "collapsed": false
   },
   "outputs": [
    {
     "name": "stdout",
     "output_type": "stream",
     "text": [
      "Using matplotlib backend: Qt4Agg\n"
     ]
    },
    {
     "data": {
      "text/plain": [
       "[<matplotlib.lines.Line2D at 0x7ff483e6bfd0>]"
      ]
     },
     "execution_count": 33,
     "metadata": {},
     "output_type": "execute_result"
    }
   ],
   "source": [
    "%matplotlib\n",
    "plt.plot(Lambda[jj], Spectra[jj]-SpectraCont[jj], c='k', lw=0.8, label='Model')\n",
    "plt.plot(Lambda[jj], Modelos[jj][0](Lambda[jj]), c='yellow', lw=1)\n"
   ]
  },
  {
   "cell_type": "code",
   "execution_count": 10,
   "metadata": {
    "collapsed": false
   },
   "outputs": [
    {
     "data": {
      "text/html": [
       "&lt;Table masked=False length=4&gt;\n",
       "<table id=\"table140688390848400\">\n",
       "<thead><tr><th>lambda</th><th>inf</th><th>sup</th></tr></thead>\n",
       "<thead><tr><th>int32</th><th>int32</th><th>int32</th></tr></thead>\n",
       "<tr><td>1881</td><td>1867</td><td>1896</td></tr>\n",
       "<tr><td>3473</td><td>3469</td><td>3478</td></tr>\n",
       "<tr><td>3495</td><td>3487</td><td>3502</td></tr>\n",
       "<tr><td>3556</td><td>3551</td><td>3561</td></tr>\n",
       "</table>"
      ],
      "text/plain": [
       "<Table masked=False length=4>\n",
       "lambda  inf   sup \n",
       "int32  int32 int32\n",
       "------ ----- -----\n",
       "  1881  1867  1896\n",
       "  3473  3469  3478\n",
       "  3495  3487  3502\n",
       "  3556  3551  3561"
      ]
     },
     "execution_count": 10,
     "metadata": {},
     "output_type": "execute_result"
    }
   ],
   "source": [
    "kLineP"
   ]
  },
  {
   "cell_type": "code",
   "execution_count": null,
   "metadata": {
    "collapsed": true
   },
   "outputs": [],
   "source": []
  }
 ],
 "metadata": {
  "kernelspec": {
   "display_name": "Python 2",
   "language": "python",
   "name": "python2"
  },
  "language_info": {
   "codemirror_mode": {
    "name": "ipython",
    "version": 2
   },
   "file_extension": ".py",
   "mimetype": "text/x-python",
   "name": "python",
   "nbconvert_exporter": "python",
   "pygments_lexer": "ipython2",
   "version": "2.7.8"
  }
 },
 "nbformat": 4,
 "nbformat_minor": 0
}
